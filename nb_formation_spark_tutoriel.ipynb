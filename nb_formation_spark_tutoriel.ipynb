{
 "cells": [
  {
   "cell_type": "markdown",
   "id": "bc350ace-c755-4a6d-84e6-ec6987605702",
   "metadata": {
    "microsoft": {
     "language": "python",
     "language_group": "synapse_pyspark"
    },
    "nteract": {
     "transient": {
      "deleting": false
     }
    }
   },
   "source": [
    "### Mise en place de l'environnement"
   ]
  },
  {
   "cell_type": "code",
   "execution_count": null,
   "id": "9ee4cf89-efe0-45fa-bdb9-949eb1928738",
   "metadata": {
    "microsoft": {
     "language": "python",
     "language_group": "synapse_pyspark"
    }
   },
   "outputs": [],
   "source": [
    "# Import des librairies utilisées dans le notebook"
   ]
  },
  {
   "cell_type": "markdown",
   "id": "4aeff136-73fb-41c4-950d-1288d12d8ad1",
   "metadata": {
    "microsoft": {
     "language": "python",
     "language_group": "synapse_pyspark"
    },
    "nteract": {
     "transient": {
      "deleting": false
     }
    }
   },
   "source": [
    "### Lecture des données"
   ]
  },
  {
   "cell_type": "code",
   "execution_count": null,
   "id": "6f7e76f3-db42-44e9-a46b-d271e2be70e9",
   "metadata": {
    "collapsed": false,
    "microsoft": {
     "language": "python",
     "language_group": "synapse_pyspark"
    }
   },
   "outputs": [],
   "source": [
    "# Lire les données du fichier ventes.csv\n"
   ]
  },
  {
   "cell_type": "code",
   "execution_count": null,
   "id": "da7b4d1e-1105-4f2a-86e8-64fe050e03c0",
   "metadata": {
    "collapsed": false,
    "microsoft": {
     "language": "python",
     "language_group": "synapse_pyspark"
    }
   },
   "outputs": [],
   "source": [
    "# Afficher les données d'un DataFrame - Option 1"
   ]
  },
  {
   "cell_type": "code",
   "execution_count": null,
   "id": "41d92bd1",
   "metadata": {},
   "outputs": [],
   "source": [
    "# Afficher 10 lignes d'un DataFrame - Option 1"
   ]
  },
  {
   "cell_type": "code",
   "execution_count": null,
   "id": "da408be3",
   "metadata": {},
   "outputs": [],
   "source": [
    "# Afficher les données d'un DataFrame - Option 2"
   ]
  },
  {
   "cell_type": "code",
   "execution_count": null,
   "id": "bfc2d291",
   "metadata": {},
   "outputs": [],
   "source": [
    "# Afficher 10 lignes d'un DataFrame - Option 2"
   ]
  },
  {
   "cell_type": "code",
   "execution_count": null,
   "id": "9bd15c04-54d8-4dfa-870b-02c6cb649173",
   "metadata": {
    "microsoft": {
     "language": "python",
     "language_group": "synapse_pyspark"
    }
   },
   "outputs": [],
   "source": [
    "# Afficher le schéma de données d'un DataFrame"
   ]
  },
  {
   "cell_type": "code",
   "execution_count": null,
   "id": "40c12723-c0fc-4c3c-b013-51e46d917cc1",
   "metadata": {
    "microsoft": {
     "language": "python",
     "language_group": "synapse_pyspark"
    }
   },
   "outputs": [],
   "source": [
    "# Enregistrer un DataFrame dans un autre DataFrame"
   ]
  },
  {
   "cell_type": "markdown",
   "id": "8f3f5b00-a632-4d8b-bd24-ab43d213f757",
   "metadata": {
    "microsoft": {
     "language": "python",
     "language_group": "synapse_pyspark"
    },
    "nteract": {
     "transient": {
      "deleting": false
     }
    }
   },
   "source": [
    "### Transformer les données"
   ]
  },
  {
   "cell_type": "code",
   "execution_count": null,
   "id": "98dae4c0",
   "metadata": {},
   "outputs": [],
   "source": [
    "# Exemple de variable dont la valeur dépend du contexte d'exécution\n",
    "from datetime import datetime\n",
    "date_du_jour: datetime = datetime.now()\n",
    "\n",
    "# Exemple de variables (constante)\n",
    "PRENOM: str = \"Pierre\"\n",
    "AGE: int = 30\n",
    "\n",
    "# Exemple de liste de chaînes de caractères\n",
    "taille_cm: list[int] = [100, 101, 102,103]\n",
    "nom: list[str] = [\"Dupont\", \"Antoine\", \"\"]\n",
    "\n",
    "# Exemple de dictionnaire avec des valeurs de types mixtes (str ou int)\n",
    "utilisateur: dict[str, int] = {\n",
    "    \"age\": 28,\n",
    "    \"poids\": 60,\n",
    "    \"taille_cm\": 170\n",
    "}"
   ]
  },
  {
   "cell_type": "code",
   "execution_count": null,
   "id": "1739e367-063c-400a-b359-3496a987378a",
   "metadata": {
    "collapsed": false,
    "microsoft": {
     "language": "python",
     "language_group": "synapse_pyspark"
    }
   },
   "outputs": [],
   "source": [
    "# Supprimer une colonne dans un DataFrame\n",
    "df_drop: DataFrame = "
   ]
  },
  {
   "cell_type": "code",
   "execution_count": null,
   "id": "d260a995-77a0-45e9-b5cf-e6b88e2e1d86",
   "metadata": {
    "collapsed": false,
    "microsoft": {
     "language": "python",
     "language_group": "synapse_pyspark"
    }
   },
   "outputs": [],
   "source": [
    "# Sélectionner des colonnes spécifiques dans un DataFrame\n",
    "df_clean: DataFrame = "
   ]
  },
  {
   "cell_type": "code",
   "execution_count": null,
   "id": "1fbf00a4-9a2f-4e88-b8e2-92b64b978fb6",
   "metadata": {
    "collapsed": false,
    "microsoft": {
     "language": "python",
     "language_group": "synapse_pyspark"
    }
   },
   "outputs": [],
   "source": [
    "# Filtrer les résultats dans un DataFrame\n",
    "df_filter: DataFrame = "
   ]
  },
  {
   "cell_type": "code",
   "execution_count": null,
   "id": "0e29dad4-91f7-4501-8633-be252eed2d3f",
   "metadata": {
    "collapsed": false,
    "microsoft": {
     "language": "python",
     "language_group": "synapse_pyspark"
    }
   },
   "outputs": [],
   "source": [
    "# Ajouter une colonne concaténée dans un DataFrame\n",
    "df_add_concat: DataFrame = "
   ]
  },
  {
   "cell_type": "code",
   "execution_count": null,
   "id": "223d1733-1cef-4a20-9604-124b9e0c909e",
   "metadata": {
    "collapsed": false,
    "microsoft": {
     "language": "python",
     "language_group": "synapse_pyspark"
    }
   },
   "outputs": [],
   "source": [
    "# Ajouter une colonne conditionnelle dans un DataFrame\n",
    "df_add_column_conditional: DataFrame = "
   ]
  },
  {
   "cell_type": "markdown",
   "id": "9f0715e4-c73a-4169-acbb-fdd6d9049b97",
   "metadata": {
    "microsoft": {
     "language": "python",
     "language_group": "synapse_pyspark"
    },
    "nteract": {
     "transient": {
      "deleting": false
     }
    }
   },
   "source": [
    "### Les agrégations"
   ]
  },
  {
   "cell_type": "code",
   "execution_count": null,
   "id": "ac256f40-009b-44f4-885d-87629d819254",
   "metadata": {
    "microsoft": {
     "language": "python",
     "language_group": "synapse_pyspark"
    }
   },
   "outputs": [],
   "source": [
    "# Compter le nombre d'enregistrements\n",
    "ventes_nb_lignes: int  ="
   ]
  },
  {
   "cell_type": "code",
   "execution_count": null,
   "id": "42d69a97-22af-4e27-ae76-a78bc76f2ba3",
   "metadata": {
    "collapsed": false,
    "microsoft": {
     "language": "python",
     "language_group": "synapse_pyspark"
    }
   },
   "outputs": [],
   "source": [
    "# Calculer le nombre des ventes par client\n",
    "df_nombre_ventes_par_client: DataFrame = "
   ]
  },
  {
   "cell_type": "code",
   "execution_count": null,
   "id": "99fc52d5-7569-477e-b3ee-8e912935680a",
   "metadata": {
    "collapsed": false,
    "microsoft": {
     "language": "python",
     "language_group": "synapse_pyspark"
    }
   },
   "outputs": [],
   "source": [
    "# Calculer le total des ventes par client \n",
    "df_total_ventes_par_client: DataFrame = "
   ]
  },
  {
   "cell_type": "code",
   "execution_count": null,
   "id": "8376f1b6-de0a-487f-8a59-730d806183e9",
   "metadata": {
    "collapsed": false,
    "microsoft": {
     "language": "python",
     "language_group": "synapse_pyspark"
    }
   },
   "outputs": [],
   "source": [
    "# Calculer le total des ventes par client et produit\n",
    "df_total_ventes_par_client_produit: DataFrame = "
   ]
  },
  {
   "cell_type": "code",
   "execution_count": null,
   "id": "ba9196ae-1a70-44c1-822b-f41c4c3560ae",
   "metadata": {
    "collapsed": false,
    "microsoft": {
     "language": "python",
     "language_group": "synapse_pyspark"
    }
   },
   "outputs": [],
   "source": [
    "# Calculer la moyenne des ventes par produit\n",
    "df_moyenne_ventes_par_produit: DataFrame = "
   ]
  },
  {
   "cell_type": "code",
   "execution_count": null,
   "id": "2835c9a8-99ed-4e83-ace7-42cb275ee648",
   "metadata": {
    "collapsed": false,
    "microsoft": {
     "language": "python",
     "language_group": "synapse_pyspark"
    }
   },
   "outputs": [],
   "source": [
    "# Calculer plusieurs aggrégations des ventes par produit\n",
    "df_agg_ventes_par_client: DataFrame = "
   ]
  },
  {
   "cell_type": "code",
   "execution_count": null,
   "id": "5cc5cadc-439e-440c-b35c-40224740d240",
   "metadata": {
    "collapsed": false,
    "microsoft": {
     "language": "python",
     "language_group": "synapse_pyspark"
    }
   },
   "outputs": [],
   "source": [
    "# Supprimer les doublons dans un DataFrame\n",
    "df_without_duplicates: DataFrame = "
   ]
  },
  {
   "cell_type": "markdown",
   "id": "2d192697-59b4-4221-bdae-d406517c429b",
   "metadata": {
    "microsoft": {
     "language": "python",
     "language_group": "synapse_pyspark"
    },
    "nteract": {
     "transient": {
      "deleting": false
     }
    }
   },
   "source": [
    "### Les jointures"
   ]
  },
  {
   "cell_type": "code",
   "execution_count": null,
   "id": "bfc4438e",
   "metadata": {
    "microsoft": {
     "language": "python",
     "language_group": "synapse_pyspark"
    }
   },
   "outputs": [],
   "source": [
    "# Création d'un schema de données pour la lecture des fichiers .csv table_a et table_b\n",
    "from pyspark.sql import types as T\n",
    "\n",
    "schema_tables_a: T.StructType = T.StructType([\n",
    "    T.StructField(\"id\", T.StringType(), nullable=False),\n",
    "    T.StructField(\"prenom\", T.StringType(), nullable=True)\n",
    "])\n",
    "\n",
    "schema_tables_b: T.StructType = T.StructType([\n",
    "    T.StructField(\"id\", T.StringType(), nullable=False),\n",
    "    T.StructField(\"prenom\", T.StringType(), nullable=True)\n",
    "])\n"
   ]
  },
  {
   "cell_type": "code",
   "execution_count": null,
   "id": "314dc10f-6454-4a28-b16b-2831fe54aa39",
   "metadata": {
    "collapsed": false,
    "microsoft": {
     "language": "python",
     "language_group": "synapse_pyspark"
    }
   },
   "outputs": [],
   "source": [
    "# Lire les fichiers .csv table_a et table_b\n"
   ]
  },
  {
   "cell_type": "code",
   "execution_count": null,
   "id": "630b38c6-ca35-4b73-b56b-08a482ae0e4c",
   "metadata": {
    "collapsed": false,
    "microsoft": {
     "language": "python",
     "language_group": "synapse_pyspark"
    }
   },
   "outputs": [],
   "source": [
    "# Faire une jointure de type left join entre deux DataFrames\n",
    "df_join_left: DataFrame = "
   ]
  },
  {
   "cell_type": "code",
   "execution_count": null,
   "id": "4d13a9b4-cd1e-4d96-9c48-73c6afb722e2",
   "metadata": {
    "collapsed": false,
    "microsoft": {
     "language": "python",
     "language_group": "synapse_pyspark"
    }
   },
   "outputs": [],
   "source": [
    "# Faire une jointure de type right join entre deux DataFrames\n",
    "df_join_right: DataFrame = "
   ]
  },
  {
   "cell_type": "code",
   "execution_count": null,
   "id": "a20636fe-d1cd-41fe-b43b-ecb2bb4b45d4",
   "metadata": {
    "collapsed": false,
    "microsoft": {
     "language": "python",
     "language_group": "synapse_pyspark"
    }
   },
   "outputs": [],
   "source": [
    "# Faire une jointure de type inner join entre deux DataFrames\n",
    "df_join_inner: DataFrame = "
   ]
  },
  {
   "cell_type": "code",
   "execution_count": null,
   "id": "747223c7-1c4c-4064-9926-b633b4f4d768",
   "metadata": {
    "collapsed": false,
    "microsoft": {
     "language": "python",
     "language_group": "synapse_pyspark"
    }
   },
   "outputs": [],
   "source": [
    "# Faire une jointure de type full outer join entre deux DataFrames\n",
    "df_join_inner: DataFrame = "
   ]
  },
  {
   "cell_type": "code",
   "execution_count": null,
   "id": "70b58c62-6824-4413-867e-f812c319df11",
   "metadata": {
    "collapsed": false,
    "microsoft": {
     "language": "python",
     "language_group": "synapse_pyspark"
    }
   },
   "outputs": [],
   "source": [
    "# Faire une jointure de type cross join entre deux DataFrames\n",
    "df_joined: DataFrame ="
   ]
  },
  {
   "cell_type": "code",
   "execution_count": null,
   "id": "3cb74c38-c2c6-43ea-8b11-8b02df9d0f93",
   "metadata": {
    "collapsed": false,
    "microsoft": {
     "language": "python",
     "language_group": "synapse_pyspark"
    }
   },
   "outputs": [],
   "source": [
    "# Ajouter les enregistrements de deux DataFrames dans un DataFrame\n",
    "df_union_with_duplicates: DataFrame = "
   ]
  },
  {
   "cell_type": "code",
   "execution_count": null,
   "id": "48a11aec-03fb-4bbb-953f-e598ad39c202",
   "metadata": {
    "collapsed": false,
    "microsoft": {
     "language": "python",
     "language_group": "synapse_pyspark"
    }
   },
   "outputs": [],
   "source": [
    "# Ajouter les enregistrements de deux DataFrames dans un DataFrame\n",
    "df_union_without_duplicates: DataFrame = "
   ]
  },
  {
   "cell_type": "markdown",
   "id": "8043d643-2ce8-434d-afc4-2bb85396944c",
   "metadata": {
    "microsoft": {
     "language": "python",
     "language_group": "synapse_pyspark"
    },
    "nteract": {
     "transient": {
      "deleting": false
     }
    }
   },
   "source": [
    "### Charger et lire des données dans une table"
   ]
  },
  {
   "cell_type": "code",
   "execution_count": null,
   "id": "75281d55-8a90-4e87-9670-e2094862a937",
   "metadata": {
    "microsoft": {
     "language": "python",
     "language_group": "synapse_pyspark"
    }
   },
   "outputs": [],
   "source": [
    "# Créer une table delta \"ventes\" en mode overwrite\n"
   ]
  },
  {
   "cell_type": "code",
   "execution_count": null,
   "id": "90ff4167-6cd1-4717-b59b-9dcc470552eb",
   "metadata": {
    "collapsed": false,
    "microsoft": {
     "language": "python",
     "language_group": "synapse_pyspark"
    }
   },
   "outputs": [],
   "source": [
    "# Lire les données de la table \"ventes\"\n",
    "df_read_table_csv: DataFrame = "
   ]
  },
  {
   "cell_type": "code",
   "execution_count": null,
   "id": "91e0fd7a-9c71-4fff-a222-442d45b9ddbc",
   "metadata": {
    "microsoft": {
     "language": "python",
     "language_group": "synapse_pyspark"
    }
   },
   "outputs": [],
   "source": [
    "# Créer une table delta en mode append\n"
   ]
  },
  {
   "cell_type": "code",
   "execution_count": null,
   "id": "bb72d19d",
   "metadata": {
    "microsoft": {
     "language": "python",
     "language_group": "synapse_pyspark"
    }
   },
   "outputs": [],
   "source": [
    "# Créer une liste et itérer dessus pour en afficher les valeurs à l'aide d'une boucle for\n",
    "list_meubles: list[str] = []"
   ]
  },
  {
   "cell_type": "code",
   "execution_count": null,
   "id": "3e8e3826",
   "metadata": {
    "microsoft": {
     "language": "python",
     "language_group": "synapse_pyspark"
    }
   },
   "outputs": [],
   "source": [
    "# Créer un dictionnaire et itérer dessus pour en afficher les valeurs à l'aide d'une boucle for\n",
    "dict_meubles_par_prix: dict[str, int] = {}\n",
    "\n"
   ]
  }
 ],
 "metadata": {
  "dependencies": {
   "lakehouse": {
    "default_lakehouse": "4cb16098-55ec-40c6-820d-786b2e4554ac",
    "default_lakehouse_name": "lh_sparky",
    "default_lakehouse_workspace_id": "33fd0c17-6fd5-41dc-a2e7-48d32a8eb98e",
    "known_lakehouses": [
     {
      "id": "4cb16098-55ec-40c6-820d-786b2e4554ac"
     }
    ]
   }
  },
  "kernel_info": {
   "name": "synapse_pyspark"
  },
  "kernelspec": {
   "display_name": "Synapse PySpark",
   "language": "Python",
   "name": "synapse_pyspark"
  },
  "language_info": {
   "name": "python"
  },
  "microsoft": {
   "language": "python",
   "language_group": "synapse_pyspark",
   "ms_spell_check": {
    "ms_spell_check_language": "fr"
   }
  },
  "nteract": {
   "version": "nteract-front-end@1.0.0"
  },
  "spark_compute": {
   "compute_id": "/trident/default",
   "session_options": {
    "conf": {
     "spark.synapse.nbs.session.timeout": "1200000"
    }
   }
  },
  "synapse_widget": {
   "state": {
    "4a0e41cc-5b2d-4c19-bb45-c1c153715b26": {
     "persist_state": {
      "view": {
       "chartOptions": {
        "aggregationType": "sum",
        "binsNumber": 10,
        "categoryFieldKeys": [],
        "chartType": "bar",
        "isStacked": false,
        "seriesFieldKeys": [],
        "wordFrequency": "-1"
       },
       "tableOptions": {},
       "type": "details",
       "viewOptionsGroup": [
        {
         "tabItems": [
          {
           "key": "0",
           "name": "Table",
           "options": {},
           "type": "table"
          }
         ]
        }
       ]
      }
     },
     "sync_state": {
      "isSummary": false,
      "language": "scala",
      "table": {
       "rows": [
        {
         "0": "1",
         "1": "Julie"
        },
        {
         "0": "2",
         "1": "Bruce"
        },
        {
         "0": "3",
         "1": "Victor"
        },
        {
         "0": "5",
         "1": "Lisa"
        },
        {
         "0": "1",
         "1": "Julie"
        },
        {
         "0": "2",
         "1": "Bruce"
        },
        {
         "0": "4",
         "1": "Alice"
        },
        {
         "0": "6",
         "1": "Marie"
        }
       ],
       "schema": [
        {
         "key": "0",
         "name": "id",
         "type": "string"
        },
        {
         "key": "1",
         "name": "prenom",
         "type": "string"
        }
       ],
       "truncated": false
      },
      "wranglerEntryContext": {
       "candidateVariableNames": [
        "df_union_with_duplicates"
       ],
       "dataframeType": "pyspark"
      }
     },
     "type": "Synapse.DataFrame"
    },
    "7d6e6815-58ef-4b97-8c4b-8b9fe973a10d": {
     "persist_state": {
      "view": {
       "chartOptions": {
        "aggregationType": "sum",
        "binsNumber": 10,
        "categoryFieldKeys": [],
        "chartType": "bar",
        "isStacked": false,
        "seriesFieldKeys": [],
        "wordFrequency": "-1"
       },
       "tableOptions": {},
       "type": "details",
       "viewOptionsGroup": [
        {
         "tabItems": [
          {
           "key": "0",
           "name": "Table",
           "options": {},
           "type": "table"
          }
         ]
        }
       ]
      }
     },
     "sync_state": {
      "isSummary": false,
      "language": "scala",
      "table": {
       "rows": [
        {
         "0": "2",
         "1": "Bruce"
        },
        {
         "0": "1",
         "1": "Julie"
        },
        {
         "0": "5",
         "1": "Lisa"
        },
        {
         "0": "3",
         "1": "Victor"
        },
        {
         "0": "4",
         "1": "Alice"
        },
        {
         "0": "6",
         "1": "Marie"
        }
       ],
       "schema": [
        {
         "key": "0",
         "name": "id",
         "type": "string"
        },
        {
         "key": "1",
         "name": "prenom",
         "type": "string"
        }
       ],
       "truncated": false
      },
      "wranglerEntryContext": {
       "candidateVariableNames": [
        "df_union_without_duplicates"
       ],
       "dataframeType": "pyspark"
      }
     },
     "type": "Synapse.DataFrame"
    },
    "a230f1fe-cad3-4954-b6ba-83e44e15f377": {
     "persist_state": {
      "view": {
       "chartOptions": {
        "aggregationType": "sum",
        "binsNumber": 10,
        "categoryFieldKeys": [],
        "chartType": "bar",
        "isStacked": false,
        "seriesFieldKeys": [],
        "wordFrequency": "-1"
       },
       "tableOptions": {},
       "type": "details",
       "viewOptionsGroup": [
        {
         "tabItems": [
          {
           "key": "0",
           "name": "Table",
           "options": {},
           "type": "table"
          }
         ]
        }
       ]
      }
     },
     "sync_state": {
      "isSummary": false,
      "language": "scala",
      "table": {
       "rows": [
        {
         "0": "1",
         "1": "CLIENT_1",
         "2": "PDV_5",
         "3": "PROD_1",
         "4": "18",
         "5": "60",
         "6": "1080",
         "7": "01/01/2021",
         "8": "0"
        },
        {
         "0": "2",
         "1": "CLIENT_1",
         "2": "PDV_4",
         "3": "PROD_6",
         "4": "13",
         "5": "128",
         "6": "1664",
         "7": "01/01/2021",
         "8": "0"
        },
        {
         "0": "3",
         "1": "CLIENT_1",
         "2": "PDV_2",
         "3": "PROD_1",
         "4": "3",
         "5": "25",
         "6": "75",
         "7": "01/01/2021",
         "8": "0"
        },
        {
         "0": "4",
         "1": "CLIENT_1",
         "2": "PDV_5",
         "3": "PROD_6",
         "4": "41",
         "5": "334",
         "6": "13694",
         "7": "01/01/2021",
         "8": "0"
        },
        {
         "0": "5",
         "1": "CLIENT_1",
         "2": "PDV_3",
         "3": "PROD_1",
         "4": "30",
         "5": "133",
         "6": "3990",
         "7": "01/01/2021",
         "8": "0"
        },
        {
         "0": "6",
         "1": "CLIENT_1",
         "2": "PDV_3",
         "3": "PROD_3",
         "4": "30",
         "5": "264",
         "6": "7920",
         "7": "01/01/2021",
         "8": "0"
        },
        {
         "0": "7",
         "1": "CLIENT_1",
         "2": "PDV_7",
         "3": "PROD_3",
         "4": "8",
         "5": "61",
         "6": "488",
         "7": "01/01/2021",
         "8": "0"
        },
        {
         "0": "8",
         "1": "CLIENT_1",
         "2": "PDV_6",
         "3": "PROD_4",
         "4": "19",
         "5": "61",
         "6": "1159",
         "7": "01/01/2021",
         "8": "0"
        },
        {
         "0": "9",
         "1": "CLIENT_1",
         "2": "PDV_5",
         "3": "PROD_5",
         "4": "14",
         "5": "48",
         "6": "672",
         "7": "01/01/2021",
         "8": "0"
        },
        {
         "0": "10",
         "1": "CLIENT_1",
         "2": "PDV_2",
         "3": "PROD_4",
         "4": "1",
         "5": "124",
         "6": "124",
         "7": "01/01/2021",
         "8": "1"
        },
        {
         "0": "11",
         "1": "CLIENT_1",
         "2": "PDV_2",
         "3": "PROD_2",
         "4": "40",
         "5": "49",
         "6": "1960",
         "7": "01/01/2021",
         "8": "0"
        },
        {
         "0": "12",
         "1": "CLIENT_1",
         "2": "PDV_6",
         "3": "PROD_2",
         "4": "43",
         "5": "239",
         "6": "10277",
         "7": "01/01/2021",
         "8": "0"
        },
        {
         "0": "13",
         "1": "CLIENT_1",
         "2": "PDV_6",
         "3": "PROD_2",
         "4": "24",
         "5": "12",
         "6": "288",
         "7": "01/01/2021",
         "8": "0"
        },
        {
         "0": "14",
         "1": "CLIENT_1",
         "2": "PDV_4",
         "3": "PROD_2",
         "4": "16",
         "5": "138",
         "6": "2208",
         "7": "01/01/2021",
         "8": "0"
        },
        {
         "0": "15",
         "1": "CLIENT_1",
         "2": "PDV_5",
         "3": "PROD_3",
         "4": "12",
         "5": "32",
         "6": "384",
         "7": "01/01/2021",
         "8": "0"
        },
        {
         "0": "16",
         "1": "CLIENT_1",
         "2": "PDV_5",
         "3": "PROD_2",
         "4": "19",
         "5": "169",
         "6": "3211",
         "7": "01/01/2021",
         "8": "0"
        },
        {
         "0": "17",
         "1": "CLIENT_8",
         "2": "PDV_4",
         "3": "PROD_4",
         "4": "12",
         "5": "325",
         "6": "3900",
         "7": "01/01/2021",
         "8": "0"
        },
        {
         "0": "18",
         "1": "CLIENT_2",
         "2": "PDV_4",
         "3": "PROD_5",
         "4": "48",
         "5": "61",
         "6": "2928",
         "7": "01/01/2021",
         "8": "0"
        },
        {
         "0": "19",
         "1": "CLIENT_2",
         "2": "PDV_1",
         "3": "PROD_6",
         "4": "38",
         "5": "234",
         "6": "8892",
         "7": "01/01/2021",
         "8": "0"
        },
        {
         "0": "20",
         "1": "CLIENT_2",
         "2": "PDV_6",
         "3": "PROD_4",
         "4": "21",
         "5": "197",
         "6": "4137",
         "7": "01/01/2021",
         "8": "0"
        },
        {
         "0": "21",
         "1": "CLIENT_3",
         "2": "PDV_6",
         "3": "PROD_6",
         "4": "31",
         "5": "222",
         "6": "6882",
         "7": "01/01/2021",
         "8": "0"
        },
        {
         "0": "22",
         "1": "CLIENT_3",
         "2": "PDV_7",
         "3": "PROD_1",
         "4": "2",
         "5": "155",
         "6": "310",
         "7": "01/01/2021",
         "8": "0"
        },
        {
         "0": "23",
         "1": "CLIENT_3",
         "2": "PDV_3",
         "3": "PROD_4",
         "4": "48",
         "5": "233",
         "6": "11184",
         "7": "01/01/2021",
         "8": "0"
        },
        {
         "0": "24",
         "1": "CLIENT_3",
         "2": "PDV_4",
         "3": "PROD_6",
         "4": "41",
         "5": "240",
         "6": "9840",
         "7": "01/01/2021",
         "8": "0"
        },
        {
         "0": "25",
         "1": "CLIENT_7",
         "2": "PDV_7",
         "3": "PROD_3",
         "4": "46",
         "5": "7",
         "6": "322",
         "7": "01/01/2021",
         "8": "0"
        },
        {
         "0": "26",
         "1": "CLIENT_1",
         "2": "PDV_7",
         "3": "PROD_5",
         "4": "16",
         "5": "69",
         "6": "1104",
         "7": "01/01/2021",
         "8": "0"
        },
        {
         "0": "27",
         "1": "CLIENT_1",
         "2": "PDV_5",
         "3": "PROD_4",
         "4": "41",
         "5": "145",
         "6": "5945",
         "7": "01/01/2021",
         "8": "0"
        },
        {
         "0": "28",
         "1": "CLIENT_1",
         "2": "PDV_2",
         "3": "PROD_1",
         "4": "11",
         "5": "135",
         "6": "1485",
         "7": "01/01/2021",
         "8": "0"
        },
        {
         "0": "29",
         "1": "CLIENT_1",
         "2": "PDV_6",
         "3": "PROD_1",
         "4": "25",
         "5": "235",
         "6": "5875",
         "7": "01/01/2021",
         "8": "0"
        },
        {
         "0": "30",
         "1": "CLIENT_1",
         "2": "PDV_2",
         "3": "PROD_1",
         "4": "36",
         "5": "82",
         "6": "2952",
         "7": "01/01/2021",
         "8": "0"
        },
        {
         "0": "31",
         "1": "CLIENT_1",
         "2": "PDV_4",
         "3": "PROD_5",
         "4": "23",
         "5": "158",
         "6": "3634",
         "7": "01/01/2021",
         "8": "0"
        },
        {
         "0": "32",
         "1": "CLIENT_3",
         "2": "PDV_4",
         "3": "PROD_2",
         "4": "10",
         "5": "32",
         "6": "320",
         "7": "01/01/2021",
         "8": "0"
        },
        {
         "0": "33",
         "1": "CLIENT_2",
         "2": "PDV_7",
         "3": "PROD_2",
         "4": "21",
         "5": "85",
         "6": "1785",
         "7": "01/01/2021",
         "8": "0"
        },
        {
         "0": "34",
         "1": "CLIENT_6",
         "2": "PDV_4",
         "3": "PROD_2",
         "4": "1",
         "5": "41",
         "6": "41",
         "7": "01/01/2021",
         "8": "0"
        },
        {
         "0": "35",
         "1": "CLIENT_6",
         "2": "PDV_1",
         "3": "PROD_2",
         "4": "4",
         "5": "316",
         "6": "1264",
         "7": "01/01/2021",
         "8": "0"
        },
        {
         "0": "36",
         "1": "CLIENT_3",
         "2": "PDV_6",
         "3": "PROD_2",
         "4": "3",
         "5": "171",
         "6": "513",
         "7": "01/01/2021",
         "8": "0"
        },
        {
         "0": "37",
         "1": "CLIENT_1",
         "2": "PDV_1",
         "3": "PROD_3",
         "4": "15",
         "5": "28",
         "6": "420",
         "7": "01/01/2021",
         "8": "0"
        },
        {
         "0": "38",
         "1": "CLIENT_1",
         "2": "PDV_5",
         "3": "PROD_5",
         "4": "29",
         "5": "201",
         "6": "5829",
         "7": "01/01/2021",
         "8": "0"
        },
        {
         "0": "39",
         "1": "CLIENT_1",
         "2": "PDV_7",
         "3": "PROD_2",
         "4": "36",
         "5": "226",
         "6": "8136",
         "7": "01/01/2021",
         "8": "0"
        },
        {
         "0": "40",
         "1": "CLIENT_1",
         "2": "PDV_6",
         "3": "PROD_5",
         "4": "44",
         "5": "205",
         "6": "9020",
         "7": "01/01/2021",
         "8": "0"
        },
        {
         "0": "41",
         "1": "CLIENT_1",
         "2": "PDV_2",
         "3": "PROD_2",
         "4": "27",
         "5": "66",
         "6": "1782",
         "7": "01/01/2021",
         "8": "0"
        },
        {
         "0": "42",
         "1": "CLIENT_1",
         "2": "PDV_1",
         "3": "PROD_3",
         "4": "8",
         "5": "105",
         "6": "840",
         "7": "01/01/2021",
         "8": "0"
        },
        {
         "0": "43",
         "1": "CLIENT_1",
         "2": "PDV_5",
         "3": "PROD_5",
         "4": "46",
         "5": "197",
         "6": "9062",
         "7": "01/01/2021",
         "8": "0"
        },
        {
         "0": "44",
         "1": "CLIENT_1",
         "2": "PDV_5",
         "3": "PROD_5",
         "4": "41",
         "5": "35",
         "6": "1435",
         "7": "01/01/2021",
         "8": "0"
        },
        {
         "0": "45",
         "1": "CLIENT_1",
         "2": "PDV_5",
         "3": "PROD_3",
         "4": "49",
         "5": "20",
         "6": "980",
         "7": "01/01/2021",
         "8": "0"
        },
        {
         "0": "46",
         "1": "CLIENT_1",
         "2": "PDV_5",
         "3": "PROD_5",
         "4": "5",
         "5": "78",
         "6": "390",
         "7": "01/01/2021",
         "8": "0"
        },
        {
         "0": "47",
         "1": "CLIENT_1",
         "2": "PDV_7",
         "3": "PROD_2",
         "4": "36",
         "5": "216",
         "6": "7776",
         "7": "01/02/2021",
         "8": "0"
        },
        {
         "0": "48",
         "1": "CLIENT_1",
         "2": "PDV_2",
         "3": "PROD_1",
         "4": "1",
         "5": "218",
         "6": "218",
         "7": "01/02/2021",
         "8": "0"
        },
        {
         "0": "49",
         "1": "CLIENT_1",
         "2": "PDV_7",
         "3": "PROD_6",
         "4": "29",
         "5": "5",
         "6": "145",
         "7": "01/02/2021",
         "8": "0"
        },
        {
         "0": "50",
         "1": "CLIENT_1",
         "2": "PDV_2",
         "3": "PROD_2",
         "4": "29",
         "5": "5",
         "6": "145",
         "7": "01/02/2021",
         "8": "0"
        },
        {
         "0": "51",
         "1": "CLIENT_1",
         "2": "PDV_7",
         "3": "PROD_4",
         "4": "20",
         "5": "128",
         "6": "2560",
         "7": "01/02/2021",
         "8": "0"
        },
        {
         "0": "52",
         "1": "CLIENT_1",
         "2": "PDV_1",
         "3": "PROD_2",
         "4": "4",
         "5": "29",
         "6": "116",
         "7": "01/02/2021",
         "8": "0"
        },
        {
         "0": "53",
         "1": "CLIENT_1",
         "2": "PDV_3",
         "3": "PROD_2",
         "4": "43",
         "5": "100",
         "6": "4300",
         "7": "01/02/2021",
         "8": "0"
        },
        {
         "0": "54",
         "1": "CLIENT_1",
         "2": "PDV_1",
         "3": "PROD_1",
         "4": "34",
         "5": "10",
         "6": "340",
         "7": "01/02/2021",
         "8": "0"
        },
        {
         "0": "55",
         "1": "CLIENT_1",
         "2": "PDV_3",
         "3": "PROD_4",
         "4": "36",
         "5": "182",
         "6": "6552",
         "7": "01/02/2021",
         "8": "0"
        },
        {
         "0": "56",
         "1": "CLIENT_1",
         "2": "PDV_3",
         "3": "PROD_6",
         "4": "41",
         "5": "208",
         "6": "8528",
         "7": "01/02/2021",
         "8": "0"
        },
        {
         "0": "57",
         "1": "CLIENT_1",
         "2": "PDV_2",
         "3": "PROD_6",
         "4": "41",
         "5": "46",
         "6": "1886",
         "7": "01/02/2021",
         "8": "0"
        },
        {
         "0": "58",
         "1": "CLIENT_1",
         "2": "PDV_3",
         "3": "PROD_5",
         "4": "1",
         "5": "232",
         "6": "232",
         "7": "01/02/2021",
         "8": "0"
        },
        {
         "0": "59",
         "1": "CLIENT_1",
         "2": "PDV_2",
         "3": "PROD_5",
         "4": "16",
         "5": "11",
         "6": "176",
         "7": "01/02/2021",
         "8": "0"
        },
        {
         "0": "60",
         "1": "CLIENT_1",
         "2": "PDV_4",
         "3": "PROD_2",
         "4": "42",
         "5": "326",
         "6": "13692",
         "7": "01/02/2021",
         "8": "0"
        },
        {
         "0": "61",
         "1": "CLIENT_1",
         "2": "PDV_2",
         "3": "PROD_2",
         "4": "36",
         "5": "334",
         "6": "12024",
         "7": "01/02/2021",
         "8": "0"
        },
        {
         "0": "62",
         "1": "CLIENT_1",
         "2": "PDV_6",
         "3": "PROD_2",
         "4": "5",
         "5": "17",
         "6": "85",
         "7": "01/02/2021",
         "8": "0"
        },
        {
         "0": "63",
         "1": "CLIENT_8",
         "2": "PDV_2",
         "3": "PROD_5",
         "4": "41",
         "5": "163",
         "6": "6683",
         "7": "01/02/2021",
         "8": "0"
        },
        {
         "0": "64",
         "1": "CLIENT_2",
         "2": "PDV_4",
         "3": "PROD_3",
         "4": "25",
         "5": "238",
         "6": "5950",
         "7": "01/02/2021",
         "8": "0"
        },
        {
         "0": "65",
         "1": "CLIENT_2",
         "2": "PDV_3",
         "3": "PROD_4",
         "4": "24",
         "5": "146",
         "6": "3504",
         "7": "01/02/2021",
         "8": "0"
        },
        {
         "0": "66",
         "1": "CLIENT_3",
         "2": "PDV_2",
         "3": "PROD_3",
         "4": "27",
         "5": "48",
         "6": "1296",
         "7": "01/02/2021",
         "8": "0"
        },
        {
         "0": "67",
         "1": "CLIENT_3",
         "2": "PDV_6",
         "3": "PROD_4",
         "4": "19",
         "5": "319",
         "6": "6061",
         "7": "01/02/2021",
         "8": "0"
        },
        {
         "0": "68",
         "1": "CLIENT_3",
         "2": "PDV_6",
         "3": "PROD_3",
         "4": "21",
         "5": "7",
         "6": "147",
         "7": "01/02/2021",
         "8": "0"
        },
        {
         "0": "69",
         "1": "CLIENT_3",
         "2": "PDV_5",
         "3": "PROD_6",
         "4": "32",
         "5": "227",
         "6": "7264",
         "7": "01/02/2021",
         "8": "0"
        },
        {
         "0": "70",
         "1": "CLIENT_7",
         "2": "PDV_2",
         "3": "PROD_1",
         "4": "44",
         "5": "82",
         "6": "3608",
         "7": "01/02/2021",
         "8": "0"
        },
        {
         "0": "71",
         "1": "CLIENT_7",
         "2": "PDV_1",
         "3": "PROD_5",
         "4": "8",
         "5": "87",
         "6": "696",
         "7": "01/02/2021",
         "8": "0"
        },
        {
         "0": "72",
         "1": "CLIENT_7",
         "2": "PDV_2",
         "3": "PROD_4",
         "4": "34",
         "5": "131",
         "6": "4454",
         "7": "01/02/2021",
         "8": "0"
        },
        {
         "0": "73",
         "1": "CLIENT_7",
         "2": "PDV_2",
         "3": "PROD_1",
         "4": "16",
         "5": "254",
         "6": "4064",
         "7": "01/02/2021",
         "8": "0"
        },
        {
         "0": "74",
         "1": "CLIENT_7",
         "2": "PDV_5",
         "3": "PROD_4",
         "4": "38",
         "5": "82",
         "6": "3116",
         "7": "01/02/2021",
         "8": "0"
        },
        {
         "0": "75",
         "1": "CLIENT_1",
         "2": "PDV_3",
         "3": "PROD_4",
         "4": "12",
         "5": "69",
         "6": "828",
         "7": "01/02/2021",
         "8": "0"
        },
        {
         "0": "76",
         "1": "CLIENT_1",
         "2": "PDV_5",
         "3": "PROD_6",
         "4": "16",
         "5": "187",
         "6": "2992",
         "7": "01/02/2021",
         "8": "0"
        },
        {
         "0": "77",
         "1": "CLIENT_1",
         "2": "PDV_6",
         "3": "PROD_4",
         "4": "5",
         "5": "261",
         "6": "1305",
         "7": "01/02/2021",
         "8": "0"
        },
        {
         "0": "78",
         "1": "CLIENT_1",
         "2": "PDV_5",
         "3": "PROD_4",
         "4": "15",
         "5": "49",
         "6": "735",
         "7": "01/02/2021",
         "8": "0"
        },
        {
         "0": "79",
         "1": "CLIENT_1",
         "2": "PDV_6",
         "3": "PROD_4",
         "4": "12",
         "5": "191",
         "6": "2292",
         "7": "01/02/2021",
         "8": "0"
        },
        {
         "0": "80",
         "1": "CLIENT_1",
         "2": "PDV_4",
         "3": "PROD_4",
         "4": "11",
         "5": "87",
         "6": "957",
         "7": "01/02/2021",
         "8": "0"
        },
        {
         "0": "81",
         "1": "CLIENT_3",
         "2": "PDV_7",
         "3": "PROD_1",
         "4": "41",
         "5": "198",
         "6": "8118",
         "7": "01/02/2021",
         "8": "0"
        },
        {
         "0": "82",
         "1": "CLIENT_3",
         "2": "PDV_3",
         "3": "PROD_1",
         "4": "35",
         "5": "234",
         "6": "8190",
         "7": "01/02/2021",
         "8": "0"
        },
        {
         "0": "83",
         "1": "CLIENT_7",
         "2": "PDV_5",
         "3": "PROD_5",
         "4": "5",
         "5": "229",
         "6": "1145",
         "7": "01/03/2021",
         "8": "0"
        },
        {
         "0": "84",
         "1": "CLIENT_3",
         "2": "PDV_2",
         "3": "PROD_1",
         "4": "17",
         "5": "318",
         "6": "5406",
         "7": "01/03/2021",
         "8": "0"
        },
        {
         "0": "85",
         "1": "CLIENT_3",
         "2": "PDV_7",
         "3": "PROD_5",
         "4": "40",
         "5": "259",
         "6": "10360",
         "7": "01/03/2021",
         "8": "0"
        },
        {
         "0": "86",
         "1": "CLIENT_8",
         "2": "PDV_1",
         "3": "PROD_2",
         "4": "9",
         "5": "92",
         "6": "828",
         "7": "01/03/2021",
         "8": "0"
        },
        {
         "0": "87",
         "1": "CLIENT_3",
         "2": "PDV_4",
         "3": "PROD_2",
         "4": "8",
         "5": "36",
         "6": "288",
         "7": "01/03/2021",
         "8": "0"
        },
        {
         "0": "88",
         "1": "CLIENT_3",
         "2": "PDV_3",
         "3": "PROD_2",
         "4": "26",
         "5": "235",
         "6": "6110",
         "7": "01/03/2021",
         "8": "0"
        },
        {
         "0": "89",
         "1": "CLIENT_3",
         "2": "PDV_4",
         "3": "PROD_2",
         "4": "39",
         "5": "82",
         "6": "3198",
         "7": "01/03/2021",
         "8": "0"
        },
        {
         "0": "90",
         "1": "CLIENT_3",
         "2": "PDV_5",
         "3": "PROD_2",
         "4": "22",
         "5": "123",
         "6": "2706",
         "7": "01/03/2021",
         "8": "0"
        },
        {
         "0": "91",
         "1": "CLIENT_3",
         "2": "PDV_7",
         "3": "PROD_2",
         "4": "44",
         "5": "319",
         "6": "14036",
         "7": "01/03/2021",
         "8": "0"
        },
        {
         "0": "92",
         "1": "CLIENT_3",
         "2": "PDV_7",
         "3": "PROD_2",
         "4": "3",
         "5": "111",
         "6": "333",
         "7": "01/03/2021",
         "8": "0"
        },
        {
         "0": "93",
         "1": "CLIENT_1",
         "2": "PDV_6",
         "3": "PROD_2",
         "4": "41",
         "5": "220",
         "6": "9020",
         "7": "01/03/2021",
         "8": "0"
        },
        {
         "0": "94",
         "1": "CLIENT_6",
         "2": "PDV_6",
         "3": "PROD_2",
         "4": "43",
         "5": "140",
         "6": "6020",
         "7": "01/03/2021",
         "8": "0"
        },
        {
         "0": "95",
         "1": "CLIENT_6",
         "2": "PDV_3",
         "3": "PROD_2",
         "4": "4",
         "5": "50",
         "6": "200",
         "7": "01/03/2021",
         "8": "0"
        },
        {
         "0": "96",
         "1": "CLIENT_6",
         "2": "PDV_1",
         "3": "PROD_2",
         "4": "5",
         "5": "288",
         "6": "1440",
         "7": "01/03/2021",
         "8": "0"
        },
        {
         "0": "97",
         "1": "CLIENT_6",
         "2": "PDV_3",
         "3": "PROD_2",
         "4": "28",
         "5": "346",
         "6": "9688",
         "7": "01/03/2021",
         "8": "0"
        },
        {
         "0": "98",
         "1": "CLIENT_3",
         "2": "PDV_4",
         "3": "PROD_2",
         "4": "49",
         "5": "81",
         "6": "3969",
         "7": "01/03/2021",
         "8": "0"
        },
        {
         "0": "99",
         "1": "CLIENT_3",
         "2": "PDV_7",
         "3": "PROD_2",
         "4": "50",
         "5": "157",
         "6": "7850",
         "7": "01/03/2021",
         "8": "0"
        },
        {
         "0": "100",
         "1": "CLIENT_1",
         "2": "PDV_3",
         "3": "PROD_2",
         "4": "39",
         "5": "299",
         "6": "11661",
         "7": "01/03/2021",
         "8": "1"
        },
        {
         "0": "101",
         "1": "CLIENT_1",
         "2": "PDV_7",
         "3": "PROD_2",
         "4": "24",
         "5": "67",
         "6": "1608",
         "7": "01/03/2021",
         "8": "1"
        },
        {
         "0": "102",
         "1": "CLIENT_1",
         "2": "PDV_3",
         "3": "PROD_2",
         "4": "38",
         "5": "139",
         "6": "5282",
         "7": "01/03/2021",
         "8": "1"
        },
        {
         "0": "103",
         "1": "CLIENT_1",
         "2": "PDV_1",
         "3": "PROD_2",
         "4": "47",
         "5": "204",
         "6": "9588",
         "7": "01/03/2021",
         "8": "1"
        },
        {
         "0": "104",
         "1": "CLIENT_1",
         "2": "PDV_2",
         "3": "PROD_2",
         "4": "10",
         "5": "177",
         "6": "1770",
         "7": "01/03/2021",
         "8": "1"
        },
        {
         "0": "105",
         "1": "CLIENT_1",
         "2": "PDV_5",
         "3": "PROD_1",
         "4": "49",
         "5": "53",
         "6": "2597",
         "7": "01/03/2021",
         "8": "1"
        },
        {
         "0": "106",
         "1": "CLIENT_1",
         "2": "PDV_7",
         "3": "PROD_1",
         "4": "8",
         "5": "36",
         "6": "288",
         "7": "01/03/2021",
         "8": "1"
        },
        {
         "0": "107",
         "1": "CLIENT_1",
         "2": "PDV_1",
         "3": "PROD_1",
         "4": "5",
         "5": "113",
         "6": "565",
         "7": "01/03/2021",
         "8": "1"
        },
        {
         "0": "108",
         "1": "CLIENT_1",
         "2": "PDV_3",
         "3": "PROD_3",
         "4": "27",
         "5": "251",
         "6": "6777",
         "7": "01/03/2021",
         "8": "1"
        },
        {
         "0": "109",
         "1": "CLIENT_1",
         "2": "PDV_1",
         "3": "PROD_4",
         "4": "37",
         "5": "347",
         "6": "12839",
         "7": "01/03/2021",
         "8": "1"
        },
        {
         "0": "110",
         "1": "CLIENT_1",
         "2": "PDV_4",
         "3": "PROD_4",
         "4": "19",
         "5": "296",
         "6": "5624",
         "7": "01/03/2021",
         "8": "1"
        },
        {
         "0": "111",
         "1": "CLIENT_1",
         "2": "PDV_7",
         "3": "PROD_4",
         "4": "32",
         "5": "291",
         "6": "9312",
         "7": "01/03/2021",
         "8": "0"
        },
        {
         "0": "112",
         "1": "CLIENT_1",
         "2": "PDV_3",
         "3": "PROD_3",
         "4": "22",
         "5": "83",
         "6": "1826",
         "7": "01/03/2021",
         "8": "0"
        },
        {
         "0": "113",
         "1": "CLIENT_1",
         "2": "PDV_5",
         "3": "PROD_5",
         "4": "11",
         "5": "273",
         "6": "3003",
         "7": "01/03/2021",
         "8": "0"
        },
        {
         "0": "114",
         "1": "CLIENT_3",
         "2": "PDV_1",
         "3": "PROD_5",
         "4": "28",
         "5": "151",
         "6": "4228",
         "7": "01/03/2021",
         "8": "0"
        },
        {
         "0": "115",
         "1": "CLIENT_7",
         "2": "PDV_3",
         "3": "PROD_5",
         "4": "48",
         "5": "220",
         "6": "10560",
         "7": "01/03/2021",
         "8": "0"
        },
        {
         "0": "116",
         "1": "CLIENT_3",
         "2": "PDV_1",
         "3": "PROD_4",
         "4": "6",
         "5": "317",
         "6": "1902",
         "7": "01/03/2021",
         "8": "0"
        },
        {
         "0": "117",
         "1": "CLIENT_3",
         "2": "PDV_1",
         "3": "PROD_5",
         "4": "5",
         "5": "120",
         "6": "600",
         "7": "01/03/2021",
         "8": "0"
        },
        {
         "0": "118",
         "1": "CLIENT_1",
         "2": "PDV_4",
         "3": "PROD_2",
         "4": "16",
         "5": "60",
         "6": "960",
         "7": "01/03/2021",
         "8": "0"
        },
        {
         "0": "119",
         "1": "CLIENT_1",
         "2": "PDV_5",
         "3": "PROD_2",
         "4": "19",
         "5": "179",
         "6": "3401",
         "7": "01/03/2021",
         "8": "0"
        },
        {
         "0": "120",
         "1": "CLIENT_6",
         "2": "PDV_6",
         "3": "PROD_2",
         "4": "48",
         "5": "301",
         "6": "14448",
         "7": "01/03/2021",
         "8": "0"
        },
        {
         "0": "121",
         "1": "CLIENT_6",
         "2": "PDV_7",
         "3": "PROD_2",
         "4": "16",
         "5": "240",
         "6": "3840",
         "7": "01/03/2021",
         "8": "0"
        },
        {
         "0": "122",
         "1": "CLIENT_6",
         "2": "PDV_4",
         "3": "PROD_2",
         "4": "37",
         "5": "181",
         "6": "6697",
         "7": "01/03/2021",
         "8": "0"
        },
        {
         "0": "123",
         "1": "CLIENT_3",
         "2": "PDV_3",
         "3": "PROD_2",
         "4": "48",
         "5": "118",
         "6": "5664",
         "7": "01/04/2021",
         "8": "0"
        },
        {
         "0": "124",
         "1": "CLIENT_3",
         "2": "PDV_4",
         "3": "PROD_2",
         "4": "5",
         "5": "341",
         "6": "1705",
         "7": "01/04/2021",
         "8": "0"
        },
        {
         "0": "125",
         "1": "CLIENT_1",
         "2": "PDV_6",
         "3": "PROD_1",
         "4": "41",
         "5": "261",
         "6": "10701",
         "7": "01/04/2021",
         "8": "0"
        },
        {
         "0": "126",
         "1": "CLIENT_1",
         "2": "PDV_7",
         "3": "PROD_1",
         "4": "3",
         "5": "226",
         "6": "678",
         "7": "01/04/2021",
         "8": "0"
        },
        {
         "0": "127",
         "1": "CLIENT_1",
         "2": "PDV_4",
         "3": "PROD_5",
         "4": "44",
         "5": "280",
         "6": "12320",
         "7": "01/04/2021",
         "8": "0"
        },
        {
         "0": "128",
         "1": "CLIENT_1",
         "2": "PDV_1",
         "3": "PROD_1",
         "4": "32",
         "5": "121",
         "6": "3872",
         "7": "01/04/2021",
         "8": "0"
        },
        {
         "0": "129",
         "1": "CLIENT_1",
         "2": "PDV_5",
         "3": "PROD_1",
         "4": "47",
         "5": "196",
         "6": "9212",
         "7": "01/04/2021",
         "8": "0"
        },
        {
         "0": "130",
         "1": "CLIENT_1",
         "2": "PDV_4",
         "3": "PROD_3",
         "4": "5",
         "5": "314",
         "6": "1570",
         "7": "01/04/2021",
         "8": "0"
        },
        {
         "0": "131",
         "1": "CLIENT_1",
         "2": "PDV_7",
         "3": "PROD_2",
         "4": "29",
         "5": "88",
         "6": "2552",
         "7": "01/04/2021",
         "8": "0"
        },
        {
         "0": "132",
         "1": "CLIENT_1",
         "2": "PDV_6",
         "3": "PROD_3",
         "4": "13",
         "5": "136",
         "6": "1768",
         "7": "01/04/2021",
         "8": "0"
        },
        {
         "0": "133",
         "1": "CLIENT_1",
         "2": "PDV_3",
         "3": "PROD_3",
         "4": "14",
         "5": "81",
         "6": "1134",
         "7": "01/04/2021",
         "8": "0"
        },
        {
         "0": "134",
         "1": "CLIENT_1",
         "2": "PDV_5",
         "3": "PROD_3",
         "4": "33",
         "5": "35",
         "6": "1155",
         "7": "01/04/2021",
         "8": "0"
        },
        {
         "0": "135",
         "1": "CLIENT_1",
         "2": "PDV_6",
         "3": "PROD_2",
         "4": "10",
         "5": "18",
         "6": "180",
         "7": "01/04/2021",
         "8": "0"
        },
        {
         "0": "136",
         "1": "CLIENT_1",
         "2": "PDV_6",
         "3": "PROD_2",
         "4": "30",
         "5": "333",
         "6": "9990",
         "7": "01/04/2021",
         "8": "0"
        },
        {
         "0": "137",
         "1": "CLIENT_1",
         "2": "PDV_7",
         "3": "PROD_2",
         "4": "48",
         "5": "207",
         "6": "9936",
         "7": "01/04/2021",
         "8": "0"
        },
        {
         "0": "138",
         "1": "CLIENT_1",
         "2": "PDV_6",
         "3": "PROD_2",
         "4": "50",
         "5": "76",
         "6": "3800",
         "7": "01/04/2021",
         "8": "0"
        },
        {
         "0": "139",
         "1": "CLIENT_8",
         "2": "PDV_1",
         "3": "PROD_6",
         "4": "2",
         "5": "38",
         "6": "76",
         "7": "01/04/2021",
         "8": "0"
        },
        {
         "0": "140",
         "1": "CLIENT_8",
         "2": "PDV_2",
         "3": "PROD_2",
         "4": "20",
         "5": "279",
         "6": "5580",
         "7": "01/04/2021",
         "8": "0"
        },
        {
         "0": "141",
         "1": "CLIENT_2",
         "2": "PDV_4",
         "3": "PROD_1",
         "4": "19",
         "5": "253",
         "6": "4807",
         "7": "01/04/2021",
         "8": "0"
        },
        {
         "0": "142",
         "1": "CLIENT_2",
         "2": "PDV_2",
         "3": "PROD_5",
         "4": "33",
         "5": "241",
         "6": "7953",
         "7": "01/04/2021",
         "8": "0"
        },
        {
         "0": "143",
         "1": "CLIENT_2",
         "2": "PDV_7",
         "3": "PROD_5",
         "4": "9",
         "5": "66",
         "6": "594",
         "7": "01/04/2021",
         "8": "0"
        },
        {
         "0": "144",
         "1": "CLIENT_2",
         "2": "PDV_4",
         "3": "PROD_1",
         "4": "9",
         "5": "137",
         "6": "1233",
         "7": "01/04/2021",
         "8": "0"
        },
        {
         "0": "145",
         "1": "CLIENT_2",
         "2": "PDV_3",
         "3": "PROD_1",
         "4": "31",
         "5": "94",
         "6": "2914",
         "7": "01/04/2021",
         "8": "0"
        },
        {
         "0": "146",
         "1": "CLIENT_3",
         "2": "PDV_5",
         "3": "PROD_6",
         "4": "5",
         "5": "23",
         "6": "115",
         "7": "01/04/2021",
         "8": "0"
        },
        {
         "0": "147",
         "1": "CLIENT_3",
         "2": "PDV_2",
         "3": "PROD_1",
         "4": "48",
         "5": "299",
         "6": "14352",
         "7": "01/04/2021",
         "8": "0"
        },
        {
         "0": "148",
         "1": "CLIENT_3",
         "2": "PDV_1",
         "3": "PROD_1",
         "4": "1",
         "5": "214",
         "6": "214",
         "7": "01/04/2021",
         "8": "0"
        },
        {
         "0": "149",
         "1": "CLIENT_3",
         "2": "PDV_4",
         "3": "PROD_4",
         "4": "49",
         "5": "187",
         "6": "9163",
         "7": "01/04/2021",
         "8": "0"
        },
        {
         "0": "150",
         "1": "CLIENT_3",
         "2": "PDV_5",
         "3": "PROD_6",
         "4": "23",
         "5": "184",
         "6": "4232",
         "7": "01/04/2021",
         "8": "0"
        },
        {
         "0": "151",
         "1": "CLIENT_3",
         "2": "PDV_7",
         "3": "PROD_3",
         "4": "5",
         "5": "186",
         "6": "930",
         "7": "01/04/2021",
         "8": "0"
        },
        {
         "0": "152",
         "1": "CLIENT_7",
         "2": "PDV_7",
         "3": "PROD_4",
         "4": "33",
         "5": "343",
         "6": "11319",
         "7": "01/05/2021",
         "8": "0"
        },
        {
         "0": "153",
         "1": "CLIENT_7",
         "2": "PDV_2",
         "3": "PROD_6",
         "4": "29",
         "5": "88",
         "6": "2552",
         "7": "01/05/2021",
         "8": "0"
        },
        {
         "0": "154",
         "1": "CLIENT_1",
         "2": "PDV_2",
         "3": "PROD_4",
         "4": "2",
         "5": "329",
         "6": "658",
         "7": "01/05/2021",
         "8": "0"
        },
        {
         "0": "155",
         "1": "CLIENT_1",
         "2": "PDV_2",
         "3": "PROD_5",
         "4": "25",
         "5": "157",
         "6": "3925",
         "7": "01/05/2021",
         "8": "0"
        },
        {
         "0": "156",
         "1": "CLIENT_1",
         "2": "PDV_2",
         "3": "PROD_5",
         "4": "3",
         "5": "271",
         "6": "813",
         "7": "01/05/2021",
         "8": "0"
        },
        {
         "0": "157",
         "1": "CLIENT_1",
         "2": "PDV_4",
         "3": "PROD_5",
         "4": "40",
         "5": "200",
         "6": "8000",
         "7": "01/05/2021",
         "8": "0"
        },
        {
         "0": "158",
         "1": "CLIENT_1",
         "2": "PDV_6",
         "3": "PROD_5",
         "4": "43",
         "5": "313",
         "6": "13459",
         "7": "01/05/2021",
         "8": "0"
        },
        {
         "0": "159",
         "1": "CLIENT_3",
         "2": "PDV_3",
         "3": "PROD_1",
         "4": "35",
         "5": "131",
         "6": "4585",
         "7": "01/05/2021",
         "8": "0"
        },
        {
         "0": "160",
         "1": "CLIENT_3",
         "2": "PDV_5",
         "3": "PROD_2",
         "4": "40",
         "5": "51",
         "6": "2040",
         "7": "01/05/2021",
         "8": "0"
        },
        {
         "0": "161",
         "1": "CLIENT_3",
         "2": "PDV_5",
         "3": "PROD_2",
         "4": "42",
         "5": "198",
         "6": "8316",
         "7": "01/05/2021",
         "8": "0"
        },
        {
         "0": "162",
         "1": "CLIENT_3",
         "2": "PDV_1",
         "3": "PROD_2",
         "4": "33",
         "5": "318",
         "6": "10494",
         "7": "01/05/2021",
         "8": "0"
        },
        {
         "0": "163",
         "1": "CLIENT_3",
         "2": "PDV_7",
         "3": "PROD_2",
         "4": "5",
         "5": "209",
         "6": "1045",
         "7": "01/05/2021",
         "8": "0"
        },
        {
         "0": "164",
         "1": "CLIENT_3",
         "2": "PDV_7",
         "3": "PROD_2",
         "4": "37",
         "5": "202",
         "6": "7474",
         "7": "01/05/2021",
         "8": "0"
        },
        {
         "0": "165",
         "1": "CLIENT_1",
         "2": "PDV_4",
         "3": "PROD_2",
         "4": "19",
         "5": "335",
         "6": "6365",
         "7": "01/05/2021",
         "8": "0"
        },
        {
         "0": "166",
         "1": "CLIENT_1",
         "2": "PDV_4",
         "3": "PROD_2",
         "4": "1",
         "5": "310",
         "6": "310",
         "7": "01/05/2021",
         "8": "0"
        },
        {
         "0": "167",
         "1": "CLIENT_1",
         "2": "PDV_6",
         "3": "PROD_2",
         "4": "1",
         "5": "222",
         "6": "222",
         "7": "01/05/2021",
         "8": "0"
        },
        {
         "0": "168",
         "1": "CLIENT_1",
         "2": "PDV_4",
         "3": "PROD_6",
         "4": "38",
         "5": "331",
         "6": "12578",
         "7": "01/05/2021",
         "8": "0"
        },
        {
         "0": "169",
         "1": "CLIENT_1",
         "2": "PDV_1",
         "3": "PROD_2",
         "4": "34",
         "5": "218",
         "6": "7412",
         "7": "01/05/2021",
         "8": "0"
        },
        {
         "0": "170",
         "1": "CLIENT_1",
         "2": "PDV_4",
         "3": "PROD_6",
         "4": "9",
         "5": "244",
         "6": "2196",
         "7": "01/05/2021",
         "8": "0"
        },
        {
         "0": "171",
         "1": "CLIENT_1",
         "2": "PDV_4",
         "3": "PROD_6",
         "4": "27",
         "5": "322",
         "6": "8694",
         "7": "01/05/2021",
         "8": "0"
        },
        {
         "0": "172",
         "1": "CLIENT_1",
         "2": "PDV_2",
         "3": "PROD_6",
         "4": "21",
         "5": "294",
         "6": "6174",
         "7": "01/05/2021",
         "8": "0"
        },
        {
         "0": "173",
         "1": "CLIENT_1",
         "2": "PDV_4",
         "3": "PROD_4",
         "4": "34",
         "5": "277",
         "6": "9418",
         "7": "01/05/2021",
         "8": "0"
        },
        {
         "0": "174",
         "1": "CLIENT_1",
         "2": "PDV_4",
         "3": "PROD_4",
         "4": "42",
         "5": "136",
         "6": "5712",
         "7": "01/05/2021",
         "8": "0"
        },
        {
         "0": "175",
         "1": "CLIENT_1",
         "2": "PDV_5",
         "3": "PROD_4",
         "4": "47",
         "5": "248",
         "6": "11656",
         "7": "01/05/2021",
         "8": "0"
        },
        {
         "0": "176",
         "1": "CLIENT_1",
         "2": "PDV_2",
         "3": "PROD_1",
         "4": "7",
         "5": "321",
         "6": "2247",
         "7": "01/05/2021",
         "8": "0"
        },
        {
         "0": "177",
         "1": "CLIENT_1",
         "2": "PDV_2",
         "3": "PROD_3",
         "4": "4",
         "5": "326",
         "6": "1304",
         "7": "01/05/2021",
         "8": "0"
        },
        {
         "0": "178",
         "1": "CLIENT_1",
         "2": "PDV_5",
         "3": "PROD_2",
         "4": "44",
         "5": "99",
         "6": "4356",
         "7": "01/05/2021",
         "8": "0"
        },
        {
         "0": "179",
         "1": "CLIENT_1",
         "2": "PDV_5",
         "3": "PROD_4",
         "4": "7",
         "5": "256",
         "6": "1792",
         "7": "01/05/2021",
         "8": "0"
        },
        {
         "0": "180",
         "1": "CLIENT_1",
         "2": "PDV_5",
         "3": "PROD_3",
         "4": "41",
         "5": "18",
         "6": "738",
         "7": "01/05/2021",
         "8": "0"
        },
        {
         "0": "181",
         "1": "CLIENT_1",
         "2": "PDV_4",
         "3": "PROD_2",
         "4": "1",
         "5": "128",
         "6": "128",
         "7": "01/05/2021",
         "8": "0"
        },
        {
         "0": "182",
         "1": "CLIENT_1",
         "2": "PDV_7",
         "3": "PROD_2",
         "4": "2",
         "5": "344",
         "6": "688",
         "7": "01/05/2021",
         "8": "0"
        },
        {
         "0": "183",
         "1": "CLIENT_1",
         "2": "PDV_3",
         "3": "PROD_2",
         "4": "7",
         "5": "198",
         "6": "1386",
         "7": "01/05/2021",
         "8": "0"
        },
        {
         "0": "184",
         "1": "CLIENT_1",
         "2": "PDV_5",
         "3": "PROD_2",
         "4": "38",
         "5": "257",
         "6": "9766",
         "7": "01/05/2021",
         "8": "0"
        },
        {
         "0": "185",
         "1": "CLIENT_1",
         "2": "PDV_1",
         "3": "PROD_2",
         "4": "42",
         "5": "133",
         "6": "5586",
         "7": "01/05/2021",
         "8": "0"
        },
        {
         "0": "186",
         "1": "CLIENT_1",
         "2": "PDV_1",
         "3": "PROD_2",
         "4": "16",
         "5": "239",
         "6": "3824",
         "7": "01/05/2021",
         "8": "0"
        },
        {
         "0": "187",
         "1": "CLIENT_8",
         "2": "PDV_1",
         "3": "PROD_2",
         "4": "39",
         "5": "166",
         "6": "6474",
         "7": "01/05/2021",
         "8": "0"
        },
        {
         "0": "188",
         "1": "CLIENT_8",
         "2": "PDV_6",
         "3": "PROD_2",
         "4": "48",
         "5": "39",
         "6": "1872",
         "7": "01/06/2021",
         "8": "0"
        },
        {
         "0": "189",
         "1": "CLIENT_2",
         "2": "PDV_6",
         "3": "PROD_6",
         "4": "23",
         "5": "302",
         "6": "6946",
         "7": "01/06/2021",
         "8": "0"
        },
        {
         "0": "190",
         "1": "CLIENT_2",
         "2": "PDV_7",
         "3": "PROD_4",
         "4": "40",
         "5": "116",
         "6": "4640",
         "7": "01/06/2021",
         "8": "0"
        },
        {
         "0": "191",
         "1": "CLIENT_2",
         "2": "PDV_5",
         "3": "PROD_6",
         "4": "27",
         "5": "289",
         "6": "7803",
         "7": "01/06/2021",
         "8": "0"
        },
        {
         "0": "192",
         "1": "CLIENT_2",
         "2": "PDV_6",
         "3": "PROD_1",
         "4": "10",
         "5": "331",
         "6": "3310",
         "7": "01/06/2021",
         "8": "0"
        },
        {
         "0": "193",
         "1": "CLIENT_2",
         "2": "PDV_6",
         "3": "PROD_5",
         "4": "38",
         "5": "80",
         "6": "3040",
         "7": "01/06/2021",
         "8": "0"
        },
        {
         "0": "194",
         "1": "CLIENT_2",
         "2": "PDV_2",
         "3": "PROD_3",
         "4": "46",
         "5": "10",
         "6": "460",
         "7": "01/06/2021",
         "8": "0"
        },
        {
         "0": "195",
         "1": "CLIENT_3",
         "2": "PDV_1",
         "3": "PROD_3",
         "4": "36",
         "5": "42",
         "6": "1512",
         "7": "01/06/2021",
         "8": "0"
        },
        {
         "0": "196",
         "1": "CLIENT_3",
         "2": "PDV_6",
         "3": "PROD_1",
         "4": "38",
         "5": "310",
         "6": "11780",
         "7": "01/06/2021",
         "8": "0"
        },
        {
         "0": "197",
         "1": "CLIENT_7",
         "2": "PDV_2",
         "3": "PROD_3",
         "4": "29",
         "5": "202",
         "6": "5858",
         "7": "01/06/2021",
         "8": "0"
        },
        {
         "0": "198",
         "1": "CLIENT_1",
         "2": "PDV_6",
         "3": "PROD_1",
         "4": "29",
         "5": "66",
         "6": "1914",
         "7": "01/06/2021",
         "8": "0"
        },
        {
         "0": "199",
         "1": "CLIENT_1",
         "2": "PDV_1",
         "3": "PROD_1",
         "4": "31",
         "5": "260",
         "6": "8060",
         "7": "01/06/2021",
         "8": "0"
        },
        {
         "0": "200",
         "1": "CLIENT_1",
         "2": "PDV_4",
         "3": "PROD_4",
         "4": "15",
         "5": "341",
         "6": "5115",
         "7": "01/06/2021",
         "8": "0"
        },
        {
         "0": "201",
         "1": "CLIENT_1",
         "2": "PDV_7",
         "3": "PROD_1",
         "4": "4",
         "5": "122",
         "6": "488",
         "7": "01/06/2021",
         "8": "0"
        },
        {
         "0": "202",
         "1": "CLIENT_1",
         "2": "PDV_7",
         "3": "PROD_1",
         "4": "16",
         "5": "251",
         "6": "4016",
         "7": "01/06/2021",
         "8": "0"
        },
        {
         "0": "203",
         "1": "CLIENT_1",
         "2": "PDV_7",
         "3": "PROD_1",
         "4": "13",
         "5": "88",
         "6": "1144",
         "7": "01/06/2021",
         "8": "0"
        },
        {
         "0": "204",
         "1": "CLIENT_7",
         "2": "PDV_7",
         "3": "PROD_3",
         "4": "33",
         "5": "249",
         "6": "8217",
         "7": "01/06/2021",
         "8": "0"
        },
        {
         "0": "205",
         "1": "CLIENT_7",
         "2": "PDV_7",
         "3": "PROD_3",
         "4": "33",
         "5": "233",
         "6": "7689",
         "7": "01/06/2021",
         "8": "0"
        },
        {
         "0": "206",
         "1": "CLIENT_7",
         "2": "PDV_1",
         "3": "PROD_3",
         "4": "38",
         "5": "48",
         "6": "1824",
         "7": "01/06/2021",
         "8": "0"
        },
        {
         "0": "207",
         "1": "CLIENT_3",
         "2": "PDV_7",
         "3": "PROD_3",
         "4": "40",
         "5": "284",
         "6": "11360",
         "7": "01/06/2021",
         "8": "0"
        },
        {
         "0": "208",
         "1": "CLIENT_3",
         "2": "PDV_3",
         "3": "PROD_3",
         "4": "1",
         "5": "301",
         "6": "301",
         "7": "01/06/2021",
         "8": "0"
        },
        {
         "0": "209",
         "1": "CLIENT_2",
         "2": "PDV_5",
         "3": "PROD_2",
         "4": "3",
         "5": "106",
         "6": "318",
         "7": "01/06/2021",
         "8": "0"
        },
        {
         "0": "210",
         "1": "CLIENT_6",
         "2": "PDV_6",
         "3": "PROD_2",
         "4": "28",
         "5": "219",
         "6": "6132",
         "7": "01/06/2021",
         "8": "1"
        },
        {
         "0": "211",
         "1": "CLIENT_6",
         "2": "PDV_4",
         "3": "PROD_2",
         "4": "19",
         "5": "258",
         "6": "4902",
         "7": "01/06/2021",
         "8": "0"
        },
        {
         "0": "212",
         "1": "CLIENT_2",
         "2": "PDV_6",
         "3": "PROD_2",
         "4": "23",
         "5": "158",
         "6": "3634",
         "7": "01/06/2021",
         "8": "0"
        },
        {
         "0": "213",
         "1": "CLIENT_2",
         "2": "PDV_1",
         "3": "PROD_2",
         "4": "25",
         "5": "142",
         "6": "3550",
         "7": "01/06/2021",
         "8": "0"
        },
        {
         "0": "214",
         "1": "CLIENT_1",
         "2": "PDV_4",
         "3": "PROD_5",
         "4": "45",
         "5": "300",
         "6": "13500",
         "7": "01/06/2021",
         "8": "0"
        },
        {
         "0": "215",
         "1": "CLIENT_1",
         "2": "PDV_4",
         "3": "PROD_5",
         "4": "29",
         "5": "261",
         "6": "7569",
         "7": "01/06/2021",
         "8": "0"
        },
        {
         "0": "216",
         "1": "CLIENT_1",
         "2": "PDV_3",
         "3": "PROD_5",
         "4": "15",
         "5": "240",
         "6": "3600",
         "7": "01/06/2021",
         "8": "0"
        },
        {
         "0": "217",
         "1": "CLIENT_1",
         "2": "PDV_4",
         "3": "PROD_5",
         "4": "46",
         "5": "22",
         "6": "1012",
         "7": "01/06/2021",
         "8": "0"
        },
        {
         "0": "218",
         "1": "CLIENT_1",
         "2": "PDV_7",
         "3": "PROD_5",
         "4": "27",
         "5": "73",
         "6": "1971",
         "7": "01/06/2021",
         "8": "0"
        },
        {
         "0": "219",
         "1": "CLIENT_1",
         "2": "PDV_2",
         "3": "PROD_2",
         "4": "25",
         "5": "116",
         "6": "2900",
         "7": "01/06/2021",
         "8": "0"
        },
        {
         "0": "220",
         "1": "CLIENT_1",
         "2": "PDV_3",
         "3": "PROD_2",
         "4": "50",
         "5": "157",
         "6": "7850",
         "7": "01/06/2021",
         "8": "0"
        },
        {
         "0": "221",
         "1": "CLIENT_1",
         "2": "PDV_3",
         "3": "PROD_5",
         "4": "28",
         "5": "35",
         "6": "980",
         "7": "01/06/2021",
         "8": "0"
        },
        {
         "0": "222",
         "1": "CLIENT_1",
         "2": "PDV_2",
         "3": "PROD_2",
         "4": "44",
         "5": "339",
         "6": "14916",
         "7": "01/06/2021",
         "8": "0"
        },
        {
         "0": "223",
         "1": "CLIENT_1",
         "2": "PDV_4",
         "3": "PROD_2",
         "4": "42",
         "5": "276",
         "6": "11592",
         "7": "01/06/2021",
         "8": "0"
        },
        {
         "0": "224",
         "1": "CLIENT_1",
         "2": "PDV_6",
         "3": "PROD_2",
         "4": "41",
         "5": "42",
         "6": "1722",
         "7": "01/06/2021",
         "8": "0"
        },
        {
         "0": "225",
         "1": "CLIENT_1",
         "2": "PDV_1",
         "3": "PROD_2",
         "4": "15",
         "5": "74",
         "6": "1110",
         "7": "01/06/2021",
         "8": "0"
        },
        {
         "0": "226",
         "1": "CLIENT_1",
         "2": "PDV_3",
         "3": "PROD_6",
         "4": "2",
         "5": "330",
         "6": "660",
         "7": "01/06/2021",
         "8": "0"
        },
        {
         "0": "227",
         "1": "CLIENT_1",
         "2": "PDV_1",
         "3": "PROD_6",
         "4": "31",
         "5": "276",
         "6": "8556",
         "7": "01/06/2021",
         "8": "0"
        },
        {
         "0": "228",
         "1": "CLIENT_1",
         "2": "PDV_7",
         "3": "PROD_1",
         "4": "39",
         "5": "302",
         "6": "11778",
         "7": "01/06/2021",
         "8": "0"
        },
        {
         "0": "229",
         "1": "CLIENT_2",
         "2": "PDV_4",
         "3": "PROD_1",
         "4": "26",
         "5": "126",
         "6": "3276",
         "7": "01/06/2021",
         "8": "0"
        },
        {
         "0": "230",
         "1": "CLIENT_2",
         "2": "PDV_3",
         "3": "PROD_4",
         "4": "48",
         "5": "124",
         "6": "5952",
         "7": "01/06/2021",
         "8": "0"
        },
        {
         "0": "231",
         "1": "CLIENT_2",
         "2": "PDV_3",
         "3": "PROD_6",
         "4": "18",
         "5": "8",
         "6": "144",
         "7": "01/06/2021",
         "8": "0"
        },
        {
         "0": "232",
         "1": "CLIENT_2",
         "2": "PDV_6",
         "3": "PROD_3",
         "4": "49",
         "5": "111",
         "6": "5439",
         "7": "01/06/2021",
         "8": "0"
        },
        {
         "0": "233",
         "1": "CLIENT_2",
         "2": "PDV_7",
         "3": "PROD_5",
         "4": "13",
         "5": "85",
         "6": "1105",
         "7": "01/06/2021",
         "8": "0"
        },
        {
         "0": "234",
         "1": "CLIENT_3",
         "2": "PDV_7",
         "3": "PROD_6",
         "4": "30",
         "5": "83",
         "6": "2490",
         "7": "01/06/2021",
         "8": "0"
        },
        {
         "0": "235",
         "1": "CLIENT_3",
         "2": "PDV_6",
         "3": "PROD_6",
         "4": "21",
         "5": "318",
         "6": "6678",
         "7": "01/06/2021",
         "8": "0"
        },
        {
         "0": "236",
         "1": "CLIENT_3",
         "2": "PDV_3",
         "3": "PROD_5",
         "4": "47",
         "5": "14",
         "6": "658",
         "7": "01/06/2021",
         "8": "0"
        },
        {
         "0": "237",
         "1": "CLIENT_7",
         "2": "PDV_3",
         "3": "PROD_4",
         "4": "41",
         "5": "80",
         "6": "3280",
         "7": "01/06/2021",
         "8": "0"
        },
        {
         "0": "238",
         "1": "CLIENT_7",
         "2": "PDV_4",
         "3": "PROD_3",
         "4": "18",
         "5": "143",
         "6": "2574",
         "7": "01/06/2021",
         "8": "0"
        },
        {
         "0": "239",
         "1": "CLIENT_7",
         "2": "PDV_4",
         "3": "PROD_6",
         "4": "7",
         "5": "47",
         "6": "329",
         "7": "01/06/2021",
         "8": "0"
        },
        {
         "0": "240",
         "1": "CLIENT_1",
         "2": "PDV_7",
         "3": "PROD_4",
         "4": "5",
         "5": "217",
         "6": "1085",
         "7": "01/06/2021",
         "8": "0"
        },
        {
         "0": "241",
         "1": "CLIENT_1",
         "2": "PDV_2",
         "3": "PROD_4",
         "4": "16",
         "5": "245",
         "6": "3920",
         "7": "01/06/2021",
         "8": "0"
        },
        {
         "0": "242",
         "1": "CLIENT_1",
         "2": "PDV_2",
         "3": "PROD_6",
         "4": "6",
         "5": "295",
         "6": "1770",
         "7": "01/06/2021",
         "8": "0"
        },
        {
         "0": "243",
         "1": "CLIENT_1",
         "2": "PDV_4",
         "3": "PROD_4",
         "4": "25",
         "5": "270",
         "6": "6750",
         "7": "01/06/2021",
         "8": "0"
        },
        {
         "0": "244",
         "1": "CLIENT_3",
         "2": "PDV_3",
         "3": "PROD_5",
         "4": "27",
         "5": "2",
         "6": "54",
         "7": "01/06/2021",
         "8": "0"
        },
        {
         "0": "245",
         "1": "CLIENT_3",
         "2": "PDV_2",
         "3": "PROD_2",
         "4": "21",
         "5": "77",
         "6": "1617",
         "7": "01/06/2021",
         "8": "0"
        },
        {
         "0": "246",
         "1": "CLIENT_8",
         "2": "PDV_7",
         "3": "PROD_2",
         "4": "40",
         "5": "29",
         "6": "1160",
         "7": "01/06/2021",
         "8": "0"
        },
        {
         "0": "247",
         "1": "CLIENT_8",
         "2": "PDV_3",
         "3": "PROD_2",
         "4": "18",
         "5": "282",
         "6": "5076",
         "7": "01/06/2021",
         "8": "0"
        },
        {
         "0": "248",
         "1": "CLIENT_8",
         "2": "PDV_2",
         "3": "PROD_2",
         "4": "5",
         "5": "178",
         "6": "890",
         "7": "01/06/2021",
         "8": "0"
        },
        {
         "0": "249",
         "1": "CLIENT_3",
         "2": "PDV_3",
         "3": "PROD_2",
         "4": "18",
         "5": "133",
         "6": "2394",
         "7": "01/06/2021",
         "8": "0"
        },
        {
         "0": "250",
         "1": "CLIENT_1",
         "2": "PDV_1",
         "3": "PROD_4",
         "4": "2",
         "5": "203",
         "6": "406",
         "7": "01/06/2021",
         "8": "0"
        },
        {
         "0": "251",
         "1": "CLIENT_1",
         "2": "PDV_3",
         "3": "PROD_4",
         "4": "44",
         "5": "258",
         "6": "11352",
         "7": "01/06/2021",
         "8": "0"
        },
        {
         "0": "252",
         "1": "CLIENT_1",
         "2": "PDV_6",
         "3": "PROD_4",
         "4": "18",
         "5": "49",
         "6": "882",
         "7": "01/06/2021",
         "8": "0"
        },
        {
         "0": "253",
         "1": "CLIENT_1",
         "2": "PDV_4",
         "3": "PROD_4",
         "4": "7",
         "5": "70",
         "6": "490",
         "7": "01/06/2021",
         "8": "0"
        },
        {
         "0": "254",
         "1": "CLIENT_1",
         "2": "PDV_5",
         "3": "PROD_4",
         "4": "34",
         "5": "105",
         "6": "3570",
         "7": "01/06/2021",
         "8": "0"
        },
        {
         "0": "255",
         "1": "CLIENT_1",
         "2": "PDV_2",
         "3": "PROD_5",
         "4": "3",
         "5": "300",
         "6": "900",
         "7": "01/06/2021",
         "8": "0"
        },
        {
         "0": "256",
         "1": "CLIENT_1",
         "2": "PDV_2",
         "3": "PROD_2",
         "4": "36",
         "5": "92",
         "6": "3312",
         "7": "01/07/2021",
         "8": "0"
        },
        {
         "0": "257",
         "1": "CLIENT_1",
         "2": "PDV_2",
         "3": "PROD_2",
         "4": "41",
         "5": "41",
         "6": "1681",
         "7": "01/07/2021",
         "8": "0"
        },
        {
         "0": "258",
         "1": "CLIENT_1",
         "2": "PDV_2",
         "3": "PROD_2",
         "4": "30",
         "5": "260",
         "6": "7800",
         "7": "01/07/2021",
         "8": "0"
        },
        {
         "0": "259",
         "1": "CLIENT_1",
         "2": "PDV_4",
         "3": "PROD_2",
         "4": "29",
         "5": "128",
         "6": "3712",
         "7": "01/07/2021",
         "8": "0"
        },
        {
         "0": "260",
         "1": "CLIENT_1",
         "2": "PDV_2",
         "3": "PROD_1",
         "4": "21",
         "5": "78",
         "6": "1638",
         "7": "01/07/2021",
         "8": "0"
        },
        {
         "0": "261",
         "1": "CLIENT_1",
         "2": "PDV_6",
         "3": "PROD_1",
         "4": "30",
         "5": "134",
         "6": "4020",
         "7": "01/07/2021",
         "8": "0"
        },
        {
         "0": "262",
         "1": "CLIENT_1",
         "2": "PDV_6",
         "3": "PROD_1",
         "4": "42",
         "5": "281",
         "6": "11802",
         "7": "01/07/2021",
         "8": "0"
        },
        {
         "0": "263",
         "1": "CLIENT_1",
         "2": "PDV_1",
         "3": "PROD_6",
         "4": "7",
         "5": "341",
         "6": "2387",
         "7": "01/07/2021",
         "8": "0"
        },
        {
         "0": "264",
         "1": "CLIENT_1",
         "2": "PDV_7",
         "3": "PROD_3",
         "4": "9",
         "5": "261",
         "6": "2349",
         "7": "01/07/2021",
         "8": "0"
        },
        {
         "0": "265",
         "1": "CLIENT_2",
         "2": "PDV_5",
         "3": "PROD_6",
         "4": "4",
         "5": "344",
         "6": "1376",
         "7": "01/07/2021",
         "8": "0"
        },
        {
         "0": "266",
         "1": "CLIENT_2",
         "2": "PDV_2",
         "3": "PROD_1",
         "4": "25",
         "5": "155",
         "6": "3875",
         "7": "01/07/2021",
         "8": "0"
        },
        {
         "0": "267",
         "1": "CLIENT_2",
         "2": "PDV_7",
         "3": "PROD_1",
         "4": "46",
         "5": "190",
         "6": "8740",
         "7": "01/07/2021",
         "8": "0"
        },
        {
         "0": "268",
         "1": "CLIENT_2",
         "2": "PDV_1",
         "3": "PROD_3",
         "4": "50",
         "5": "300",
         "6": "15000",
         "7": "01/07/2021",
         "8": "0"
        },
        {
         "0": "269",
         "1": "CLIENT_2",
         "2": "PDV_1",
         "3": "PROD_1",
         "4": "45",
         "5": "211",
         "6": "9495",
         "7": "01/07/2021",
         "8": "0"
        },
        {
         "0": "270",
         "1": "CLIENT_2",
         "2": "PDV_3",
         "3": "PROD_1",
         "4": "49",
         "5": "255",
         "6": "12495",
         "7": "01/07/2021",
         "8": "0"
        },
        {
         "0": "271",
         "1": "CLIENT_2",
         "2": "PDV_3",
         "3": "PROD_4",
         "4": "13",
         "5": "37",
         "6": "481",
         "7": "01/07/2021",
         "8": "0"
        },
        {
         "0": "272",
         "1": "CLIENT_3",
         "2": "PDV_6",
         "3": "PROD_3",
         "4": "19",
         "5": "253",
         "6": "4807",
         "7": "01/07/2021",
         "8": "0"
        },
        {
         "0": "273",
         "1": "CLIENT_3",
         "2": "PDV_3",
         "3": "PROD_3",
         "4": "26",
         "5": "103",
         "6": "2678",
         "7": "01/07/2021",
         "8": "0"
        },
        {
         "0": "274",
         "1": "CLIENT_3",
         "2": "PDV_7",
         "3": "PROD_4",
         "4": "20",
         "5": "238",
         "6": "4760",
         "7": "01/07/2021",
         "8": "0"
        },
        {
         "0": "275",
         "1": "CLIENT_1",
         "2": "PDV_7",
         "3": "PROD_3",
         "4": "3",
         "5": "291",
         "6": "873",
         "7": "01/07/2021",
         "8": "0"
        },
        {
         "0": "276",
         "1": "CLIENT_1",
         "2": "PDV_3",
         "3": "PROD_3",
         "4": "14",
         "5": "230",
         "6": "3220",
         "7": "01/07/2021",
         "8": "0"
        },
        {
         "0": "277",
         "1": "CLIENT_1",
         "2": "PDV_4",
         "3": "PROD_3",
         "4": "34",
         "5": "9",
         "6": "306",
         "7": "01/07/2021",
         "8": "0"
        },
        {
         "0": "278",
         "1": "CLIENT_1",
         "2": "PDV_1",
         "3": "PROD_3",
         "4": "9",
         "5": "164",
         "6": "1476",
         "7": "01/07/2021",
         "8": "0"
        },
        {
         "0": "279",
         "1": "CLIENT_1",
         "2": "PDV_3",
         "3": "PROD_3",
         "4": "23",
         "5": "177",
         "6": "4071",
         "7": "01/07/2021",
         "8": "0"
        },
        {
         "0": "280",
         "1": "CLIENT_3",
         "2": "PDV_1",
         "3": "PROD_6",
         "4": "36",
         "5": "310",
         "6": "11160",
         "7": "01/07/2021",
         "8": "0"
        },
        {
         "0": "281",
         "1": "CLIENT_3",
         "2": "PDV_7",
         "3": "PROD_6",
         "4": "16",
         "5": "236",
         "6": "3776",
         "7": "01/07/2021",
         "8": "0"
        },
        {
         "0": "282",
         "1": "CLIENT_3",
         "2": "PDV_3",
         "3": "PROD_6",
         "4": "28",
         "5": "18",
         "6": "504",
         "7": "01/07/2021",
         "8": "0"
        },
        {
         "0": "283",
         "1": "CLIENT_7",
         "2": "PDV_6",
         "3": "PROD_6",
         "4": "26",
         "5": "171",
         "6": "4446",
         "7": "01/07/2021",
         "8": "0"
        },
        {
         "0": "284",
         "1": "CLIENT_3",
         "2": "PDV_7",
         "3": "PROD_1",
         "4": "2",
         "5": "131",
         "6": "262",
         "7": "01/07/2021",
         "8": "0"
        },
        {
         "0": "285",
         "1": "CLIENT_3",
         "2": "PDV_6",
         "3": "PROD_2",
         "4": "23",
         "5": "233",
         "6": "5359",
         "7": "01/07/2021",
         "8": "0"
        },
        {
         "0": "286",
         "1": "CLIENT_3",
         "2": "PDV_2",
         "3": "PROD_2",
         "4": "43",
         "5": "216",
         "6": "9288",
         "7": "01/07/2021",
         "8": "0"
        },
        {
         "0": "287",
         "1": "CLIENT_3",
         "2": "PDV_3",
         "3": "PROD_2",
         "4": "42",
         "5": "87",
         "6": "3654",
         "7": "01/07/2021",
         "8": "0"
        },
        {
         "0": "288",
         "1": "CLIENT_3",
         "2": "PDV_4",
         "3": "PROD_2",
         "4": "20",
         "5": "321",
         "6": "6420",
         "7": "01/07/2021",
         "8": "0"
        },
        {
         "0": "289",
         "1": "CLIENT_6",
         "2": "PDV_1",
         "3": "PROD_2",
         "4": "27",
         "5": "287",
         "6": "7749",
         "7": "01/07/2021",
         "8": "0"
        },
        {
         "0": "290",
         "1": "CLIENT_1",
         "2": "PDV_2",
         "3": "PROD_1",
         "4": "6",
         "5": "74",
         "6": "444",
         "7": "01/07/2021",
         "8": "0"
        },
        {
         "0": "291",
         "1": "CLIENT_1",
         "2": "PDV_7",
         "3": "PROD_6",
         "4": "21",
         "5": "3",
         "6": "63",
         "7": "01/07/2021",
         "8": "0"
        },
        {
         "0": "292",
         "1": "CLIENT_1",
         "2": "PDV_6",
         "3": "PROD_1",
         "4": "44",
         "5": "276",
         "6": "12144",
         "7": "01/07/2021",
         "8": "0"
        },
        {
         "0": "293",
         "1": "CLIENT_1",
         "2": "PDV_7",
         "3": "PROD_1",
         "4": "10",
         "5": "15",
         "6": "150",
         "7": "01/07/2021",
         "8": "0"
        },
        {
         "0": "294",
         "1": "CLIENT_1",
         "2": "PDV_4",
         "3": "PROD_6",
         "4": "50",
         "5": "117",
         "6": "5850",
         "7": "01/07/2021",
         "8": "0"
        },
        {
         "0": "295",
         "1": "CLIENT_1",
         "2": "PDV_1",
         "3": "PROD_3",
         "4": "24",
         "5": "23",
         "6": "552",
         "7": "01/07/2021",
         "8": "0"
        },
        {
         "0": "296",
         "1": "CLIENT_1",
         "2": "PDV_4",
         "3": "PROD_4",
         "4": "10",
         "5": "213",
         "6": "2130",
         "7": "01/07/2021",
         "8": "0"
        },
        {
         "0": "297",
         "1": "CLIENT_1",
         "2": "PDV_6",
         "3": "PROD_3",
         "4": "35",
         "5": "324",
         "6": "11340",
         "7": "01/07/2021",
         "8": "0"
        },
        {
         "0": "298",
         "1": "CLIENT_1",
         "2": "PDV_3",
         "3": "PROD_2",
         "4": "2",
         "5": "348",
         "6": "696",
         "7": "01/08/2021",
         "8": "0"
        },
        {
         "0": "299",
         "1": "CLIENT_1",
         "2": "PDV_1",
         "3": "PROD_4",
         "4": "45",
         "5": "185",
         "6": "8325",
         "7": "01/08/2021",
         "8": "0"
        },
        {
         "0": "300",
         "1": "CLIENT_1",
         "2": "PDV_1",
         "3": "PROD_3",
         "4": "48",
         "5": "237",
         "6": "11376",
         "7": "01/08/2021",
         "8": "0"
        },
        {
         "0": "301",
         "1": "CLIENT_1",
         "2": "PDV_6",
         "3": "PROD_2",
         "4": "32",
         "5": "306",
         "6": "9792",
         "7": "01/08/2021",
         "8": "0"
        },
        {
         "0": "302",
         "1": "CLIENT_1",
         "2": "PDV_6",
         "3": "PROD_3",
         "4": "14",
         "5": "225",
         "6": "3150",
         "7": "01/08/2021",
         "8": "0"
        },
        {
         "0": "303",
         "1": "CLIENT_8",
         "2": "PDV_3",
         "3": "PROD_6",
         "4": "22",
         "5": "153",
         "6": "3366",
         "7": "01/08/2021",
         "8": "0"
        },
        {
         "0": "304",
         "1": "CLIENT_8",
         "2": "PDV_6",
         "3": "PROD_2",
         "4": "36",
         "5": "61",
         "6": "2196",
         "7": "01/08/2021",
         "8": "0"
        },
        {
         "0": "305",
         "1": "CLIENT_2",
         "2": "PDV_5",
         "3": "PROD_3",
         "4": "13",
         "5": "208",
         "6": "2704",
         "7": "01/08/2021",
         "8": "0"
        },
        {
         "0": "306",
         "1": "CLIENT_2",
         "2": "PDV_3",
         "3": "PROD_1",
         "4": "38",
         "5": "170",
         "6": "6460",
         "7": "01/08/2021",
         "8": "0"
        },
        {
         "0": "307",
         "1": "CLIENT_2",
         "2": "PDV_7",
         "3": "PROD_1",
         "4": "13",
         "5": "266",
         "6": "3458",
         "7": "01/08/2021",
         "8": "0"
        },
        {
         "0": "308",
         "1": "CLIENT_2",
         "2": "PDV_4",
         "3": "PROD_3",
         "4": "36",
         "5": "194",
         "6": "6984",
         "7": "01/08/2021",
         "8": "0"
        },
        {
         "0": "309",
         "1": "CLIENT_3",
         "2": "PDV_1",
         "3": "PROD_3",
         "4": "12",
         "5": "5",
         "6": "60",
         "7": "01/08/2021",
         "8": "0"
        },
        {
         "0": "310",
         "1": "CLIENT_7",
         "2": "PDV_5",
         "3": "PROD_5",
         "4": "19",
         "5": "242",
         "6": "4598",
         "7": "01/08/2021",
         "8": "1"
        },
        {
         "0": "311",
         "1": "CLIENT_1",
         "2": "PDV_6",
         "3": "PROD_1",
         "4": "26",
         "5": "313",
         "6": "8138",
         "7": "01/08/2021",
         "8": "0"
        },
        {
         "0": "312",
         "1": "CLIENT_1",
         "2": "PDV_7",
         "3": "PROD_5",
         "4": "27",
         "5": "287",
         "6": "7749",
         "7": "01/08/2021",
         "8": "0"
        },
        {
         "0": "313",
         "1": "CLIENT_7",
         "2": "PDV_4",
         "3": "PROD_3",
         "4": "18",
         "5": "309",
         "6": "5562",
         "7": "01/08/2021",
         "8": "0"
        },
        {
         "0": "314",
         "1": "CLIENT_3",
         "2": "PDV_4",
         "3": "PROD_3",
         "4": "10",
         "5": "188",
         "6": "1880",
         "7": "01/08/2021",
         "8": "0"
        },
        {
         "0": "315",
         "1": "CLIENT_2",
         "2": "PDV_4",
         "3": "PROD_2",
         "4": "40",
         "5": "157",
         "6": "6280",
         "7": "01/08/2021",
         "8": "0"
        },
        {
         "0": "316",
         "1": "CLIENT_2",
         "2": "PDV_5",
         "3": "PROD_2",
         "4": "16",
         "5": "57",
         "6": "912",
         "7": "01/08/2021",
         "8": "0"
        },
        {
         "0": "317",
         "1": "CLIENT_3",
         "2": "PDV_7",
         "3": "PROD_2",
         "4": "45",
         "5": "100",
         "6": "4500",
         "7": "01/08/2021",
         "8": "0"
        },
        {
         "0": "318",
         "1": "CLIENT_6",
         "2": "PDV_6",
         "3": "PROD_2",
         "4": "21",
         "5": "63",
         "6": "1323",
         "7": "01/08/2021",
         "8": "0"
        },
        {
         "0": "319",
         "1": "CLIENT_1",
         "2": "PDV_4",
         "3": "PROD_6",
         "4": "50",
         "5": "46",
         "6": "2300",
         "7": "01/08/2021",
         "8": "0"
        },
        {
         "0": "320",
         "1": "CLIENT_1",
         "2": "PDV_7",
         "3": "PROD_6",
         "4": "43",
         "5": "346",
         "6": "14878",
         "7": "01/08/2021",
         "8": "0"
        },
        {
         "0": "321",
         "1": "CLIENT_1",
         "2": "PDV_3",
         "3": "PROD_6",
         "4": "35",
         "5": "153",
         "6": "5355",
         "7": "01/08/2021",
         "8": "0"
        },
        {
         "0": "322",
         "1": "CLIENT_1",
         "2": "PDV_5",
         "3": "PROD_6",
         "4": "28",
         "5": "302",
         "6": "8456",
         "7": "01/08/2021",
         "8": "0"
        },
        {
         "0": "323",
         "1": "CLIENT_1",
         "2": "PDV_3",
         "3": "PROD_2",
         "4": "35",
         "5": "139",
         "6": "4865",
         "7": "01/08/2021",
         "8": "0"
        },
        {
         "0": "324",
         "1": "CLIENT_1",
         "2": "PDV_3",
         "3": "PROD_4",
         "4": "50",
         "5": "34",
         "6": "1700",
         "7": "01/08/2021",
         "8": "0"
        },
        {
         "0": "325",
         "1": "CLIENT_1",
         "2": "PDV_5",
         "3": "PROD_4",
         "4": "8",
         "5": "170",
         "6": "1360",
         "7": "01/08/2021",
         "8": "0"
        },
        {
         "0": "326",
         "1": "CLIENT_1",
         "2": "PDV_7",
         "3": "PROD_2",
         "4": "39",
         "5": "272",
         "6": "10608",
         "7": "01/08/2021",
         "8": "0"
        },
        {
         "0": "327",
         "1": "CLIENT_1",
         "2": "PDV_7",
         "3": "PROD_4",
         "4": "23",
         "5": "202",
         "6": "4646",
         "7": "01/08/2021",
         "8": "0"
        },
        {
         "0": "328",
         "1": "CLIENT_1",
         "2": "PDV_7",
         "3": "PROD_2",
         "4": "11",
         "5": "102",
         "6": "1122",
         "7": "01/08/2021",
         "8": "0"
        },
        {
         "0": "329",
         "1": "CLIENT_1",
         "2": "PDV_7",
         "3": "PROD_3",
         "4": "11",
         "5": "300",
         "6": "3300",
         "7": "01/08/2021",
         "8": "0"
        },
        {
         "0": "330",
         "1": "CLIENT_1",
         "2": "PDV_6",
         "3": "PROD_2",
         "4": "10",
         "5": "206",
         "6": "2060",
         "7": "01/08/2021",
         "8": "0"
        },
        {
         "0": "331",
         "1": "CLIENT_1",
         "2": "PDV_2",
         "3": "PROD_3",
         "4": "37",
         "5": "13",
         "6": "481",
         "7": "01/08/2021",
         "8": "0"
        },
        {
         "0": "332",
         "1": "CLIENT_8",
         "2": "PDV_3",
         "3": "PROD_6",
         "4": "21",
         "5": "12",
         "6": "252",
         "7": "01/08/2021",
         "8": "0"
        },
        {
         "0": "333",
         "1": "CLIENT_8",
         "2": "PDV_6",
         "3": "PROD_3",
         "4": "5",
         "5": "63",
         "6": "315",
         "7": "01/08/2021",
         "8": "0"
        },
        {
         "0": "334",
         "1": "CLIENT_2",
         "2": "PDV_5",
         "3": "PROD_5",
         "4": "9",
         "5": "26",
         "6": "234",
         "7": "01/08/2021",
         "8": "0"
        },
        {
         "0": "335",
         "1": "CLIENT_2",
         "2": "PDV_1",
         "3": "PROD_4",
         "4": "22",
         "5": "186",
         "6": "4092",
         "7": "01/08/2021",
         "8": "0"
        },
        {
         "0": "336",
         "1": "CLIENT_2",
         "2": "PDV_4",
         "3": "PROD_1",
         "4": "21",
         "5": "73",
         "6": "1533",
         "7": "01/08/2021",
         "8": "0"
        },
        {
         "0": "337",
         "1": "CLIENT_7",
         "2": "PDV_4",
         "3": "PROD_5",
         "4": "38",
         "5": "103",
         "6": "3914",
         "7": "01/09/2021",
         "8": "0"
        },
        {
         "0": "338",
         "1": "CLIENT_7",
         "2": "PDV_6",
         "3": "PROD_5",
         "4": "28",
         "5": "87",
         "6": "2436",
         "7": "01/09/2021",
         "8": "0"
        },
        {
         "0": "339",
         "1": "CLIENT_1",
         "2": "PDV_2",
         "3": "PROD_1",
         "4": "16",
         "5": "220",
         "6": "3520",
         "7": "01/09/2021",
         "8": "0"
        },
        {
         "0": "340",
         "1": "CLIENT_1",
         "2": "PDV_2",
         "3": "PROD_1",
         "4": "46",
         "5": "305",
         "6": "14030",
         "7": "01/09/2021",
         "8": "0"
        },
        {
         "0": "341",
         "1": "CLIENT_1",
         "2": "PDV_7",
         "3": "PROD_1",
         "4": "10",
         "5": "241",
         "6": "2410",
         "7": "01/09/2021",
         "8": "0"
        },
        {
         "0": "342",
         "1": "CLIENT_1",
         "2": "PDV_2",
         "3": "PROD_6",
         "4": "29",
         "5": "76",
         "6": "2204",
         "7": "01/09/2021",
         "8": "0"
        },
        {
         "0": "343",
         "1": "CLIENT_1",
         "2": "PDV_3",
         "3": "PROD_1",
         "4": "23",
         "5": "250",
         "6": "5750",
         "7": "01/09/2021",
         "8": "0"
        },
        {
         "0": "344",
         "1": "CLIENT_7",
         "2": "PDV_2",
         "3": "PROD_3",
         "4": "30",
         "5": "52",
         "6": "1560",
         "7": "01/09/2021",
         "8": "0"
        },
        {
         "0": "345",
         "1": "CLIENT_7",
         "2": "PDV_7",
         "3": "PROD_3",
         "4": "2",
         "5": "286",
         "6": "572",
         "7": "01/09/2021",
         "8": "0"
        },
        {
         "0": "346",
         "1": "CLIENT_7",
         "2": "PDV_4",
         "3": "PROD_3",
         "4": "25",
         "5": "107",
         "6": "2675",
         "7": "01/09/2021",
         "8": "0"
        },
        {
         "0": "347",
         "1": "CLIENT_3",
         "2": "PDV_1",
         "3": "PROD_3",
         "4": "8",
         "5": "99",
         "6": "792",
         "7": "01/09/2021",
         "8": "0"
        },
        {
         "0": "348",
         "1": "CLIENT_3",
         "2": "PDV_1",
         "3": "PROD_3",
         "4": "33",
         "5": "79",
         "6": "2607",
         "7": "01/09/2021",
         "8": "0"
        },
        {
         "0": "349",
         "1": "CLIENT_8",
         "2": "PDV_2",
         "3": "PROD_2",
         "4": "30",
         "5": "186",
         "6": "5580",
         "7": "01/09/2021",
         "8": "0"
        },
        {
         "0": "350",
         "1": "CLIENT_8",
         "2": "PDV_6",
         "3": "PROD_2",
         "4": "31",
         "5": "328",
         "6": "10168",
         "7": "01/09/2021",
         "8": "0"
        },
        {
         "0": "351",
         "1": "CLIENT_2",
         "2": "PDV_2",
         "3": "PROD_2",
         "4": "16",
         "5": "182",
         "6": "2912",
         "7": "01/09/2021",
         "8": "0"
        },
        {
         "0": "352",
         "1": "CLIENT_2",
         "2": "PDV_7",
         "3": "PROD_2",
         "4": "5",
         "5": "3",
         "6": "15",
         "7": "01/09/2021",
         "8": "0"
        },
        {
         "0": "353",
         "1": "CLIENT_6",
         "2": "PDV_7",
         "3": "PROD_2",
         "4": "11",
         "5": "43",
         "6": "473",
         "7": "01/09/2021",
         "8": "0"
        },
        {
         "0": "354",
         "1": "CLIENT_1",
         "2": "PDV_1",
         "3": "PROD_2",
         "4": "26",
         "5": "190",
         "6": "4940",
         "7": "01/09/2021",
         "8": "0"
        },
        {
         "0": "355",
         "1": "CLIENT_1",
         "2": "PDV_4",
         "3": "PROD_2",
         "4": "4",
         "5": "47",
         "6": "188",
         "7": "01/09/2021",
         "8": "0"
        },
        {
         "0": "356",
         "1": "CLIENT_1",
         "2": "PDV_3",
         "3": "PROD_3",
         "4": "22",
         "5": "18",
         "6": "396",
         "7": "01/09/2021",
         "8": "0"
        },
        {
         "0": "357",
         "1": "CLIENT_1",
         "2": "PDV_4",
         "3": "PROD_2",
         "4": "17",
         "5": "277",
         "6": "4709",
         "7": "01/09/2021",
         "8": "0"
        },
        {
         "0": "358",
         "1": "CLIENT_1",
         "2": "PDV_7",
         "3": "PROD_3",
         "4": "28",
         "5": "317",
         "6": "8876",
         "7": "01/09/2021",
         "8": "0"
        },
        {
         "0": "359",
         "1": "CLIENT_1",
         "2": "PDV_2",
         "3": "PROD_2",
         "4": "46",
         "5": "210",
         "6": "9660",
         "7": "01/09/2021",
         "8": "0"
        },
        {
         "0": "360",
         "1": "CLIENT_1",
         "2": "PDV_5",
         "3": "PROD_3",
         "4": "43",
         "5": "264",
         "6": "11352",
         "7": "01/09/2021",
         "8": "0"
        },
        {
         "0": "361",
         "1": "CLIENT_1",
         "2": "PDV_3",
         "3": "PROD_4",
         "4": "36",
         "5": "95",
         "6": "3420",
         "7": "01/09/2021",
         "8": "0"
        },
        {
         "0": "362",
         "1": "CLIENT_1",
         "2": "PDV_6",
         "3": "PROD_2",
         "4": "10",
         "5": "50",
         "6": "500",
         "7": "01/09/2021",
         "8": "0"
        },
        {
         "0": "363",
         "1": "CLIENT_1",
         "2": "PDV_7",
         "3": "PROD_2",
         "4": "3",
         "5": "193",
         "6": "579",
         "7": "01/09/2021",
         "8": "0"
        },
        {
         "0": "364",
         "1": "CLIENT_1",
         "2": "PDV_1",
         "3": "PROD_3",
         "4": "35",
         "5": "56",
         "6": "1960",
         "7": "01/09/2021",
         "8": "0"
        },
        {
         "0": "365",
         "1": "CLIENT_1",
         "2": "PDV_3",
         "3": "PROD_6",
         "4": "5",
         "5": "344",
         "6": "1720",
         "7": "01/09/2021",
         "8": "0"
        },
        {
         "0": "366",
         "1": "CLIENT_1",
         "2": "PDV_2",
         "3": "PROD_5",
         "4": "36",
         "5": "69",
         "6": "2484",
         "7": "01/10/2021",
         "8": "0"
        },
        {
         "0": "367",
         "1": "CLIENT_1",
         "2": "PDV_5",
         "3": "PROD_6",
         "4": "17",
         "5": "221",
         "6": "3757",
         "7": "01/10/2021",
         "8": "0"
        },
        {
         "0": "368",
         "1": "CLIENT_1",
         "2": "PDV_6",
         "3": "PROD_5",
         "4": "30",
         "5": "337",
         "6": "10110",
         "7": "01/10/2021",
         "8": "0"
        },
        {
         "0": "369",
         "1": "CLIENT_1",
         "2": "PDV_7",
         "3": "PROD_6",
         "4": "12",
         "5": "186",
         "6": "2232",
         "7": "01/10/2021",
         "8": "0"
        },
        {
         "0": "370",
         "1": "CLIENT_1",
         "2": "PDV_6",
         "3": "PROD_2",
         "4": "44",
         "5": "268",
         "6": "11792",
         "7": "01/10/2021",
         "8": "0"
        },
        {
         "0": "371",
         "1": "CLIENT_1",
         "2": "PDV_5",
         "3": "PROD_1",
         "4": "42",
         "5": "65",
         "6": "2730",
         "7": "01/10/2021",
         "8": "0"
        },
        {
         "0": "372",
         "1": "CLIENT_1",
         "2": "PDV_5",
         "3": "PROD_1",
         "4": "41",
         "5": "350",
         "6": "14350",
         "7": "01/10/2021",
         "8": "0"
        },
        {
         "0": "373",
         "1": "CLIENT_1",
         "2": "PDV_5",
         "3": "PROD_6",
         "4": "32",
         "5": "224",
         "6": "7168",
         "7": "01/10/2021",
         "8": "0"
        },
        {
         "0": "374",
         "1": "CLIENT_1",
         "2": "PDV_3",
         "3": "PROD_3",
         "4": "1",
         "5": "76",
         "6": "76",
         "7": "01/10/2021",
         "8": "0"
        },
        {
         "0": "375",
         "1": "CLIENT_1",
         "2": "PDV_4",
         "3": "PROD_1",
         "4": "20",
         "5": "277",
         "6": "5540",
         "7": "01/10/2021",
         "8": "0"
        },
        {
         "0": "376",
         "1": "CLIENT_8",
         "2": "PDV_7",
         "3": "PROD_1",
         "4": "27",
         "5": "282",
         "6": "7614",
         "7": "01/10/2021",
         "8": "0"
        },
        {
         "0": "377",
         "1": "CLIENT_8",
         "2": "PDV_7",
         "3": "PROD_3",
         "4": "3",
         "5": "209",
         "6": "627",
         "7": "01/10/2021",
         "8": "0"
        },
        {
         "0": "378",
         "1": "CLIENT_8",
         "2": "PDV_2",
         "3": "PROD_5",
         "4": "50",
         "5": "26",
         "6": "1300",
         "7": "01/10/2021",
         "8": "0"
        },
        {
         "0": "379",
         "1": "CLIENT_8",
         "2": "PDV_4",
         "3": "PROD_6",
         "4": "21",
         "5": "290",
         "6": "6090",
         "7": "01/10/2021",
         "8": "0"
        },
        {
         "0": "380",
         "1": "CLIENT_1",
         "2": "PDV_4",
         "3": "PROD_5",
         "4": "18",
         "5": "163",
         "6": "2934",
         "7": "01/10/2021",
         "8": "0"
        },
        {
         "0": "381",
         "1": "CLIENT_1",
         "2": "PDV_7",
         "3": "PROD_5",
         "4": "40",
         "5": "139",
         "6": "5560",
         "7": "01/10/2021",
         "8": "0"
        },
        {
         "0": "382",
         "1": "CLIENT_1",
         "2": "PDV_6",
         "3": "PROD_2",
         "4": "50",
         "5": "178",
         "6": "8900",
         "7": "01/10/2021",
         "8": "0"
        },
        {
         "0": "383",
         "1": "CLIENT_2",
         "2": "PDV_5",
         "3": "PROD_6",
         "4": "21",
         "5": "27",
         "6": "567",
         "7": "01/10/2021",
         "8": "0"
        },
        {
         "0": "384",
         "1": "CLIENT_2",
         "2": "PDV_7",
         "3": "PROD_4",
         "4": "30",
         "5": "146",
         "6": "4380",
         "7": "01/10/2021",
         "8": "0"
        },
        {
         "0": "385",
         "1": "CLIENT_2",
         "2": "PDV_2",
         "3": "PROD_6",
         "4": "27",
         "5": "4",
         "6": "108",
         "7": "01/10/2021",
         "8": "0"
        },
        {
         "0": "386",
         "1": "CLIENT_2",
         "2": "PDV_6",
         "3": "PROD_3",
         "4": "18",
         "5": "268",
         "6": "4824",
         "7": "01/10/2021",
         "8": "0"
        },
        {
         "0": "387",
         "1": "CLIENT_2",
         "2": "PDV_6",
         "3": "PROD_1",
         "4": "30",
         "5": "236",
         "6": "7080",
         "7": "01/10/2021",
         "8": "0"
        },
        {
         "0": "388",
         "1": "CLIENT_2",
         "2": "PDV_2",
         "3": "PROD_5",
         "4": "5",
         "5": "31",
         "6": "155",
         "7": "01/10/2021",
         "8": "0"
        },
        {
         "0": "389",
         "1": "CLIENT_2",
         "2": "PDV_2",
         "3": "PROD_6",
         "4": "20",
         "5": "299",
         "6": "5980",
         "7": "01/10/2021",
         "8": "0"
        },
        {
         "0": "390",
         "1": "CLIENT_7",
         "2": "PDV_4",
         "3": "PROD_1",
         "4": "9",
         "5": "46",
         "6": "414",
         "7": "01/10/2021",
         "8": "0"
        },
        {
         "0": "391",
         "1": "CLIENT_7",
         "2": "PDV_6",
         "3": "PROD_5",
         "4": "8",
         "5": "336",
         "6": "2688",
         "7": "01/10/2021",
         "8": "0"
        },
        {
         "0": "392",
         "1": "CLIENT_7",
         "2": "PDV_6",
         "3": "PROD_4",
         "4": "21",
         "5": "21",
         "6": "441",
         "7": "01/10/2021",
         "8": "0"
        },
        {
         "0": "393",
         "1": "CLIENT_7",
         "2": "PDV_7",
         "3": "PROD_1",
         "4": "13",
         "5": "251",
         "6": "3263",
         "7": "01/10/2021",
         "8": "0"
        },
        {
         "0": "394",
         "1": "CLIENT_7",
         "2": "PDV_2",
         "3": "PROD_3",
         "4": "3",
         "5": "155",
         "6": "465",
         "7": "01/10/2021",
         "8": "0"
        },
        {
         "0": "395",
         "1": "CLIENT_1",
         "2": "PDV_4",
         "3": "PROD_6",
         "4": "49",
         "5": "9",
         "6": "441",
         "7": "01/10/2021",
         "8": "0"
        },
        {
         "0": "396",
         "1": "CLIENT_1",
         "2": "PDV_1",
         "3": "PROD_6",
         "4": "25",
         "5": "163",
         "6": "4075",
         "7": "01/10/2021",
         "8": "0"
        },
        {
         "0": "397",
         "1": "CLIENT_1",
         "2": "PDV_1",
         "3": "PROD_4",
         "4": "15",
         "5": "70",
         "6": "1050",
         "7": "01/10/2021",
         "8": "0"
        },
        {
         "0": "398",
         "1": "CLIENT_1",
         "2": "PDV_6",
         "3": "PROD_6",
         "4": "35",
         "5": "53",
         "6": "1855",
         "7": "01/10/2021",
         "8": "0"
        },
        {
         "0": "399",
         "1": "CLIENT_1",
         "2": "PDV_7",
         "3": "PROD_6",
         "4": "49",
         "5": "296",
         "6": "14504",
         "7": "01/10/2021",
         "8": "0"
        },
        {
         "0": "400",
         "1": "CLIENT_1",
         "2": "PDV_5",
         "3": "PROD_3",
         "4": "40",
         "5": "87",
         "6": "3480",
         "7": "01/10/2021",
         "8": "0"
        },
        {
         "0": "401",
         "1": "CLIENT_3",
         "2": "PDV_4",
         "3": "PROD_4",
         "4": "2",
         "5": "101",
         "6": "202",
         "7": "01/10/2021",
         "8": "0"
        },
        {
         "0": "402",
         "1": "CLIENT_3",
         "2": "PDV_5",
         "3": "PROD_4",
         "4": "28",
         "5": "98",
         "6": "2744",
         "7": "01/10/2021",
         "8": "0"
        },
        {
         "0": "403",
         "1": "CLIENT_3",
         "2": "PDV_3",
         "3": "PROD_4",
         "4": "2",
         "5": "19",
         "6": "38",
         "7": "01/10/2021",
         "8": "0"
        },
        {
         "0": "404",
         "1": "CLIENT_3",
         "2": "PDV_2",
         "3": "PROD_6",
         "4": "42",
         "5": "137",
         "6": "5754",
         "7": "01/10/2021",
         "8": "0"
        },
        {
         "0": "405",
         "1": "CLIENT_3",
         "2": "PDV_6",
         "3": "PROD_1",
         "4": "32",
         "5": "300",
         "6": "9600",
         "7": "01/10/2021",
         "8": "0"
        },
        {
         "0": "406",
         "1": "CLIENT_3",
         "2": "PDV_2",
         "3": "PROD_1",
         "4": "39",
         "5": "178",
         "6": "6942",
         "7": "01/10/2021",
         "8": "0"
        },
        {
         "0": "407",
         "1": "CLIENT_7",
         "2": "PDV_3",
         "3": "PROD_4",
         "4": "29",
         "5": "307",
         "6": "8903",
         "7": "01/10/2021",
         "8": "0"
        },
        {
         "0": "408",
         "1": "CLIENT_7",
         "2": "PDV_6",
         "3": "PROD_1",
         "4": "40",
         "5": "167",
         "6": "6680",
         "7": "01/10/2021",
         "8": "0"
        },
        {
         "0": "409",
         "1": "CLIENT_3",
         "2": "PDV_4",
         "3": "PROD_3",
         "4": "16",
         "5": "122",
         "6": "1952",
         "7": "01/10/2021",
         "8": "0"
        },
        {
         "0": "410",
         "1": "CLIENT_1",
         "2": "PDV_7",
         "3": "PROD_2",
         "4": "10",
         "5": "223",
         "6": "2230",
         "7": "01/10/2021",
         "8": "1"
        },
        {
         "0": "411",
         "1": "CLIENT_8",
         "2": "PDV_3",
         "3": "PROD_2",
         "4": "22",
         "5": "221",
         "6": "4862",
         "7": "01/10/2021",
         "8": "0"
        },
        {
         "0": "412",
         "1": "CLIENT_8",
         "2": "PDV_5",
         "3": "PROD_2",
         "4": "29",
         "5": "187",
         "6": "5423",
         "7": "01/10/2021",
         "8": "0"
        },
        {
         "0": "413",
         "1": "CLIENT_8",
         "2": "PDV_2",
         "3": "PROD_2",
         "4": "17",
         "5": "253",
         "6": "4301",
         "7": "01/10/2021",
         "8": "0"
        },
        {
         "0": "414",
         "1": "CLIENT_8",
         "2": "PDV_6",
         "3": "PROD_2",
         "4": "29",
         "5": "5",
         "6": "145",
         "7": "01/10/2021",
         "8": "0"
        },
        {
         "0": "415",
         "1": "CLIENT_1",
         "2": "PDV_1",
         "3": "PROD_2",
         "4": "36",
         "5": "50",
         "6": "1800",
         "7": "01/10/2021",
         "8": "0"
        },
        {
         "0": "416",
         "1": "CLIENT_2",
         "2": "PDV_1",
         "3": "PROD_2",
         "4": "45",
         "5": "341",
         "6": "15345",
         "7": "01/10/2021",
         "8": "0"
        },
        {
         "0": "417",
         "1": "CLIENT_3",
         "2": "PDV_7",
         "3": "PROD_2",
         "4": "42",
         "5": "183",
         "6": "7686",
         "7": "01/10/2021",
         "8": "0"
        },
        {
         "0": "418",
         "1": "CLIENT_2",
         "2": "PDV_5",
         "3": "PROD_2",
         "4": "5",
         "5": "246",
         "6": "1230",
         "7": "01/10/2021",
         "8": "0"
        },
        {
         "0": "419",
         "1": "CLIENT_2",
         "2": "PDV_6",
         "3": "PROD_2",
         "4": "29",
         "5": "158",
         "6": "4582",
         "7": "01/10/2021",
         "8": "0"
        },
        {
         "0": "420",
         "1": "CLIENT_6",
         "2": "PDV_1",
         "3": "PROD_2",
         "4": "11",
         "5": "71",
         "6": "781",
         "7": "01/10/2021",
         "8": "0"
        },
        {
         "0": "421",
         "1": "CLIENT_6",
         "2": "PDV_4",
         "3": "PROD_2",
         "4": "17",
         "5": "337",
         "6": "5729",
         "7": "01/10/2021",
         "8": "0"
        },
        {
         "0": "422",
         "1": "CLIENT_3",
         "2": "PDV_6",
         "3": "PROD_2",
         "4": "21",
         "5": "22",
         "6": "462",
         "7": "01/10/2021",
         "8": "0"
        },
        {
         "0": "423",
         "1": "CLIENT_1",
         "2": "PDV_6",
         "3": "PROD_2",
         "4": "13",
         "5": "65",
         "6": "845",
         "7": "01/10/2021",
         "8": "0"
        },
        {
         "0": "424",
         "1": "CLIENT_1",
         "2": "PDV_2",
         "3": "PROD_3",
         "4": "29",
         "5": "101",
         "6": "2929",
         "7": "01/10/2021",
         "8": "0"
        },
        {
         "0": "425",
         "1": "CLIENT_1",
         "2": "PDV_7",
         "3": "PROD_3",
         "4": "15",
         "5": "37",
         "6": "555",
         "7": "01/10/2021",
         "8": "0"
        },
        {
         "0": "426",
         "1": "CLIENT_1",
         "2": "PDV_6",
         "3": "PROD_2",
         "4": "1",
         "5": "74",
         "6": "74",
         "7": "01/10/2021",
         "8": "0"
        },
        {
         "0": "427",
         "1": "CLIENT_1",
         "2": "PDV_7",
         "3": "PROD_3",
         "4": "3",
         "5": "148",
         "6": "444",
         "7": "01/10/2021",
         "8": "0"
        },
        {
         "0": "428",
         "1": "CLIENT_1",
         "2": "PDV_7",
         "3": "PROD_6",
         "4": "39",
         "5": "281",
         "6": "10959",
         "7": "01/10/2021",
         "8": "0"
        },
        {
         "0": "429",
         "1": "CLIENT_1",
         "2": "PDV_4",
         "3": "PROD_6",
         "4": "1",
         "5": "220",
         "6": "220",
         "7": "01/11/2021",
         "8": "0"
        },
        {
         "0": "430",
         "1": "CLIENT_1",
         "2": "PDV_2",
         "3": "PROD_2",
         "4": "18",
         "5": "223",
         "6": "4014",
         "7": "01/11/2021",
         "8": "0"
        },
        {
         "0": "431",
         "1": "CLIENT_1",
         "2": "PDV_7",
         "3": "PROD_5",
         "4": "33",
         "5": "76",
         "6": "2508",
         "7": "01/11/2021",
         "8": "0"
        },
        {
         "0": "432",
         "1": "CLIENT_1",
         "2": "PDV_1",
         "3": "PROD_2",
         "4": "26",
         "5": "39",
         "6": "1014",
         "7": "01/11/2021",
         "8": "0"
        },
        {
         "0": "433",
         "1": "CLIENT_1",
         "2": "PDV_6",
         "3": "PROD_6",
         "4": "22",
         "5": "45",
         "6": "990",
         "7": "01/11/2021",
         "8": "0"
        },
        {
         "0": "434",
         "1": "CLIENT_1",
         "2": "PDV_4",
         "3": "PROD_1",
         "4": "6",
         "5": "135",
         "6": "810",
         "7": "01/11/2021",
         "8": "0"
        },
        {
         "0": "435",
         "1": "CLIENT_1",
         "2": "PDV_2",
         "3": "PROD_5",
         "4": "16",
         "5": "96",
         "6": "1536",
         "7": "01/11/2021",
         "8": "0"
        },
        {
         "0": "436",
         "1": "CLIENT_1",
         "2": "PDV_7",
         "3": "PROD_4",
         "4": "40",
         "5": "117",
         "6": "4680",
         "7": "01/11/2021",
         "8": "0"
        },
        {
         "0": "437",
         "1": "CLIENT_1",
         "2": "PDV_7",
         "3": "PROD_5",
         "4": "34",
         "5": "262",
         "6": "8908",
         "7": "01/11/2021",
         "8": "0"
        },
        {
         "0": "438",
         "1": "CLIENT_1",
         "2": "PDV_5",
         "3": "PROD_5",
         "4": "13",
         "5": "112",
         "6": "1456",
         "7": "01/11/2021",
         "8": "0"
        },
        {
         "0": "439",
         "1": "CLIENT_1",
         "2": "PDV_5",
         "3": "PROD_4",
         "4": "34",
         "5": "4",
         "6": "136",
         "7": "01/11/2021",
         "8": "0"
        },
        {
         "0": "440",
         "1": "CLIENT_1",
         "2": "PDV_6",
         "3": "PROD_6",
         "4": "28",
         "5": "61",
         "6": "1708",
         "7": "01/11/2021",
         "8": "0"
        },
        {
         "0": "441",
         "1": "CLIENT_1",
         "2": "PDV_1",
         "3": "PROD_2",
         "4": "45",
         "5": "24",
         "6": "1080",
         "7": "01/11/2021",
         "8": "0"
        },
        {
         "0": "442",
         "1": "CLIENT_2",
         "2": "PDV_1",
         "3": "PROD_1",
         "4": "30",
         "5": "347",
         "6": "10410",
         "7": "01/11/2021",
         "8": "0"
        },
        {
         "0": "443",
         "1": "CLIENT_2",
         "2": "PDV_7",
         "3": "PROD_1",
         "4": "15",
         "5": "129",
         "6": "1935",
         "7": "01/11/2021",
         "8": "0"
        },
        {
         "0": "444",
         "1": "CLIENT_2",
         "2": "PDV_2",
         "3": "PROD_3",
         "4": "4",
         "5": "83",
         "6": "332",
         "7": "01/11/2021",
         "8": "0"
        },
        {
         "0": "445",
         "1": "CLIENT_2",
         "2": "PDV_6",
         "3": "PROD_5",
         "4": "25",
         "5": "164",
         "6": "4100",
         "7": "01/11/2021",
         "8": "0"
        },
        {
         "0": "446",
         "1": "CLIENT_3",
         "2": "PDV_3",
         "3": "PROD_5",
         "4": "17",
         "5": "193",
         "6": "3281",
         "7": "01/11/2021",
         "8": "0"
        },
        {
         "0": "447",
         "1": "CLIENT_7",
         "2": "PDV_4",
         "3": "PROD_3",
         "4": "40",
         "5": "261",
         "6": "10440",
         "7": "01/11/2021",
         "8": "0"
        },
        {
         "0": "448",
         "1": "CLIENT_7",
         "2": "PDV_4",
         "3": "PROD_1",
         "4": "20",
         "5": "56",
         "6": "1120",
         "7": "01/11/2021",
         "8": "0"
        },
        {
         "0": "449",
         "1": "CLIENT_1",
         "2": "PDV_6",
         "3": "PROD_5",
         "4": "44",
         "5": "46",
         "6": "2024",
         "7": "01/11/2021",
         "8": "0"
        },
        {
         "0": "450",
         "1": "CLIENT_7",
         "2": "PDV_4",
         "3": "PROD_5",
         "4": "43",
         "5": "110",
         "6": "4730",
         "7": "01/11/2021",
         "8": "0"
        },
        {
         "0": "451",
         "1": "CLIENT_3",
         "2": "PDV_2",
         "3": "PROD_1",
         "4": "28",
         "5": "259",
         "6": "7252",
         "7": "01/11/2021",
         "8": "0"
        },
        {
         "0": "452",
         "1": "CLIENT_3",
         "2": "PDV_7",
         "3": "PROD_5",
         "4": "19",
         "5": "207",
         "6": "3933",
         "7": "01/11/2021",
         "8": "0"
        },
        {
         "0": "453",
         "1": "CLIENT_3",
         "2": "PDV_4",
         "3": "PROD_5",
         "4": "16",
         "5": "127",
         "6": "2032",
         "7": "01/11/2021",
         "8": "0"
        },
        {
         "0": "454",
         "1": "CLIENT_3",
         "2": "PDV_2",
         "3": "PROD_4",
         "4": "19",
         "5": "68",
         "6": "1292",
         "7": "01/11/2021",
         "8": "0"
        },
        {
         "0": "455",
         "1": "CLIENT_3",
         "2": "PDV_5",
         "3": "PROD_3",
         "4": "23",
         "5": "48",
         "6": "1104",
         "7": "01/11/2021",
         "8": "0"
        },
        {
         "0": "456",
         "1": "CLIENT_3",
         "2": "PDV_6",
         "3": "PROD_1",
         "4": "10",
         "5": "254",
         "6": "2540",
         "7": "01/11/2021",
         "8": "0"
        },
        {
         "0": "457",
         "1": "CLIENT_1",
         "2": "PDV_6",
         "3": "PROD_2",
         "4": "45",
         "5": "250",
         "6": "11250",
         "7": "01/11/2021",
         "8": "0"
        },
        {
         "0": "458",
         "1": "CLIENT_8",
         "2": "PDV_3",
         "3": "PROD_2",
         "4": "28",
         "5": "11",
         "6": "308",
         "7": "01/11/2021",
         "8": "0"
        },
        {
         "0": "459",
         "1": "CLIENT_1",
         "2": "PDV_3",
         "3": "PROD_2",
         "4": "25",
         "5": "303",
         "6": "7575",
         "7": "01/11/2021",
         "8": "0"
        },
        {
         "0": "460",
         "1": "CLIENT_3",
         "2": "PDV_6",
         "3": "PROD_2",
         "4": "50",
         "5": "144",
         "6": "7200",
         "7": "01/11/2021",
         "8": "0"
        },
        {
         "0": "461",
         "1": "CLIENT_3",
         "2": "PDV_2",
         "3": "PROD_2",
         "4": "33",
         "5": "1",
         "6": "33",
         "7": "01/11/2021",
         "8": "0"
        },
        {
         "0": "462",
         "1": "CLIENT_6",
         "2": "PDV_4",
         "3": "PROD_2",
         "4": "26",
         "5": "92",
         "6": "2392",
         "7": "01/11/2021",
         "8": "0"
        },
        {
         "0": "463",
         "1": "CLIENT_6",
         "2": "PDV_6",
         "3": "PROD_2",
         "4": "47",
         "5": "261",
         "6": "12267",
         "7": "01/11/2021",
         "8": "0"
        },
        {
         "0": "464",
         "1": "CLIENT_1",
         "2": "PDV_7",
         "3": "PROD_2",
         "4": "23",
         "5": "96",
         "6": "2208",
         "7": "01/11/2021",
         "8": "0"
        },
        {
         "0": "465",
         "1": "CLIENT_1",
         "2": "PDV_5",
         "3": "PROD_1",
         "4": "26",
         "5": "261",
         "6": "6786",
         "7": "01/11/2021",
         "8": "0"
        },
        {
         "0": "466",
         "1": "CLIENT_1",
         "2": "PDV_5",
         "3": "PROD_5",
         "4": "25",
         "5": "99",
         "6": "2475",
         "7": "01/11/2021",
         "8": "0"
        },
        {
         "0": "467",
         "1": "CLIENT_1",
         "2": "PDV_2",
         "3": "PROD_1",
         "4": "22",
         "5": "232",
         "6": "5104",
         "7": "01/12/2021",
         "8": "0"
        },
        {
         "0": "468",
         "1": "CLIENT_1",
         "2": "PDV_5",
         "3": "PROD_1",
         "4": "26",
         "5": "249",
         "6": "6474",
         "7": "01/12/2021",
         "8": "0"
        },
        {
         "0": "469",
         "1": "CLIENT_1",
         "2": "PDV_5",
         "3": "PROD_1",
         "4": "8",
         "5": "239",
         "6": "1912",
         "7": "01/12/2021",
         "8": "0"
        },
        {
         "0": "470",
         "1": "CLIENT_1",
         "2": "PDV_7",
         "3": "PROD_3",
         "4": "31",
         "5": "298",
         "6": "9238",
         "7": "01/12/2021",
         "8": "0"
        },
        {
         "0": "471",
         "1": "CLIENT_1",
         "2": "PDV_1",
         "3": "PROD_3",
         "4": "4",
         "5": "15",
         "6": "60",
         "7": "01/12/2021",
         "8": "0"
        },
        {
         "0": "472",
         "1": "CLIENT_1",
         "2": "PDV_1",
         "3": "PROD_3",
         "4": "49",
         "5": "149",
         "6": "7301",
         "7": "01/12/2021",
         "8": "0"
        },
        {
         "0": "473",
         "1": "CLIENT_1",
         "2": "PDV_4",
         "3": "PROD_3",
         "4": "13",
         "5": "80",
         "6": "1040",
         "7": "01/12/2021",
         "8": "0"
        },
        {
         "0": "474",
         "1": "CLIENT_1",
         "2": "PDV_1",
         "3": "PROD_2",
         "4": "22",
         "5": "220",
         "6": "4840",
         "7": "01/12/2021",
         "8": "0"
        },
        {
         "0": "475",
         "1": "CLIENT_1",
         "2": "PDV_6",
         "3": "PROD_2",
         "4": "10",
         "5": "122",
         "6": "1220",
         "7": "01/12/2021",
         "8": "0"
        },
        {
         "0": "476",
         "1": "CLIENT_1",
         "2": "PDV_7",
         "3": "PROD_6",
         "4": "48",
         "5": "228",
         "6": "10944",
         "7": "01/12/2021",
         "8": "0"
        },
        {
         "0": "477",
         "1": "CLIENT_8",
         "2": "PDV_7",
         "3": "PROD_4",
         "4": "18",
         "5": "17",
         "6": "306",
         "7": "01/12/2021",
         "8": "0"
        },
        {
         "0": "478",
         "1": "CLIENT_8",
         "2": "PDV_1",
         "3": "PROD_1",
         "4": "39",
         "5": "18",
         "6": "702",
         "7": "01/12/2021",
         "8": "0"
        },
        {
         "0": "479",
         "1": "CLIENT_2",
         "2": "PDV_7",
         "3": "PROD_6",
         "4": "7",
         "5": "104",
         "6": "728",
         "7": "01/12/2021",
         "8": "0"
        },
        {
         "0": "480",
         "1": "CLIENT_2",
         "2": "PDV_3",
         "3": "PROD_6",
         "4": "17",
         "5": "88",
         "6": "1496",
         "7": "01/12/2021",
         "8": "0"
        },
        {
         "0": "481",
         "1": "CLIENT_2",
         "2": "PDV_3",
         "3": "PROD_4",
         "4": "10",
         "5": "252",
         "6": "2520",
         "7": "01/12/2021",
         "8": "0"
        },
        {
         "0": "482",
         "1": "CLIENT_2",
         "2": "PDV_2",
         "3": "PROD_3",
         "4": "29",
         "5": "26",
         "6": "754",
         "7": "01/12/2021",
         "8": "0"
        },
        {
         "0": "483",
         "1": "CLIENT_2",
         "2": "PDV_4",
         "3": "PROD_5",
         "4": "38",
         "5": "159",
         "6": "6042",
         "7": "01/12/2021",
         "8": "0"
        },
        {
         "0": "484",
         "1": "CLIENT_3",
         "2": "PDV_1",
         "3": "PROD_3",
         "4": "6",
         "5": "11",
         "6": "66",
         "7": "01/12/2021",
         "8": "0"
        },
        {
         "0": "485",
         "1": "CLIENT_3",
         "2": "PDV_7",
         "3": "PROD_1",
         "4": "23",
         "5": "130",
         "6": "2990",
         "7": "01/12/2021",
         "8": "0"
        },
        {
         "0": "486",
         "1": "CLIENT_3",
         "2": "PDV_7",
         "3": "PROD_5",
         "4": "35",
         "5": "328",
         "6": "11480",
         "7": "01/12/2021",
         "8": "0"
        },
        {
         "0": "487",
         "1": "CLIENT_3",
         "2": "PDV_1",
         "3": "PROD_3",
         "4": "28",
         "5": "46",
         "6": "1288",
         "7": "01/12/2021",
         "8": "0"
        },
        {
         "0": "488",
         "1": "CLIENT_3",
         "2": "PDV_1",
         "3": "PROD_5",
         "4": "38",
         "5": "130",
         "6": "4940",
         "7": "01/12/2021",
         "8": "0"
        },
        {
         "0": "489",
         "1": "CLIENT_7",
         "2": "PDV_1",
         "3": "PROD_1",
         "4": "11",
         "5": "32",
         "6": "352",
         "7": "01/12/2021",
         "8": "0"
        },
        {
         "0": "490",
         "1": "CLIENT_7",
         "2": "PDV_6",
         "3": "PROD_4",
         "4": "13",
         "5": "292",
         "6": "3796",
         "7": "01/12/2021",
         "8": "0"
        },
        {
         "0": "491",
         "1": "CLIENT_7",
         "2": "PDV_7",
         "3": "PROD_4",
         "4": "26",
         "5": "187",
         "6": "4862",
         "7": "01/12/2021",
         "8": "0"
        },
        {
         "0": "492",
         "1": "CLIENT_7",
         "2": "PDV_5",
         "3": "PROD_1",
         "4": "27",
         "5": "102",
         "6": "2754",
         "7": "01/12/2021",
         "8": "0"
        },
        {
         "0": "493",
         "1": "CLIENT_1",
         "2": "PDV_2",
         "3": "PROD_5",
         "4": "26",
         "5": "78",
         "6": "2028",
         "7": "01/12/2021",
         "8": "0"
        },
        {
         "0": "494",
         "1": "CLIENT_1",
         "2": "PDV_7",
         "3": "PROD_1",
         "4": "18",
         "5": "175",
         "6": "3150",
         "7": "01/12/2021",
         "8": "0"
        },
        {
         "0": "495",
         "1": "CLIENT_1",
         "2": "PDV_1",
         "3": "PROD_5",
         "4": "12",
         "5": "343",
         "6": "4116",
         "7": "01/12/2021",
         "8": "0"
        },
        {
         "0": "496",
         "1": "CLIENT_1",
         "2": "PDV_6",
         "3": "PROD_5",
         "4": "21",
         "5": "267",
         "6": "5607",
         "7": "01/12/2021",
         "8": "0"
        },
        {
         "0": "497",
         "1": "CLIENT_3",
         "2": "PDV_4",
         "3": "PROD_6",
         "4": "25",
         "5": "165",
         "6": "4125",
         "7": "01/12/2021",
         "8": "0"
        },
        {
         "0": "498",
         "1": "CLIENT_3",
         "2": "PDV_5",
         "3": "PROD_2",
         "4": "22",
         "5": "253",
         "6": "5566",
         "7": "01/12/2021",
         "8": "0"
        },
        {
         "0": "499",
         "1": "CLIENT_3",
         "2": "PDV_2",
         "3": "PROD_2",
         "4": "22",
         "5": "274",
         "6": "6028",
         "7": "01/12/2021",
         "8": "0"
        },
        {
         "0": "500",
         "1": "CLIENT_3",
         "2": "PDV_6",
         "3": "PROD_2",
         "4": "21",
         "5": "221",
         "6": "4641",
         "7": "01/12/2021",
         "8": "0"
        },
        {
         "0": "501",
         "1": "CLIENT_3",
         "2": "PDV_2",
         "3": "PROD_2",
         "4": "24",
         "5": "223",
         "6": "5352",
         "7": "01/12/2021",
         "8": "0"
        },
        {
         "0": "502",
         "1": "CLIENT_3",
         "2": "PDV_5",
         "3": "PROD_2",
         "4": "27",
         "5": "317",
         "6": "8559",
         "7": "01/12/2021",
         "8": "0"
        },
        {
         "0": "503",
         "1": "CLIENT_1",
         "2": "PDV_5",
         "3": "PROD_2",
         "4": "41",
         "5": "264",
         "6": "10824",
         "7": "01/12/2021",
         "8": "0"
        },
        {
         "0": "504",
         "1": "CLIENT_1",
         "2": "PDV_3",
         "3": "PROD_5",
         "4": "49",
         "5": "165",
         "6": "8085",
         "7": "01/12/2021",
         "8": "0"
        },
        {
         "0": "505",
         "1": "CLIENT_1",
         "2": "PDV_2",
         "3": "PROD_5",
         "4": "20",
         "5": "261",
         "6": "5220",
         "7": "01/12/2021",
         "8": "0"
        },
        {
         "0": "506",
         "1": "CLIENT_1",
         "2": "PDV_2",
         "3": "PROD_5",
         "4": "31",
         "5": "162",
         "6": "5022",
         "7": "01/12/2021",
         "8": "0"
        },
        {
         "0": "507",
         "1": "CLIENT_1",
         "2": "PDV_7",
         "3": "PROD_5",
         "4": "33",
         "5": "299",
         "6": "9867",
         "7": "01/12/2021",
         "8": "0"
        },
        {
         "0": "508",
         "1": "CLIENT_1",
         "2": "PDV_2",
         "3": "PROD_5",
         "4": "48",
         "5": "122",
         "6": "5856",
         "7": "01/12/2021",
         "8": "0"
        },
        {
         "0": "509",
         "1": "CLIENT_1",
         "2": "PDV_1",
         "3": "PROD_2",
         "4": "11",
         "5": "329",
         "6": "3619",
         "7": "01/12/2021",
         "8": "0"
        },
        {
         "0": "510",
         "1": "CLIENT_1",
         "2": "PDV_1",
         "3": "PROD_2",
         "4": "12",
         "5": "342",
         "6": "4104",
         "7": "01/12/2021",
         "8": "1"
        },
        {
         "0": "511",
         "1": "CLIENT_1",
         "2": "PDV_1",
         "3": "PROD_2",
         "4": "31",
         "5": "312",
         "6": "9672",
         "7": "01/12/2021",
         "8": "0"
        },
        {
         "0": "512",
         "1": "CLIENT_1",
         "2": "PDV_5",
         "3": "PROD_5",
         "4": "15",
         "5": "122",
         "6": "1830",
         "7": "01/12/2021",
         "8": "0"
        },
        {
         "0": "513",
         "1": "CLIENT_1",
         "2": "PDV_1",
         "3": "PROD_6",
         "4": "45",
         "5": "311",
         "6": "13995",
         "7": "01/12/2021",
         "8": "0"
        },
        {
         "0": "514",
         "1": "CLIENT_1",
         "2": "PDV_2",
         "3": "PROD_6",
         "4": "35",
         "5": "296",
         "6": "10360",
         "7": "01/12/2021",
         "8": "0"
        },
        {
         "0": "515",
         "1": "CLIENT_1",
         "2": "PDV_3",
         "3": "PROD_2",
         "4": "1",
         "5": "187",
         "6": "187",
         "7": "01/12/2021",
         "8": "0"
        },
        {
         "0": "516",
         "1": "CLIENT_8",
         "2": "PDV_6",
         "3": "PROD_6",
         "4": "39",
         "5": "114",
         "6": "4446",
         "7": "01/12/2021",
         "8": "0"
        },
        {
         "0": "517",
         "1": "CLIENT_2",
         "2": "PDV_4",
         "3": "PROD_4",
         "4": "34",
         "5": "189",
         "6": "6426",
         "7": "01/12/2021",
         "8": "0"
        },
        {
         "0": "518",
         "1": "CLIENT_2",
         "2": "PDV_6",
         "3": "PROD_3",
         "4": "17",
         "5": "156",
         "6": "2652",
         "7": "01/12/2021",
         "8": "0"
        },
        {
         "0": "519",
         "1": "CLIENT_3",
         "2": "PDV_4",
         "3": "PROD_3",
         "4": "15",
         "5": "282",
         "6": "4230",
         "7": "01/12/2021",
         "8": "0"
        },
        {
         "0": "520",
         "1": "CLIENT_3",
         "2": "PDV_7",
         "3": "PROD_6",
         "4": "45",
         "5": "328",
         "6": "14760",
         "7": "01/12/2021",
         "8": "0"
        },
        {
         "0": "521",
         "1": "CLIENT_3",
         "2": "PDV_4",
         "3": "PROD_5",
         "4": "20",
         "5": "17",
         "6": "340",
         "7": "01/12/2021",
         "8": "0"
        },
        {
         "0": "522",
         "1": "CLIENT_7",
         "2": "PDV_2",
         "3": "PROD_5",
         "4": "45",
         "5": "316",
         "6": "14220",
         "7": "01/12/2021",
         "8": "0"
        },
        {
         "0": "523",
         "1": "CLIENT_1",
         "2": "PDV_3",
         "3": "PROD_3",
         "4": "41",
         "5": "98",
         "6": "4018",
         "7": "01/12/2021",
         "8": "0"
        },
        {
         "0": "524",
         "1": "CLIENT_1",
         "2": "PDV_7",
         "3": "PROD_4",
         "4": "15",
         "5": "333",
         "6": "4995",
         "7": "01/12/2021",
         "8": "0"
        },
        {
         "0": "525",
         "1": "CLIENT_1",
         "2": "PDV_6",
         "3": "PROD_4",
         "4": "45",
         "5": "315",
         "6": "14175",
         "7": "01/12/2021",
         "8": "0"
        },
        {
         "0": "526",
         "1": "CLIENT_1",
         "2": "PDV_5",
         "3": "PROD_4",
         "4": "5",
         "5": "10",
         "6": "50",
         "7": "01/12/2021",
         "8": "0"
        },
        {
         "0": "527",
         "1": "CLIENT_1",
         "2": "PDV_3",
         "3": "PROD_4",
         "4": "34",
         "5": "190",
         "6": "6460",
         "7": "01/12/2021",
         "8": "0"
        },
        {
         "0": "528",
         "1": "CLIENT_3",
         "2": "PDV_7",
         "3": "PROD_4",
         "4": "37",
         "5": "267",
         "6": "9879",
         "7": "01/12/2021",
         "8": "0"
        },
        {
         "0": "529",
         "1": "CLIENT_3",
         "2": "PDV_6",
         "3": "PROD_2",
         "4": "1",
         "5": "328",
         "6": "328",
         "7": "01/12/2021",
         "8": "0"
        },
        {
         "0": "530",
         "1": "CLIENT_8",
         "2": "PDV_2",
         "3": "PROD_2",
         "4": "4",
         "5": "114",
         "6": "456",
         "7": "01/12/2021",
         "8": "0"
        },
        {
         "0": "531",
         "1": "CLIENT_3",
         "2": "PDV_1",
         "3": "PROD_2",
         "4": "38",
         "5": "220",
         "6": "8360",
         "7": "01/01/2022",
         "8": "0"
        },
        {
         "0": "532",
         "1": "CLIENT_3",
         "2": "PDV_2",
         "3": "PROD_2",
         "4": "26",
         "5": "226",
         "6": "5876",
         "7": "01/01/2022",
         "8": "0"
        },
        {
         "0": "533",
         "1": "CLIENT_1",
         "2": "PDV_7",
         "3": "PROD_4",
         "4": "31",
         "5": "92",
         "6": "2852",
         "7": "01/01/2022",
         "8": "0"
        },
        {
         "0": "534",
         "1": "CLIENT_1",
         "2": "PDV_5",
         "3": "PROD_1",
         "4": "13",
         "5": "243",
         "6": "3159",
         "7": "01/01/2022",
         "8": "0"
        },
        {
         "0": "535",
         "1": "CLIENT_1",
         "2": "PDV_6",
         "3": "PROD_3",
         "4": "29",
         "5": "165",
         "6": "4785",
         "7": "01/01/2022",
         "8": "0"
        },
        {
         "0": "536",
         "1": "CLIENT_1",
         "2": "PDV_1",
         "3": "PROD_1",
         "4": "11",
         "5": "276",
         "6": "3036",
         "7": "01/01/2022",
         "8": "0"
        },
        {
         "0": "537",
         "1": "CLIENT_1",
         "2": "PDV_5",
         "3": "PROD_3",
         "4": "47",
         "5": "207",
         "6": "9729",
         "7": "01/01/2022",
         "8": "0"
        },
        {
         "0": "538",
         "1": "CLIENT_1",
         "2": "PDV_5",
         "3": "PROD_1",
         "4": "9",
         "5": "280",
         "6": "2520",
         "7": "01/01/2022",
         "8": "0"
        },
        {
         "0": "539",
         "1": "CLIENT_1",
         "2": "PDV_2",
         "3": "PROD_3",
         "4": "28",
         "5": "1",
         "6": "28",
         "7": "01/01/2022",
         "8": "0"
        },
        {
         "0": "540",
         "1": "CLIENT_1",
         "2": "PDV_6",
         "3": "PROD_5",
         "4": "17",
         "5": "211",
         "6": "3587",
         "7": "01/01/2022",
         "8": "0"
        },
        {
         "0": "541",
         "1": "CLIENT_1",
         "2": "PDV_7",
         "3": "PROD_3",
         "4": "32",
         "5": "288",
         "6": "9216",
         "7": "01/01/2022",
         "8": "0"
        },
        {
         "0": "542",
         "1": "CLIENT_1",
         "2": "PDV_2",
         "3": "PROD_1",
         "4": "5",
         "5": "124",
         "6": "620",
         "7": "01/01/2022",
         "8": "0"
        },
        {
         "0": "543",
         "1": "CLIENT_1",
         "2": "PDV_4",
         "3": "PROD_6",
         "4": "42",
         "5": "292",
         "6": "12264",
         "7": "01/01/2022",
         "8": "0"
        },
        {
         "0": "544",
         "1": "CLIENT_1",
         "2": "PDV_7",
         "3": "PROD_3",
         "4": "23",
         "5": "67",
         "6": "1541",
         "7": "01/01/2022",
         "8": "0"
        },
        {
         "0": "545",
         "1": "CLIENT_1",
         "2": "PDV_4",
         "3": "PROD_6",
         "4": "12",
         "5": "325",
         "6": "3900",
         "7": "01/01/2022",
         "8": "0"
        },
        {
         "0": "546",
         "1": "CLIENT_1",
         "2": "PDV_1",
         "3": "PROD_3",
         "4": "37",
         "5": "257",
         "6": "9509",
         "7": "01/01/2022",
         "8": "0"
        },
        {
         "0": "547",
         "1": "CLIENT_1",
         "2": "PDV_2",
         "3": "PROD_3",
         "4": "49",
         "5": "191",
         "6": "9359",
         "7": "01/01/2022",
         "8": "0"
        },
        {
         "0": "548",
         "1": "CLIENT_1",
         "2": "PDV_1",
         "3": "PROD_6",
         "4": "40",
         "5": "278",
         "6": "11120",
         "7": "01/01/2022",
         "8": "0"
        },
        {
         "0": "549",
         "1": "CLIENT_1",
         "2": "PDV_5",
         "3": "PROD_6",
         "4": "28",
         "5": "55",
         "6": "1540",
         "7": "01/01/2022",
         "8": "0"
        },
        {
         "0": "550",
         "1": "CLIENT_1",
         "2": "PDV_5",
         "3": "PROD_2",
         "4": "18",
         "5": "161",
         "6": "2898",
         "7": "01/01/2022",
         "8": "0"
        },
        {
         "0": "551",
         "1": "CLIENT_1",
         "2": "PDV_5",
         "3": "PROD_2",
         "4": "36",
         "5": "105",
         "6": "3780",
         "7": "01/01/2022",
         "8": "0"
        },
        {
         "0": "552",
         "1": "CLIENT_1",
         "2": "PDV_7",
         "3": "PROD_5",
         "4": "6",
         "5": "103",
         "6": "618",
         "7": "01/01/2022",
         "8": "0"
        },
        {
         "0": "553",
         "1": "CLIENT_1",
         "2": "PDV_5",
         "3": "PROD_2",
         "4": "17",
         "5": "317",
         "6": "5389",
         "7": "01/01/2022",
         "8": "0"
        },
        {
         "0": "554",
         "1": "CLIENT_1",
         "2": "PDV_3",
         "3": "PROD_1",
         "4": "20",
         "5": "164",
         "6": "3280",
         "7": "01/01/2022",
         "8": "0"
        },
        {
         "0": "555",
         "1": "CLIENT_1",
         "2": "PDV_3",
         "3": "PROD_3",
         "4": "20",
         "5": "265",
         "6": "5300",
         "7": "01/01/2022",
         "8": "0"
        },
        {
         "0": "556",
         "1": "CLIENT_1",
         "2": "PDV_7",
         "3": "PROD_1",
         "4": "45",
         "5": "59",
         "6": "2655",
         "7": "01/01/2022",
         "8": "0"
        },
        {
         "0": "557",
         "1": "CLIENT_1",
         "2": "PDV_7",
         "3": "PROD_4",
         "4": "13",
         "5": "267",
         "6": "3471",
         "7": "01/01/2022",
         "8": "0"
        },
        {
         "0": "558",
         "1": "CLIENT_1",
         "2": "PDV_6",
         "3": "PROD_1",
         "4": "14",
         "5": "1",
         "6": "14",
         "7": "01/01/2022",
         "8": "0"
        },
        {
         "0": "559",
         "1": "CLIENT_8",
         "2": "PDV_6",
         "3": "PROD_6",
         "4": "8",
         "5": "192",
         "6": "1536",
         "7": "01/01/2022",
         "8": "0"
        },
        {
         "0": "560",
         "1": "CLIENT_8",
         "2": "PDV_1",
         "3": "PROD_6",
         "4": "28",
         "5": "333",
         "6": "9324",
         "7": "01/01/2022",
         "8": "0"
        },
        {
         "0": "561",
         "1": "CLIENT_2",
         "2": "PDV_3",
         "3": "PROD_5",
         "4": "3",
         "5": "314",
         "6": "942",
         "7": "01/01/2022",
         "8": "0"
        },
        {
         "0": "562",
         "1": "CLIENT_2",
         "2": "PDV_2",
         "3": "PROD_5",
         "4": "40",
         "5": "2",
         "6": "80",
         "7": "01/01/2022",
         "8": "0"
        },
        {
         "0": "563",
         "1": "CLIENT_2",
         "2": "PDV_3",
         "3": "PROD_6",
         "4": "49",
         "5": "301",
         "6": "14749",
         "7": "01/01/2022",
         "8": "0"
        },
        {
         "0": "564",
         "1": "CLIENT_2",
         "2": "PDV_2",
         "3": "PROD_1",
         "4": "18",
         "5": "43",
         "6": "774",
         "7": "01/01/2022",
         "8": "0"
        },
        {
         "0": "565",
         "1": "CLIENT_2",
         "2": "PDV_4",
         "3": "PROD_1",
         "4": "33",
         "5": "220",
         "6": "7260",
         "7": "01/01/2022",
         "8": "0"
        },
        {
         "0": "566",
         "1": "CLIENT_2",
         "2": "PDV_6",
         "3": "PROD_1",
         "4": "2",
         "5": "52",
         "6": "104",
         "7": "01/01/2022",
         "8": "0"
        },
        {
         "0": "567",
         "1": "CLIENT_2",
         "2": "PDV_5",
         "3": "PROD_4",
         "4": "19",
         "5": "136",
         "6": "2584",
         "7": "01/01/2022",
         "8": "0"
        },
        {
         "0": "568",
         "1": "CLIENT_2",
         "2": "PDV_3",
         "3": "PROD_3",
         "4": "29",
         "5": "202",
         "6": "5858",
         "7": "01/01/2022",
         "8": "0"
        },
        {
         "0": "569",
         "1": "CLIENT_3",
         "2": "PDV_6",
         "3": "PROD_3",
         "4": "22",
         "5": "335",
         "6": "7370",
         "7": "01/01/2022",
         "8": "0"
        },
        {
         "0": "570",
         "1": "CLIENT_3",
         "2": "PDV_2",
         "3": "PROD_1",
         "4": "3",
         "5": "209",
         "6": "627",
         "7": "01/01/2022",
         "8": "0"
        },
        {
         "0": "571",
         "1": "CLIENT_3",
         "2": "PDV_1",
         "3": "PROD_6",
         "4": "7",
         "5": "331",
         "6": "2317",
         "7": "01/01/2022",
         "8": "0"
        },
        {
         "0": "572",
         "1": "CLIENT_3",
         "2": "PDV_5",
         "3": "PROD_5",
         "4": "20",
         "5": "99",
         "6": "1980",
         "7": "01/01/2022",
         "8": "0"
        },
        {
         "0": "573",
         "1": "CLIENT_3",
         "2": "PDV_3",
         "3": "PROD_3",
         "4": "26",
         "5": "12",
         "6": "312",
         "7": "01/01/2022",
         "8": "0"
        },
        {
         "0": "574",
         "1": "CLIENT_3",
         "2": "PDV_1",
         "3": "PROD_6",
         "4": "5",
         "5": "84",
         "6": "420",
         "7": "01/01/2022",
         "8": "0"
        },
        {
         "0": "575",
         "1": "CLIENT_3",
         "2": "PDV_4",
         "3": "PROD_1",
         "4": "32",
         "5": "99",
         "6": "3168",
         "7": "01/01/2022",
         "8": "0"
        },
        {
         "0": "576",
         "1": "CLIENT_7",
         "2": "PDV_7",
         "3": "PROD_4",
         "4": "40",
         "5": "130",
         "6": "5200",
         "7": "01/01/2022",
         "8": "0"
        },
        {
         "0": "577",
         "1": "CLIENT_1",
         "2": "PDV_5",
         "3": "PROD_4",
         "4": "40",
         "5": "40",
         "6": "1600",
         "7": "01/02/2022",
         "8": "0"
        },
        {
         "0": "578",
         "1": "CLIENT_1",
         "2": "PDV_4",
         "3": "PROD_3",
         "4": "43",
         "5": "114",
         "6": "4902",
         "7": "01/02/2022",
         "8": "0"
        },
        {
         "0": "579",
         "1": "CLIENT_1",
         "2": "PDV_7",
         "3": "PROD_5",
         "4": "38",
         "5": "31",
         "6": "1178",
         "7": "01/02/2022",
         "8": "0"
        },
        {
         "0": "580",
         "1": "CLIENT_1",
         "2": "PDV_7",
         "3": "PROD_3",
         "4": "40",
         "5": "130",
         "6": "5200",
         "7": "01/02/2022",
         "8": "0"
        },
        {
         "0": "581",
         "1": "CLIENT_1",
         "2": "PDV_7",
         "3": "PROD_5",
         "4": "12",
         "5": "176",
         "6": "2112",
         "7": "01/02/2022",
         "8": "0"
        },
        {
         "0": "582",
         "1": "CLIENT_1",
         "2": "PDV_2",
         "3": "PROD_5",
         "4": "3",
         "5": "29",
         "6": "87",
         "7": "01/02/2022",
         "8": "0"
        },
        {
         "0": "583",
         "1": "CLIENT_1",
         "2": "PDV_3",
         "3": "PROD_5",
         "4": "8",
         "5": "38",
         "6": "304",
         "7": "01/02/2022",
         "8": "0"
        },
        {
         "0": "584",
         "1": "CLIENT_3",
         "2": "PDV_5",
         "3": "PROD_6",
         "4": "17",
         "5": "14",
         "6": "238",
         "7": "01/02/2022",
         "8": "0"
        },
        {
         "0": "585",
         "1": "CLIENT_7",
         "2": "PDV_1",
         "3": "PROD_1",
         "4": "11",
         "5": "306",
         "6": "3366",
         "7": "01/02/2022",
         "8": "0"
        },
        {
         "0": "586",
         "1": "CLIENT_7",
         "2": "PDV_1",
         "3": "PROD_1",
         "4": "48",
         "5": "305",
         "6": "14640",
         "7": "01/02/2022",
         "8": "0"
        },
        {
         "0": "587",
         "1": "CLIENT_3",
         "2": "PDV_2",
         "3": "PROD_1",
         "4": "12",
         "5": "178",
         "6": "2136",
         "7": "01/02/2022",
         "8": "0"
        },
        {
         "0": "588",
         "1": "CLIENT_1",
         "2": "PDV_6",
         "3": "PROD_2",
         "4": "30",
         "5": "303",
         "6": "9090",
         "7": "01/02/2022",
         "8": "0"
        },
        {
         "0": "589",
         "1": "CLIENT_3",
         "2": "PDV_3",
         "3": "PROD_2",
         "4": "10",
         "5": "290",
         "6": "2900",
         "7": "01/02/2022",
         "8": "0"
        },
        {
         "0": "590",
         "1": "CLIENT_3",
         "2": "PDV_7",
         "3": "PROD_2",
         "4": "19",
         "5": "337",
         "6": "6403",
         "7": "01/02/2022",
         "8": "0"
        },
        {
         "0": "591",
         "1": "CLIENT_3",
         "2": "PDV_7",
         "3": "PROD_2",
         "4": "37",
         "5": "4",
         "6": "148",
         "7": "01/02/2022",
         "8": "0"
        },
        {
         "0": "592",
         "1": "CLIENT_3",
         "2": "PDV_7",
         "3": "PROD_2",
         "4": "14",
         "5": "191",
         "6": "2674",
         "7": "01/02/2022",
         "8": "0"
        },
        {
         "0": "593",
         "1": "CLIENT_6",
         "2": "PDV_5",
         "3": "PROD_2",
         "4": "17",
         "5": "327",
         "6": "5559",
         "7": "01/02/2022",
         "8": "0"
        },
        {
         "0": "594",
         "1": "CLIENT_3",
         "2": "PDV_7",
         "3": "PROD_2",
         "4": "7",
         "5": "272",
         "6": "1904",
         "7": "01/02/2022",
         "8": "0"
        },
        {
         "0": "595",
         "1": "CLIENT_3",
         "2": "PDV_6",
         "3": "PROD_2",
         "4": "14",
         "5": "280",
         "6": "3920",
         "7": "01/02/2022",
         "8": "0"
        },
        {
         "0": "596",
         "1": "CLIENT_1",
         "2": "PDV_5",
         "3": "PROD_2",
         "4": "25",
         "5": "128",
         "6": "3200",
         "7": "01/02/2022",
         "8": "0"
        },
        {
         "0": "597",
         "1": "CLIENT_1",
         "2": "PDV_1",
         "3": "PROD_2",
         "4": "13",
         "5": "65",
         "6": "845",
         "7": "01/02/2022",
         "8": "0"
        },
        {
         "0": "598",
         "1": "CLIENT_1",
         "2": "PDV_7",
         "3": "PROD_2",
         "4": "45",
         "5": "137",
         "6": "6165",
         "7": "01/02/2022",
         "8": "0"
        },
        {
         "0": "599",
         "1": "CLIENT_1",
         "2": "PDV_5",
         "3": "PROD_2",
         "4": "32",
         "5": "213",
         "6": "6816",
         "7": "01/02/2022",
         "8": "0"
        },
        {
         "0": "600",
         "1": "CLIENT_1",
         "2": "PDV_5",
         "3": "PROD_2",
         "4": "37",
         "5": "198",
         "6": "7326",
         "7": "01/02/2022",
         "8": "0"
        },
        {
         "0": "601",
         "1": "CLIENT_1",
         "2": "PDV_4",
         "3": "PROD_5",
         "4": "6",
         "5": "91",
         "6": "546",
         "7": "01/02/2022",
         "8": "0"
        },
        {
         "0": "602",
         "1": "CLIENT_1",
         "2": "PDV_3",
         "3": "PROD_5",
         "4": "43",
         "5": "231",
         "6": "9933",
         "7": "01/02/2022",
         "8": "0"
        },
        {
         "0": "603",
         "1": "CLIENT_1",
         "2": "PDV_6",
         "3": "PROD_5",
         "4": "25",
         "5": "332",
         "6": "8300",
         "7": "01/02/2022",
         "8": "0"
        },
        {
         "0": "604",
         "1": "CLIENT_1",
         "2": "PDV_7",
         "3": "PROD_5",
         "4": "37",
         "5": "237",
         "6": "8769",
         "7": "01/02/2022",
         "8": "0"
        },
        {
         "0": "605",
         "1": "CLIENT_1",
         "2": "PDV_3",
         "3": "PROD_2",
         "4": "33",
         "5": "289",
         "6": "9537",
         "7": "01/02/2022",
         "8": "0"
        },
        {
         "0": "606",
         "1": "CLIENT_1",
         "2": "PDV_6",
         "3": "PROD_5",
         "4": "20",
         "5": "184",
         "6": "3680",
         "7": "01/02/2022",
         "8": "0"
        },
        {
         "0": "607",
         "1": "CLIENT_1",
         "2": "PDV_6",
         "3": "PROD_3",
         "4": "4",
         "5": "16",
         "6": "64",
         "7": "01/02/2022",
         "8": "0"
        },
        {
         "0": "608",
         "1": "CLIENT_1",
         "2": "PDV_5",
         "3": "PROD_3",
         "4": "9",
         "5": "300",
         "6": "2700",
         "7": "01/02/2022",
         "8": "0"
        },
        {
         "0": "609",
         "1": "CLIENT_1",
         "2": "PDV_5",
         "3": "PROD_3",
         "4": "43",
         "5": "182",
         "6": "7826",
         "7": "01/02/2022",
         "8": "0"
        },
        {
         "0": "610",
         "1": "CLIENT_1",
         "2": "PDV_6",
         "3": "PROD_6",
         "4": "31",
         "5": "76",
         "6": "2356",
         "7": "01/02/2022",
         "8": "1"
        },
        {
         "0": "611",
         "1": "CLIENT_8",
         "2": "PDV_2",
         "3": "PROD_4",
         "4": "43",
         "5": "161",
         "6": "6923",
         "7": "01/02/2022",
         "8": "0"
        },
        {
         "0": "612",
         "1": "CLIENT_8",
         "2": "PDV_7",
         "3": "PROD_5",
         "4": "27",
         "5": "69",
         "6": "1863",
         "7": "01/02/2022",
         "8": "0"
        },
        {
         "0": "613",
         "1": "CLIENT_8",
         "2": "PDV_2",
         "3": "PROD_1",
         "4": "32",
         "5": "50",
         "6": "1600",
         "7": "01/03/2022",
         "8": "0"
        },
        {
         "0": "614",
         "1": "CLIENT_8",
         "2": "PDV_7",
         "3": "PROD_1",
         "4": "16",
         "5": "3",
         "6": "48",
         "7": "01/03/2022",
         "8": "0"
        },
        {
         "0": "615",
         "1": "CLIENT_2",
         "2": "PDV_1",
         "3": "PROD_1",
         "4": "35",
         "5": "318",
         "6": "11130",
         "7": "01/03/2022",
         "8": "0"
        },
        {
         "0": "616",
         "1": "CLIENT_2",
         "2": "PDV_6",
         "3": "PROD_4",
         "4": "40",
         "5": "151",
         "6": "6040",
         "7": "01/03/2022",
         "8": "0"
        },
        {
         "0": "617",
         "1": "CLIENT_2",
         "2": "PDV_1",
         "3": "PROD_6",
         "4": "20",
         "5": "288",
         "6": "5760",
         "7": "01/03/2022",
         "8": "0"
        },
        {
         "0": "618",
         "1": "CLIENT_2",
         "2": "PDV_1",
         "3": "PROD_3",
         "4": "30",
         "5": "289",
         "6": "8670",
         "7": "01/03/2022",
         "8": "0"
        },
        {
         "0": "619",
         "1": "CLIENT_2",
         "2": "PDV_6",
         "3": "PROD_4",
         "4": "33",
         "5": "5",
         "6": "165",
         "7": "01/03/2022",
         "8": "0"
        },
        {
         "0": "620",
         "1": "CLIENT_2",
         "2": "PDV_6",
         "3": "PROD_6",
         "4": "34",
         "5": "258",
         "6": "8772",
         "7": "01/03/2022",
         "8": "0"
        },
        {
         "0": "621",
         "1": "CLIENT_2",
         "2": "PDV_7",
         "3": "PROD_5",
         "4": "32",
         "5": "90",
         "6": "2880",
         "7": "01/03/2022",
         "8": "0"
        },
        {
         "0": "622",
         "1": "CLIENT_2",
         "2": "PDV_7",
         "3": "PROD_1",
         "4": "24",
         "5": "69",
         "6": "1656",
         "7": "01/03/2022",
         "8": "0"
        },
        {
         "0": "623",
         "1": "CLIENT_1",
         "2": "PDV_1",
         "3": "PROD_6",
         "4": "10",
         "5": "21",
         "6": "210",
         "7": "01/03/2022",
         "8": "0"
        },
        {
         "0": "624",
         "1": "CLIENT_1",
         "2": "PDV_4",
         "3": "PROD_6",
         "4": "13",
         "5": "101",
         "6": "1313",
         "7": "01/03/2022",
         "8": "0"
        },
        {
         "0": "625",
         "1": "CLIENT_7",
         "2": "PDV_3",
         "3": "PROD_4",
         "4": "35",
         "5": "337",
         "6": "11795",
         "7": "01/03/2022",
         "8": "0"
        },
        {
         "0": "626",
         "1": "CLIENT_7",
         "2": "PDV_6",
         "3": "PROD_4",
         "4": "23",
         "5": "274",
         "6": "6302",
         "7": "01/03/2022",
         "8": "0"
        },
        {
         "0": "627",
         "1": "CLIENT_7",
         "2": "PDV_2",
         "3": "PROD_4",
         "4": "20",
         "5": "277",
         "6": "5540",
         "7": "01/03/2022",
         "8": "0"
        },
        {
         "0": "628",
         "1": "CLIENT_3",
         "2": "PDV_6",
         "3": "PROD_4",
         "4": "1",
         "5": "77",
         "6": "77",
         "7": "01/03/2022",
         "8": "0"
        },
        {
         "0": "629",
         "1": "CLIENT_8",
         "2": "PDV_7",
         "3": "PROD_2",
         "4": "34",
         "5": "204",
         "6": "6936",
         "7": "01/03/2022",
         "8": "0"
        },
        {
         "0": "630",
         "1": "CLIENT_6",
         "2": "PDV_2",
         "3": "PROD_2",
         "4": "40",
         "5": "262",
         "6": "10480",
         "7": "01/03/2022",
         "8": "0"
        },
        {
         "0": "631",
         "1": "CLIENT_2",
         "2": "PDV_1",
         "3": "PROD_2",
         "4": "47",
         "5": "258",
         "6": "12126",
         "7": "01/03/2022",
         "8": "0"
        },
        {
         "0": "632",
         "1": "CLIENT_2",
         "2": "PDV_2",
         "3": "PROD_2",
         "4": "6",
         "5": "30",
         "6": "180",
         "7": "01/03/2022",
         "8": "0"
        },
        {
         "0": "633",
         "1": "CLIENT_2",
         "2": "PDV_6",
         "3": "PROD_2",
         "4": "3",
         "5": "114",
         "6": "342",
         "7": "01/03/2022",
         "8": "0"
        },
        {
         "0": "634",
         "1": "CLIENT_1",
         "2": "PDV_2",
         "3": "PROD_4",
         "4": "6",
         "5": "203",
         "6": "1218",
         "7": "01/03/2022",
         "8": "0"
        },
        {
         "0": "635",
         "1": "CLIENT_1",
         "2": "PDV_1",
         "3": "PROD_2",
         "4": "22",
         "5": "75",
         "6": "1650",
         "7": "01/03/2022",
         "8": "0"
        },
        {
         "0": "636",
         "1": "CLIENT_1",
         "2": "PDV_1",
         "3": "PROD_4",
         "4": "21",
         "5": "207",
         "6": "4347",
         "7": "01/03/2022",
         "8": "0"
        },
        {
         "0": "637",
         "1": "CLIENT_1",
         "2": "PDV_2",
         "3": "PROD_2",
         "4": "10",
         "5": "13",
         "6": "130",
         "7": "01/03/2022",
         "8": "0"
        },
        {
         "0": "638",
         "1": "CLIENT_1",
         "2": "PDV_6",
         "3": "PROD_4",
         "4": "37",
         "5": "241",
         "6": "8917",
         "7": "01/03/2022",
         "8": "0"
        },
        {
         "0": "639",
         "1": "CLIENT_1",
         "2": "PDV_3",
         "3": "PROD_2",
         "4": "20",
         "5": "44",
         "6": "880",
         "7": "01/03/2022",
         "8": "0"
        },
        {
         "0": "640",
         "1": "CLIENT_1",
         "2": "PDV_5",
         "3": "PROD_4",
         "4": "26",
         "5": "79",
         "6": "2054",
         "7": "01/03/2022",
         "8": "0"
        },
        {
         "0": "641",
         "1": "CLIENT_1",
         "2": "PDV_6",
         "3": "PROD_2",
         "4": "6",
         "5": "259",
         "6": "1554",
         "7": "01/03/2022",
         "8": "0"
        },
        {
         "0": "642",
         "1": "CLIENT_1",
         "2": "PDV_1",
         "3": "PROD_4",
         "4": "22",
         "5": "156",
         "6": "3432",
         "7": "01/03/2022",
         "8": "0"
        },
        {
         "0": "643",
         "1": "CLIENT_1",
         "2": "PDV_4",
         "3": "PROD_2",
         "4": "8",
         "5": "345",
         "6": "2760",
         "7": "01/03/2022",
         "8": "0"
        },
        {
         "0": "644",
         "1": "CLIENT_1",
         "2": "PDV_7",
         "3": "PROD_2",
         "4": "9",
         "5": "299",
         "6": "2691",
         "7": "01/03/2022",
         "8": "0"
        },
        {
         "0": "645",
         "1": "CLIENT_1",
         "2": "PDV_5",
         "3": "PROD_1",
         "4": "10",
         "5": "131",
         "6": "1310",
         "7": "01/03/2022",
         "8": "0"
        },
        {
         "0": "646",
         "1": "CLIENT_1",
         "2": "PDV_7",
         "3": "PROD_2",
         "4": "26",
         "5": "231",
         "6": "6006",
         "7": "01/03/2022",
         "8": "0"
        },
        {
         "0": "647",
         "1": "CLIENT_1",
         "2": "PDV_5",
         "3": "PROD_1",
         "4": "13",
         "5": "241",
         "6": "3133",
         "7": "01/03/2022",
         "8": "0"
        },
        {
         "0": "648",
         "1": "CLIENT_1",
         "2": "PDV_2",
         "3": "PROD_1",
         "4": "4",
         "5": "181",
         "6": "724",
         "7": "01/03/2022",
         "8": "0"
        },
        {
         "0": "649",
         "1": "CLIENT_1",
         "2": "PDV_1",
         "3": "PROD_2",
         "4": "19",
         "5": "92",
         "6": "1748",
         "7": "01/03/2022",
         "8": "0"
        },
        {
         "0": "650",
         "1": "CLIENT_1",
         "2": "PDV_6",
         "3": "PROD_1",
         "4": "4",
         "5": "289",
         "6": "1156",
         "7": "01/03/2022",
         "8": "0"
        },
        {
         "0": "651",
         "1": "CLIENT_1",
         "2": "PDV_3",
         "3": "PROD_2",
         "4": "19",
         "5": "6",
         "6": "114",
         "7": "01/03/2022",
         "8": "0"
        },
        {
         "0": "652",
         "1": "CLIENT_1",
         "2": "PDV_2",
         "3": "PROD_1",
         "4": "38",
         "5": "195",
         "6": "7410",
         "7": "01/03/2022",
         "8": "0"
        },
        {
         "0": "653",
         "1": "CLIENT_1",
         "2": "PDV_5",
         "3": "PROD_4",
         "4": "19",
         "5": "142",
         "6": "2698",
         "7": "01/04/2022",
         "8": "0"
        },
        {
         "0": "654",
         "1": "CLIENT_1",
         "2": "PDV_6",
         "3": "PROD_4",
         "4": "18",
         "5": "156",
         "6": "2808",
         "7": "01/04/2022",
         "8": "0"
        },
        {
         "0": "655",
         "1": "CLIENT_1",
         "2": "PDV_7",
         "3": "PROD_1",
         "4": "15",
         "5": "318",
         "6": "4770",
         "7": "01/04/2022",
         "8": "0"
        },
        {
         "0": "656",
         "1": "CLIENT_1",
         "2": "PDV_6",
         "3": "PROD_1",
         "4": "46",
         "5": "12",
         "6": "552",
         "7": "01/04/2022",
         "8": "0"
        },
        {
         "0": "657",
         "1": "CLIENT_2",
         "2": "PDV_7",
         "3": "PROD_6",
         "4": "5",
         "5": "20",
         "6": "100",
         "7": "01/04/2022",
         "8": "0"
        },
        {
         "0": "658",
         "1": "CLIENT_2",
         "2": "PDV_4",
         "3": "PROD_6",
         "4": "50",
         "5": "284",
         "6": "14200",
         "7": "01/04/2022",
         "8": "0"
        },
        {
         "0": "659",
         "1": "CLIENT_2",
         "2": "PDV_2",
         "3": "PROD_1",
         "4": "24",
         "5": "98",
         "6": "2352",
         "7": "01/04/2022",
         "8": "0"
        },
        {
         "0": "660",
         "1": "CLIENT_2",
         "2": "PDV_7",
         "3": "PROD_3",
         "4": "43",
         "5": "19",
         "6": "817",
         "7": "01/04/2022",
         "8": "0"
        },
        {
         "0": "661",
         "1": "CLIENT_2",
         "2": "PDV_6",
         "3": "PROD_3",
         "4": "23",
         "5": "6",
         "6": "138",
         "7": "01/04/2022",
         "8": "0"
        },
        {
         "0": "662",
         "1": "CLIENT_3",
         "2": "PDV_6",
         "3": "PROD_4",
         "4": "18",
         "5": "97",
         "6": "1746",
         "7": "01/04/2022",
         "8": "0"
        },
        {
         "0": "663",
         "1": "CLIENT_3",
         "2": "PDV_1",
         "3": "PROD_6",
         "4": "12",
         "5": "117",
         "6": "1404",
         "7": "01/04/2022",
         "8": "0"
        },
        {
         "0": "664",
         "1": "CLIENT_3",
         "2": "PDV_2",
         "3": "PROD_3",
         "4": "26",
         "5": "265",
         "6": "6890",
         "7": "01/04/2022",
         "8": "0"
        },
        {
         "0": "665",
         "1": "CLIENT_3",
         "2": "PDV_1",
         "3": "PROD_3",
         "4": "42",
         "5": "33",
         "6": "1386",
         "7": "01/04/2022",
         "8": "0"
        },
        {
         "0": "666",
         "1": "CLIENT_3",
         "2": "PDV_2",
         "3": "PROD_6",
         "4": "24",
         "5": "79",
         "6": "1896",
         "7": "01/04/2022",
         "8": "0"
        },
        {
         "0": "667",
         "1": "CLIENT_3",
         "2": "PDV_4",
         "3": "PROD_3",
         "4": "38",
         "5": "46",
         "6": "1748",
         "7": "01/04/2022",
         "8": "0"
        },
        {
         "0": "668",
         "1": "CLIENT_3",
         "2": "PDV_4",
         "3": "PROD_4",
         "4": "7",
         "5": "2",
         "6": "14",
         "7": "01/04/2022",
         "8": "0"
        },
        {
         "0": "669",
         "1": "CLIENT_3",
         "2": "PDV_2",
         "3": "PROD_4",
         "4": "31",
         "5": "239",
         "6": "7409",
         "7": "01/04/2022",
         "8": "0"
        },
        {
         "0": "670",
         "1": "CLIENT_1",
         "2": "PDV_2",
         "3": "PROD_5",
         "4": "21",
         "5": "317",
         "6": "6657",
         "7": "01/04/2022",
         "8": "0"
        },
        {
         "0": "671",
         "1": "CLIENT_1",
         "2": "PDV_2",
         "3": "PROD_3",
         "4": "38",
         "5": "335",
         "6": "12730",
         "7": "01/04/2022",
         "8": "0"
        },
        {
         "0": "672",
         "1": "CLIENT_1",
         "2": "PDV_6",
         "3": "PROD_3",
         "4": "22",
         "5": "79",
         "6": "1738",
         "7": "01/04/2022",
         "8": "0"
        },
        {
         "0": "673",
         "1": "CLIENT_1",
         "2": "PDV_2",
         "3": "PROD_3",
         "4": "24",
         "5": "212",
         "6": "5088",
         "7": "01/04/2022",
         "8": "0"
        },
        {
         "0": "674",
         "1": "CLIENT_1",
         "2": "PDV_3",
         "3": "PROD_4",
         "4": "42",
         "5": "90",
         "6": "3780",
         "7": "01/04/2022",
         "8": "0"
        },
        {
         "0": "675",
         "1": "CLIENT_1",
         "2": "PDV_3",
         "3": "PROD_3",
         "4": "11",
         "5": "324",
         "6": "3564",
         "7": "01/04/2022",
         "8": "0"
        },
        {
         "0": "676",
         "1": "CLIENT_1",
         "2": "PDV_7",
         "3": "PROD_3",
         "4": "35",
         "5": "239",
         "6": "8365",
         "7": "01/04/2022",
         "8": "0"
        },
        {
         "0": "677",
         "1": "CLIENT_3",
         "2": "PDV_2",
         "3": "PROD_6",
         "4": "39",
         "5": "10",
         "6": "390",
         "7": "01/04/2022",
         "8": "0"
        },
        {
         "0": "678",
         "1": "CLIENT_3",
         "2": "PDV_1",
         "3": "PROD_5",
         "4": "50",
         "5": "25",
         "6": "1250",
         "7": "01/04/2022",
         "8": "0"
        },
        {
         "0": "679",
         "1": "CLIENT_7",
         "2": "PDV_5",
         "3": "PROD_6",
         "4": "2",
         "5": "192",
         "6": "384",
         "7": "01/04/2022",
         "8": "0"
        },
        {
         "0": "680",
         "1": "CLIENT_7",
         "2": "PDV_3",
         "3": "PROD_5",
         "4": "47",
         "5": "140",
         "6": "6580",
         "7": "01/04/2022",
         "8": "0"
        },
        {
         "0": "681",
         "1": "CLIENT_7",
         "2": "PDV_7",
         "3": "PROD_6",
         "4": "42",
         "5": "165",
         "6": "6930",
         "7": "01/04/2022",
         "8": "0"
        },
        {
         "0": "682",
         "1": "CLIENT_3",
         "2": "PDV_3",
         "3": "PROD_5",
         "4": "6",
         "5": "184",
         "6": "1104",
         "7": "01/05/2022",
         "8": "0"
        },
        {
         "0": "683",
         "1": "CLIENT_3",
         "2": "PDV_1",
         "3": "PROD_6",
         "4": "33",
         "5": "10",
         "6": "330",
         "7": "01/05/2022",
         "8": "0"
        },
        {
         "0": "684",
         "1": "CLIENT_3",
         "2": "PDV_6",
         "3": "PROD_1",
         "4": "26",
         "5": "337",
         "6": "8762",
         "7": "01/05/2022",
         "8": "0"
        },
        {
         "0": "685",
         "1": "CLIENT_3",
         "2": "PDV_6",
         "3": "PROD_4",
         "4": "5",
         "5": "262",
         "6": "1310",
         "7": "01/05/2022",
         "8": "0"
        },
        {
         "0": "686",
         "1": "CLIENT_3",
         "2": "PDV_7",
         "3": "PROD_6",
         "4": "27",
         "5": "15",
         "6": "405",
         "7": "01/05/2022",
         "8": "0"
        },
        {
         "0": "687",
         "1": "CLIENT_2",
         "2": "PDV_6",
         "3": "PROD_2",
         "4": "3",
         "5": "179",
         "6": "537",
         "7": "01/05/2022",
         "8": "0"
        },
        {
         "0": "688",
         "1": "CLIENT_3",
         "2": "PDV_7",
         "3": "PROD_2",
         "4": "23",
         "5": "309",
         "6": "7107",
         "7": "01/05/2022",
         "8": "0"
        },
        {
         "0": "689",
         "1": "CLIENT_1",
         "2": "PDV_1",
         "3": "PROD_2",
         "4": "44",
         "5": "317",
         "6": "13948",
         "7": "01/05/2022",
         "8": "0"
        },
        {
         "0": "690",
         "1": "CLIENT_1",
         "2": "PDV_5",
         "3": "PROD_2",
         "4": "38",
         "5": "186",
         "6": "7068",
         "7": "01/05/2022",
         "8": "0"
        },
        {
         "0": "691",
         "1": "CLIENT_3",
         "2": "PDV_5",
         "3": "PROD_2",
         "4": "28",
         "5": "178",
         "6": "4984",
         "7": "01/05/2022",
         "8": "0"
        },
        {
         "0": "692",
         "1": "CLIENT_3",
         "2": "PDV_7",
         "3": "PROD_2",
         "4": "17",
         "5": "47",
         "6": "799",
         "7": "01/05/2022",
         "8": "0"
        },
        {
         "0": "693",
         "1": "CLIENT_3",
         "2": "PDV_3",
         "3": "PROD_2",
         "4": "5",
         "5": "335",
         "6": "1675",
         "7": "01/05/2022",
         "8": "0"
        },
        {
         "0": "694",
         "1": "CLIENT_1",
         "2": "PDV_6",
         "3": "PROD_2",
         "4": "48",
         "5": "295",
         "6": "14160",
         "7": "01/05/2022",
         "8": "0"
        },
        {
         "0": "695",
         "1": "CLIENT_6",
         "2": "PDV_1",
         "3": "PROD_2",
         "4": "10",
         "5": "203",
         "6": "2030",
         "7": "01/05/2022",
         "8": "0"
        },
        {
         "0": "696",
         "1": "CLIENT_3",
         "2": "PDV_7",
         "3": "PROD_2",
         "4": "34",
         "5": "16",
         "6": "544",
         "7": "01/05/2022",
         "8": "0"
        },
        {
         "0": "697",
         "1": "CLIENT_3",
         "2": "PDV_1",
         "3": "PROD_2",
         "4": "42",
         "5": "285",
         "6": "11970",
         "7": "01/05/2022",
         "8": "0"
        },
        {
         "0": "698",
         "1": "CLIENT_5",
         "2": "PDV_3",
         "3": "PROD_6",
         "4": "29",
         "5": "323",
         "6": "9367",
         "7": "01/05/2022",
         "8": "0"
        },
        {
         "0": "699",
         "1": "CLIENT_2",
         "2": "PDV_2",
         "3": "PROD_1",
         "4": "18",
         "5": "10",
         "6": "180",
         "7": "01/05/2022",
         "8": "0"
        },
        {
         "0": "700",
         "1": "CLIENT_7",
         "2": "PDV_3",
         "3": "PROD_3",
         "4": "45",
         "5": "90",
         "6": "4050",
         "7": "01/05/2022",
         "8": "0"
        },
        {
         "0": "701",
         "1": "CLIENT_3",
         "2": "PDV_4",
         "3": "PROD_6",
         "4": "12",
         "5": "301",
         "6": "3612",
         "7": "01/05/2022",
         "8": "0"
        },
        {
         "0": "702",
         "1": "CLIENT_3",
         "2": "PDV_4",
         "3": "PROD_4",
         "4": "46",
         "5": "177",
         "6": "8142",
         "7": "01/05/2022",
         "8": "0"
        },
        {
         "0": "703",
         "1": "CLIENT_7",
         "2": "PDV_2",
         "3": "PROD_5",
         "4": "6",
         "5": "300",
         "6": "1800",
         "7": "01/05/2022",
         "8": "0"
        },
        {
         "0": "704",
         "1": "CLIENT_7",
         "2": "PDV_3",
         "3": "PROD_5",
         "4": "28",
         "5": "84",
         "6": "2352",
         "7": "01/05/2022",
         "8": "0"
        },
        {
         "0": "705",
         "1": "CLIENT_2",
         "2": "PDV_7",
         "3": "PROD_3",
         "4": "20",
         "5": "306",
         "6": "6120",
         "7": "01/05/2022",
         "8": "0"
        },
        {
         "0": "706",
         "1": "CLIENT_4",
         "2": "PDV_2",
         "3": "PROD_5",
         "4": "2",
         "5": "323",
         "6": "646",
         "7": "01/05/2022",
         "8": "0"
        },
        {
         "0": "707",
         "1": "CLIENT_8",
         "2": "PDV_7",
         "3": "PROD_1",
         "4": "28",
         "5": "225",
         "6": "6300",
         "7": "01/05/2022",
         "8": "0"
        },
        {
         "0": "708",
         "1": "CLIENT_1",
         "2": "PDV_2",
         "3": "PROD_6",
         "4": "7",
         "5": "85",
         "6": "595",
         "7": "01/05/2022",
         "8": "0"
        },
        {
         "0": "709",
         "1": "CLIENT_8",
         "2": "PDV_1",
         "3": "PROD_5",
         "4": "23",
         "5": "42",
         "6": "966",
         "7": "01/05/2022",
         "8": "0"
        },
        {
         "0": "710",
         "1": "CLIENT_7",
         "2": "PDV_5",
         "3": "PROD_5",
         "4": "20",
         "5": "51",
         "6": "1020",
         "7": "01/05/2022",
         "8": "1"
        },
        {
         "0": "711",
         "1": "CLIENT_7",
         "2": "PDV_6",
         "3": "PROD_3",
         "4": "24",
         "5": "96",
         "6": "2304",
         "7": "01/05/2022",
         "8": "0"
        },
        {
         "0": "712",
         "1": "CLIENT_4",
         "2": "PDV_1",
         "3": "PROD_1",
         "4": "15",
         "5": "331",
         "6": "4965",
         "7": "01/05/2022",
         "8": "0"
        },
        {
         "0": "713",
         "1": "CLIENT_7",
         "2": "PDV_3",
         "3": "PROD_2",
         "4": "3",
         "5": "44",
         "6": "132",
         "7": "01/05/2022",
         "8": "0"
        },
        {
         "0": "714",
         "1": "CLIENT_8",
         "2": "PDV_7",
         "3": "PROD_2",
         "4": "38",
         "5": "237",
         "6": "9006",
         "7": "01/05/2022",
         "8": "0"
        },
        {
         "0": "715",
         "1": "CLIENT_8",
         "2": "PDV_4",
         "3": "PROD_3",
         "4": "36",
         "5": "309",
         "6": "11124",
         "7": "01/05/2022",
         "8": "0"
        },
        {
         "0": "716",
         "1": "CLIENT_7",
         "2": "PDV_7",
         "3": "PROD_1",
         "4": "26",
         "5": "248",
         "6": "6448",
         "7": "01/05/2022",
         "8": "0"
        },
        {
         "0": "717",
         "1": "CLIENT_2",
         "2": "PDV_1",
         "3": "PROD_5",
         "4": "25",
         "5": "283",
         "6": "7075",
         "7": "01/05/2022",
         "8": "0"
        },
        {
         "0": "718",
         "1": "CLIENT_3",
         "2": "PDV_6",
         "3": "PROD_6",
         "4": "40",
         "5": "142",
         "6": "5680",
         "7": "01/06/2022",
         "8": "0"
        },
        {
         "0": "719",
         "1": "CLIENT_3",
         "2": "PDV_4",
         "3": "PROD_2",
         "4": "14",
         "5": "104",
         "6": "1456",
         "7": "01/06/2022",
         "8": "0"
        },
        {
         "0": "720",
         "1": "CLIENT_5",
         "2": "PDV_3",
         "3": "PROD_2",
         "4": "23",
         "5": "23",
         "6": "529",
         "7": "01/06/2022",
         "8": "0"
        },
        {
         "0": "721",
         "1": "CLIENT_2",
         "2": "PDV_2",
         "3": "PROD_2",
         "4": "29",
         "5": "192",
         "6": "5568",
         "7": "01/06/2022",
         "8": "0"
        },
        {
         "0": "722",
         "1": "CLIENT_6",
         "2": "PDV_5",
         "3": "PROD_4",
         "4": "10",
         "5": "183",
         "6": "1830",
         "7": "01/06/2022",
         "8": "0"
        },
        {
         "0": "723",
         "1": "CLIENT_8",
         "2": "PDV_3",
         "3": "PROD_1",
         "4": "20",
         "5": "228",
         "6": "4560",
         "7": "01/06/2022",
         "8": "0"
        },
        {
         "0": "724",
         "1": "CLIENT_8",
         "2": "PDV_6",
         "3": "PROD_4",
         "4": "25",
         "5": "298",
         "6": "7450",
         "7": "01/06/2022",
         "8": "0"
        },
        {
         "0": "725",
         "1": "CLIENT_1",
         "2": "PDV_3",
         "3": "PROD_2",
         "4": "13",
         "5": "119",
         "6": "1547",
         "7": "01/06/2022",
         "8": "0"
        },
        {
         "0": "726",
         "1": "CLIENT_3",
         "2": "PDV_3",
         "3": "PROD_6",
         "4": "14",
         "5": "239",
         "6": "3346",
         "7": "01/06/2022",
         "8": "0"
        },
        {
         "0": "727",
         "1": "CLIENT_4",
         "2": "PDV_4",
         "3": "PROD_6",
         "4": "34",
         "5": "257",
         "6": "8738",
         "7": "01/06/2022",
         "8": "0"
        },
        {
         "0": "728",
         "1": "CLIENT_5",
         "2": "PDV_5",
         "3": "PROD_6",
         "4": "16",
         "5": "249",
         "6": "3984",
         "7": "01/06/2022",
         "8": "0"
        },
        {
         "0": "729",
         "1": "CLIENT_2",
         "2": "PDV_3",
         "3": "PROD_5",
         "4": "19",
         "5": "2",
         "6": "38",
         "7": "01/06/2022",
         "8": "0"
        },
        {
         "0": "730",
         "1": "CLIENT_2",
         "2": "PDV_1",
         "3": "PROD_3",
         "4": "26",
         "5": "206",
         "6": "5356",
         "7": "01/06/2022",
         "8": "0"
        },
        {
         "0": "731",
         "1": "CLIENT_1",
         "2": "PDV_4",
         "3": "PROD_4",
         "4": "32",
         "5": "296",
         "6": "9472",
         "7": "01/06/2022",
         "8": "0"
        },
        {
         "0": "732",
         "1": "CLIENT_8",
         "2": "PDV_1",
         "3": "PROD_6",
         "4": "24",
         "5": "188",
         "6": "4512",
         "7": "01/06/2022",
         "8": "0"
        },
        {
         "0": "733",
         "1": "CLIENT_3",
         "2": "PDV_5",
         "3": "PROD_1",
         "4": "1",
         "5": "275",
         "6": "275",
         "7": "01/06/2022",
         "8": "0"
        },
        {
         "0": "734",
         "1": "CLIENT_3",
         "2": "PDV_2",
         "3": "PROD_2",
         "4": "42",
         "5": "90",
         "6": "3780",
         "7": "01/06/2022",
         "8": "0"
        },
        {
         "0": "735",
         "1": "CLIENT_8",
         "2": "PDV_5",
         "3": "PROD_3",
         "4": "14",
         "5": "319",
         "6": "4466",
         "7": "01/06/2022",
         "8": "0"
        },
        {
         "0": "736",
         "1": "CLIENT_2",
         "2": "PDV_2",
         "3": "PROD_4",
         "4": "5",
         "5": "179",
         "6": "895",
         "7": "01/06/2022",
         "8": "0"
        },
        {
         "0": "737",
         "1": "CLIENT_8",
         "2": "PDV_1",
         "3": "PROD_5",
         "4": "8",
         "5": "283",
         "6": "2264",
         "7": "01/06/2022",
         "8": "0"
        },
        {
         "0": "738",
         "1": "CLIENT_5",
         "2": "PDV_4",
         "3": "PROD_3",
         "4": "40",
         "5": "310",
         "6": "12400",
         "7": "01/06/2022",
         "8": "0"
        },
        {
         "0": "739",
         "1": "CLIENT_3",
         "2": "PDV_4",
         "3": "PROD_2",
         "4": "11",
         "5": "249",
         "6": "2739",
         "7": "01/06/2022",
         "8": "0"
        },
        {
         "0": "740",
         "1": "CLIENT_1",
         "2": "PDV_5",
         "3": "PROD_1",
         "4": "39",
         "5": "201",
         "6": "7839",
         "7": "01/06/2022",
         "8": "0"
        },
        {
         "0": "741",
         "1": "CLIENT_3",
         "2": "PDV_6",
         "3": "PROD_2",
         "4": "16",
         "5": "127",
         "6": "2032",
         "7": "01/06/2022",
         "8": "0"
        },
        {
         "0": "742",
         "1": "CLIENT_3",
         "2": "PDV_2",
         "3": "PROD_4",
         "4": "45",
         "5": "244",
         "6": "10980",
         "7": "01/06/2022",
         "8": "0"
        },
        {
         "0": "743",
         "1": "CLIENT_2",
         "2": "PDV_2",
         "3": "PROD_6",
         "4": "48",
         "5": "172",
         "6": "8256",
         "7": "01/06/2022",
         "8": "0"
        },
        {
         "0": "744",
         "1": "CLIENT_2",
         "2": "PDV_4",
         "3": "PROD_6",
         "4": "6",
         "5": "307",
         "6": "1842",
         "7": "01/06/2022",
         "8": "0"
        },
        {
         "0": "745",
         "1": "CLIENT_7",
         "2": "PDV_7",
         "3": "PROD_3",
         "4": "31",
         "5": "17",
         "6": "527",
         "7": "01/06/2022",
         "8": "0"
        },
        {
         "0": "746",
         "1": "CLIENT_3",
         "2": "PDV_4",
         "3": "PROD_4",
         "4": "30",
         "5": "15",
         "6": "450",
         "7": "01/06/2022",
         "8": "0"
        },
        {
         "0": "747",
         "1": "CLIENT_4",
         "2": "PDV_6",
         "3": "PROD_3",
         "4": "1",
         "5": "132",
         "6": "132",
         "7": "01/06/2022",
         "8": "0"
        },
        {
         "0": "748",
         "1": "CLIENT_7",
         "2": "PDV_4",
         "3": "PROD_4",
         "4": "36",
         "5": "125",
         "6": "4500",
         "7": "01/06/2022",
         "8": "0"
        },
        {
         "0": "749",
         "1": "CLIENT_1",
         "2": "PDV_3",
         "3": "PROD_6",
         "4": "30",
         "5": "277",
         "6": "8310",
         "7": "01/06/2022",
         "8": "0"
        },
        {
         "0": "750",
         "1": "CLIENT_2",
         "2": "PDV_2",
         "3": "PROD_1",
         "4": "50",
         "5": "123",
         "6": "6150",
         "7": "01/06/2022",
         "8": "0"
        },
        {
         "0": "751",
         "1": "CLIENT_1",
         "2": "PDV_7",
         "3": "PROD_3",
         "4": "31",
         "5": "261",
         "6": "8091",
         "7": "01/06/2022",
         "8": "0"
        },
        {
         "0": "752",
         "1": "CLIENT_6",
         "2": "PDV_6",
         "3": "PROD_5",
         "4": "5",
         "5": "295",
         "6": "1475",
         "7": "01/06/2022",
         "8": "0"
        },
        {
         "0": "753",
         "1": "CLIENT_3",
         "2": "PDV_6",
         "3": "PROD_4",
         "4": "9",
         "5": "74",
         "6": "666",
         "7": "01/06/2022",
         "8": "0"
        },
        {
         "0": "754",
         "1": "CLIENT_1",
         "2": "PDV_2",
         "3": "PROD_6",
         "4": "34",
         "5": "285",
         "6": "9690",
         "7": "01/06/2022",
         "8": "0"
        },
        {
         "0": "755",
         "1": "CLIENT_6",
         "2": "PDV_3",
         "3": "PROD_1",
         "4": "15",
         "5": "200",
         "6": "3000",
         "7": "01/06/2022",
         "8": "0"
        },
        {
         "0": "756",
         "1": "CLIENT_3",
         "2": "PDV_1",
         "3": "PROD_4",
         "4": "50",
         "5": "248",
         "6": "12400",
         "7": "01/06/2022",
         "8": "0"
        },
        {
         "0": "757",
         "1": "CLIENT_5",
         "2": "PDV_2",
         "3": "PROD_4",
         "4": "31",
         "5": "182",
         "6": "5642",
         "7": "01/06/2022",
         "8": "0"
        },
        {
         "0": "758",
         "1": "CLIENT_2",
         "2": "PDV_6",
         "3": "PROD_5",
         "4": "42",
         "5": "154",
         "6": "6468",
         "7": "01/06/2022",
         "8": "0"
        },
        {
         "0": "759",
         "1": "CLIENT_4",
         "2": "PDV_1",
         "3": "PROD_4",
         "4": "45",
         "5": "68",
         "6": "3060",
         "7": "01/06/2022",
         "8": "0"
        },
        {
         "0": "760",
         "1": "CLIENT_8",
         "2": "PDV_3",
         "3": "PROD_3",
         "4": "5",
         "5": "335",
         "6": "1675",
         "7": "01/06/2022",
         "8": "0"
        },
        {
         "0": "761",
         "1": "CLIENT_5",
         "2": "PDV_6",
         "3": "PROD_6",
         "4": "10",
         "5": "210",
         "6": "2100",
         "7": "01/06/2022",
         "8": "0"
        },
        {
         "0": "762",
         "1": "CLIENT_7",
         "2": "PDV_1",
         "3": "PROD_1",
         "4": "7",
         "5": "268",
         "6": "1876",
         "7": "01/06/2022",
         "8": "0"
        },
        {
         "0": "763",
         "1": "CLIENT_8",
         "2": "PDV_5",
         "3": "PROD_2",
         "4": "6",
         "5": "255",
         "6": "1530",
         "7": "01/06/2022",
         "8": "0"
        },
        {
         "0": "764",
         "1": "CLIENT_4",
         "2": "PDV_7",
         "3": "PROD_1",
         "4": "44",
         "5": "325",
         "6": "14300",
         "7": "01/06/2022",
         "8": "0"
        },
        {
         "0": "765",
         "1": "CLIENT_3",
         "2": "PDV_5",
         "3": "PROD_5",
         "4": "24",
         "5": "110",
         "6": "2640",
         "7": "01/06/2022",
         "8": "0"
        },
        {
         "0": "766",
         "1": "CLIENT_7",
         "2": "PDV_2",
         "3": "PROD_5",
         "4": "40",
         "5": "173",
         "6": "6920",
         "7": "01/06/2022",
         "8": "0"
        },
        {
         "0": "767",
         "1": "CLIENT_2",
         "2": "PDV_6",
         "3": "PROD_5",
         "4": "44",
         "5": "106",
         "6": "4664",
         "7": "01/06/2022",
         "8": "0"
        },
        {
         "0": "768",
         "1": "CLIENT_5",
         "2": "PDV_4",
         "3": "PROD_4",
         "4": "30",
         "5": "336",
         "6": "10080",
         "7": "01/06/2022",
         "8": "0"
        },
        {
         "0": "769",
         "1": "CLIENT_1",
         "2": "PDV_7",
         "3": "PROD_1",
         "4": "32",
         "5": "265",
         "6": "8480",
         "7": "01/06/2022",
         "8": "0"
        },
        {
         "0": "770",
         "1": "CLIENT_2",
         "2": "PDV_2",
         "3": "PROD_3",
         "4": "1",
         "5": "298",
         "6": "298",
         "7": "01/06/2022",
         "8": "0"
        },
        {
         "0": "771",
         "1": "CLIENT_8",
         "2": "PDV_1",
         "3": "PROD_1",
         "4": "36",
         "5": "204",
         "6": "7344",
         "7": "01/06/2022",
         "8": "0"
        },
        {
         "0": "772",
         "1": "CLIENT_4",
         "2": "PDV_3",
         "3": "PROD_3",
         "4": "40",
         "5": "98",
         "6": "3920",
         "7": "01/06/2022",
         "8": "0"
        },
        {
         "0": "773",
         "1": "CLIENT_7",
         "2": "PDV_7",
         "3": "PROD_3",
         "4": "19",
         "5": "322",
         "6": "6118",
         "7": "01/06/2022",
         "8": "0"
        },
        {
         "0": "774",
         "1": "CLIENT_1",
         "2": "PDV_1",
         "3": "PROD_5",
         "4": "34",
         "5": "160",
         "6": "5440",
         "7": "01/06/2022",
         "8": "0"
        },
        {
         "0": "775",
         "1": "CLIENT_3",
         "2": "PDV_4",
         "3": "PROD_3",
         "4": "8",
         "5": "32",
         "6": "256",
         "7": "01/06/2022",
         "8": "0"
        },
        {
         "0": "776",
         "1": "CLIENT_6",
         "2": "PDV_4",
         "3": "PROD_6",
         "4": "47",
         "5": "59",
         "6": "2773",
         "7": "01/06/2022",
         "8": "0"
        },
        {
         "0": "777",
         "1": "CLIENT_2",
         "2": "PDV_7",
         "3": "PROD_5",
         "4": "38",
         "5": "22",
         "6": "836",
         "7": "01/06/2022",
         "8": "0"
        },
        {
         "0": "778",
         "1": "CLIENT_7",
         "2": "PDV_6",
         "3": "PROD_1",
         "4": "22",
         "5": "177",
         "6": "3894",
         "7": "01/06/2022",
         "8": "0"
        },
        {
         "0": "779",
         "1": "CLIENT_4",
         "2": "PDV_7",
         "3": "PROD_4",
         "4": "27",
         "5": "67",
         "6": "1809",
         "7": "01/06/2022",
         "8": "0"
        },
        {
         "0": "780",
         "1": "CLIENT_8",
         "2": "PDV_1",
         "3": "PROD_3",
         "4": "35",
         "5": "197",
         "6": "6895",
         "7": "01/06/2022",
         "8": "0"
        },
        {
         "0": "781",
         "1": "CLIENT_4",
         "2": "PDV_1",
         "3": "PROD_2",
         "4": "31",
         "5": "235",
         "6": "7285",
         "7": "01/06/2022",
         "8": "0"
        },
        {
         "0": "782",
         "1": "CLIENT_8",
         "2": "PDV_2",
         "3": "PROD_6",
         "4": "21",
         "5": "117",
         "6": "2457",
         "7": "01/06/2022",
         "8": "0"
        },
        {
         "0": "783",
         "1": "CLIENT_7",
         "2": "PDV_4",
         "3": "PROD_3",
         "4": "40",
         "5": "261",
         "6": "10440",
         "7": "01/06/2022",
         "8": "0"
        },
        {
         "0": "784",
         "1": "CLIENT_2",
         "2": "PDV_4",
         "3": "PROD_2",
         "4": "25",
         "5": "171",
         "6": "4275",
         "7": "01/06/2022",
         "8": "0"
        },
        {
         "0": "785",
         "1": "CLIENT_8",
         "2": "PDV_1",
         "3": "PROD_5",
         "4": "5",
         "5": "299",
         "6": "1495",
         "7": "01/06/2022",
         "8": "0"
        },
        {
         "0": "786",
         "1": "CLIENT_3",
         "2": "PDV_4",
         "3": "PROD_6",
         "4": "49",
         "5": "340",
         "6": "16660",
         "7": "01/07/2022",
         "8": "0"
        },
        {
         "0": "787",
         "1": "CLIENT_1",
         "2": "PDV_1",
         "3": "PROD_2",
         "4": "16",
         "5": "48",
         "6": "768",
         "7": "01/07/2022",
         "8": "0"
        },
        {
         "0": "788",
         "1": "CLIENT_5",
         "2": "PDV_1",
         "3": "PROD_3",
         "4": "25",
         "5": "350",
         "6": "8750",
         "7": "01/07/2022",
         "8": "0"
        },
        {
         "0": "789",
         "1": "CLIENT_4",
         "2": "PDV_5",
         "3": "PROD_6",
         "4": "12",
         "5": "219",
         "6": "2628",
         "7": "01/07/2022",
         "8": "0"
        },
        {
         "0": "790",
         "1": "CLIENT_8",
         "2": "PDV_4",
         "3": "PROD_6",
         "4": "15",
         "5": "286",
         "6": "4290",
         "7": "01/07/2022",
         "8": "0"
        },
        {
         "0": "791",
         "1": "CLIENT_2",
         "2": "PDV_3",
         "3": "PROD_3",
         "4": "21",
         "5": "11",
         "6": "231",
         "7": "01/07/2022",
         "8": "0"
        },
        {
         "0": "792",
         "1": "CLIENT_1",
         "2": "PDV_7",
         "3": "PROD_5",
         "4": "5",
         "5": "197",
         "6": "985",
         "7": "01/07/2022",
         "8": "0"
        },
        {
         "0": "793",
         "1": "CLIENT_8",
         "2": "PDV_6",
         "3": "PROD_5",
         "4": "31",
         "5": "324",
         "6": "10044",
         "7": "01/07/2022",
         "8": "0"
        },
        {
         "0": "794",
         "1": "CLIENT_3",
         "2": "PDV_5",
         "3": "PROD_5",
         "4": "28",
         "5": "252",
         "6": "7056",
         "7": "01/07/2022",
         "8": "0"
        },
        {
         "0": "795",
         "1": "CLIENT_5",
         "2": "PDV_1",
         "3": "PROD_6",
         "4": "19",
         "5": "232",
         "6": "4408",
         "7": "01/07/2022",
         "8": "0"
        },
        {
         "0": "796",
         "1": "CLIENT_3",
         "2": "PDV_2",
         "3": "PROD_6",
         "4": "38",
         "5": "164",
         "6": "6232",
         "7": "01/07/2022",
         "8": "0"
        },
        {
         "0": "797",
         "1": "CLIENT_8",
         "2": "PDV_3",
         "3": "PROD_2",
         "4": "43",
         "5": "1",
         "6": "43",
         "7": "01/07/2022",
         "8": "0"
        },
        {
         "0": "798",
         "1": "CLIENT_3",
         "2": "PDV_1",
         "3": "PROD_3",
         "4": "16",
         "5": "5",
         "6": "80",
         "7": "01/07/2022",
         "8": "0"
        },
        {
         "0": "799",
         "1": "CLIENT_1",
         "2": "PDV_7",
         "3": "PROD_5",
         "4": "41",
         "5": "168",
         "6": "6888",
         "7": "01/07/2022",
         "8": "0"
        },
        {
         "0": "800",
         "1": "CLIENT_7",
         "2": "PDV_5",
         "3": "PROD_2",
         "4": "23",
         "5": "93",
         "6": "2139",
         "7": "01/07/2022",
         "8": "0"
        },
        {
         "0": "801",
         "1": "CLIENT_3",
         "2": "PDV_3",
         "3": "PROD_3",
         "4": "23",
         "5": "147",
         "6": "3381",
         "7": "01/07/2022",
         "8": "0"
        },
        {
         "0": "802",
         "1": "CLIENT_4",
         "2": "PDV_7",
         "3": "PROD_5",
         "4": "12",
         "5": "70",
         "6": "840",
         "7": "01/07/2022",
         "8": "0"
        },
        {
         "0": "803",
         "1": "CLIENT_4",
         "2": "PDV_1",
         "3": "PROD_3",
         "4": "29",
         "5": "126",
         "6": "3654",
         "7": "01/07/2022",
         "8": "0"
        },
        {
         "0": "804",
         "1": "CLIENT_1",
         "2": "PDV_2",
         "3": "PROD_6",
         "4": "21",
         "5": "266",
         "6": "5586",
         "7": "01/07/2022",
         "8": "0"
        },
        {
         "0": "805",
         "1": "CLIENT_3",
         "2": "PDV_2",
         "3": "PROD_5",
         "4": "6",
         "5": "349",
         "6": "2094",
         "7": "01/07/2022",
         "8": "0"
        },
        {
         "0": "806",
         "1": "CLIENT_5",
         "2": "PDV_5",
         "3": "PROD_3",
         "4": "15",
         "5": "293",
         "6": "4395",
         "7": "01/07/2022",
         "8": "0"
        },
        {
         "0": "807",
         "1": "CLIENT_8",
         "2": "PDV_2",
         "3": "PROD_6",
         "4": "44",
         "5": "85",
         "6": "3740",
         "7": "01/07/2022",
         "8": "0"
        },
        {
         "0": "808",
         "1": "CLIENT_1",
         "2": "PDV_6",
         "3": "PROD_3",
         "4": "38",
         "5": "189",
         "6": "7182",
         "7": "01/07/2022",
         "8": "0"
        },
        {
         "0": "809",
         "1": "CLIENT_7",
         "2": "PDV_4",
         "3": "PROD_3",
         "4": "31",
         "5": "330",
         "6": "10230",
         "7": "01/07/2022",
         "8": "0"
        },
        {
         "0": "810",
         "1": "CLIENT_1",
         "2": "PDV_5",
         "3": "PROD_3",
         "4": "26",
         "5": "57",
         "6": "1482",
         "7": "01/07/2022",
         "8": "1"
        },
        {
         "0": "811",
         "1": "CLIENT_6",
         "2": "PDV_5",
         "3": "PROD_1",
         "4": "45",
         "5": "132",
         "6": "5940",
         "7": "01/07/2022",
         "8": "0"
        },
        {
         "0": "812",
         "1": "CLIENT_6",
         "2": "PDV_1",
         "3": "PROD_3",
         "4": "22",
         "5": "56",
         "6": "1232",
         "7": "01/07/2022",
         "8": "0"
        },
        {
         "0": "813",
         "1": "CLIENT_8",
         "2": "PDV_7",
         "3": "PROD_4",
         "4": "20",
         "5": "115",
         "6": "2300",
         "7": "01/07/2022",
         "8": "0"
        },
        {
         "0": "814",
         "1": "CLIENT_5",
         "2": "PDV_1",
         "3": "PROD_2",
         "4": "17",
         "5": "51",
         "6": "867",
         "7": "01/07/2022",
         "8": "0"
        },
        {
         "0": "815",
         "1": "CLIENT_6",
         "2": "PDV_3",
         "3": "PROD_3",
         "4": "26",
         "5": "210",
         "6": "5460",
         "7": "01/07/2022",
         "8": "0"
        },
        {
         "0": "816",
         "1": "CLIENT_5",
         "2": "PDV_6",
         "3": "PROD_6",
         "4": "6",
         "5": "43",
         "6": "258",
         "7": "01/07/2022",
         "8": "0"
        },
        {
         "0": "817",
         "1": "CLIENT_6",
         "2": "PDV_7",
         "3": "PROD_5",
         "4": "4",
         "5": "133",
         "6": "532",
         "7": "01/07/2022",
         "8": "0"
        },
        {
         "0": "818",
         "1": "CLIENT_4",
         "2": "PDV_5",
         "3": "PROD_6",
         "4": "10",
         "5": "195",
         "6": "1950",
         "7": "01/07/2022",
         "8": "0"
        },
        {
         "0": "819",
         "1": "CLIENT_6",
         "2": "PDV_1",
         "3": "PROD_5",
         "4": "41",
         "5": "64",
         "6": "2624",
         "7": "01/07/2022",
         "8": "0"
        },
        {
         "0": "820",
         "1": "CLIENT_3",
         "2": "PDV_3",
         "3": "PROD_1",
         "4": "36",
         "5": "104",
         "6": "3744",
         "7": "01/07/2022",
         "8": "0"
        },
        {
         "0": "821",
         "1": "CLIENT_3",
         "2": "PDV_7",
         "3": "PROD_2",
         "4": "6",
         "5": "125",
         "6": "750",
         "7": "01/07/2022",
         "8": "0"
        },
        {
         "0": "822",
         "1": "CLIENT_7",
         "2": "PDV_1",
         "3": "PROD_2",
         "4": "7",
         "5": "263",
         "6": "1841",
         "7": "01/07/2022",
         "8": "0"
        },
        {
         "0": "823",
         "1": "CLIENT_7",
         "2": "PDV_6",
         "3": "PROD_6",
         "4": "32",
         "5": "98",
         "6": "3136",
         "7": "01/07/2022",
         "8": "0"
        },
        {
         "0": "824",
         "1": "CLIENT_7",
         "2": "PDV_5",
         "3": "PROD_2",
         "4": "31",
         "5": "119",
         "6": "3689",
         "7": "01/07/2022",
         "8": "0"
        },
        {
         "0": "825",
         "1": "CLIENT_8",
         "2": "PDV_4",
         "3": "PROD_5",
         "4": "50",
         "5": "272",
         "6": "13600",
         "7": "01/07/2022",
         "8": "0"
        },
        {
         "0": "826",
         "1": "CLIENT_5",
         "2": "PDV_6",
         "3": "PROD_4",
         "4": "41",
         "5": "88",
         "6": "3608",
         "7": "01/07/2022",
         "8": "0"
        },
        {
         "0": "827",
         "1": "CLIENT_5",
         "2": "PDV_1",
         "3": "PROD_4",
         "4": "33",
         "5": "197",
         "6": "6501",
         "7": "01/07/2022",
         "8": "0"
        },
        {
         "0": "828",
         "1": "CLIENT_1",
         "2": "PDV_3",
         "3": "PROD_1",
         "4": "26",
         "5": "34",
         "6": "884",
         "7": "01/08/2022",
         "8": "0"
        },
        {
         "0": "829",
         "1": "CLIENT_1",
         "2": "PDV_2",
         "3": "PROD_3",
         "4": "20",
         "5": "27",
         "6": "540",
         "7": "01/08/2022",
         "8": "0"
        },
        {
         "0": "830",
         "1": "CLIENT_6",
         "2": "PDV_7",
         "3": "PROD_2",
         "4": "47",
         "5": "281",
         "6": "13207",
         "7": "01/08/2022",
         "8": "0"
        },
        {
         "0": "831",
         "1": "CLIENT_4",
         "2": "PDV_4",
         "3": "PROD_3",
         "4": "13",
         "5": "334",
         "6": "4342",
         "7": "01/08/2022",
         "8": "0"
        },
        {
         "0": "832",
         "1": "CLIENT_1",
         "2": "PDV_2",
         "3": "PROD_3",
         "4": "46",
         "5": "338",
         "6": "15548",
         "7": "01/08/2022",
         "8": "0"
        },
        {
         "0": "833",
         "1": "CLIENT_3",
         "2": "PDV_7",
         "3": "PROD_2",
         "4": "4",
         "5": "308",
         "6": "1232",
         "7": "01/08/2022",
         "8": "0"
        },
        {
         "0": "834",
         "1": "CLIENT_5",
         "2": "PDV_5",
         "3": "PROD_6",
         "4": "4",
         "5": "12",
         "6": "48",
         "7": "01/08/2022",
         "8": "0"
        },
        {
         "0": "835",
         "1": "CLIENT_3",
         "2": "PDV_2",
         "3": "PROD_1",
         "4": "43",
         "5": "304",
         "6": "13072",
         "7": "01/08/2022",
         "8": "0"
        },
        {
         "0": "836",
         "1": "CLIENT_3",
         "2": "PDV_1",
         "3": "PROD_4",
         "4": "16",
         "5": "297",
         "6": "4752",
         "7": "01/08/2022",
         "8": "0"
        },
        {
         "0": "837",
         "1": "CLIENT_4",
         "2": "PDV_7",
         "3": "PROD_1",
         "4": "49",
         "5": "301",
         "6": "14749",
         "7": "01/08/2022",
         "8": "0"
        },
        {
         "0": "838",
         "1": "CLIENT_1",
         "2": "PDV_5",
         "3": "PROD_6",
         "4": "5",
         "5": "206",
         "6": "1030",
         "7": "01/08/2022",
         "8": "0"
        },
        {
         "0": "839",
         "1": "CLIENT_8",
         "2": "PDV_1",
         "3": "PROD_1",
         "4": "27",
         "5": "182",
         "6": "4914",
         "7": "01/08/2022",
         "8": "0"
        },
        {
         "0": "840",
         "1": "CLIENT_8",
         "2": "PDV_7",
         "3": "PROD_1",
         "4": "15",
         "5": "251",
         "6": "3765",
         "7": "01/08/2022",
         "8": "0"
        },
        {
         "0": "841",
         "1": "CLIENT_1",
         "2": "PDV_1",
         "3": "PROD_3",
         "4": "3",
         "5": "222",
         "6": "666",
         "7": "01/08/2022",
         "8": "0"
        },
        {
         "0": "842",
         "1": "CLIENT_5",
         "2": "PDV_1",
         "3": "PROD_3",
         "4": "35",
         "5": "310",
         "6": "10850",
         "7": "01/08/2022",
         "8": "0"
        },
        {
         "0": "843",
         "1": "CLIENT_2",
         "2": "PDV_7",
         "3": "PROD_1",
         "4": "20",
         "5": "283",
         "6": "5660",
         "7": "01/08/2022",
         "8": "0"
        },
        {
         "0": "844",
         "1": "CLIENT_6",
         "2": "PDV_7",
         "3": "PROD_3",
         "4": "19",
         "5": "254",
         "6": "4826",
         "7": "01/08/2022",
         "8": "0"
        },
        {
         "0": "845",
         "1": "CLIENT_4",
         "2": "PDV_2",
         "3": "PROD_3",
         "4": "47",
         "5": "20",
         "6": "940",
         "7": "01/08/2022",
         "8": "0"
        },
        {
         "0": "846",
         "1": "CLIENT_5",
         "2": "PDV_6",
         "3": "PROD_1",
         "4": "19",
         "5": "154",
         "6": "2926",
         "7": "01/08/2022",
         "8": "0"
        },
        {
         "0": "847",
         "1": "CLIENT_2",
         "2": "PDV_3",
         "3": "PROD_1",
         "4": "43",
         "5": "79",
         "6": "3397",
         "7": "01/08/2022",
         "8": "0"
        },
        {
         "0": "848",
         "1": "CLIENT_5",
         "2": "PDV_5",
         "3": "PROD_1",
         "4": "11",
         "5": "282",
         "6": "3102",
         "7": "01/08/2022",
         "8": "0"
        },
        {
         "0": "849",
         "1": "CLIENT_1",
         "2": "PDV_2",
         "3": "PROD_1",
         "4": "2",
         "5": "34",
         "6": "68",
         "7": "01/08/2022",
         "8": "0"
        },
        {
         "0": "850",
         "1": "CLIENT_1",
         "2": "PDV_6",
         "3": "PROD_2",
         "4": "2",
         "5": "338",
         "6": "676",
         "7": "01/08/2022",
         "8": "0"
        },
        {
         "0": "851",
         "1": "CLIENT_8",
         "2": "PDV_7",
         "3": "PROD_1",
         "4": "25",
         "5": "16",
         "6": "400",
         "7": "01/08/2022",
         "8": "0"
        },
        {
         "0": "852",
         "1": "CLIENT_4",
         "2": "PDV_5",
         "3": "PROD_3",
         "4": "29",
         "5": "295",
         "6": "8555",
         "7": "01/08/2022",
         "8": "0"
        },
        {
         "0": "853",
         "1": "CLIENT_8",
         "2": "PDV_4",
         "3": "PROD_5",
         "4": "33",
         "5": "185",
         "6": "6105",
         "7": "01/08/2022",
         "8": "0"
        },
        {
         "0": "854",
         "1": "CLIENT_8",
         "2": "PDV_5",
         "3": "PROD_1",
         "4": "25",
         "5": "306",
         "6": "7650",
         "7": "01/08/2022",
         "8": "0"
        },
        {
         "0": "855",
         "1": "CLIENT_4",
         "2": "PDV_4",
         "3": "PROD_1",
         "4": "23",
         "5": "78",
         "6": "1794",
         "7": "01/08/2022",
         "8": "0"
        },
        {
         "0": "856",
         "1": "CLIENT_6",
         "2": "PDV_5",
         "3": "PROD_2",
         "4": "15",
         "5": "141",
         "6": "2115",
         "7": "01/08/2022",
         "8": "0"
        },
        {
         "0": "857",
         "1": "CLIENT_2",
         "2": "PDV_3",
         "3": "PROD_5",
         "4": "13",
         "5": "8",
         "6": "104",
         "7": "01/08/2022",
         "8": "0"
        },
        {
         "0": "858",
         "1": "CLIENT_4",
         "2": "PDV_7",
         "3": "PROD_3",
         "4": "44",
         "5": "68",
         "6": "2992",
         "7": "01/08/2022",
         "8": "0"
        },
        {
         "0": "859",
         "1": "CLIENT_3",
         "2": "PDV_3",
         "3": "PROD_6",
         "4": "25",
         "5": "38",
         "6": "950",
         "7": "01/08/2022",
         "8": "0"
        },
        {
         "0": "860",
         "1": "CLIENT_3",
         "2": "PDV_4",
         "3": "PROD_1",
         "4": "27",
         "5": "339",
         "6": "9153",
         "7": "01/08/2022",
         "8": "0"
        },
        {
         "0": "861",
         "1": "CLIENT_2",
         "2": "PDV_1",
         "3": "PROD_4",
         "4": "3",
         "5": "323",
         "6": "969",
         "7": "01/08/2022",
         "8": "0"
        },
        {
         "0": "862",
         "1": "CLIENT_8",
         "2": "PDV_4",
         "3": "PROD_3",
         "4": "20",
         "5": "118",
         "6": "2360",
         "7": "01/08/2022",
         "8": "0"
        },
        {
         "0": "863",
         "1": "CLIENT_7",
         "2": "PDV_5",
         "3": "PROD_6",
         "4": "12",
         "5": "282",
         "6": "3384",
         "7": "01/08/2022",
         "8": "0"
        },
        {
         "0": "864",
         "1": "CLIENT_2",
         "2": "PDV_2",
         "3": "PROD_3",
         "4": "47",
         "5": "273",
         "6": "12831",
         "7": "01/08/2022",
         "8": "0"
        },
        {
         "0": "865",
         "1": "CLIENT_7",
         "2": "PDV_6",
         "3": "PROD_5",
         "4": "23",
         "5": "141",
         "6": "3243",
         "7": "01/08/2022",
         "8": "0"
        },
        {
         "0": "866",
         "1": "CLIENT_1",
         "2": "PDV_1",
         "3": "PROD_2",
         "4": "37",
         "5": "202",
         "6": "7474",
         "7": "01/08/2022",
         "8": "0"
        },
        {
         "0": "867",
         "1": "CLIENT_7",
         "2": "PDV_1",
         "3": "PROD_4",
         "4": "42",
         "5": "55",
         "6": "2310",
         "7": "01/09/2022",
         "8": "0"
        },
        {
         "0": "868",
         "1": "CLIENT_1",
         "2": "PDV_6",
         "3": "PROD_1",
         "4": "22",
         "5": "107",
         "6": "2354",
         "7": "01/09/2022",
         "8": "0"
        },
        {
         "0": "869",
         "1": "CLIENT_8",
         "2": "PDV_5",
         "3": "PROD_5",
         "4": "12",
         "5": "50",
         "6": "600",
         "7": "01/09/2022",
         "8": "0"
        },
        {
         "0": "870",
         "1": "CLIENT_6",
         "2": "PDV_1",
         "3": "PROD_5",
         "4": "35",
         "5": "209",
         "6": "7315",
         "7": "01/09/2022",
         "8": "0"
        },
        {
         "0": "871",
         "1": "CLIENT_4",
         "2": "PDV_3",
         "3": "PROD_6",
         "4": "31",
         "5": "124",
         "6": "3844",
         "7": "01/09/2022",
         "8": "0"
        },
        {
         "0": "872",
         "1": "CLIENT_2",
         "2": "PDV_3",
         "3": "PROD_3",
         "4": "38",
         "5": "229",
         "6": "8702",
         "7": "01/09/2022",
         "8": "0"
        },
        {
         "0": "873",
         "1": "CLIENT_8",
         "2": "PDV_3",
         "3": "PROD_1",
         "4": "36",
         "5": "51",
         "6": "1836",
         "7": "01/09/2022",
         "8": "0"
        },
        {
         "0": "874",
         "1": "CLIENT_8",
         "2": "PDV_3",
         "3": "PROD_2",
         "4": "28",
         "5": "44",
         "6": "1232",
         "7": "01/09/2022",
         "8": "0"
        },
        {
         "0": "875",
         "1": "CLIENT_6",
         "2": "PDV_2",
         "3": "PROD_3",
         "4": "48",
         "5": "11",
         "6": "528",
         "7": "01/09/2022",
         "8": "0"
        },
        {
         "0": "876",
         "1": "CLIENT_7",
         "2": "PDV_6",
         "3": "PROD_5",
         "4": "37",
         "5": "184",
         "6": "6808",
         "7": "01/09/2022",
         "8": "0"
        },
        {
         "0": "877",
         "1": "CLIENT_1",
         "2": "PDV_4",
         "3": "PROD_1",
         "4": "11",
         "5": "81",
         "6": "891",
         "7": "01/09/2022",
         "8": "0"
        },
        {
         "0": "878",
         "1": "CLIENT_8",
         "2": "PDV_5",
         "3": "PROD_6",
         "4": "39",
         "5": "229",
         "6": "8931",
         "7": "01/09/2022",
         "8": "0"
        },
        {
         "0": "879",
         "1": "CLIENT_8",
         "2": "PDV_4",
         "3": "PROD_4",
         "4": "24",
         "5": "329",
         "6": "7896",
         "7": "01/09/2022",
         "8": "0"
        },
        {
         "0": "880",
         "1": "CLIENT_2",
         "2": "PDV_6",
         "3": "PROD_5",
         "4": "3",
         "5": "167",
         "6": "501",
         "7": "01/09/2022",
         "8": "0"
        },
        {
         "0": "881",
         "1": "CLIENT_7",
         "2": "PDV_3",
         "3": "PROD_2",
         "4": "33",
         "5": "77",
         "6": "2541",
         "7": "01/09/2022",
         "8": "0"
        },
        {
         "0": "882",
         "1": "CLIENT_8",
         "2": "PDV_3",
         "3": "PROD_4",
         "4": "6",
         "5": "63",
         "6": "378",
         "7": "01/09/2022",
         "8": "0"
        },
        {
         "0": "883",
         "1": "CLIENT_8",
         "2": "PDV_7",
         "3": "PROD_4",
         "4": "15",
         "5": "12",
         "6": "180",
         "7": "01/09/2022",
         "8": "0"
        },
        {
         "0": "884",
         "1": "CLIENT_6",
         "2": "PDV_3",
         "3": "PROD_3",
         "4": "15",
         "5": "25",
         "6": "375",
         "7": "01/09/2022",
         "8": "0"
        },
        {
         "0": "885",
         "1": "CLIENT_7",
         "2": "PDV_6",
         "3": "PROD_2",
         "4": "37",
         "5": "223",
         "6": "8251",
         "7": "01/09/2022",
         "8": "0"
        },
        {
         "0": "886",
         "1": "CLIENT_3",
         "2": "PDV_4",
         "3": "PROD_4",
         "4": "28",
         "5": "68",
         "6": "1904",
         "7": "01/09/2022",
         "8": "0"
        },
        {
         "0": "887",
         "1": "CLIENT_8",
         "2": "PDV_2",
         "3": "PROD_6",
         "4": "2",
         "5": "61",
         "6": "122",
         "7": "01/09/2022",
         "8": "0"
        },
        {
         "0": "888",
         "1": "CLIENT_1",
         "2": "PDV_1",
         "3": "PROD_4",
         "4": "37",
         "5": "42",
         "6": "1554",
         "7": "01/09/2022",
         "8": "0"
        },
        {
         "0": "889",
         "1": "CLIENT_8",
         "2": "PDV_3",
         "3": "PROD_6",
         "4": "14",
         "5": "130",
         "6": "1820",
         "7": "01/09/2022",
         "8": "0"
        },
        {
         "0": "890",
         "1": "CLIENT_6",
         "2": "PDV_7",
         "3": "PROD_5",
         "4": "48",
         "5": "72",
         "6": "3456",
         "7": "01/09/2022",
         "8": "0"
        },
        {
         "0": "891",
         "1": "CLIENT_8",
         "2": "PDV_7",
         "3": "PROD_3",
         "4": "42",
         "5": "149",
         "6": "6258",
         "7": "01/09/2022",
         "8": "0"
        },
        {
         "0": "892",
         "1": "CLIENT_5",
         "2": "PDV_3",
         "3": "PROD_1",
         "4": "29",
         "5": "89",
         "6": "2581",
         "7": "01/09/2022",
         "8": "0"
        },
        {
         "0": "893",
         "1": "CLIENT_5",
         "2": "PDV_1",
         "3": "PROD_1",
         "4": "37",
         "5": "138",
         "6": "5106",
         "7": "01/09/2022",
         "8": "0"
        },
        {
         "0": "894",
         "1": "CLIENT_4",
         "2": "PDV_3",
         "3": "PROD_1",
         "4": "35",
         "5": "315",
         "6": "11025",
         "7": "01/09/2022",
         "8": "0"
        },
        {
         "0": "895",
         "1": "CLIENT_6",
         "2": "PDV_2",
         "3": "PROD_3",
         "4": "40",
         "5": "110",
         "6": "4400",
         "7": "01/09/2022",
         "8": "0"
        },
        {
         "0": "896",
         "1": "CLIENT_5",
         "2": "PDV_5",
         "3": "PROD_5",
         "4": "44",
         "5": "151",
         "6": "6644",
         "7": "01/10/2022",
         "8": "0"
        },
        {
         "0": "897",
         "1": "CLIENT_3",
         "2": "PDV_1",
         "3": "PROD_4",
         "4": "13",
         "5": "19",
         "6": "247",
         "7": "01/10/2022",
         "8": "0"
        },
        {
         "0": "898",
         "1": "CLIENT_6",
         "2": "PDV_3",
         "3": "PROD_5",
         "4": "13",
         "5": "132",
         "6": "1716",
         "7": "01/10/2022",
         "8": "0"
        },
        {
         "0": "899",
         "1": "CLIENT_8",
         "2": "PDV_2",
         "3": "PROD_2",
         "4": "32",
         "5": "314",
         "6": "10048",
         "7": "01/10/2022",
         "8": "0"
        },
        {
         "0": "900",
         "1": "CLIENT_5",
         "2": "PDV_4",
         "3": "PROD_5",
         "4": "33",
         "5": "9",
         "6": "297",
         "7": "01/10/2022",
         "8": "0"
        },
        {
         "0": "901",
         "1": "CLIENT_4",
         "2": "PDV_7",
         "3": "PROD_6",
         "4": "3",
         "5": "284",
         "6": "852",
         "7": "01/10/2022",
         "8": "0"
        },
        {
         "0": "902",
         "1": "CLIENT_2",
         "2": "PDV_1",
         "3": "PROD_4",
         "4": "22",
         "5": "299",
         "6": "6578",
         "7": "01/10/2022",
         "8": "0"
        },
        {
         "0": "903",
         "1": "CLIENT_6",
         "2": "PDV_5",
         "3": "PROD_5",
         "4": "5",
         "5": "180",
         "6": "900",
         "7": "01/10/2022",
         "8": "0"
        },
        {
         "0": "904",
         "1": "CLIENT_8",
         "2": "PDV_5",
         "3": "PROD_2",
         "4": "10",
         "5": "343",
         "6": "3430",
         "7": "01/10/2022",
         "8": "0"
        },
        {
         "0": "905",
         "1": "CLIENT_6",
         "2": "PDV_5",
         "3": "PROD_3",
         "4": "31",
         "5": "95",
         "6": "2945",
         "7": "01/10/2022",
         "8": "0"
        },
        {
         "0": "906",
         "1": "CLIENT_1",
         "2": "PDV_2",
         "3": "PROD_3",
         "4": "23",
         "5": "338",
         "6": "7774",
         "7": "01/10/2022",
         "8": "0"
        },
        {
         "0": "907",
         "1": "CLIENT_5",
         "2": "PDV_6",
         "3": "PROD_6",
         "4": "11",
         "5": "287",
         "6": "3157",
         "7": "01/10/2022",
         "8": "0"
        },
        {
         "0": "908",
         "1": "CLIENT_3",
         "2": "PDV_2",
         "3": "PROD_4",
         "4": "50",
         "5": "317",
         "6": "15850",
         "7": "01/10/2022",
         "8": "0"
        },
        {
         "0": "909",
         "1": "CLIENT_4",
         "2": "PDV_7",
         "3": "PROD_5",
         "4": "35",
         "5": "175",
         "6": "6125",
         "7": "01/10/2022",
         "8": "0"
        },
        {
         "0": "910",
         "1": "CLIENT_8",
         "2": "PDV_7",
         "3": "PROD_6",
         "4": "15",
         "5": "55",
         "6": "825",
         "7": "01/10/2022",
         "8": "1"
        },
        {
         "0": "911",
         "1": "CLIENT_4",
         "2": "PDV_3",
         "3": "PROD_1",
         "4": "33",
         "5": "112",
         "6": "3696",
         "7": "01/10/2022",
         "8": "0"
        },
        {
         "0": "912",
         "1": "CLIENT_7",
         "2": "PDV_5",
         "3": "PROD_4",
         "4": "34",
         "5": "142",
         "6": "4828",
         "7": "01/10/2022",
         "8": "0"
        },
        {
         "0": "913",
         "1": "CLIENT_4",
         "2": "PDV_7",
         "3": "PROD_6",
         "4": "15",
         "5": "341",
         "6": "5115",
         "7": "01/10/2022",
         "8": "0"
        },
        {
         "0": "914",
         "1": "CLIENT_8",
         "2": "PDV_3",
         "3": "PROD_5",
         "4": "25",
         "5": "340",
         "6": "8500",
         "7": "01/10/2022",
         "8": "0"
        },
        {
         "0": "915",
         "1": "CLIENT_2",
         "2": "PDV_1",
         "3": "PROD_3",
         "4": "30",
         "5": "133",
         "6": "3990",
         "7": "01/10/2022",
         "8": "0"
        },
        {
         "0": "916",
         "1": "CLIENT_6",
         "2": "PDV_1",
         "3": "PROD_6",
         "4": "47",
         "5": "82",
         "6": "3854",
         "7": "01/10/2022",
         "8": "0"
        },
        {
         "0": "917",
         "1": "CLIENT_6",
         "2": "PDV_2",
         "3": "PROD_4",
         "4": "17",
         "5": "30",
         "6": "510",
         "7": "01/10/2022",
         "8": "0"
        },
        {
         "0": "918",
         "1": "CLIENT_4",
         "2": "PDV_7",
         "3": "PROD_1",
         "4": "22",
         "5": "33",
         "6": "726",
         "7": "01/10/2022",
         "8": "0"
        },
        {
         "0": "919",
         "1": "CLIENT_2",
         "2": "PDV_3",
         "3": "PROD_3",
         "4": "39",
         "5": "256",
         "6": "9984",
         "7": "01/10/2022",
         "8": "0"
        },
        {
         "0": "920",
         "1": "CLIENT_1",
         "2": "PDV_5",
         "3": "PROD_2",
         "4": "20",
         "5": "231",
         "6": "4620",
         "7": "01/10/2022",
         "8": "0"
        },
        {
         "0": "921",
         "1": "CLIENT_6",
         "2": "PDV_3",
         "3": "PROD_1",
         "4": "42",
         "5": "119",
         "6": "4998",
         "7": "01/10/2022",
         "8": "0"
        },
        {
         "0": "922",
         "1": "CLIENT_7",
         "2": "PDV_7",
         "3": "PROD_1",
         "4": "21",
         "5": "309",
         "6": "6489",
         "7": "01/10/2022",
         "8": "0"
        },
        {
         "0": "923",
         "1": "CLIENT_7",
         "2": "PDV_4",
         "3": "PROD_2",
         "4": "28",
         "5": "150",
         "6": "4200",
         "7": "01/10/2022",
         "8": "0"
        },
        {
         "0": "924",
         "1": "CLIENT_3",
         "2": "PDV_5",
         "3": "PROD_2",
         "4": "25",
         "5": "107",
         "6": "2675",
         "7": "01/10/2022",
         "8": "0"
        },
        {
         "0": "925",
         "1": "CLIENT_5",
         "2": "PDV_2",
         "3": "PROD_5",
         "4": "28",
         "5": "41",
         "6": "1148",
         "7": "01/10/2022",
         "8": "0"
        },
        {
         "0": "926",
         "1": "CLIENT_2",
         "2": "PDV_3",
         "3": "PROD_3",
         "4": "10",
         "5": "328",
         "6": "3280",
         "7": "01/10/2022",
         "8": "0"
        },
        {
         "0": "927",
         "1": "CLIENT_7",
         "2": "PDV_7",
         "3": "PROD_6",
         "4": "12",
         "5": "209",
         "6": "2508",
         "7": "01/10/2022",
         "8": "0"
        },
        {
         "0": "928",
         "1": "CLIENT_1",
         "2": "PDV_7",
         "3": "PROD_3",
         "4": "16",
         "5": "141",
         "6": "2256",
         "7": "01/10/2022",
         "8": "0"
        },
        {
         "0": "929",
         "1": "CLIENT_3",
         "2": "PDV_4",
         "3": "PROD_4",
         "4": "31",
         "5": "175",
         "6": "5425",
         "7": "01/10/2022",
         "8": "0"
        },
        {
         "0": "930",
         "1": "CLIENT_2",
         "2": "PDV_3",
         "3": "PROD_2",
         "4": "5",
         "5": "264",
         "6": "1320",
         "7": "01/10/2022",
         "8": "0"
        },
        {
         "0": "931",
         "1": "CLIENT_5",
         "2": "PDV_6",
         "3": "PROD_5",
         "4": "50",
         "5": "266",
         "6": "13300",
         "7": "01/10/2022",
         "8": "0"
        },
        {
         "0": "932",
         "1": "CLIENT_6",
         "2": "PDV_3",
         "3": "PROD_3",
         "4": "29",
         "5": "90",
         "6": "2610",
         "7": "01/10/2022",
         "8": "0"
        },
        {
         "0": "933",
         "1": "CLIENT_7",
         "2": "PDV_1",
         "3": "PROD_3",
         "4": "34",
         "5": "110",
         "6": "3740",
         "7": "01/10/2022",
         "8": "0"
        },
        {
         "0": "934",
         "1": "CLIENT_1",
         "2": "PDV_2",
         "3": "PROD_2",
         "4": "14",
         "5": "99",
         "6": "1386",
         "7": "01/10/2022",
         "8": "0"
        },
        {
         "0": "935",
         "1": "CLIENT_3",
         "2": "PDV_7",
         "3": "PROD_2",
         "4": "44",
         "5": "59",
         "6": "2596",
         "7": "01/10/2022",
         "8": "0"
        },
        {
         "0": "936",
         "1": "CLIENT_4",
         "2": "PDV_2",
         "3": "PROD_4",
         "4": "23",
         "5": "91",
         "6": "2093",
         "7": "01/10/2022",
         "8": "0"
        },
        {
         "0": "937",
         "1": "CLIENT_8",
         "2": "PDV_4",
         "3": "PROD_3",
         "4": "12",
         "5": "13",
         "6": "156",
         "7": "01/10/2022",
         "8": "0"
        },
        {
         "0": "938",
         "1": "CLIENT_2",
         "2": "PDV_7",
         "3": "PROD_2",
         "4": "2",
         "5": "298",
         "6": "596",
         "7": "01/10/2022",
         "8": "0"
        },
        {
         "0": "939",
         "1": "CLIENT_2",
         "2": "PDV_5",
         "3": "PROD_4",
         "4": "38",
         "5": "274",
         "6": "10412",
         "7": "01/10/2022",
         "8": "0"
        },
        {
         "0": "940",
         "1": "CLIENT_4",
         "2": "PDV_3",
         "3": "PROD_6",
         "4": "12",
         "5": "27",
         "6": "324",
         "7": "01/10/2022",
         "8": "0"
        },
        {
         "0": "941",
         "1": "CLIENT_7",
         "2": "PDV_5",
         "3": "PROD_3",
         "4": "8",
         "5": "174",
         "6": "1392",
         "7": "01/10/2022",
         "8": "0"
        },
        {
         "0": "942",
         "1": "CLIENT_7",
         "2": "PDV_7",
         "3": "PROD_4",
         "4": "4",
         "5": "348",
         "6": "1392",
         "7": "01/10/2022",
         "8": "0"
        },
        {
         "0": "943",
         "1": "CLIENT_2",
         "2": "PDV_1",
         "3": "PROD_1",
         "4": "7",
         "5": "130",
         "6": "910",
         "7": "01/10/2022",
         "8": "0"
        },
        {
         "0": "944",
         "1": "CLIENT_6",
         "2": "PDV_1",
         "3": "PROD_6",
         "4": "11",
         "5": "155",
         "6": "1705",
         "7": "01/10/2022",
         "8": "0"
        },
        {
         "0": "945",
         "1": "CLIENT_3",
         "2": "PDV_1",
         "3": "PROD_6",
         "4": "21",
         "5": "308",
         "6": "6468",
         "7": "01/10/2022",
         "8": "0"
        },
        {
         "0": "946",
         "1": "CLIENT_4",
         "2": "PDV_2",
         "3": "PROD_6",
         "4": "5",
         "5": "270",
         "6": "1350",
         "7": "01/10/2022",
         "8": "0"
        },
        {
         "0": "947",
         "1": "CLIENT_6",
         "2": "PDV_6",
         "3": "PROD_2",
         "4": "32",
         "5": "185",
         "6": "5920",
         "7": "01/10/2022",
         "8": "0"
        },
        {
         "0": "948",
         "1": "CLIENT_2",
         "2": "PDV_1",
         "3": "PROD_1",
         "4": "45",
         "5": "238",
         "6": "10710",
         "7": "01/10/2022",
         "8": "0"
        },
        {
         "0": "949",
         "1": "CLIENT_1",
         "2": "PDV_4",
         "3": "PROD_1",
         "4": "30",
         "5": "220",
         "6": "6600",
         "7": "01/10/2022",
         "8": "0"
        },
        {
         "0": "950",
         "1": "CLIENT_7",
         "2": "PDV_4",
         "3": "PROD_3",
         "4": "33",
         "5": "34",
         "6": "1122",
         "7": "01/10/2022",
         "8": "0"
        },
        {
         "0": "951",
         "1": "CLIENT_3",
         "2": "PDV_7",
         "3": "PROD_2",
         "4": "6",
         "5": "218",
         "6": "1308",
         "7": "01/10/2022",
         "8": "0"
        },
        {
         "0": "952",
         "1": "CLIENT_2",
         "2": "PDV_1",
         "3": "PROD_6",
         "4": "9",
         "5": "225",
         "6": "2025",
         "7": "01/10/2022",
         "8": "0"
        },
        {
         "0": "953",
         "1": "CLIENT_5",
         "2": "PDV_6",
         "3": "PROD_1",
         "4": "21",
         "5": "85",
         "6": "1785",
         "7": "01/10/2022",
         "8": "0"
        },
        {
         "0": "954",
         "1": "CLIENT_8",
         "2": "PDV_3",
         "3": "PROD_3",
         "4": "49",
         "5": "151",
         "6": "7399",
         "7": "01/10/2022",
         "8": "0"
        },
        {
         "0": "955",
         "1": "CLIENT_2",
         "2": "PDV_3",
         "3": "PROD_6",
         "4": "21",
         "5": "227",
         "6": "4767",
         "7": "01/10/2022",
         "8": "0"
        },
        {
         "0": "956",
         "1": "CLIENT_7",
         "2": "PDV_5",
         "3": "PROD_4",
         "4": "32",
         "5": "215",
         "6": "6880",
         "7": "01/10/2022",
         "8": "0"
        },
        {
         "0": "957",
         "1": "CLIENT_6",
         "2": "PDV_4",
         "3": "PROD_4",
         "4": "32",
         "5": "323",
         "6": "10336",
         "7": "01/10/2022",
         "8": "0"
        },
        {
         "0": "958",
         "1": "CLIENT_3",
         "2": "PDV_3",
         "3": "PROD_5",
         "4": "11",
         "5": "285",
         "6": "3135",
         "7": "01/10/2022",
         "8": "0"
        },
        {
         "0": "959",
         "1": "CLIENT_3",
         "2": "PDV_1",
         "3": "PROD_4",
         "4": "24",
         "5": "244",
         "6": "5856",
         "7": "01/11/2022",
         "8": "0"
        },
        {
         "0": "960",
         "1": "CLIENT_2",
         "2": "PDV_5",
         "3": "PROD_3",
         "4": "6",
         "5": "130",
         "6": "780",
         "7": "01/11/2022",
         "8": "0"
        },
        {
         "0": "961",
         "1": "CLIENT_8",
         "2": "PDV_2",
         "3": "PROD_1",
         "4": "5",
         "5": "7",
         "6": "35",
         "7": "01/11/2022",
         "8": "0"
        },
        {
         "0": "962",
         "1": "CLIENT_3",
         "2": "PDV_4",
         "3": "PROD_2",
         "4": "25",
         "5": "340",
         "6": "8500",
         "7": "01/11/2022",
         "8": "0"
        },
        {
         "0": "963",
         "1": "CLIENT_2",
         "2": "PDV_1",
         "3": "PROD_1",
         "4": "16",
         "5": "84",
         "6": "1344",
         "7": "01/11/2022",
         "8": "0"
        },
        {
         "0": "964",
         "1": "CLIENT_7",
         "2": "PDV_1",
         "3": "PROD_3",
         "4": "24",
         "5": "187",
         "6": "4488",
         "7": "01/11/2022",
         "8": "0"
        },
        {
         "0": "965",
         "1": "CLIENT_8",
         "2": "PDV_7",
         "3": "PROD_1",
         "4": "18",
         "5": "18",
         "6": "324",
         "7": "01/11/2022",
         "8": "0"
        },
        {
         "0": "966",
         "1": "CLIENT_6",
         "2": "PDV_4",
         "3": "PROD_1",
         "4": "43",
         "5": "179",
         "6": "7697",
         "7": "01/11/2022",
         "8": "0"
        },
        {
         "0": "967",
         "1": "CLIENT_4",
         "2": "PDV_3",
         "3": "PROD_3",
         "4": "20",
         "5": "207",
         "6": "4140",
         "7": "01/11/2022",
         "8": "0"
        },
        {
         "0": "968",
         "1": "CLIENT_3",
         "2": "PDV_6",
         "3": "PROD_1",
         "4": "15",
         "5": "70",
         "6": "1050",
         "7": "01/11/2022",
         "8": "0"
        },
        {
         "0": "969",
         "1": "CLIENT_5",
         "2": "PDV_4",
         "3": "PROD_2",
         "4": "13",
         "5": "120",
         "6": "1560",
         "7": "01/11/2022",
         "8": "0"
        },
        {
         "0": "970",
         "1": "CLIENT_7",
         "2": "PDV_5",
         "3": "PROD_6",
         "4": "22",
         "5": "240",
         "6": "5280",
         "7": "01/11/2022",
         "8": "0"
        },
        {
         "0": "971",
         "1": "CLIENT_4",
         "2": "PDV_4",
         "3": "PROD_1",
         "4": "18",
         "5": "232",
         "6": "4176",
         "7": "01/11/2022",
         "8": "0"
        },
        {
         "0": "972",
         "1": "CLIENT_3",
         "2": "PDV_1",
         "3": "PROD_6",
         "4": "28",
         "5": "312",
         "6": "8736",
         "7": "01/11/2022",
         "8": "0"
        },
        {
         "0": "973",
         "1": "CLIENT_8",
         "2": "PDV_1",
         "3": "PROD_6",
         "4": "16",
         "5": "234",
         "6": "3744",
         "7": "01/11/2022",
         "8": "0"
        },
        {
         "0": "974",
         "1": "CLIENT_2",
         "2": "PDV_3",
         "3": "PROD_3",
         "4": "19",
         "5": "156",
         "6": "2964",
         "7": "01/11/2022",
         "8": "0"
        },
        {
         "0": "975",
         "1": "CLIENT_2",
         "2": "PDV_1",
         "3": "PROD_2",
         "4": "38",
         "5": "301",
         "6": "11438",
         "7": "01/11/2022",
         "8": "0"
        },
        {
         "0": "976",
         "1": "CLIENT_5",
         "2": "PDV_6",
         "3": "PROD_4",
         "4": "12",
         "5": "26",
         "6": "312",
         "7": "01/11/2022",
         "8": "0"
        },
        {
         "0": "977",
         "1": "CLIENT_5",
         "2": "PDV_6",
         "3": "PROD_4",
         "4": "22",
         "5": "133",
         "6": "2926",
         "7": "01/11/2022",
         "8": "0"
        },
        {
         "0": "978",
         "1": "CLIENT_8",
         "2": "PDV_1",
         "3": "PROD_6",
         "4": "7",
         "5": "204",
         "6": "1428",
         "7": "01/11/2022",
         "8": "0"
        },
        {
         "0": "979",
         "1": "CLIENT_1",
         "2": "PDV_1",
         "3": "PROD_2",
         "4": "12",
         "5": "197",
         "6": "2364",
         "7": "01/11/2022",
         "8": "0"
        },
        {
         "0": "980",
         "1": "CLIENT_4",
         "2": "PDV_3",
         "3": "PROD_4",
         "4": "20",
         "5": "102",
         "6": "2040",
         "7": "01/11/2022",
         "8": "0"
        },
        {
         "0": "981",
         "1": "CLIENT_5",
         "2": "PDV_4",
         "3": "PROD_5",
         "4": "30",
         "5": "159",
         "6": "4770",
         "7": "01/11/2022",
         "8": "0"
        },
        {
         "0": "982",
         "1": "CLIENT_5",
         "2": "PDV_3",
         "3": "PROD_3",
         "4": "49",
         "5": "344",
         "6": "16856",
         "7": "01/11/2022",
         "8": "0"
        },
        {
         "0": "983",
         "1": "CLIENT_5",
         "2": "PDV_2",
         "3": "PROD_3",
         "4": "43",
         "5": "144",
         "6": "6192",
         "7": "01/11/2022",
         "8": "0"
        },
        {
         "0": "984",
         "1": "CLIENT_4",
         "2": "PDV_6",
         "3": "PROD_4",
         "4": "13",
         "5": "159",
         "6": "2067",
         "7": "01/11/2022",
         "8": "0"
        },
        {
         "0": "985",
         "1": "CLIENT_8",
         "2": "PDV_3",
         "3": "PROD_6",
         "4": "19",
         "5": "133",
         "6": "2527",
         "7": "01/11/2022",
         "8": "0"
        },
        {
         "0": "986",
         "1": "CLIENT_7",
         "2": "PDV_1",
         "3": "PROD_5",
         "4": "14",
         "5": "327",
         "6": "4578",
         "7": "01/11/2022",
         "8": "0"
        },
        {
         "0": "987",
         "1": "CLIENT_1",
         "2": "PDV_3",
         "3": "PROD_3",
         "4": "18",
         "5": "74",
         "6": "1332",
         "7": "01/11/2022",
         "8": "0"
        },
        {
         "0": "988",
         "1": "CLIENT_7",
         "2": "PDV_6",
         "3": "PROD_6",
         "4": "48",
         "5": "306",
         "6": "14688",
         "7": "01/11/2022",
         "8": "0"
        },
        {
         "0": "989",
         "1": "CLIENT_3",
         "2": "PDV_1",
         "3": "PROD_3",
         "4": "15",
         "5": "21",
         "6": "315",
         "7": "01/11/2022",
         "8": "0"
        },
        {
         "0": "990",
         "1": "CLIENT_2",
         "2": "PDV_6",
         "3": "PROD_3",
         "4": "21",
         "5": "289",
         "6": "6069",
         "7": "01/11/2022",
         "8": "0"
        },
        {
         "0": "991",
         "1": "CLIENT_8",
         "2": "PDV_7",
         "3": "PROD_5",
         "4": "10",
         "5": "110",
         "6": "1100",
         "7": "01/11/2022",
         "8": "0"
        },
        {
         "0": "992",
         "1": "CLIENT_6",
         "2": "PDV_1",
         "3": "PROD_2",
         "4": "16",
         "5": "124",
         "6": "1984",
         "7": "01/11/2022",
         "8": "0"
        },
        {
         "0": "993",
         "1": "CLIENT_7",
         "2": "PDV_6",
         "3": "PROD_2",
         "4": "38",
         "5": "148",
         "6": "5624",
         "7": "01/11/2022",
         "8": "0"
        },
        {
         "0": "994",
         "1": "CLIENT_6",
         "2": "PDV_5",
         "3": "PROD_4",
         "4": "47",
         "5": "160",
         "6": "7520",
         "7": "01/11/2022",
         "8": "0"
        },
        {
         "0": "995",
         "1": "CLIENT_7",
         "2": "PDV_3",
         "3": "PROD_2",
         "4": "8",
         "5": "97",
         "6": "776",
         "7": "01/11/2022",
         "8": "0"
        },
        {
         "0": "996",
         "1": "CLIENT_3",
         "2": "PDV_6",
         "3": "PROD_4",
         "4": "7",
         "5": "206",
         "6": "1442",
         "7": "01/11/2022",
         "8": "0"
        },
        {
         "0": "997",
         "1": "CLIENT_4",
         "2": "PDV_4",
         "3": "PROD_1",
         "4": "29",
         "5": "6",
         "6": "174",
         "7": "01/12/2022",
         "8": "0"
        },
        {
         "0": "998",
         "1": "CLIENT_8",
         "2": "PDV_4",
         "3": "PROD_3",
         "4": "30",
         "5": "304",
         "6": "9120",
         "7": "01/12/2022",
         "8": "0"
        },
        {
         "0": "999",
         "1": "CLIENT_5",
         "2": "PDV_2",
         "3": "PROD_6",
         "4": "50",
         "5": "53",
         "6": "2650",
         "7": "01/12/2022",
         "8": "0"
        },
        {
         "0": "1000",
         "1": "CLIENT_5",
         "2": "PDV_1",
         "3": "PROD_3",
         "4": "27",
         "5": "103",
         "6": "2781",
         "7": "01/12/2022",
         "8": "1"
        }
       ],
       "schema": [
        {
         "key": "0",
         "name": "vente_id",
         "type": "int"
        },
        {
         "key": "1",
         "name": "client_id",
         "type": "string"
        },
        {
         "key": "2",
         "name": "point_de_vente_id",
         "type": "string"
        },
        {
         "key": "3",
         "name": "produit_id",
         "type": "string"
        },
        {
         "key": "4",
         "name": "quantities_vendures",
         "type": "int"
        },
        {
         "key": "5",
         "name": "prix_vente_unitaire",
         "type": "int"
        },
        {
         "key": "6",
         "name": "ventes_euro",
         "type": "int"
        },
        {
         "key": "7",
         "name": "date_facturation",
         "type": "string"
        },
        {
         "key": "8",
         "name": "facture_contient_numero_10",
         "type": "int"
        }
       ],
       "truncated": false
      },
      "wranglerEntryContext": {
       "candidateVariableNames": [
        "df_add_column_contains"
       ],
       "dataframeType": "pyspark"
      }
     },
     "type": "Synapse.DataFrame"
    },
    "d41f6831-8903-4258-8947-df25619a6537": {
     "persist_state": {
      "view": {
       "chartOptions": {
        "aggregationType": "sum",
        "binsNumber": 10,
        "categoryFieldKeys": [],
        "chartType": "bar",
        "isStacked": false,
        "seriesFieldKeys": [],
        "wordFrequency": "-1"
       },
       "tableOptions": {},
       "type": "details",
       "viewOptionsGroup": [
        {
         "tabItems": [
          {
           "key": "0",
           "name": "Table",
           "options": {},
           "type": "table"
          }
         ]
        }
       ]
      }
     },
     "sync_state": {
      "isSummary": false,
      "language": "scala",
      "table": {
       "rows": [
        {
         "0": "1",
         "1": "CLIENT_1",
         "2": "PDV_5",
         "3": "PROD_1",
         "4": "18",
         "5": "60",
         "6": "1080",
         "7": "01/01/2021"
        },
        {
         "0": "2",
         "1": "CLIENT_1",
         "2": "PDV_4",
         "3": "PROD_6",
         "4": "13",
         "5": "128",
         "6": "1664",
         "7": "01/01/2021"
        },
        {
         "0": "3",
         "1": "CLIENT_1",
         "2": "PDV_2",
         "3": "PROD_1",
         "4": "3",
         "5": "25",
         "6": "75",
         "7": "01/01/2021"
        },
        {
         "0": "4",
         "1": "CLIENT_1",
         "2": "PDV_5",
         "3": "PROD_6",
         "4": "41",
         "5": "334",
         "6": "13694",
         "7": "01/01/2021"
        },
        {
         "0": "5",
         "1": "CLIENT_1",
         "2": "PDV_3",
         "3": "PROD_1",
         "4": "30",
         "5": "133",
         "6": "3990",
         "7": "01/01/2021"
        },
        {
         "0": "6",
         "1": "CLIENT_1",
         "2": "PDV_3",
         "3": "PROD_3",
         "4": "30",
         "5": "264",
         "6": "7920",
         "7": "01/01/2021"
        },
        {
         "0": "7",
         "1": "CLIENT_1",
         "2": "PDV_7",
         "3": "PROD_3",
         "4": "8",
         "5": "61",
         "6": "488",
         "7": "01/01/2021"
        },
        {
         "0": "8",
         "1": "CLIENT_1",
         "2": "PDV_6",
         "3": "PROD_4",
         "4": "19",
         "5": "61",
         "6": "1159",
         "7": "01/01/2021"
        },
        {
         "0": "9",
         "1": "CLIENT_1",
         "2": "PDV_5",
         "3": "PROD_5",
         "4": "14",
         "5": "48",
         "6": "672",
         "7": "01/01/2021"
        },
        {
         "0": "10",
         "1": "CLIENT_1",
         "2": "PDV_2",
         "3": "PROD_4",
         "4": "1",
         "5": "124",
         "6": "124",
         "7": "01/01/2021"
        },
        {
         "0": "11",
         "1": "CLIENT_1",
         "2": "PDV_2",
         "3": "PROD_2",
         "4": "40",
         "5": "49",
         "6": "1960",
         "7": "01/01/2021"
        },
        {
         "0": "12",
         "1": "CLIENT_1",
         "2": "PDV_6",
         "3": "PROD_2",
         "4": "43",
         "5": "239",
         "6": "10277",
         "7": "01/01/2021"
        },
        {
         "0": "13",
         "1": "CLIENT_1",
         "2": "PDV_6",
         "3": "PROD_2",
         "4": "24",
         "5": "12",
         "6": "288",
         "7": "01/01/2021"
        },
        {
         "0": "14",
         "1": "CLIENT_1",
         "2": "PDV_4",
         "3": "PROD_2",
         "4": "16",
         "5": "138",
         "6": "2208",
         "7": "01/01/2021"
        },
        {
         "0": "15",
         "1": "CLIENT_1",
         "2": "PDV_5",
         "3": "PROD_3",
         "4": "12",
         "5": "32",
         "6": "384",
         "7": "01/01/2021"
        },
        {
         "0": "16",
         "1": "CLIENT_1",
         "2": "PDV_5",
         "3": "PROD_2",
         "4": "19",
         "5": "169",
         "6": "3211",
         "7": "01/01/2021"
        },
        {
         "0": "17",
         "1": "CLIENT_8",
         "2": "PDV_4",
         "3": "PROD_4",
         "4": "12",
         "5": "325",
         "6": "3900",
         "7": "01/01/2021"
        },
        {
         "0": "18",
         "1": "CLIENT_2",
         "2": "PDV_4",
         "3": "PROD_5",
         "4": "48",
         "5": "61",
         "6": "2928",
         "7": "01/01/2021"
        },
        {
         "0": "19",
         "1": "CLIENT_2",
         "2": "PDV_1",
         "3": "PROD_6",
         "4": "38",
         "5": "234",
         "6": "8892",
         "7": "01/01/2021"
        },
        {
         "0": "20",
         "1": "CLIENT_2",
         "2": "PDV_6",
         "3": "PROD_4",
         "4": "21",
         "5": "197",
         "6": "4137",
         "7": "01/01/2021"
        },
        {
         "0": "21",
         "1": "CLIENT_3",
         "2": "PDV_6",
         "3": "PROD_6",
         "4": "31",
         "5": "222",
         "6": "6882",
         "7": "01/01/2021"
        },
        {
         "0": "22",
         "1": "CLIENT_3",
         "2": "PDV_7",
         "3": "PROD_1",
         "4": "2",
         "5": "155",
         "6": "310",
         "7": "01/01/2021"
        },
        {
         "0": "23",
         "1": "CLIENT_3",
         "2": "PDV_3",
         "3": "PROD_4",
         "4": "48",
         "5": "233",
         "6": "11184",
         "7": "01/01/2021"
        },
        {
         "0": "24",
         "1": "CLIENT_3",
         "2": "PDV_4",
         "3": "PROD_6",
         "4": "41",
         "5": "240",
         "6": "9840",
         "7": "01/01/2021"
        },
        {
         "0": "25",
         "1": "CLIENT_7",
         "2": "PDV_7",
         "3": "PROD_3",
         "4": "46",
         "5": "7",
         "6": "322",
         "7": "01/01/2021"
        },
        {
         "0": "26",
         "1": "CLIENT_1",
         "2": "PDV_7",
         "3": "PROD_5",
         "4": "16",
         "5": "69",
         "6": "1104",
         "7": "01/01/2021"
        },
        {
         "0": "27",
         "1": "CLIENT_1",
         "2": "PDV_5",
         "3": "PROD_4",
         "4": "41",
         "5": "145",
         "6": "5945",
         "7": "01/01/2021"
        },
        {
         "0": "28",
         "1": "CLIENT_1",
         "2": "PDV_2",
         "3": "PROD_1",
         "4": "11",
         "5": "135",
         "6": "1485",
         "7": "01/01/2021"
        },
        {
         "0": "29",
         "1": "CLIENT_1",
         "2": "PDV_6",
         "3": "PROD_1",
         "4": "25",
         "5": "235",
         "6": "5875",
         "7": "01/01/2021"
        },
        {
         "0": "30",
         "1": "CLIENT_1",
         "2": "PDV_2",
         "3": "PROD_1",
         "4": "36",
         "5": "82",
         "6": "2952",
         "7": "01/01/2021"
        },
        {
         "0": "31",
         "1": "CLIENT_1",
         "2": "PDV_4",
         "3": "PROD_5",
         "4": "23",
         "5": "158",
         "6": "3634",
         "7": "01/01/2021"
        },
        {
         "0": "32",
         "1": "CLIENT_3",
         "2": "PDV_4",
         "3": "PROD_2",
         "4": "10",
         "5": "32",
         "6": "320",
         "7": "01/01/2021"
        },
        {
         "0": "33",
         "1": "CLIENT_2",
         "2": "PDV_7",
         "3": "PROD_2",
         "4": "21",
         "5": "85",
         "6": "1785",
         "7": "01/01/2021"
        },
        {
         "0": "34",
         "1": "CLIENT_6",
         "2": "PDV_4",
         "3": "PROD_2",
         "4": "1",
         "5": "41",
         "6": "41",
         "7": "01/01/2021"
        },
        {
         "0": "35",
         "1": "CLIENT_6",
         "2": "PDV_1",
         "3": "PROD_2",
         "4": "4",
         "5": "316",
         "6": "1264",
         "7": "01/01/2021"
        },
        {
         "0": "36",
         "1": "CLIENT_3",
         "2": "PDV_6",
         "3": "PROD_2",
         "4": "3",
         "5": "171",
         "6": "513",
         "7": "01/01/2021"
        },
        {
         "0": "37",
         "1": "CLIENT_1",
         "2": "PDV_1",
         "3": "PROD_3",
         "4": "15",
         "5": "28",
         "6": "420",
         "7": "01/01/2021"
        },
        {
         "0": "38",
         "1": "CLIENT_1",
         "2": "PDV_5",
         "3": "PROD_5",
         "4": "29",
         "5": "201",
         "6": "5829",
         "7": "01/01/2021"
        },
        {
         "0": "39",
         "1": "CLIENT_1",
         "2": "PDV_7",
         "3": "PROD_2",
         "4": "36",
         "5": "226",
         "6": "8136",
         "7": "01/01/2021"
        },
        {
         "0": "40",
         "1": "CLIENT_1",
         "2": "PDV_6",
         "3": "PROD_5",
         "4": "44",
         "5": "205",
         "6": "9020",
         "7": "01/01/2021"
        },
        {
         "0": "41",
         "1": "CLIENT_1",
         "2": "PDV_2",
         "3": "PROD_2",
         "4": "27",
         "5": "66",
         "6": "1782",
         "7": "01/01/2021"
        },
        {
         "0": "42",
         "1": "CLIENT_1",
         "2": "PDV_1",
         "3": "PROD_3",
         "4": "8",
         "5": "105",
         "6": "840",
         "7": "01/01/2021"
        },
        {
         "0": "43",
         "1": "CLIENT_1",
         "2": "PDV_5",
         "3": "PROD_5",
         "4": "46",
         "5": "197",
         "6": "9062",
         "7": "01/01/2021"
        },
        {
         "0": "44",
         "1": "CLIENT_1",
         "2": "PDV_5",
         "3": "PROD_5",
         "4": "41",
         "5": "35",
         "6": "1435",
         "7": "01/01/2021"
        },
        {
         "0": "45",
         "1": "CLIENT_1",
         "2": "PDV_5",
         "3": "PROD_3",
         "4": "49",
         "5": "20",
         "6": "980",
         "7": "01/01/2021"
        },
        {
         "0": "46",
         "1": "CLIENT_1",
         "2": "PDV_5",
         "3": "PROD_5",
         "4": "5",
         "5": "78",
         "6": "390",
         "7": "01/01/2021"
        },
        {
         "0": "47",
         "1": "CLIENT_1",
         "2": "PDV_7",
         "3": "PROD_2",
         "4": "36",
         "5": "216",
         "6": "7776",
         "7": "01/02/2021"
        },
        {
         "0": "48",
         "1": "CLIENT_1",
         "2": "PDV_2",
         "3": "PROD_1",
         "4": "1",
         "5": "218",
         "6": "218",
         "7": "01/02/2021"
        },
        {
         "0": "49",
         "1": "CLIENT_1",
         "2": "PDV_7",
         "3": "PROD_6",
         "4": "29",
         "5": "5",
         "6": "145",
         "7": "01/02/2021"
        },
        {
         "0": "50",
         "1": "CLIENT_1",
         "2": "PDV_2",
         "3": "PROD_2",
         "4": "29",
         "5": "5",
         "6": "145",
         "7": "01/02/2021"
        },
        {
         "0": "51",
         "1": "CLIENT_1",
         "2": "PDV_7",
         "3": "PROD_4",
         "4": "20",
         "5": "128",
         "6": "2560",
         "7": "01/02/2021"
        },
        {
         "0": "52",
         "1": "CLIENT_1",
         "2": "PDV_1",
         "3": "PROD_2",
         "4": "4",
         "5": "29",
         "6": "116",
         "7": "01/02/2021"
        },
        {
         "0": "53",
         "1": "CLIENT_1",
         "2": "PDV_3",
         "3": "PROD_2",
         "4": "43",
         "5": "100",
         "6": "4300",
         "7": "01/02/2021"
        },
        {
         "0": "54",
         "1": "CLIENT_1",
         "2": "PDV_1",
         "3": "PROD_1",
         "4": "34",
         "5": "10",
         "6": "340",
         "7": "01/02/2021"
        },
        {
         "0": "55",
         "1": "CLIENT_1",
         "2": "PDV_3",
         "3": "PROD_4",
         "4": "36",
         "5": "182",
         "6": "6552",
         "7": "01/02/2021"
        },
        {
         "0": "56",
         "1": "CLIENT_1",
         "2": "PDV_3",
         "3": "PROD_6",
         "4": "41",
         "5": "208",
         "6": "8528",
         "7": "01/02/2021"
        },
        {
         "0": "57",
         "1": "CLIENT_1",
         "2": "PDV_2",
         "3": "PROD_6",
         "4": "41",
         "5": "46",
         "6": "1886",
         "7": "01/02/2021"
        },
        {
         "0": "58",
         "1": "CLIENT_1",
         "2": "PDV_3",
         "3": "PROD_5",
         "4": "1",
         "5": "232",
         "6": "232",
         "7": "01/02/2021"
        },
        {
         "0": "59",
         "1": "CLIENT_1",
         "2": "PDV_2",
         "3": "PROD_5",
         "4": "16",
         "5": "11",
         "6": "176",
         "7": "01/02/2021"
        },
        {
         "0": "60",
         "1": "CLIENT_1",
         "2": "PDV_4",
         "3": "PROD_2",
         "4": "42",
         "5": "326",
         "6": "13692",
         "7": "01/02/2021"
        },
        {
         "0": "61",
         "1": "CLIENT_1",
         "2": "PDV_2",
         "3": "PROD_2",
         "4": "36",
         "5": "334",
         "6": "12024",
         "7": "01/02/2021"
        },
        {
         "0": "62",
         "1": "CLIENT_1",
         "2": "PDV_6",
         "3": "PROD_2",
         "4": "5",
         "5": "17",
         "6": "85",
         "7": "01/02/2021"
        },
        {
         "0": "63",
         "1": "CLIENT_8",
         "2": "PDV_2",
         "3": "PROD_5",
         "4": "41",
         "5": "163",
         "6": "6683",
         "7": "01/02/2021"
        },
        {
         "0": "64",
         "1": "CLIENT_2",
         "2": "PDV_4",
         "3": "PROD_3",
         "4": "25",
         "5": "238",
         "6": "5950",
         "7": "01/02/2021"
        },
        {
         "0": "65",
         "1": "CLIENT_2",
         "2": "PDV_3",
         "3": "PROD_4",
         "4": "24",
         "5": "146",
         "6": "3504",
         "7": "01/02/2021"
        },
        {
         "0": "66",
         "1": "CLIENT_3",
         "2": "PDV_2",
         "3": "PROD_3",
         "4": "27",
         "5": "48",
         "6": "1296",
         "7": "01/02/2021"
        },
        {
         "0": "67",
         "1": "CLIENT_3",
         "2": "PDV_6",
         "3": "PROD_4",
         "4": "19",
         "5": "319",
         "6": "6061",
         "7": "01/02/2021"
        },
        {
         "0": "68",
         "1": "CLIENT_3",
         "2": "PDV_6",
         "3": "PROD_3",
         "4": "21",
         "5": "7",
         "6": "147",
         "7": "01/02/2021"
        },
        {
         "0": "69",
         "1": "CLIENT_3",
         "2": "PDV_5",
         "3": "PROD_6",
         "4": "32",
         "5": "227",
         "6": "7264",
         "7": "01/02/2021"
        },
        {
         "0": "70",
         "1": "CLIENT_7",
         "2": "PDV_2",
         "3": "PROD_1",
         "4": "44",
         "5": "82",
         "6": "3608",
         "7": "01/02/2021"
        },
        {
         "0": "71",
         "1": "CLIENT_7",
         "2": "PDV_1",
         "3": "PROD_5",
         "4": "8",
         "5": "87",
         "6": "696",
         "7": "01/02/2021"
        },
        {
         "0": "72",
         "1": "CLIENT_7",
         "2": "PDV_2",
         "3": "PROD_4",
         "4": "34",
         "5": "131",
         "6": "4454",
         "7": "01/02/2021"
        },
        {
         "0": "73",
         "1": "CLIENT_7",
         "2": "PDV_2",
         "3": "PROD_1",
         "4": "16",
         "5": "254",
         "6": "4064",
         "7": "01/02/2021"
        },
        {
         "0": "74",
         "1": "CLIENT_7",
         "2": "PDV_5",
         "3": "PROD_4",
         "4": "38",
         "5": "82",
         "6": "3116",
         "7": "01/02/2021"
        },
        {
         "0": "75",
         "1": "CLIENT_1",
         "2": "PDV_3",
         "3": "PROD_4",
         "4": "12",
         "5": "69",
         "6": "828",
         "7": "01/02/2021"
        },
        {
         "0": "76",
         "1": "CLIENT_1",
         "2": "PDV_5",
         "3": "PROD_6",
         "4": "16",
         "5": "187",
         "6": "2992",
         "7": "01/02/2021"
        },
        {
         "0": "77",
         "1": "CLIENT_1",
         "2": "PDV_6",
         "3": "PROD_4",
         "4": "5",
         "5": "261",
         "6": "1305",
         "7": "01/02/2021"
        },
        {
         "0": "78",
         "1": "CLIENT_1",
         "2": "PDV_5",
         "3": "PROD_4",
         "4": "15",
         "5": "49",
         "6": "735",
         "7": "01/02/2021"
        },
        {
         "0": "79",
         "1": "CLIENT_1",
         "2": "PDV_6",
         "3": "PROD_4",
         "4": "12",
         "5": "191",
         "6": "2292",
         "7": "01/02/2021"
        },
        {
         "0": "80",
         "1": "CLIENT_1",
         "2": "PDV_4",
         "3": "PROD_4",
         "4": "11",
         "5": "87",
         "6": "957",
         "7": "01/02/2021"
        },
        {
         "0": "81",
         "1": "CLIENT_3",
         "2": "PDV_7",
         "3": "PROD_1",
         "4": "41",
         "5": "198",
         "6": "8118",
         "7": "01/02/2021"
        },
        {
         "0": "82",
         "1": "CLIENT_3",
         "2": "PDV_3",
         "3": "PROD_1",
         "4": "35",
         "5": "234",
         "6": "8190",
         "7": "01/02/2021"
        },
        {
         "0": "83",
         "1": "CLIENT_7",
         "2": "PDV_5",
         "3": "PROD_5",
         "4": "5",
         "5": "229",
         "6": "1145",
         "7": "01/03/2021"
        },
        {
         "0": "84",
         "1": "CLIENT_3",
         "2": "PDV_2",
         "3": "PROD_1",
         "4": "17",
         "5": "318",
         "6": "5406",
         "7": "01/03/2021"
        },
        {
         "0": "85",
         "1": "CLIENT_3",
         "2": "PDV_7",
         "3": "PROD_5",
         "4": "40",
         "5": "259",
         "6": "10360",
         "7": "01/03/2021"
        },
        {
         "0": "86",
         "1": "CLIENT_8",
         "2": "PDV_1",
         "3": "PROD_2",
         "4": "9",
         "5": "92",
         "6": "828",
         "7": "01/03/2021"
        },
        {
         "0": "87",
         "1": "CLIENT_3",
         "2": "PDV_4",
         "3": "PROD_2",
         "4": "8",
         "5": "36",
         "6": "288",
         "7": "01/03/2021"
        },
        {
         "0": "88",
         "1": "CLIENT_3",
         "2": "PDV_3",
         "3": "PROD_2",
         "4": "26",
         "5": "235",
         "6": "6110",
         "7": "01/03/2021"
        },
        {
         "0": "89",
         "1": "CLIENT_3",
         "2": "PDV_4",
         "3": "PROD_2",
         "4": "39",
         "5": "82",
         "6": "3198",
         "7": "01/03/2021"
        },
        {
         "0": "90",
         "1": "CLIENT_3",
         "2": "PDV_5",
         "3": "PROD_2",
         "4": "22",
         "5": "123",
         "6": "2706",
         "7": "01/03/2021"
        },
        {
         "0": "91",
         "1": "CLIENT_3",
         "2": "PDV_7",
         "3": "PROD_2",
         "4": "44",
         "5": "319",
         "6": "14036",
         "7": "01/03/2021"
        },
        {
         "0": "92",
         "1": "CLIENT_3",
         "2": "PDV_7",
         "3": "PROD_2",
         "4": "3",
         "5": "111",
         "6": "333",
         "7": "01/03/2021"
        },
        {
         "0": "93",
         "1": "CLIENT_1",
         "2": "PDV_6",
         "3": "PROD_2",
         "4": "41",
         "5": "220",
         "6": "9020",
         "7": "01/03/2021"
        },
        {
         "0": "94",
         "1": "CLIENT_6",
         "2": "PDV_6",
         "3": "PROD_2",
         "4": "43",
         "5": "140",
         "6": "6020",
         "7": "01/03/2021"
        },
        {
         "0": "95",
         "1": "CLIENT_6",
         "2": "PDV_3",
         "3": "PROD_2",
         "4": "4",
         "5": "50",
         "6": "200",
         "7": "01/03/2021"
        },
        {
         "0": "96",
         "1": "CLIENT_6",
         "2": "PDV_1",
         "3": "PROD_2",
         "4": "5",
         "5": "288",
         "6": "1440",
         "7": "01/03/2021"
        },
        {
         "0": "97",
         "1": "CLIENT_6",
         "2": "PDV_3",
         "3": "PROD_2",
         "4": "28",
         "5": "346",
         "6": "9688",
         "7": "01/03/2021"
        },
        {
         "0": "98",
         "1": "CLIENT_3",
         "2": "PDV_4",
         "3": "PROD_2",
         "4": "49",
         "5": "81",
         "6": "3969",
         "7": "01/03/2021"
        },
        {
         "0": "99",
         "1": "CLIENT_3",
         "2": "PDV_7",
         "3": "PROD_2",
         "4": "50",
         "5": "157",
         "6": "7850",
         "7": "01/03/2021"
        },
        {
         "0": "100",
         "1": "CLIENT_1",
         "2": "PDV_3",
         "3": "PROD_2",
         "4": "39",
         "5": "299",
         "6": "11661",
         "7": "01/03/2021"
        },
        {
         "0": "101",
         "1": "CLIENT_1",
         "2": "PDV_7",
         "3": "PROD_2",
         "4": "24",
         "5": "67",
         "6": "1608",
         "7": "01/03/2021"
        },
        {
         "0": "102",
         "1": "CLIENT_1",
         "2": "PDV_3",
         "3": "PROD_2",
         "4": "38",
         "5": "139",
         "6": "5282",
         "7": "01/03/2021"
        },
        {
         "0": "103",
         "1": "CLIENT_1",
         "2": "PDV_1",
         "3": "PROD_2",
         "4": "47",
         "5": "204",
         "6": "9588",
         "7": "01/03/2021"
        },
        {
         "0": "104",
         "1": "CLIENT_1",
         "2": "PDV_2",
         "3": "PROD_2",
         "4": "10",
         "5": "177",
         "6": "1770",
         "7": "01/03/2021"
        },
        {
         "0": "105",
         "1": "CLIENT_1",
         "2": "PDV_5",
         "3": "PROD_1",
         "4": "49",
         "5": "53",
         "6": "2597",
         "7": "01/03/2021"
        },
        {
         "0": "106",
         "1": "CLIENT_1",
         "2": "PDV_7",
         "3": "PROD_1",
         "4": "8",
         "5": "36",
         "6": "288",
         "7": "01/03/2021"
        },
        {
         "0": "107",
         "1": "CLIENT_1",
         "2": "PDV_1",
         "3": "PROD_1",
         "4": "5",
         "5": "113",
         "6": "565",
         "7": "01/03/2021"
        },
        {
         "0": "108",
         "1": "CLIENT_1",
         "2": "PDV_3",
         "3": "PROD_3",
         "4": "27",
         "5": "251",
         "6": "6777",
         "7": "01/03/2021"
        },
        {
         "0": "109",
         "1": "CLIENT_1",
         "2": "PDV_1",
         "3": "PROD_4",
         "4": "37",
         "5": "347",
         "6": "12839",
         "7": "01/03/2021"
        },
        {
         "0": "110",
         "1": "CLIENT_1",
         "2": "PDV_4",
         "3": "PROD_4",
         "4": "19",
         "5": "296",
         "6": "5624",
         "7": "01/03/2021"
        },
        {
         "0": "111",
         "1": "CLIENT_1",
         "2": "PDV_7",
         "3": "PROD_4",
         "4": "32",
         "5": "291",
         "6": "9312",
         "7": "01/03/2021"
        },
        {
         "0": "112",
         "1": "CLIENT_1",
         "2": "PDV_3",
         "3": "PROD_3",
         "4": "22",
         "5": "83",
         "6": "1826",
         "7": "01/03/2021"
        },
        {
         "0": "113",
         "1": "CLIENT_1",
         "2": "PDV_5",
         "3": "PROD_5",
         "4": "11",
         "5": "273",
         "6": "3003",
         "7": "01/03/2021"
        },
        {
         "0": "114",
         "1": "CLIENT_3",
         "2": "PDV_1",
         "3": "PROD_5",
         "4": "28",
         "5": "151",
         "6": "4228",
         "7": "01/03/2021"
        },
        {
         "0": "115",
         "1": "CLIENT_7",
         "2": "PDV_3",
         "3": "PROD_5",
         "4": "48",
         "5": "220",
         "6": "10560",
         "7": "01/03/2021"
        },
        {
         "0": "116",
         "1": "CLIENT_3",
         "2": "PDV_1",
         "3": "PROD_4",
         "4": "6",
         "5": "317",
         "6": "1902",
         "7": "01/03/2021"
        },
        {
         "0": "117",
         "1": "CLIENT_3",
         "2": "PDV_1",
         "3": "PROD_5",
         "4": "5",
         "5": "120",
         "6": "600",
         "7": "01/03/2021"
        },
        {
         "0": "118",
         "1": "CLIENT_1",
         "2": "PDV_4",
         "3": "PROD_2",
         "4": "16",
         "5": "60",
         "6": "960",
         "7": "01/03/2021"
        },
        {
         "0": "119",
         "1": "CLIENT_1",
         "2": "PDV_5",
         "3": "PROD_2",
         "4": "19",
         "5": "179",
         "6": "3401",
         "7": "01/03/2021"
        },
        {
         "0": "120",
         "1": "CLIENT_6",
         "2": "PDV_6",
         "3": "PROD_2",
         "4": "48",
         "5": "301",
         "6": "14448",
         "7": "01/03/2021"
        },
        {
         "0": "121",
         "1": "CLIENT_6",
         "2": "PDV_7",
         "3": "PROD_2",
         "4": "16",
         "5": "240",
         "6": "3840",
         "7": "01/03/2021"
        },
        {
         "0": "122",
         "1": "CLIENT_6",
         "2": "PDV_4",
         "3": "PROD_2",
         "4": "37",
         "5": "181",
         "6": "6697",
         "7": "01/03/2021"
        },
        {
         "0": "123",
         "1": "CLIENT_3",
         "2": "PDV_3",
         "3": "PROD_2",
         "4": "48",
         "5": "118",
         "6": "5664",
         "7": "01/04/2021"
        },
        {
         "0": "124",
         "1": "CLIENT_3",
         "2": "PDV_4",
         "3": "PROD_2",
         "4": "5",
         "5": "341",
         "6": "1705",
         "7": "01/04/2021"
        },
        {
         "0": "125",
         "1": "CLIENT_1",
         "2": "PDV_6",
         "3": "PROD_1",
         "4": "41",
         "5": "261",
         "6": "10701",
         "7": "01/04/2021"
        },
        {
         "0": "126",
         "1": "CLIENT_1",
         "2": "PDV_7",
         "3": "PROD_1",
         "4": "3",
         "5": "226",
         "6": "678",
         "7": "01/04/2021"
        },
        {
         "0": "127",
         "1": "CLIENT_1",
         "2": "PDV_4",
         "3": "PROD_5",
         "4": "44",
         "5": "280",
         "6": "12320",
         "7": "01/04/2021"
        },
        {
         "0": "128",
         "1": "CLIENT_1",
         "2": "PDV_1",
         "3": "PROD_1",
         "4": "32",
         "5": "121",
         "6": "3872",
         "7": "01/04/2021"
        },
        {
         "0": "129",
         "1": "CLIENT_1",
         "2": "PDV_5",
         "3": "PROD_1",
         "4": "47",
         "5": "196",
         "6": "9212",
         "7": "01/04/2021"
        },
        {
         "0": "130",
         "1": "CLIENT_1",
         "2": "PDV_4",
         "3": "PROD_3",
         "4": "5",
         "5": "314",
         "6": "1570",
         "7": "01/04/2021"
        },
        {
         "0": "131",
         "1": "CLIENT_1",
         "2": "PDV_7",
         "3": "PROD_2",
         "4": "29",
         "5": "88",
         "6": "2552",
         "7": "01/04/2021"
        },
        {
         "0": "132",
         "1": "CLIENT_1",
         "2": "PDV_6",
         "3": "PROD_3",
         "4": "13",
         "5": "136",
         "6": "1768",
         "7": "01/04/2021"
        },
        {
         "0": "133",
         "1": "CLIENT_1",
         "2": "PDV_3",
         "3": "PROD_3",
         "4": "14",
         "5": "81",
         "6": "1134",
         "7": "01/04/2021"
        },
        {
         "0": "134",
         "1": "CLIENT_1",
         "2": "PDV_5",
         "3": "PROD_3",
         "4": "33",
         "5": "35",
         "6": "1155",
         "7": "01/04/2021"
        },
        {
         "0": "135",
         "1": "CLIENT_1",
         "2": "PDV_6",
         "3": "PROD_2",
         "4": "10",
         "5": "18",
         "6": "180",
         "7": "01/04/2021"
        },
        {
         "0": "136",
         "1": "CLIENT_1",
         "2": "PDV_6",
         "3": "PROD_2",
         "4": "30",
         "5": "333",
         "6": "9990",
         "7": "01/04/2021"
        },
        {
         "0": "137",
         "1": "CLIENT_1",
         "2": "PDV_7",
         "3": "PROD_2",
         "4": "48",
         "5": "207",
         "6": "9936",
         "7": "01/04/2021"
        },
        {
         "0": "138",
         "1": "CLIENT_1",
         "2": "PDV_6",
         "3": "PROD_2",
         "4": "50",
         "5": "76",
         "6": "3800",
         "7": "01/04/2021"
        },
        {
         "0": "139",
         "1": "CLIENT_8",
         "2": "PDV_1",
         "3": "PROD_6",
         "4": "2",
         "5": "38",
         "6": "76",
         "7": "01/04/2021"
        },
        {
         "0": "140",
         "1": "CLIENT_8",
         "2": "PDV_2",
         "3": "PROD_2",
         "4": "20",
         "5": "279",
         "6": "5580",
         "7": "01/04/2021"
        },
        {
         "0": "141",
         "1": "CLIENT_2",
         "2": "PDV_4",
         "3": "PROD_1",
         "4": "19",
         "5": "253",
         "6": "4807",
         "7": "01/04/2021"
        },
        {
         "0": "142",
         "1": "CLIENT_2",
         "2": "PDV_2",
         "3": "PROD_5",
         "4": "33",
         "5": "241",
         "6": "7953",
         "7": "01/04/2021"
        },
        {
         "0": "143",
         "1": "CLIENT_2",
         "2": "PDV_7",
         "3": "PROD_5",
         "4": "9",
         "5": "66",
         "6": "594",
         "7": "01/04/2021"
        },
        {
         "0": "144",
         "1": "CLIENT_2",
         "2": "PDV_4",
         "3": "PROD_1",
         "4": "9",
         "5": "137",
         "6": "1233",
         "7": "01/04/2021"
        },
        {
         "0": "145",
         "1": "CLIENT_2",
         "2": "PDV_3",
         "3": "PROD_1",
         "4": "31",
         "5": "94",
         "6": "2914",
         "7": "01/04/2021"
        },
        {
         "0": "146",
         "1": "CLIENT_3",
         "2": "PDV_5",
         "3": "PROD_6",
         "4": "5",
         "5": "23",
         "6": "115",
         "7": "01/04/2021"
        },
        {
         "0": "147",
         "1": "CLIENT_3",
         "2": "PDV_2",
         "3": "PROD_1",
         "4": "48",
         "5": "299",
         "6": "14352",
         "7": "01/04/2021"
        },
        {
         "0": "148",
         "1": "CLIENT_3",
         "2": "PDV_1",
         "3": "PROD_1",
         "4": "1",
         "5": "214",
         "6": "214",
         "7": "01/04/2021"
        },
        {
         "0": "149",
         "1": "CLIENT_3",
         "2": "PDV_4",
         "3": "PROD_4",
         "4": "49",
         "5": "187",
         "6": "9163",
         "7": "01/04/2021"
        },
        {
         "0": "150",
         "1": "CLIENT_3",
         "2": "PDV_5",
         "3": "PROD_6",
         "4": "23",
         "5": "184",
         "6": "4232",
         "7": "01/04/2021"
        },
        {
         "0": "151",
         "1": "CLIENT_3",
         "2": "PDV_7",
         "3": "PROD_3",
         "4": "5",
         "5": "186",
         "6": "930",
         "7": "01/04/2021"
        },
        {
         "0": "152",
         "1": "CLIENT_7",
         "2": "PDV_7",
         "3": "PROD_4",
         "4": "33",
         "5": "343",
         "6": "11319",
         "7": "01/05/2021"
        },
        {
         "0": "153",
         "1": "CLIENT_7",
         "2": "PDV_2",
         "3": "PROD_6",
         "4": "29",
         "5": "88",
         "6": "2552",
         "7": "01/05/2021"
        },
        {
         "0": "154",
         "1": "CLIENT_1",
         "2": "PDV_2",
         "3": "PROD_4",
         "4": "2",
         "5": "329",
         "6": "658",
         "7": "01/05/2021"
        },
        {
         "0": "155",
         "1": "CLIENT_1",
         "2": "PDV_2",
         "3": "PROD_5",
         "4": "25",
         "5": "157",
         "6": "3925",
         "7": "01/05/2021"
        },
        {
         "0": "156",
         "1": "CLIENT_1",
         "2": "PDV_2",
         "3": "PROD_5",
         "4": "3",
         "5": "271",
         "6": "813",
         "7": "01/05/2021"
        },
        {
         "0": "157",
         "1": "CLIENT_1",
         "2": "PDV_4",
         "3": "PROD_5",
         "4": "40",
         "5": "200",
         "6": "8000",
         "7": "01/05/2021"
        },
        {
         "0": "158",
         "1": "CLIENT_1",
         "2": "PDV_6",
         "3": "PROD_5",
         "4": "43",
         "5": "313",
         "6": "13459",
         "7": "01/05/2021"
        },
        {
         "0": "159",
         "1": "CLIENT_3",
         "2": "PDV_3",
         "3": "PROD_1",
         "4": "35",
         "5": "131",
         "6": "4585",
         "7": "01/05/2021"
        },
        {
         "0": "160",
         "1": "CLIENT_3",
         "2": "PDV_5",
         "3": "PROD_2",
         "4": "40",
         "5": "51",
         "6": "2040",
         "7": "01/05/2021"
        },
        {
         "0": "161",
         "1": "CLIENT_3",
         "2": "PDV_5",
         "3": "PROD_2",
         "4": "42",
         "5": "198",
         "6": "8316",
         "7": "01/05/2021"
        },
        {
         "0": "162",
         "1": "CLIENT_3",
         "2": "PDV_1",
         "3": "PROD_2",
         "4": "33",
         "5": "318",
         "6": "10494",
         "7": "01/05/2021"
        },
        {
         "0": "163",
         "1": "CLIENT_3",
         "2": "PDV_7",
         "3": "PROD_2",
         "4": "5",
         "5": "209",
         "6": "1045",
         "7": "01/05/2021"
        },
        {
         "0": "164",
         "1": "CLIENT_3",
         "2": "PDV_7",
         "3": "PROD_2",
         "4": "37",
         "5": "202",
         "6": "7474",
         "7": "01/05/2021"
        },
        {
         "0": "165",
         "1": "CLIENT_1",
         "2": "PDV_4",
         "3": "PROD_2",
         "4": "19",
         "5": "335",
         "6": "6365",
         "7": "01/05/2021"
        },
        {
         "0": "166",
         "1": "CLIENT_1",
         "2": "PDV_4",
         "3": "PROD_2",
         "4": "1",
         "5": "310",
         "6": "310",
         "7": "01/05/2021"
        },
        {
         "0": "167",
         "1": "CLIENT_1",
         "2": "PDV_6",
         "3": "PROD_2",
         "4": "1",
         "5": "222",
         "6": "222",
         "7": "01/05/2021"
        },
        {
         "0": "168",
         "1": "CLIENT_1",
         "2": "PDV_4",
         "3": "PROD_6",
         "4": "38",
         "5": "331",
         "6": "12578",
         "7": "01/05/2021"
        },
        {
         "0": "169",
         "1": "CLIENT_1",
         "2": "PDV_1",
         "3": "PROD_2",
         "4": "34",
         "5": "218",
         "6": "7412",
         "7": "01/05/2021"
        },
        {
         "0": "170",
         "1": "CLIENT_1",
         "2": "PDV_4",
         "3": "PROD_6",
         "4": "9",
         "5": "244",
         "6": "2196",
         "7": "01/05/2021"
        },
        {
         "0": "171",
         "1": "CLIENT_1",
         "2": "PDV_4",
         "3": "PROD_6",
         "4": "27",
         "5": "322",
         "6": "8694",
         "7": "01/05/2021"
        },
        {
         "0": "172",
         "1": "CLIENT_1",
         "2": "PDV_2",
         "3": "PROD_6",
         "4": "21",
         "5": "294",
         "6": "6174",
         "7": "01/05/2021"
        },
        {
         "0": "173",
         "1": "CLIENT_1",
         "2": "PDV_4",
         "3": "PROD_4",
         "4": "34",
         "5": "277",
         "6": "9418",
         "7": "01/05/2021"
        },
        {
         "0": "174",
         "1": "CLIENT_1",
         "2": "PDV_4",
         "3": "PROD_4",
         "4": "42",
         "5": "136",
         "6": "5712",
         "7": "01/05/2021"
        },
        {
         "0": "175",
         "1": "CLIENT_1",
         "2": "PDV_5",
         "3": "PROD_4",
         "4": "47",
         "5": "248",
         "6": "11656",
         "7": "01/05/2021"
        },
        {
         "0": "176",
         "1": "CLIENT_1",
         "2": "PDV_2",
         "3": "PROD_1",
         "4": "7",
         "5": "321",
         "6": "2247",
         "7": "01/05/2021"
        },
        {
         "0": "177",
         "1": "CLIENT_1",
         "2": "PDV_2",
         "3": "PROD_3",
         "4": "4",
         "5": "326",
         "6": "1304",
         "7": "01/05/2021"
        },
        {
         "0": "178",
         "1": "CLIENT_1",
         "2": "PDV_5",
         "3": "PROD_2",
         "4": "44",
         "5": "99",
         "6": "4356",
         "7": "01/05/2021"
        },
        {
         "0": "179",
         "1": "CLIENT_1",
         "2": "PDV_5",
         "3": "PROD_4",
         "4": "7",
         "5": "256",
         "6": "1792",
         "7": "01/05/2021"
        },
        {
         "0": "180",
         "1": "CLIENT_1",
         "2": "PDV_5",
         "3": "PROD_3",
         "4": "41",
         "5": "18",
         "6": "738",
         "7": "01/05/2021"
        },
        {
         "0": "181",
         "1": "CLIENT_1",
         "2": "PDV_4",
         "3": "PROD_2",
         "4": "1",
         "5": "128",
         "6": "128",
         "7": "01/05/2021"
        },
        {
         "0": "182",
         "1": "CLIENT_1",
         "2": "PDV_7",
         "3": "PROD_2",
         "4": "2",
         "5": "344",
         "6": "688",
         "7": "01/05/2021"
        },
        {
         "0": "183",
         "1": "CLIENT_1",
         "2": "PDV_3",
         "3": "PROD_2",
         "4": "7",
         "5": "198",
         "6": "1386",
         "7": "01/05/2021"
        },
        {
         "0": "184",
         "1": "CLIENT_1",
         "2": "PDV_5",
         "3": "PROD_2",
         "4": "38",
         "5": "257",
         "6": "9766",
         "7": "01/05/2021"
        },
        {
         "0": "185",
         "1": "CLIENT_1",
         "2": "PDV_1",
         "3": "PROD_2",
         "4": "42",
         "5": "133",
         "6": "5586",
         "7": "01/05/2021"
        },
        {
         "0": "186",
         "1": "CLIENT_1",
         "2": "PDV_1",
         "3": "PROD_2",
         "4": "16",
         "5": "239",
         "6": "3824",
         "7": "01/05/2021"
        },
        {
         "0": "187",
         "1": "CLIENT_8",
         "2": "PDV_1",
         "3": "PROD_2",
         "4": "39",
         "5": "166",
         "6": "6474",
         "7": "01/05/2021"
        },
        {
         "0": "188",
         "1": "CLIENT_8",
         "2": "PDV_6",
         "3": "PROD_2",
         "4": "48",
         "5": "39",
         "6": "1872",
         "7": "01/06/2021"
        },
        {
         "0": "189",
         "1": "CLIENT_2",
         "2": "PDV_6",
         "3": "PROD_6",
         "4": "23",
         "5": "302",
         "6": "6946",
         "7": "01/06/2021"
        },
        {
         "0": "190",
         "1": "CLIENT_2",
         "2": "PDV_7",
         "3": "PROD_4",
         "4": "40",
         "5": "116",
         "6": "4640",
         "7": "01/06/2021"
        },
        {
         "0": "191",
         "1": "CLIENT_2",
         "2": "PDV_5",
         "3": "PROD_6",
         "4": "27",
         "5": "289",
         "6": "7803",
         "7": "01/06/2021"
        },
        {
         "0": "192",
         "1": "CLIENT_2",
         "2": "PDV_6",
         "3": "PROD_1",
         "4": "10",
         "5": "331",
         "6": "3310",
         "7": "01/06/2021"
        },
        {
         "0": "193",
         "1": "CLIENT_2",
         "2": "PDV_6",
         "3": "PROD_5",
         "4": "38",
         "5": "80",
         "6": "3040",
         "7": "01/06/2021"
        },
        {
         "0": "194",
         "1": "CLIENT_2",
         "2": "PDV_2",
         "3": "PROD_3",
         "4": "46",
         "5": "10",
         "6": "460",
         "7": "01/06/2021"
        },
        {
         "0": "195",
         "1": "CLIENT_3",
         "2": "PDV_1",
         "3": "PROD_3",
         "4": "36",
         "5": "42",
         "6": "1512",
         "7": "01/06/2021"
        },
        {
         "0": "196",
         "1": "CLIENT_3",
         "2": "PDV_6",
         "3": "PROD_1",
         "4": "38",
         "5": "310",
         "6": "11780",
         "7": "01/06/2021"
        },
        {
         "0": "197",
         "1": "CLIENT_7",
         "2": "PDV_2",
         "3": "PROD_3",
         "4": "29",
         "5": "202",
         "6": "5858",
         "7": "01/06/2021"
        },
        {
         "0": "198",
         "1": "CLIENT_1",
         "2": "PDV_6",
         "3": "PROD_1",
         "4": "29",
         "5": "66",
         "6": "1914",
         "7": "01/06/2021"
        },
        {
         "0": "199",
         "1": "CLIENT_1",
         "2": "PDV_1",
         "3": "PROD_1",
         "4": "31",
         "5": "260",
         "6": "8060",
         "7": "01/06/2021"
        },
        {
         "0": "200",
         "1": "CLIENT_1",
         "2": "PDV_4",
         "3": "PROD_4",
         "4": "15",
         "5": "341",
         "6": "5115",
         "7": "01/06/2021"
        },
        {
         "0": "201",
         "1": "CLIENT_1",
         "2": "PDV_7",
         "3": "PROD_1",
         "4": "4",
         "5": "122",
         "6": "488",
         "7": "01/06/2021"
        },
        {
         "0": "202",
         "1": "CLIENT_1",
         "2": "PDV_7",
         "3": "PROD_1",
         "4": "16",
         "5": "251",
         "6": "4016",
         "7": "01/06/2021"
        },
        {
         "0": "203",
         "1": "CLIENT_1",
         "2": "PDV_7",
         "3": "PROD_1",
         "4": "13",
         "5": "88",
         "6": "1144",
         "7": "01/06/2021"
        },
        {
         "0": "204",
         "1": "CLIENT_7",
         "2": "PDV_7",
         "3": "PROD_3",
         "4": "33",
         "5": "249",
         "6": "8217",
         "7": "01/06/2021"
        },
        {
         "0": "205",
         "1": "CLIENT_7",
         "2": "PDV_7",
         "3": "PROD_3",
         "4": "33",
         "5": "233",
         "6": "7689",
         "7": "01/06/2021"
        },
        {
         "0": "206",
         "1": "CLIENT_7",
         "2": "PDV_1",
         "3": "PROD_3",
         "4": "38",
         "5": "48",
         "6": "1824",
         "7": "01/06/2021"
        },
        {
         "0": "207",
         "1": "CLIENT_3",
         "2": "PDV_7",
         "3": "PROD_3",
         "4": "40",
         "5": "284",
         "6": "11360",
         "7": "01/06/2021"
        },
        {
         "0": "208",
         "1": "CLIENT_3",
         "2": "PDV_3",
         "3": "PROD_3",
         "4": "1",
         "5": "301",
         "6": "301",
         "7": "01/06/2021"
        },
        {
         "0": "209",
         "1": "CLIENT_2",
         "2": "PDV_5",
         "3": "PROD_2",
         "4": "3",
         "5": "106",
         "6": "318",
         "7": "01/06/2021"
        },
        {
         "0": "210",
         "1": "CLIENT_6",
         "2": "PDV_6",
         "3": "PROD_2",
         "4": "28",
         "5": "219",
         "6": "6132",
         "7": "01/06/2021"
        },
        {
         "0": "211",
         "1": "CLIENT_6",
         "2": "PDV_4",
         "3": "PROD_2",
         "4": "19",
         "5": "258",
         "6": "4902",
         "7": "01/06/2021"
        },
        {
         "0": "212",
         "1": "CLIENT_2",
         "2": "PDV_6",
         "3": "PROD_2",
         "4": "23",
         "5": "158",
         "6": "3634",
         "7": "01/06/2021"
        },
        {
         "0": "213",
         "1": "CLIENT_2",
         "2": "PDV_1",
         "3": "PROD_2",
         "4": "25",
         "5": "142",
         "6": "3550",
         "7": "01/06/2021"
        },
        {
         "0": "214",
         "1": "CLIENT_1",
         "2": "PDV_4",
         "3": "PROD_5",
         "4": "45",
         "5": "300",
         "6": "13500",
         "7": "01/06/2021"
        },
        {
         "0": "215",
         "1": "CLIENT_1",
         "2": "PDV_4",
         "3": "PROD_5",
         "4": "29",
         "5": "261",
         "6": "7569",
         "7": "01/06/2021"
        },
        {
         "0": "216",
         "1": "CLIENT_1",
         "2": "PDV_3",
         "3": "PROD_5",
         "4": "15",
         "5": "240",
         "6": "3600",
         "7": "01/06/2021"
        },
        {
         "0": "217",
         "1": "CLIENT_1",
         "2": "PDV_4",
         "3": "PROD_5",
         "4": "46",
         "5": "22",
         "6": "1012",
         "7": "01/06/2021"
        },
        {
         "0": "218",
         "1": "CLIENT_1",
         "2": "PDV_7",
         "3": "PROD_5",
         "4": "27",
         "5": "73",
         "6": "1971",
         "7": "01/06/2021"
        },
        {
         "0": "219",
         "1": "CLIENT_1",
         "2": "PDV_2",
         "3": "PROD_2",
         "4": "25",
         "5": "116",
         "6": "2900",
         "7": "01/06/2021"
        },
        {
         "0": "220",
         "1": "CLIENT_1",
         "2": "PDV_3",
         "3": "PROD_2",
         "4": "50",
         "5": "157",
         "6": "7850",
         "7": "01/06/2021"
        },
        {
         "0": "221",
         "1": "CLIENT_1",
         "2": "PDV_3",
         "3": "PROD_5",
         "4": "28",
         "5": "35",
         "6": "980",
         "7": "01/06/2021"
        },
        {
         "0": "222",
         "1": "CLIENT_1",
         "2": "PDV_2",
         "3": "PROD_2",
         "4": "44",
         "5": "339",
         "6": "14916",
         "7": "01/06/2021"
        },
        {
         "0": "223",
         "1": "CLIENT_1",
         "2": "PDV_4",
         "3": "PROD_2",
         "4": "42",
         "5": "276",
         "6": "11592",
         "7": "01/06/2021"
        },
        {
         "0": "224",
         "1": "CLIENT_1",
         "2": "PDV_6",
         "3": "PROD_2",
         "4": "41",
         "5": "42",
         "6": "1722",
         "7": "01/06/2021"
        },
        {
         "0": "225",
         "1": "CLIENT_1",
         "2": "PDV_1",
         "3": "PROD_2",
         "4": "15",
         "5": "74",
         "6": "1110",
         "7": "01/06/2021"
        },
        {
         "0": "226",
         "1": "CLIENT_1",
         "2": "PDV_3",
         "3": "PROD_6",
         "4": "2",
         "5": "330",
         "6": "660",
         "7": "01/06/2021"
        },
        {
         "0": "227",
         "1": "CLIENT_1",
         "2": "PDV_1",
         "3": "PROD_6",
         "4": "31",
         "5": "276",
         "6": "8556",
         "7": "01/06/2021"
        },
        {
         "0": "228",
         "1": "CLIENT_1",
         "2": "PDV_7",
         "3": "PROD_1",
         "4": "39",
         "5": "302",
         "6": "11778",
         "7": "01/06/2021"
        },
        {
         "0": "229",
         "1": "CLIENT_2",
         "2": "PDV_4",
         "3": "PROD_1",
         "4": "26",
         "5": "126",
         "6": "3276",
         "7": "01/06/2021"
        },
        {
         "0": "230",
         "1": "CLIENT_2",
         "2": "PDV_3",
         "3": "PROD_4",
         "4": "48",
         "5": "124",
         "6": "5952",
         "7": "01/06/2021"
        },
        {
         "0": "231",
         "1": "CLIENT_2",
         "2": "PDV_3",
         "3": "PROD_6",
         "4": "18",
         "5": "8",
         "6": "144",
         "7": "01/06/2021"
        },
        {
         "0": "232",
         "1": "CLIENT_2",
         "2": "PDV_6",
         "3": "PROD_3",
         "4": "49",
         "5": "111",
         "6": "5439",
         "7": "01/06/2021"
        },
        {
         "0": "233",
         "1": "CLIENT_2",
         "2": "PDV_7",
         "3": "PROD_5",
         "4": "13",
         "5": "85",
         "6": "1105",
         "7": "01/06/2021"
        },
        {
         "0": "234",
         "1": "CLIENT_3",
         "2": "PDV_7",
         "3": "PROD_6",
         "4": "30",
         "5": "83",
         "6": "2490",
         "7": "01/06/2021"
        },
        {
         "0": "235",
         "1": "CLIENT_3",
         "2": "PDV_6",
         "3": "PROD_6",
         "4": "21",
         "5": "318",
         "6": "6678",
         "7": "01/06/2021"
        },
        {
         "0": "236",
         "1": "CLIENT_3",
         "2": "PDV_3",
         "3": "PROD_5",
         "4": "47",
         "5": "14",
         "6": "658",
         "7": "01/06/2021"
        },
        {
         "0": "237",
         "1": "CLIENT_7",
         "2": "PDV_3",
         "3": "PROD_4",
         "4": "41",
         "5": "80",
         "6": "3280",
         "7": "01/06/2021"
        },
        {
         "0": "238",
         "1": "CLIENT_7",
         "2": "PDV_4",
         "3": "PROD_3",
         "4": "18",
         "5": "143",
         "6": "2574",
         "7": "01/06/2021"
        },
        {
         "0": "239",
         "1": "CLIENT_7",
         "2": "PDV_4",
         "3": "PROD_6",
         "4": "7",
         "5": "47",
         "6": "329",
         "7": "01/06/2021"
        },
        {
         "0": "240",
         "1": "CLIENT_1",
         "2": "PDV_7",
         "3": "PROD_4",
         "4": "5",
         "5": "217",
         "6": "1085",
         "7": "01/06/2021"
        },
        {
         "0": "241",
         "1": "CLIENT_1",
         "2": "PDV_2",
         "3": "PROD_4",
         "4": "16",
         "5": "245",
         "6": "3920",
         "7": "01/06/2021"
        },
        {
         "0": "242",
         "1": "CLIENT_1",
         "2": "PDV_2",
         "3": "PROD_6",
         "4": "6",
         "5": "295",
         "6": "1770",
         "7": "01/06/2021"
        },
        {
         "0": "243",
         "1": "CLIENT_1",
         "2": "PDV_4",
         "3": "PROD_4",
         "4": "25",
         "5": "270",
         "6": "6750",
         "7": "01/06/2021"
        },
        {
         "0": "244",
         "1": "CLIENT_3",
         "2": "PDV_3",
         "3": "PROD_5",
         "4": "27",
         "5": "2",
         "6": "54",
         "7": "01/06/2021"
        },
        {
         "0": "245",
         "1": "CLIENT_3",
         "2": "PDV_2",
         "3": "PROD_2",
         "4": "21",
         "5": "77",
         "6": "1617",
         "7": "01/06/2021"
        },
        {
         "0": "246",
         "1": "CLIENT_8",
         "2": "PDV_7",
         "3": "PROD_2",
         "4": "40",
         "5": "29",
         "6": "1160",
         "7": "01/06/2021"
        },
        {
         "0": "247",
         "1": "CLIENT_8",
         "2": "PDV_3",
         "3": "PROD_2",
         "4": "18",
         "5": "282",
         "6": "5076",
         "7": "01/06/2021"
        },
        {
         "0": "248",
         "1": "CLIENT_8",
         "2": "PDV_2",
         "3": "PROD_2",
         "4": "5",
         "5": "178",
         "6": "890",
         "7": "01/06/2021"
        },
        {
         "0": "249",
         "1": "CLIENT_3",
         "2": "PDV_3",
         "3": "PROD_2",
         "4": "18",
         "5": "133",
         "6": "2394",
         "7": "01/06/2021"
        },
        {
         "0": "250",
         "1": "CLIENT_1",
         "2": "PDV_1",
         "3": "PROD_4",
         "4": "2",
         "5": "203",
         "6": "406",
         "7": "01/06/2021"
        },
        {
         "0": "251",
         "1": "CLIENT_1",
         "2": "PDV_3",
         "3": "PROD_4",
         "4": "44",
         "5": "258",
         "6": "11352",
         "7": "01/06/2021"
        },
        {
         "0": "252",
         "1": "CLIENT_1",
         "2": "PDV_6",
         "3": "PROD_4",
         "4": "18",
         "5": "49",
         "6": "882",
         "7": "01/06/2021"
        },
        {
         "0": "253",
         "1": "CLIENT_1",
         "2": "PDV_4",
         "3": "PROD_4",
         "4": "7",
         "5": "70",
         "6": "490",
         "7": "01/06/2021"
        },
        {
         "0": "254",
         "1": "CLIENT_1",
         "2": "PDV_5",
         "3": "PROD_4",
         "4": "34",
         "5": "105",
         "6": "3570",
         "7": "01/06/2021"
        },
        {
         "0": "255",
         "1": "CLIENT_1",
         "2": "PDV_2",
         "3": "PROD_5",
         "4": "3",
         "5": "300",
         "6": "900",
         "7": "01/06/2021"
        },
        {
         "0": "256",
         "1": "CLIENT_1",
         "2": "PDV_2",
         "3": "PROD_2",
         "4": "36",
         "5": "92",
         "6": "3312",
         "7": "01/07/2021"
        },
        {
         "0": "257",
         "1": "CLIENT_1",
         "2": "PDV_2",
         "3": "PROD_2",
         "4": "41",
         "5": "41",
         "6": "1681",
         "7": "01/07/2021"
        },
        {
         "0": "258",
         "1": "CLIENT_1",
         "2": "PDV_2",
         "3": "PROD_2",
         "4": "30",
         "5": "260",
         "6": "7800",
         "7": "01/07/2021"
        },
        {
         "0": "259",
         "1": "CLIENT_1",
         "2": "PDV_4",
         "3": "PROD_2",
         "4": "29",
         "5": "128",
         "6": "3712",
         "7": "01/07/2021"
        },
        {
         "0": "260",
         "1": "CLIENT_1",
         "2": "PDV_2",
         "3": "PROD_1",
         "4": "21",
         "5": "78",
         "6": "1638",
         "7": "01/07/2021"
        },
        {
         "0": "261",
         "1": "CLIENT_1",
         "2": "PDV_6",
         "3": "PROD_1",
         "4": "30",
         "5": "134",
         "6": "4020",
         "7": "01/07/2021"
        },
        {
         "0": "262",
         "1": "CLIENT_1",
         "2": "PDV_6",
         "3": "PROD_1",
         "4": "42",
         "5": "281",
         "6": "11802",
         "7": "01/07/2021"
        },
        {
         "0": "263",
         "1": "CLIENT_1",
         "2": "PDV_1",
         "3": "PROD_6",
         "4": "7",
         "5": "341",
         "6": "2387",
         "7": "01/07/2021"
        },
        {
         "0": "264",
         "1": "CLIENT_1",
         "2": "PDV_7",
         "3": "PROD_3",
         "4": "9",
         "5": "261",
         "6": "2349",
         "7": "01/07/2021"
        },
        {
         "0": "265",
         "1": "CLIENT_2",
         "2": "PDV_5",
         "3": "PROD_6",
         "4": "4",
         "5": "344",
         "6": "1376",
         "7": "01/07/2021"
        },
        {
         "0": "266",
         "1": "CLIENT_2",
         "2": "PDV_2",
         "3": "PROD_1",
         "4": "25",
         "5": "155",
         "6": "3875",
         "7": "01/07/2021"
        },
        {
         "0": "267",
         "1": "CLIENT_2",
         "2": "PDV_7",
         "3": "PROD_1",
         "4": "46",
         "5": "190",
         "6": "8740",
         "7": "01/07/2021"
        },
        {
         "0": "268",
         "1": "CLIENT_2",
         "2": "PDV_1",
         "3": "PROD_3",
         "4": "50",
         "5": "300",
         "6": "15000",
         "7": "01/07/2021"
        },
        {
         "0": "269",
         "1": "CLIENT_2",
         "2": "PDV_1",
         "3": "PROD_1",
         "4": "45",
         "5": "211",
         "6": "9495",
         "7": "01/07/2021"
        },
        {
         "0": "270",
         "1": "CLIENT_2",
         "2": "PDV_3",
         "3": "PROD_1",
         "4": "49",
         "5": "255",
         "6": "12495",
         "7": "01/07/2021"
        },
        {
         "0": "271",
         "1": "CLIENT_2",
         "2": "PDV_3",
         "3": "PROD_4",
         "4": "13",
         "5": "37",
         "6": "481",
         "7": "01/07/2021"
        },
        {
         "0": "272",
         "1": "CLIENT_3",
         "2": "PDV_6",
         "3": "PROD_3",
         "4": "19",
         "5": "253",
         "6": "4807",
         "7": "01/07/2021"
        },
        {
         "0": "273",
         "1": "CLIENT_3",
         "2": "PDV_3",
         "3": "PROD_3",
         "4": "26",
         "5": "103",
         "6": "2678",
         "7": "01/07/2021"
        },
        {
         "0": "274",
         "1": "CLIENT_3",
         "2": "PDV_7",
         "3": "PROD_4",
         "4": "20",
         "5": "238",
         "6": "4760",
         "7": "01/07/2021"
        },
        {
         "0": "275",
         "1": "CLIENT_1",
         "2": "PDV_7",
         "3": "PROD_3",
         "4": "3",
         "5": "291",
         "6": "873",
         "7": "01/07/2021"
        },
        {
         "0": "276",
         "1": "CLIENT_1",
         "2": "PDV_3",
         "3": "PROD_3",
         "4": "14",
         "5": "230",
         "6": "3220",
         "7": "01/07/2021"
        },
        {
         "0": "277",
         "1": "CLIENT_1",
         "2": "PDV_4",
         "3": "PROD_3",
         "4": "34",
         "5": "9",
         "6": "306",
         "7": "01/07/2021"
        },
        {
         "0": "278",
         "1": "CLIENT_1",
         "2": "PDV_1",
         "3": "PROD_3",
         "4": "9",
         "5": "164",
         "6": "1476",
         "7": "01/07/2021"
        },
        {
         "0": "279",
         "1": "CLIENT_1",
         "2": "PDV_3",
         "3": "PROD_3",
         "4": "23",
         "5": "177",
         "6": "4071",
         "7": "01/07/2021"
        },
        {
         "0": "280",
         "1": "CLIENT_3",
         "2": "PDV_1",
         "3": "PROD_6",
         "4": "36",
         "5": "310",
         "6": "11160",
         "7": "01/07/2021"
        },
        {
         "0": "281",
         "1": "CLIENT_3",
         "2": "PDV_7",
         "3": "PROD_6",
         "4": "16",
         "5": "236",
         "6": "3776",
         "7": "01/07/2021"
        },
        {
         "0": "282",
         "1": "CLIENT_3",
         "2": "PDV_3",
         "3": "PROD_6",
         "4": "28",
         "5": "18",
         "6": "504",
         "7": "01/07/2021"
        },
        {
         "0": "283",
         "1": "CLIENT_7",
         "2": "PDV_6",
         "3": "PROD_6",
         "4": "26",
         "5": "171",
         "6": "4446",
         "7": "01/07/2021"
        },
        {
         "0": "284",
         "1": "CLIENT_3",
         "2": "PDV_7",
         "3": "PROD_1",
         "4": "2",
         "5": "131",
         "6": "262",
         "7": "01/07/2021"
        },
        {
         "0": "285",
         "1": "CLIENT_3",
         "2": "PDV_6",
         "3": "PROD_2",
         "4": "23",
         "5": "233",
         "6": "5359",
         "7": "01/07/2021"
        },
        {
         "0": "286",
         "1": "CLIENT_3",
         "2": "PDV_2",
         "3": "PROD_2",
         "4": "43",
         "5": "216",
         "6": "9288",
         "7": "01/07/2021"
        },
        {
         "0": "287",
         "1": "CLIENT_3",
         "2": "PDV_3",
         "3": "PROD_2",
         "4": "42",
         "5": "87",
         "6": "3654",
         "7": "01/07/2021"
        },
        {
         "0": "288",
         "1": "CLIENT_3",
         "2": "PDV_4",
         "3": "PROD_2",
         "4": "20",
         "5": "321",
         "6": "6420",
         "7": "01/07/2021"
        },
        {
         "0": "289",
         "1": "CLIENT_6",
         "2": "PDV_1",
         "3": "PROD_2",
         "4": "27",
         "5": "287",
         "6": "7749",
         "7": "01/07/2021"
        },
        {
         "0": "290",
         "1": "CLIENT_1",
         "2": "PDV_2",
         "3": "PROD_1",
         "4": "6",
         "5": "74",
         "6": "444",
         "7": "01/07/2021"
        },
        {
         "0": "291",
         "1": "CLIENT_1",
         "2": "PDV_7",
         "3": "PROD_6",
         "4": "21",
         "5": "3",
         "6": "63",
         "7": "01/07/2021"
        },
        {
         "0": "292",
         "1": "CLIENT_1",
         "2": "PDV_6",
         "3": "PROD_1",
         "4": "44",
         "5": "276",
         "6": "12144",
         "7": "01/07/2021"
        },
        {
         "0": "293",
         "1": "CLIENT_1",
         "2": "PDV_7",
         "3": "PROD_1",
         "4": "10",
         "5": "15",
         "6": "150",
         "7": "01/07/2021"
        },
        {
         "0": "294",
         "1": "CLIENT_1",
         "2": "PDV_4",
         "3": "PROD_6",
         "4": "50",
         "5": "117",
         "6": "5850",
         "7": "01/07/2021"
        },
        {
         "0": "295",
         "1": "CLIENT_1",
         "2": "PDV_1",
         "3": "PROD_3",
         "4": "24",
         "5": "23",
         "6": "552",
         "7": "01/07/2021"
        },
        {
         "0": "296",
         "1": "CLIENT_1",
         "2": "PDV_4",
         "3": "PROD_4",
         "4": "10",
         "5": "213",
         "6": "2130",
         "7": "01/07/2021"
        },
        {
         "0": "297",
         "1": "CLIENT_1",
         "2": "PDV_6",
         "3": "PROD_3",
         "4": "35",
         "5": "324",
         "6": "11340",
         "7": "01/07/2021"
        },
        {
         "0": "298",
         "1": "CLIENT_1",
         "2": "PDV_3",
         "3": "PROD_2",
         "4": "2",
         "5": "348",
         "6": "696",
         "7": "01/08/2021"
        },
        {
         "0": "299",
         "1": "CLIENT_1",
         "2": "PDV_1",
         "3": "PROD_4",
         "4": "45",
         "5": "185",
         "6": "8325",
         "7": "01/08/2021"
        },
        {
         "0": "300",
         "1": "CLIENT_1",
         "2": "PDV_1",
         "3": "PROD_3",
         "4": "48",
         "5": "237",
         "6": "11376",
         "7": "01/08/2021"
        },
        {
         "0": "301",
         "1": "CLIENT_1",
         "2": "PDV_6",
         "3": "PROD_2",
         "4": "32",
         "5": "306",
         "6": "9792",
         "7": "01/08/2021"
        },
        {
         "0": "302",
         "1": "CLIENT_1",
         "2": "PDV_6",
         "3": "PROD_3",
         "4": "14",
         "5": "225",
         "6": "3150",
         "7": "01/08/2021"
        },
        {
         "0": "303",
         "1": "CLIENT_8",
         "2": "PDV_3",
         "3": "PROD_6",
         "4": "22",
         "5": "153",
         "6": "3366",
         "7": "01/08/2021"
        },
        {
         "0": "304",
         "1": "CLIENT_8",
         "2": "PDV_6",
         "3": "PROD_2",
         "4": "36",
         "5": "61",
         "6": "2196",
         "7": "01/08/2021"
        },
        {
         "0": "305",
         "1": "CLIENT_2",
         "2": "PDV_5",
         "3": "PROD_3",
         "4": "13",
         "5": "208",
         "6": "2704",
         "7": "01/08/2021"
        },
        {
         "0": "306",
         "1": "CLIENT_2",
         "2": "PDV_3",
         "3": "PROD_1",
         "4": "38",
         "5": "170",
         "6": "6460",
         "7": "01/08/2021"
        },
        {
         "0": "307",
         "1": "CLIENT_2",
         "2": "PDV_7",
         "3": "PROD_1",
         "4": "13",
         "5": "266",
         "6": "3458",
         "7": "01/08/2021"
        },
        {
         "0": "308",
         "1": "CLIENT_2",
         "2": "PDV_4",
         "3": "PROD_3",
         "4": "36",
         "5": "194",
         "6": "6984",
         "7": "01/08/2021"
        },
        {
         "0": "309",
         "1": "CLIENT_3",
         "2": "PDV_1",
         "3": "PROD_3",
         "4": "12",
         "5": "5",
         "6": "60",
         "7": "01/08/2021"
        },
        {
         "0": "310",
         "1": "CLIENT_7",
         "2": "PDV_5",
         "3": "PROD_5",
         "4": "19",
         "5": "242",
         "6": "4598",
         "7": "01/08/2021"
        },
        {
         "0": "311",
         "1": "CLIENT_1",
         "2": "PDV_6",
         "3": "PROD_1",
         "4": "26",
         "5": "313",
         "6": "8138",
         "7": "01/08/2021"
        },
        {
         "0": "312",
         "1": "CLIENT_1",
         "2": "PDV_7",
         "3": "PROD_5",
         "4": "27",
         "5": "287",
         "6": "7749",
         "7": "01/08/2021"
        },
        {
         "0": "313",
         "1": "CLIENT_7",
         "2": "PDV_4",
         "3": "PROD_3",
         "4": "18",
         "5": "309",
         "6": "5562",
         "7": "01/08/2021"
        },
        {
         "0": "314",
         "1": "CLIENT_3",
         "2": "PDV_4",
         "3": "PROD_3",
         "4": "10",
         "5": "188",
         "6": "1880",
         "7": "01/08/2021"
        },
        {
         "0": "315",
         "1": "CLIENT_2",
         "2": "PDV_4",
         "3": "PROD_2",
         "4": "40",
         "5": "157",
         "6": "6280",
         "7": "01/08/2021"
        },
        {
         "0": "316",
         "1": "CLIENT_2",
         "2": "PDV_5",
         "3": "PROD_2",
         "4": "16",
         "5": "57",
         "6": "912",
         "7": "01/08/2021"
        },
        {
         "0": "317",
         "1": "CLIENT_3",
         "2": "PDV_7",
         "3": "PROD_2",
         "4": "45",
         "5": "100",
         "6": "4500",
         "7": "01/08/2021"
        },
        {
         "0": "318",
         "1": "CLIENT_6",
         "2": "PDV_6",
         "3": "PROD_2",
         "4": "21",
         "5": "63",
         "6": "1323",
         "7": "01/08/2021"
        },
        {
         "0": "319",
         "1": "CLIENT_1",
         "2": "PDV_4",
         "3": "PROD_6",
         "4": "50",
         "5": "46",
         "6": "2300",
         "7": "01/08/2021"
        },
        {
         "0": "320",
         "1": "CLIENT_1",
         "2": "PDV_7",
         "3": "PROD_6",
         "4": "43",
         "5": "346",
         "6": "14878",
         "7": "01/08/2021"
        },
        {
         "0": "321",
         "1": "CLIENT_1",
         "2": "PDV_3",
         "3": "PROD_6",
         "4": "35",
         "5": "153",
         "6": "5355",
         "7": "01/08/2021"
        },
        {
         "0": "322",
         "1": "CLIENT_1",
         "2": "PDV_5",
         "3": "PROD_6",
         "4": "28",
         "5": "302",
         "6": "8456",
         "7": "01/08/2021"
        },
        {
         "0": "323",
         "1": "CLIENT_1",
         "2": "PDV_3",
         "3": "PROD_2",
         "4": "35",
         "5": "139",
         "6": "4865",
         "7": "01/08/2021"
        },
        {
         "0": "324",
         "1": "CLIENT_1",
         "2": "PDV_3",
         "3": "PROD_4",
         "4": "50",
         "5": "34",
         "6": "1700",
         "7": "01/08/2021"
        },
        {
         "0": "325",
         "1": "CLIENT_1",
         "2": "PDV_5",
         "3": "PROD_4",
         "4": "8",
         "5": "170",
         "6": "1360",
         "7": "01/08/2021"
        },
        {
         "0": "326",
         "1": "CLIENT_1",
         "2": "PDV_7",
         "3": "PROD_2",
         "4": "39",
         "5": "272",
         "6": "10608",
         "7": "01/08/2021"
        },
        {
         "0": "327",
         "1": "CLIENT_1",
         "2": "PDV_7",
         "3": "PROD_4",
         "4": "23",
         "5": "202",
         "6": "4646",
         "7": "01/08/2021"
        },
        {
         "0": "328",
         "1": "CLIENT_1",
         "2": "PDV_7",
         "3": "PROD_2",
         "4": "11",
         "5": "102",
         "6": "1122",
         "7": "01/08/2021"
        },
        {
         "0": "329",
         "1": "CLIENT_1",
         "2": "PDV_7",
         "3": "PROD_3",
         "4": "11",
         "5": "300",
         "6": "3300",
         "7": "01/08/2021"
        },
        {
         "0": "330",
         "1": "CLIENT_1",
         "2": "PDV_6",
         "3": "PROD_2",
         "4": "10",
         "5": "206",
         "6": "2060",
         "7": "01/08/2021"
        },
        {
         "0": "331",
         "1": "CLIENT_1",
         "2": "PDV_2",
         "3": "PROD_3",
         "4": "37",
         "5": "13",
         "6": "481",
         "7": "01/08/2021"
        },
        {
         "0": "332",
         "1": "CLIENT_8",
         "2": "PDV_3",
         "3": "PROD_6",
         "4": "21",
         "5": "12",
         "6": "252",
         "7": "01/08/2021"
        },
        {
         "0": "333",
         "1": "CLIENT_8",
         "2": "PDV_6",
         "3": "PROD_3",
         "4": "5",
         "5": "63",
         "6": "315",
         "7": "01/08/2021"
        },
        {
         "0": "334",
         "1": "CLIENT_2",
         "2": "PDV_5",
         "3": "PROD_5",
         "4": "9",
         "5": "26",
         "6": "234",
         "7": "01/08/2021"
        },
        {
         "0": "335",
         "1": "CLIENT_2",
         "2": "PDV_1",
         "3": "PROD_4",
         "4": "22",
         "5": "186",
         "6": "4092",
         "7": "01/08/2021"
        },
        {
         "0": "336",
         "1": "CLIENT_2",
         "2": "PDV_4",
         "3": "PROD_1",
         "4": "21",
         "5": "73",
         "6": "1533",
         "7": "01/08/2021"
        },
        {
         "0": "337",
         "1": "CLIENT_7",
         "2": "PDV_4",
         "3": "PROD_5",
         "4": "38",
         "5": "103",
         "6": "3914",
         "7": "01/09/2021"
        },
        {
         "0": "338",
         "1": "CLIENT_7",
         "2": "PDV_6",
         "3": "PROD_5",
         "4": "28",
         "5": "87",
         "6": "2436",
         "7": "01/09/2021"
        },
        {
         "0": "339",
         "1": "CLIENT_1",
         "2": "PDV_2",
         "3": "PROD_1",
         "4": "16",
         "5": "220",
         "6": "3520",
         "7": "01/09/2021"
        },
        {
         "0": "340",
         "1": "CLIENT_1",
         "2": "PDV_2",
         "3": "PROD_1",
         "4": "46",
         "5": "305",
         "6": "14030",
         "7": "01/09/2021"
        },
        {
         "0": "341",
         "1": "CLIENT_1",
         "2": "PDV_7",
         "3": "PROD_1",
         "4": "10",
         "5": "241",
         "6": "2410",
         "7": "01/09/2021"
        },
        {
         "0": "342",
         "1": "CLIENT_1",
         "2": "PDV_2",
         "3": "PROD_6",
         "4": "29",
         "5": "76",
         "6": "2204",
         "7": "01/09/2021"
        },
        {
         "0": "343",
         "1": "CLIENT_1",
         "2": "PDV_3",
         "3": "PROD_1",
         "4": "23",
         "5": "250",
         "6": "5750",
         "7": "01/09/2021"
        },
        {
         "0": "344",
         "1": "CLIENT_7",
         "2": "PDV_2",
         "3": "PROD_3",
         "4": "30",
         "5": "52",
         "6": "1560",
         "7": "01/09/2021"
        },
        {
         "0": "345",
         "1": "CLIENT_7",
         "2": "PDV_7",
         "3": "PROD_3",
         "4": "2",
         "5": "286",
         "6": "572",
         "7": "01/09/2021"
        },
        {
         "0": "346",
         "1": "CLIENT_7",
         "2": "PDV_4",
         "3": "PROD_3",
         "4": "25",
         "5": "107",
         "6": "2675",
         "7": "01/09/2021"
        },
        {
         "0": "347",
         "1": "CLIENT_3",
         "2": "PDV_1",
         "3": "PROD_3",
         "4": "8",
         "5": "99",
         "6": "792",
         "7": "01/09/2021"
        },
        {
         "0": "348",
         "1": "CLIENT_3",
         "2": "PDV_1",
         "3": "PROD_3",
         "4": "33",
         "5": "79",
         "6": "2607",
         "7": "01/09/2021"
        },
        {
         "0": "349",
         "1": "CLIENT_8",
         "2": "PDV_2",
         "3": "PROD_2",
         "4": "30",
         "5": "186",
         "6": "5580",
         "7": "01/09/2021"
        },
        {
         "0": "350",
         "1": "CLIENT_8",
         "2": "PDV_6",
         "3": "PROD_2",
         "4": "31",
         "5": "328",
         "6": "10168",
         "7": "01/09/2021"
        },
        {
         "0": "351",
         "1": "CLIENT_2",
         "2": "PDV_2",
         "3": "PROD_2",
         "4": "16",
         "5": "182",
         "6": "2912",
         "7": "01/09/2021"
        },
        {
         "0": "352",
         "1": "CLIENT_2",
         "2": "PDV_7",
         "3": "PROD_2",
         "4": "5",
         "5": "3",
         "6": "15",
         "7": "01/09/2021"
        },
        {
         "0": "353",
         "1": "CLIENT_6",
         "2": "PDV_7",
         "3": "PROD_2",
         "4": "11",
         "5": "43",
         "6": "473",
         "7": "01/09/2021"
        },
        {
         "0": "354",
         "1": "CLIENT_1",
         "2": "PDV_1",
         "3": "PROD_2",
         "4": "26",
         "5": "190",
         "6": "4940",
         "7": "01/09/2021"
        },
        {
         "0": "355",
         "1": "CLIENT_1",
         "2": "PDV_4",
         "3": "PROD_2",
         "4": "4",
         "5": "47",
         "6": "188",
         "7": "01/09/2021"
        },
        {
         "0": "356",
         "1": "CLIENT_1",
         "2": "PDV_3",
         "3": "PROD_3",
         "4": "22",
         "5": "18",
         "6": "396",
         "7": "01/09/2021"
        },
        {
         "0": "357",
         "1": "CLIENT_1",
         "2": "PDV_4",
         "3": "PROD_2",
         "4": "17",
         "5": "277",
         "6": "4709",
         "7": "01/09/2021"
        },
        {
         "0": "358",
         "1": "CLIENT_1",
         "2": "PDV_7",
         "3": "PROD_3",
         "4": "28",
         "5": "317",
         "6": "8876",
         "7": "01/09/2021"
        },
        {
         "0": "359",
         "1": "CLIENT_1",
         "2": "PDV_2",
         "3": "PROD_2",
         "4": "46",
         "5": "210",
         "6": "9660",
         "7": "01/09/2021"
        },
        {
         "0": "360",
         "1": "CLIENT_1",
         "2": "PDV_5",
         "3": "PROD_3",
         "4": "43",
         "5": "264",
         "6": "11352",
         "7": "01/09/2021"
        },
        {
         "0": "361",
         "1": "CLIENT_1",
         "2": "PDV_3",
         "3": "PROD_4",
         "4": "36",
         "5": "95",
         "6": "3420",
         "7": "01/09/2021"
        },
        {
         "0": "362",
         "1": "CLIENT_1",
         "2": "PDV_6",
         "3": "PROD_2",
         "4": "10",
         "5": "50",
         "6": "500",
         "7": "01/09/2021"
        },
        {
         "0": "363",
         "1": "CLIENT_1",
         "2": "PDV_7",
         "3": "PROD_2",
         "4": "3",
         "5": "193",
         "6": "579",
         "7": "01/09/2021"
        },
        {
         "0": "364",
         "1": "CLIENT_1",
         "2": "PDV_1",
         "3": "PROD_3",
         "4": "35",
         "5": "56",
         "6": "1960",
         "7": "01/09/2021"
        },
        {
         "0": "365",
         "1": "CLIENT_1",
         "2": "PDV_3",
         "3": "PROD_6",
         "4": "5",
         "5": "344",
         "6": "1720",
         "7": "01/09/2021"
        },
        {
         "0": "366",
         "1": "CLIENT_1",
         "2": "PDV_2",
         "3": "PROD_5",
         "4": "36",
         "5": "69",
         "6": "2484",
         "7": "01/10/2021"
        },
        {
         "0": "367",
         "1": "CLIENT_1",
         "2": "PDV_5",
         "3": "PROD_6",
         "4": "17",
         "5": "221",
         "6": "3757",
         "7": "01/10/2021"
        },
        {
         "0": "368",
         "1": "CLIENT_1",
         "2": "PDV_6",
         "3": "PROD_5",
         "4": "30",
         "5": "337",
         "6": "10110",
         "7": "01/10/2021"
        },
        {
         "0": "369",
         "1": "CLIENT_1",
         "2": "PDV_7",
         "3": "PROD_6",
         "4": "12",
         "5": "186",
         "6": "2232",
         "7": "01/10/2021"
        },
        {
         "0": "370",
         "1": "CLIENT_1",
         "2": "PDV_6",
         "3": "PROD_2",
         "4": "44",
         "5": "268",
         "6": "11792",
         "7": "01/10/2021"
        },
        {
         "0": "371",
         "1": "CLIENT_1",
         "2": "PDV_5",
         "3": "PROD_1",
         "4": "42",
         "5": "65",
         "6": "2730",
         "7": "01/10/2021"
        },
        {
         "0": "372",
         "1": "CLIENT_1",
         "2": "PDV_5",
         "3": "PROD_1",
         "4": "41",
         "5": "350",
         "6": "14350",
         "7": "01/10/2021"
        },
        {
         "0": "373",
         "1": "CLIENT_1",
         "2": "PDV_5",
         "3": "PROD_6",
         "4": "32",
         "5": "224",
         "6": "7168",
         "7": "01/10/2021"
        },
        {
         "0": "374",
         "1": "CLIENT_1",
         "2": "PDV_3",
         "3": "PROD_3",
         "4": "1",
         "5": "76",
         "6": "76",
         "7": "01/10/2021"
        },
        {
         "0": "375",
         "1": "CLIENT_1",
         "2": "PDV_4",
         "3": "PROD_1",
         "4": "20",
         "5": "277",
         "6": "5540",
         "7": "01/10/2021"
        },
        {
         "0": "376",
         "1": "CLIENT_8",
         "2": "PDV_7",
         "3": "PROD_1",
         "4": "27",
         "5": "282",
         "6": "7614",
         "7": "01/10/2021"
        },
        {
         "0": "377",
         "1": "CLIENT_8",
         "2": "PDV_7",
         "3": "PROD_3",
         "4": "3",
         "5": "209",
         "6": "627",
         "7": "01/10/2021"
        },
        {
         "0": "378",
         "1": "CLIENT_8",
         "2": "PDV_2",
         "3": "PROD_5",
         "4": "50",
         "5": "26",
         "6": "1300",
         "7": "01/10/2021"
        },
        {
         "0": "379",
         "1": "CLIENT_8",
         "2": "PDV_4",
         "3": "PROD_6",
         "4": "21",
         "5": "290",
         "6": "6090",
         "7": "01/10/2021"
        },
        {
         "0": "380",
         "1": "CLIENT_1",
         "2": "PDV_4",
         "3": "PROD_5",
         "4": "18",
         "5": "163",
         "6": "2934",
         "7": "01/10/2021"
        },
        {
         "0": "381",
         "1": "CLIENT_1",
         "2": "PDV_7",
         "3": "PROD_5",
         "4": "40",
         "5": "139",
         "6": "5560",
         "7": "01/10/2021"
        },
        {
         "0": "382",
         "1": "CLIENT_1",
         "2": "PDV_6",
         "3": "PROD_2",
         "4": "50",
         "5": "178",
         "6": "8900",
         "7": "01/10/2021"
        },
        {
         "0": "383",
         "1": "CLIENT_2",
         "2": "PDV_5",
         "3": "PROD_6",
         "4": "21",
         "5": "27",
         "6": "567",
         "7": "01/10/2021"
        },
        {
         "0": "384",
         "1": "CLIENT_2",
         "2": "PDV_7",
         "3": "PROD_4",
         "4": "30",
         "5": "146",
         "6": "4380",
         "7": "01/10/2021"
        },
        {
         "0": "385",
         "1": "CLIENT_2",
         "2": "PDV_2",
         "3": "PROD_6",
         "4": "27",
         "5": "4",
         "6": "108",
         "7": "01/10/2021"
        },
        {
         "0": "386",
         "1": "CLIENT_2",
         "2": "PDV_6",
         "3": "PROD_3",
         "4": "18",
         "5": "268",
         "6": "4824",
         "7": "01/10/2021"
        },
        {
         "0": "387",
         "1": "CLIENT_2",
         "2": "PDV_6",
         "3": "PROD_1",
         "4": "30",
         "5": "236",
         "6": "7080",
         "7": "01/10/2021"
        },
        {
         "0": "388",
         "1": "CLIENT_2",
         "2": "PDV_2",
         "3": "PROD_5",
         "4": "5",
         "5": "31",
         "6": "155",
         "7": "01/10/2021"
        },
        {
         "0": "389",
         "1": "CLIENT_2",
         "2": "PDV_2",
         "3": "PROD_6",
         "4": "20",
         "5": "299",
         "6": "5980",
         "7": "01/10/2021"
        },
        {
         "0": "390",
         "1": "CLIENT_7",
         "2": "PDV_4",
         "3": "PROD_1",
         "4": "9",
         "5": "46",
         "6": "414",
         "7": "01/10/2021"
        },
        {
         "0": "391",
         "1": "CLIENT_7",
         "2": "PDV_6",
         "3": "PROD_5",
         "4": "8",
         "5": "336",
         "6": "2688",
         "7": "01/10/2021"
        },
        {
         "0": "392",
         "1": "CLIENT_7",
         "2": "PDV_6",
         "3": "PROD_4",
         "4": "21",
         "5": "21",
         "6": "441",
         "7": "01/10/2021"
        },
        {
         "0": "393",
         "1": "CLIENT_7",
         "2": "PDV_7",
         "3": "PROD_1",
         "4": "13",
         "5": "251",
         "6": "3263",
         "7": "01/10/2021"
        },
        {
         "0": "394",
         "1": "CLIENT_7",
         "2": "PDV_2",
         "3": "PROD_3",
         "4": "3",
         "5": "155",
         "6": "465",
         "7": "01/10/2021"
        },
        {
         "0": "395",
         "1": "CLIENT_1",
         "2": "PDV_4",
         "3": "PROD_6",
         "4": "49",
         "5": "9",
         "6": "441",
         "7": "01/10/2021"
        },
        {
         "0": "396",
         "1": "CLIENT_1",
         "2": "PDV_1",
         "3": "PROD_6",
         "4": "25",
         "5": "163",
         "6": "4075",
         "7": "01/10/2021"
        },
        {
         "0": "397",
         "1": "CLIENT_1",
         "2": "PDV_1",
         "3": "PROD_4",
         "4": "15",
         "5": "70",
         "6": "1050",
         "7": "01/10/2021"
        },
        {
         "0": "398",
         "1": "CLIENT_1",
         "2": "PDV_6",
         "3": "PROD_6",
         "4": "35",
         "5": "53",
         "6": "1855",
         "7": "01/10/2021"
        },
        {
         "0": "399",
         "1": "CLIENT_1",
         "2": "PDV_7",
         "3": "PROD_6",
         "4": "49",
         "5": "296",
         "6": "14504",
         "7": "01/10/2021"
        },
        {
         "0": "400",
         "1": "CLIENT_1",
         "2": "PDV_5",
         "3": "PROD_3",
         "4": "40",
         "5": "87",
         "6": "3480",
         "7": "01/10/2021"
        },
        {
         "0": "401",
         "1": "CLIENT_3",
         "2": "PDV_4",
         "3": "PROD_4",
         "4": "2",
         "5": "101",
         "6": "202",
         "7": "01/10/2021"
        },
        {
         "0": "402",
         "1": "CLIENT_3",
         "2": "PDV_5",
         "3": "PROD_4",
         "4": "28",
         "5": "98",
         "6": "2744",
         "7": "01/10/2021"
        },
        {
         "0": "403",
         "1": "CLIENT_3",
         "2": "PDV_3",
         "3": "PROD_4",
         "4": "2",
         "5": "19",
         "6": "38",
         "7": "01/10/2021"
        },
        {
         "0": "404",
         "1": "CLIENT_3",
         "2": "PDV_2",
         "3": "PROD_6",
         "4": "42",
         "5": "137",
         "6": "5754",
         "7": "01/10/2021"
        },
        {
         "0": "405",
         "1": "CLIENT_3",
         "2": "PDV_6",
         "3": "PROD_1",
         "4": "32",
         "5": "300",
         "6": "9600",
         "7": "01/10/2021"
        },
        {
         "0": "406",
         "1": "CLIENT_3",
         "2": "PDV_2",
         "3": "PROD_1",
         "4": "39",
         "5": "178",
         "6": "6942",
         "7": "01/10/2021"
        },
        {
         "0": "407",
         "1": "CLIENT_7",
         "2": "PDV_3",
         "3": "PROD_4",
         "4": "29",
         "5": "307",
         "6": "8903",
         "7": "01/10/2021"
        },
        {
         "0": "408",
         "1": "CLIENT_7",
         "2": "PDV_6",
         "3": "PROD_1",
         "4": "40",
         "5": "167",
         "6": "6680",
         "7": "01/10/2021"
        },
        {
         "0": "409",
         "1": "CLIENT_3",
         "2": "PDV_4",
         "3": "PROD_3",
         "4": "16",
         "5": "122",
         "6": "1952",
         "7": "01/10/2021"
        },
        {
         "0": "410",
         "1": "CLIENT_1",
         "2": "PDV_7",
         "3": "PROD_2",
         "4": "10",
         "5": "223",
         "6": "2230",
         "7": "01/10/2021"
        },
        {
         "0": "411",
         "1": "CLIENT_8",
         "2": "PDV_3",
         "3": "PROD_2",
         "4": "22",
         "5": "221",
         "6": "4862",
         "7": "01/10/2021"
        },
        {
         "0": "412",
         "1": "CLIENT_8",
         "2": "PDV_5",
         "3": "PROD_2",
         "4": "29",
         "5": "187",
         "6": "5423",
         "7": "01/10/2021"
        },
        {
         "0": "413",
         "1": "CLIENT_8",
         "2": "PDV_2",
         "3": "PROD_2",
         "4": "17",
         "5": "253",
         "6": "4301",
         "7": "01/10/2021"
        },
        {
         "0": "414",
         "1": "CLIENT_8",
         "2": "PDV_6",
         "3": "PROD_2",
         "4": "29",
         "5": "5",
         "6": "145",
         "7": "01/10/2021"
        },
        {
         "0": "415",
         "1": "CLIENT_1",
         "2": "PDV_1",
         "3": "PROD_2",
         "4": "36",
         "5": "50",
         "6": "1800",
         "7": "01/10/2021"
        },
        {
         "0": "416",
         "1": "CLIENT_2",
         "2": "PDV_1",
         "3": "PROD_2",
         "4": "45",
         "5": "341",
         "6": "15345",
         "7": "01/10/2021"
        },
        {
         "0": "417",
         "1": "CLIENT_3",
         "2": "PDV_7",
         "3": "PROD_2",
         "4": "42",
         "5": "183",
         "6": "7686",
         "7": "01/10/2021"
        },
        {
         "0": "418",
         "1": "CLIENT_2",
         "2": "PDV_5",
         "3": "PROD_2",
         "4": "5",
         "5": "246",
         "6": "1230",
         "7": "01/10/2021"
        },
        {
         "0": "419",
         "1": "CLIENT_2",
         "2": "PDV_6",
         "3": "PROD_2",
         "4": "29",
         "5": "158",
         "6": "4582",
         "7": "01/10/2021"
        },
        {
         "0": "420",
         "1": "CLIENT_6",
         "2": "PDV_1",
         "3": "PROD_2",
         "4": "11",
         "5": "71",
         "6": "781",
         "7": "01/10/2021"
        },
        {
         "0": "421",
         "1": "CLIENT_6",
         "2": "PDV_4",
         "3": "PROD_2",
         "4": "17",
         "5": "337",
         "6": "5729",
         "7": "01/10/2021"
        },
        {
         "0": "422",
         "1": "CLIENT_3",
         "2": "PDV_6",
         "3": "PROD_2",
         "4": "21",
         "5": "22",
         "6": "462",
         "7": "01/10/2021"
        },
        {
         "0": "423",
         "1": "CLIENT_1",
         "2": "PDV_6",
         "3": "PROD_2",
         "4": "13",
         "5": "65",
         "6": "845",
         "7": "01/10/2021"
        },
        {
         "0": "424",
         "1": "CLIENT_1",
         "2": "PDV_2",
         "3": "PROD_3",
         "4": "29",
         "5": "101",
         "6": "2929",
         "7": "01/10/2021"
        },
        {
         "0": "425",
         "1": "CLIENT_1",
         "2": "PDV_7",
         "3": "PROD_3",
         "4": "15",
         "5": "37",
         "6": "555",
         "7": "01/10/2021"
        },
        {
         "0": "426",
         "1": "CLIENT_1",
         "2": "PDV_6",
         "3": "PROD_2",
         "4": "1",
         "5": "74",
         "6": "74",
         "7": "01/10/2021"
        },
        {
         "0": "427",
         "1": "CLIENT_1",
         "2": "PDV_7",
         "3": "PROD_3",
         "4": "3",
         "5": "148",
         "6": "444",
         "7": "01/10/2021"
        },
        {
         "0": "428",
         "1": "CLIENT_1",
         "2": "PDV_7",
         "3": "PROD_6",
         "4": "39",
         "5": "281",
         "6": "10959",
         "7": "01/10/2021"
        },
        {
         "0": "429",
         "1": "CLIENT_1",
         "2": "PDV_4",
         "3": "PROD_6",
         "4": "1",
         "5": "220",
         "6": "220",
         "7": "01/11/2021"
        },
        {
         "0": "430",
         "1": "CLIENT_1",
         "2": "PDV_2",
         "3": "PROD_2",
         "4": "18",
         "5": "223",
         "6": "4014",
         "7": "01/11/2021"
        },
        {
         "0": "431",
         "1": "CLIENT_1",
         "2": "PDV_7",
         "3": "PROD_5",
         "4": "33",
         "5": "76",
         "6": "2508",
         "7": "01/11/2021"
        },
        {
         "0": "432",
         "1": "CLIENT_1",
         "2": "PDV_1",
         "3": "PROD_2",
         "4": "26",
         "5": "39",
         "6": "1014",
         "7": "01/11/2021"
        },
        {
         "0": "433",
         "1": "CLIENT_1",
         "2": "PDV_6",
         "3": "PROD_6",
         "4": "22",
         "5": "45",
         "6": "990",
         "7": "01/11/2021"
        },
        {
         "0": "434",
         "1": "CLIENT_1",
         "2": "PDV_4",
         "3": "PROD_1",
         "4": "6",
         "5": "135",
         "6": "810",
         "7": "01/11/2021"
        },
        {
         "0": "435",
         "1": "CLIENT_1",
         "2": "PDV_2",
         "3": "PROD_5",
         "4": "16",
         "5": "96",
         "6": "1536",
         "7": "01/11/2021"
        },
        {
         "0": "436",
         "1": "CLIENT_1",
         "2": "PDV_7",
         "3": "PROD_4",
         "4": "40",
         "5": "117",
         "6": "4680",
         "7": "01/11/2021"
        },
        {
         "0": "437",
         "1": "CLIENT_1",
         "2": "PDV_7",
         "3": "PROD_5",
         "4": "34",
         "5": "262",
         "6": "8908",
         "7": "01/11/2021"
        },
        {
         "0": "438",
         "1": "CLIENT_1",
         "2": "PDV_5",
         "3": "PROD_5",
         "4": "13",
         "5": "112",
         "6": "1456",
         "7": "01/11/2021"
        },
        {
         "0": "439",
         "1": "CLIENT_1",
         "2": "PDV_5",
         "3": "PROD_4",
         "4": "34",
         "5": "4",
         "6": "136",
         "7": "01/11/2021"
        },
        {
         "0": "440",
         "1": "CLIENT_1",
         "2": "PDV_6",
         "3": "PROD_6",
         "4": "28",
         "5": "61",
         "6": "1708",
         "7": "01/11/2021"
        },
        {
         "0": "441",
         "1": "CLIENT_1",
         "2": "PDV_1",
         "3": "PROD_2",
         "4": "45",
         "5": "24",
         "6": "1080",
         "7": "01/11/2021"
        },
        {
         "0": "442",
         "1": "CLIENT_2",
         "2": "PDV_1",
         "3": "PROD_1",
         "4": "30",
         "5": "347",
         "6": "10410",
         "7": "01/11/2021"
        },
        {
         "0": "443",
         "1": "CLIENT_2",
         "2": "PDV_7",
         "3": "PROD_1",
         "4": "15",
         "5": "129",
         "6": "1935",
         "7": "01/11/2021"
        },
        {
         "0": "444",
         "1": "CLIENT_2",
         "2": "PDV_2",
         "3": "PROD_3",
         "4": "4",
         "5": "83",
         "6": "332",
         "7": "01/11/2021"
        },
        {
         "0": "445",
         "1": "CLIENT_2",
         "2": "PDV_6",
         "3": "PROD_5",
         "4": "25",
         "5": "164",
         "6": "4100",
         "7": "01/11/2021"
        },
        {
         "0": "446",
         "1": "CLIENT_3",
         "2": "PDV_3",
         "3": "PROD_5",
         "4": "17",
         "5": "193",
         "6": "3281",
         "7": "01/11/2021"
        },
        {
         "0": "447",
         "1": "CLIENT_7",
         "2": "PDV_4",
         "3": "PROD_3",
         "4": "40",
         "5": "261",
         "6": "10440",
         "7": "01/11/2021"
        },
        {
         "0": "448",
         "1": "CLIENT_7",
         "2": "PDV_4",
         "3": "PROD_1",
         "4": "20",
         "5": "56",
         "6": "1120",
         "7": "01/11/2021"
        },
        {
         "0": "449",
         "1": "CLIENT_1",
         "2": "PDV_6",
         "3": "PROD_5",
         "4": "44",
         "5": "46",
         "6": "2024",
         "7": "01/11/2021"
        },
        {
         "0": "450",
         "1": "CLIENT_7",
         "2": "PDV_4",
         "3": "PROD_5",
         "4": "43",
         "5": "110",
         "6": "4730",
         "7": "01/11/2021"
        },
        {
         "0": "451",
         "1": "CLIENT_3",
         "2": "PDV_2",
         "3": "PROD_1",
         "4": "28",
         "5": "259",
         "6": "7252",
         "7": "01/11/2021"
        },
        {
         "0": "452",
         "1": "CLIENT_3",
         "2": "PDV_7",
         "3": "PROD_5",
         "4": "19",
         "5": "207",
         "6": "3933",
         "7": "01/11/2021"
        },
        {
         "0": "453",
         "1": "CLIENT_3",
         "2": "PDV_4",
         "3": "PROD_5",
         "4": "16",
         "5": "127",
         "6": "2032",
         "7": "01/11/2021"
        },
        {
         "0": "454",
         "1": "CLIENT_3",
         "2": "PDV_2",
         "3": "PROD_4",
         "4": "19",
         "5": "68",
         "6": "1292",
         "7": "01/11/2021"
        },
        {
         "0": "455",
         "1": "CLIENT_3",
         "2": "PDV_5",
         "3": "PROD_3",
         "4": "23",
         "5": "48",
         "6": "1104",
         "7": "01/11/2021"
        },
        {
         "0": "456",
         "1": "CLIENT_3",
         "2": "PDV_6",
         "3": "PROD_1",
         "4": "10",
         "5": "254",
         "6": "2540",
         "7": "01/11/2021"
        },
        {
         "0": "457",
         "1": "CLIENT_1",
         "2": "PDV_6",
         "3": "PROD_2",
         "4": "45",
         "5": "250",
         "6": "11250",
         "7": "01/11/2021"
        },
        {
         "0": "458",
         "1": "CLIENT_8",
         "2": "PDV_3",
         "3": "PROD_2",
         "4": "28",
         "5": "11",
         "6": "308",
         "7": "01/11/2021"
        },
        {
         "0": "459",
         "1": "CLIENT_1",
         "2": "PDV_3",
         "3": "PROD_2",
         "4": "25",
         "5": "303",
         "6": "7575",
         "7": "01/11/2021"
        },
        {
         "0": "460",
         "1": "CLIENT_3",
         "2": "PDV_6",
         "3": "PROD_2",
         "4": "50",
         "5": "144",
         "6": "7200",
         "7": "01/11/2021"
        },
        {
         "0": "461",
         "1": "CLIENT_3",
         "2": "PDV_2",
         "3": "PROD_2",
         "4": "33",
         "5": "1",
         "6": "33",
         "7": "01/11/2021"
        },
        {
         "0": "462",
         "1": "CLIENT_6",
         "2": "PDV_4",
         "3": "PROD_2",
         "4": "26",
         "5": "92",
         "6": "2392",
         "7": "01/11/2021"
        },
        {
         "0": "463",
         "1": "CLIENT_6",
         "2": "PDV_6",
         "3": "PROD_2",
         "4": "47",
         "5": "261",
         "6": "12267",
         "7": "01/11/2021"
        },
        {
         "0": "464",
         "1": "CLIENT_1",
         "2": "PDV_7",
         "3": "PROD_2",
         "4": "23",
         "5": "96",
         "6": "2208",
         "7": "01/11/2021"
        },
        {
         "0": "465",
         "1": "CLIENT_1",
         "2": "PDV_5",
         "3": "PROD_1",
         "4": "26",
         "5": "261",
         "6": "6786",
         "7": "01/11/2021"
        },
        {
         "0": "466",
         "1": "CLIENT_1",
         "2": "PDV_5",
         "3": "PROD_5",
         "4": "25",
         "5": "99",
         "6": "2475",
         "7": "01/11/2021"
        },
        {
         "0": "467",
         "1": "CLIENT_1",
         "2": "PDV_2",
         "3": "PROD_1",
         "4": "22",
         "5": "232",
         "6": "5104",
         "7": "01/12/2021"
        },
        {
         "0": "468",
         "1": "CLIENT_1",
         "2": "PDV_5",
         "3": "PROD_1",
         "4": "26",
         "5": "249",
         "6": "6474",
         "7": "01/12/2021"
        },
        {
         "0": "469",
         "1": "CLIENT_1",
         "2": "PDV_5",
         "3": "PROD_1",
         "4": "8",
         "5": "239",
         "6": "1912",
         "7": "01/12/2021"
        },
        {
         "0": "470",
         "1": "CLIENT_1",
         "2": "PDV_7",
         "3": "PROD_3",
         "4": "31",
         "5": "298",
         "6": "9238",
         "7": "01/12/2021"
        },
        {
         "0": "471",
         "1": "CLIENT_1",
         "2": "PDV_1",
         "3": "PROD_3",
         "4": "4",
         "5": "15",
         "6": "60",
         "7": "01/12/2021"
        },
        {
         "0": "472",
         "1": "CLIENT_1",
         "2": "PDV_1",
         "3": "PROD_3",
         "4": "49",
         "5": "149",
         "6": "7301",
         "7": "01/12/2021"
        },
        {
         "0": "473",
         "1": "CLIENT_1",
         "2": "PDV_4",
         "3": "PROD_3",
         "4": "13",
         "5": "80",
         "6": "1040",
         "7": "01/12/2021"
        },
        {
         "0": "474",
         "1": "CLIENT_1",
         "2": "PDV_1",
         "3": "PROD_2",
         "4": "22",
         "5": "220",
         "6": "4840",
         "7": "01/12/2021"
        },
        {
         "0": "475",
         "1": "CLIENT_1",
         "2": "PDV_6",
         "3": "PROD_2",
         "4": "10",
         "5": "122",
         "6": "1220",
         "7": "01/12/2021"
        },
        {
         "0": "476",
         "1": "CLIENT_1",
         "2": "PDV_7",
         "3": "PROD_6",
         "4": "48",
         "5": "228",
         "6": "10944",
         "7": "01/12/2021"
        },
        {
         "0": "477",
         "1": "CLIENT_8",
         "2": "PDV_7",
         "3": "PROD_4",
         "4": "18",
         "5": "17",
         "6": "306",
         "7": "01/12/2021"
        },
        {
         "0": "478",
         "1": "CLIENT_8",
         "2": "PDV_1",
         "3": "PROD_1",
         "4": "39",
         "5": "18",
         "6": "702",
         "7": "01/12/2021"
        },
        {
         "0": "479",
         "1": "CLIENT_2",
         "2": "PDV_7",
         "3": "PROD_6",
         "4": "7",
         "5": "104",
         "6": "728",
         "7": "01/12/2021"
        },
        {
         "0": "480",
         "1": "CLIENT_2",
         "2": "PDV_3",
         "3": "PROD_6",
         "4": "17",
         "5": "88",
         "6": "1496",
         "7": "01/12/2021"
        },
        {
         "0": "481",
         "1": "CLIENT_2",
         "2": "PDV_3",
         "3": "PROD_4",
         "4": "10",
         "5": "252",
         "6": "2520",
         "7": "01/12/2021"
        },
        {
         "0": "482",
         "1": "CLIENT_2",
         "2": "PDV_2",
         "3": "PROD_3",
         "4": "29",
         "5": "26",
         "6": "754",
         "7": "01/12/2021"
        },
        {
         "0": "483",
         "1": "CLIENT_2",
         "2": "PDV_4",
         "3": "PROD_5",
         "4": "38",
         "5": "159",
         "6": "6042",
         "7": "01/12/2021"
        },
        {
         "0": "484",
         "1": "CLIENT_3",
         "2": "PDV_1",
         "3": "PROD_3",
         "4": "6",
         "5": "11",
         "6": "66",
         "7": "01/12/2021"
        },
        {
         "0": "485",
         "1": "CLIENT_3",
         "2": "PDV_7",
         "3": "PROD_1",
         "4": "23",
         "5": "130",
         "6": "2990",
         "7": "01/12/2021"
        },
        {
         "0": "486",
         "1": "CLIENT_3",
         "2": "PDV_7",
         "3": "PROD_5",
         "4": "35",
         "5": "328",
         "6": "11480",
         "7": "01/12/2021"
        },
        {
         "0": "487",
         "1": "CLIENT_3",
         "2": "PDV_1",
         "3": "PROD_3",
         "4": "28",
         "5": "46",
         "6": "1288",
         "7": "01/12/2021"
        },
        {
         "0": "488",
         "1": "CLIENT_3",
         "2": "PDV_1",
         "3": "PROD_5",
         "4": "38",
         "5": "130",
         "6": "4940",
         "7": "01/12/2021"
        },
        {
         "0": "489",
         "1": "CLIENT_7",
         "2": "PDV_1",
         "3": "PROD_1",
         "4": "11",
         "5": "32",
         "6": "352",
         "7": "01/12/2021"
        },
        {
         "0": "490",
         "1": "CLIENT_7",
         "2": "PDV_6",
         "3": "PROD_4",
         "4": "13",
         "5": "292",
         "6": "3796",
         "7": "01/12/2021"
        },
        {
         "0": "491",
         "1": "CLIENT_7",
         "2": "PDV_7",
         "3": "PROD_4",
         "4": "26",
         "5": "187",
         "6": "4862",
         "7": "01/12/2021"
        },
        {
         "0": "492",
         "1": "CLIENT_7",
         "2": "PDV_5",
         "3": "PROD_1",
         "4": "27",
         "5": "102",
         "6": "2754",
         "7": "01/12/2021"
        },
        {
         "0": "493",
         "1": "CLIENT_1",
         "2": "PDV_2",
         "3": "PROD_5",
         "4": "26",
         "5": "78",
         "6": "2028",
         "7": "01/12/2021"
        },
        {
         "0": "494",
         "1": "CLIENT_1",
         "2": "PDV_7",
         "3": "PROD_1",
         "4": "18",
         "5": "175",
         "6": "3150",
         "7": "01/12/2021"
        },
        {
         "0": "495",
         "1": "CLIENT_1",
         "2": "PDV_1",
         "3": "PROD_5",
         "4": "12",
         "5": "343",
         "6": "4116",
         "7": "01/12/2021"
        },
        {
         "0": "496",
         "1": "CLIENT_1",
         "2": "PDV_6",
         "3": "PROD_5",
         "4": "21",
         "5": "267",
         "6": "5607",
         "7": "01/12/2021"
        },
        {
         "0": "497",
         "1": "CLIENT_3",
         "2": "PDV_4",
         "3": "PROD_6",
         "4": "25",
         "5": "165",
         "6": "4125",
         "7": "01/12/2021"
        },
        {
         "0": "498",
         "1": "CLIENT_3",
         "2": "PDV_5",
         "3": "PROD_2",
         "4": "22",
         "5": "253",
         "6": "5566",
         "7": "01/12/2021"
        },
        {
         "0": "499",
         "1": "CLIENT_3",
         "2": "PDV_2",
         "3": "PROD_2",
         "4": "22",
         "5": "274",
         "6": "6028",
         "7": "01/12/2021"
        },
        {
         "0": "500",
         "1": "CLIENT_3",
         "2": "PDV_6",
         "3": "PROD_2",
         "4": "21",
         "5": "221",
         "6": "4641",
         "7": "01/12/2021"
        },
        {
         "0": "501",
         "1": "CLIENT_3",
         "2": "PDV_2",
         "3": "PROD_2",
         "4": "24",
         "5": "223",
         "6": "5352",
         "7": "01/12/2021"
        },
        {
         "0": "502",
         "1": "CLIENT_3",
         "2": "PDV_5",
         "3": "PROD_2",
         "4": "27",
         "5": "317",
         "6": "8559",
         "7": "01/12/2021"
        },
        {
         "0": "503",
         "1": "CLIENT_1",
         "2": "PDV_5",
         "3": "PROD_2",
         "4": "41",
         "5": "264",
         "6": "10824",
         "7": "01/12/2021"
        },
        {
         "0": "504",
         "1": "CLIENT_1",
         "2": "PDV_3",
         "3": "PROD_5",
         "4": "49",
         "5": "165",
         "6": "8085",
         "7": "01/12/2021"
        },
        {
         "0": "505",
         "1": "CLIENT_1",
         "2": "PDV_2",
         "3": "PROD_5",
         "4": "20",
         "5": "261",
         "6": "5220",
         "7": "01/12/2021"
        },
        {
         "0": "506",
         "1": "CLIENT_1",
         "2": "PDV_2",
         "3": "PROD_5",
         "4": "31",
         "5": "162",
         "6": "5022",
         "7": "01/12/2021"
        },
        {
         "0": "507",
         "1": "CLIENT_1",
         "2": "PDV_7",
         "3": "PROD_5",
         "4": "33",
         "5": "299",
         "6": "9867",
         "7": "01/12/2021"
        },
        {
         "0": "508",
         "1": "CLIENT_1",
         "2": "PDV_2",
         "3": "PROD_5",
         "4": "48",
         "5": "122",
         "6": "5856",
         "7": "01/12/2021"
        },
        {
         "0": "509",
         "1": "CLIENT_1",
         "2": "PDV_1",
         "3": "PROD_2",
         "4": "11",
         "5": "329",
         "6": "3619",
         "7": "01/12/2021"
        },
        {
         "0": "510",
         "1": "CLIENT_1",
         "2": "PDV_1",
         "3": "PROD_2",
         "4": "12",
         "5": "342",
         "6": "4104",
         "7": "01/12/2021"
        },
        {
         "0": "511",
         "1": "CLIENT_1",
         "2": "PDV_1",
         "3": "PROD_2",
         "4": "31",
         "5": "312",
         "6": "9672",
         "7": "01/12/2021"
        },
        {
         "0": "512",
         "1": "CLIENT_1",
         "2": "PDV_5",
         "3": "PROD_5",
         "4": "15",
         "5": "122",
         "6": "1830",
         "7": "01/12/2021"
        },
        {
         "0": "513",
         "1": "CLIENT_1",
         "2": "PDV_1",
         "3": "PROD_6",
         "4": "45",
         "5": "311",
         "6": "13995",
         "7": "01/12/2021"
        },
        {
         "0": "514",
         "1": "CLIENT_1",
         "2": "PDV_2",
         "3": "PROD_6",
         "4": "35",
         "5": "296",
         "6": "10360",
         "7": "01/12/2021"
        },
        {
         "0": "515",
         "1": "CLIENT_1",
         "2": "PDV_3",
         "3": "PROD_2",
         "4": "1",
         "5": "187",
         "6": "187",
         "7": "01/12/2021"
        },
        {
         "0": "516",
         "1": "CLIENT_8",
         "2": "PDV_6",
         "3": "PROD_6",
         "4": "39",
         "5": "114",
         "6": "4446",
         "7": "01/12/2021"
        },
        {
         "0": "517",
         "1": "CLIENT_2",
         "2": "PDV_4",
         "3": "PROD_4",
         "4": "34",
         "5": "189",
         "6": "6426",
         "7": "01/12/2021"
        },
        {
         "0": "518",
         "1": "CLIENT_2",
         "2": "PDV_6",
         "3": "PROD_3",
         "4": "17",
         "5": "156",
         "6": "2652",
         "7": "01/12/2021"
        },
        {
         "0": "519",
         "1": "CLIENT_3",
         "2": "PDV_4",
         "3": "PROD_3",
         "4": "15",
         "5": "282",
         "6": "4230",
         "7": "01/12/2021"
        },
        {
         "0": "520",
         "1": "CLIENT_3",
         "2": "PDV_7",
         "3": "PROD_6",
         "4": "45",
         "5": "328",
         "6": "14760",
         "7": "01/12/2021"
        },
        {
         "0": "521",
         "1": "CLIENT_3",
         "2": "PDV_4",
         "3": "PROD_5",
         "4": "20",
         "5": "17",
         "6": "340",
         "7": "01/12/2021"
        },
        {
         "0": "522",
         "1": "CLIENT_7",
         "2": "PDV_2",
         "3": "PROD_5",
         "4": "45",
         "5": "316",
         "6": "14220",
         "7": "01/12/2021"
        },
        {
         "0": "523",
         "1": "CLIENT_1",
         "2": "PDV_3",
         "3": "PROD_3",
         "4": "41",
         "5": "98",
         "6": "4018",
         "7": "01/12/2021"
        },
        {
         "0": "524",
         "1": "CLIENT_1",
         "2": "PDV_7",
         "3": "PROD_4",
         "4": "15",
         "5": "333",
         "6": "4995",
         "7": "01/12/2021"
        },
        {
         "0": "525",
         "1": "CLIENT_1",
         "2": "PDV_6",
         "3": "PROD_4",
         "4": "45",
         "5": "315",
         "6": "14175",
         "7": "01/12/2021"
        },
        {
         "0": "526",
         "1": "CLIENT_1",
         "2": "PDV_5",
         "3": "PROD_4",
         "4": "5",
         "5": "10",
         "6": "50",
         "7": "01/12/2021"
        },
        {
         "0": "527",
         "1": "CLIENT_1",
         "2": "PDV_3",
         "3": "PROD_4",
         "4": "34",
         "5": "190",
         "6": "6460",
         "7": "01/12/2021"
        },
        {
         "0": "528",
         "1": "CLIENT_3",
         "2": "PDV_7",
         "3": "PROD_4",
         "4": "37",
         "5": "267",
         "6": "9879",
         "7": "01/12/2021"
        },
        {
         "0": "529",
         "1": "CLIENT_3",
         "2": "PDV_6",
         "3": "PROD_2",
         "4": "1",
         "5": "328",
         "6": "328",
         "7": "01/12/2021"
        },
        {
         "0": "530",
         "1": "CLIENT_8",
         "2": "PDV_2",
         "3": "PROD_2",
         "4": "4",
         "5": "114",
         "6": "456",
         "7": "01/12/2021"
        },
        {
         "0": "531",
         "1": "CLIENT_3",
         "2": "PDV_1",
         "3": "PROD_2",
         "4": "38",
         "5": "220",
         "6": "8360",
         "7": "01/01/2022"
        },
        {
         "0": "532",
         "1": "CLIENT_3",
         "2": "PDV_2",
         "3": "PROD_2",
         "4": "26",
         "5": "226",
         "6": "5876",
         "7": "01/01/2022"
        },
        {
         "0": "533",
         "1": "CLIENT_1",
         "2": "PDV_7",
         "3": "PROD_4",
         "4": "31",
         "5": "92",
         "6": "2852",
         "7": "01/01/2022"
        },
        {
         "0": "534",
         "1": "CLIENT_1",
         "2": "PDV_5",
         "3": "PROD_1",
         "4": "13",
         "5": "243",
         "6": "3159",
         "7": "01/01/2022"
        },
        {
         "0": "535",
         "1": "CLIENT_1",
         "2": "PDV_6",
         "3": "PROD_3",
         "4": "29",
         "5": "165",
         "6": "4785",
         "7": "01/01/2022"
        },
        {
         "0": "536",
         "1": "CLIENT_1",
         "2": "PDV_1",
         "3": "PROD_1",
         "4": "11",
         "5": "276",
         "6": "3036",
         "7": "01/01/2022"
        },
        {
         "0": "537",
         "1": "CLIENT_1",
         "2": "PDV_5",
         "3": "PROD_3",
         "4": "47",
         "5": "207",
         "6": "9729",
         "7": "01/01/2022"
        },
        {
         "0": "538",
         "1": "CLIENT_1",
         "2": "PDV_5",
         "3": "PROD_1",
         "4": "9",
         "5": "280",
         "6": "2520",
         "7": "01/01/2022"
        },
        {
         "0": "539",
         "1": "CLIENT_1",
         "2": "PDV_2",
         "3": "PROD_3",
         "4": "28",
         "5": "1",
         "6": "28",
         "7": "01/01/2022"
        },
        {
         "0": "540",
         "1": "CLIENT_1",
         "2": "PDV_6",
         "3": "PROD_5",
         "4": "17",
         "5": "211",
         "6": "3587",
         "7": "01/01/2022"
        },
        {
         "0": "541",
         "1": "CLIENT_1",
         "2": "PDV_7",
         "3": "PROD_3",
         "4": "32",
         "5": "288",
         "6": "9216",
         "7": "01/01/2022"
        },
        {
         "0": "542",
         "1": "CLIENT_1",
         "2": "PDV_2",
         "3": "PROD_1",
         "4": "5",
         "5": "124",
         "6": "620",
         "7": "01/01/2022"
        },
        {
         "0": "543",
         "1": "CLIENT_1",
         "2": "PDV_4",
         "3": "PROD_6",
         "4": "42",
         "5": "292",
         "6": "12264",
         "7": "01/01/2022"
        },
        {
         "0": "544",
         "1": "CLIENT_1",
         "2": "PDV_7",
         "3": "PROD_3",
         "4": "23",
         "5": "67",
         "6": "1541",
         "7": "01/01/2022"
        },
        {
         "0": "545",
         "1": "CLIENT_1",
         "2": "PDV_4",
         "3": "PROD_6",
         "4": "12",
         "5": "325",
         "6": "3900",
         "7": "01/01/2022"
        },
        {
         "0": "546",
         "1": "CLIENT_1",
         "2": "PDV_1",
         "3": "PROD_3",
         "4": "37",
         "5": "257",
         "6": "9509",
         "7": "01/01/2022"
        },
        {
         "0": "547",
         "1": "CLIENT_1",
         "2": "PDV_2",
         "3": "PROD_3",
         "4": "49",
         "5": "191",
         "6": "9359",
         "7": "01/01/2022"
        },
        {
         "0": "548",
         "1": "CLIENT_1",
         "2": "PDV_1",
         "3": "PROD_6",
         "4": "40",
         "5": "278",
         "6": "11120",
         "7": "01/01/2022"
        },
        {
         "0": "549",
         "1": "CLIENT_1",
         "2": "PDV_5",
         "3": "PROD_6",
         "4": "28",
         "5": "55",
         "6": "1540",
         "7": "01/01/2022"
        },
        {
         "0": "550",
         "1": "CLIENT_1",
         "2": "PDV_5",
         "3": "PROD_2",
         "4": "18",
         "5": "161",
         "6": "2898",
         "7": "01/01/2022"
        },
        {
         "0": "551",
         "1": "CLIENT_1",
         "2": "PDV_5",
         "3": "PROD_2",
         "4": "36",
         "5": "105",
         "6": "3780",
         "7": "01/01/2022"
        },
        {
         "0": "552",
         "1": "CLIENT_1",
         "2": "PDV_7",
         "3": "PROD_5",
         "4": "6",
         "5": "103",
         "6": "618",
         "7": "01/01/2022"
        },
        {
         "0": "553",
         "1": "CLIENT_1",
         "2": "PDV_5",
         "3": "PROD_2",
         "4": "17",
         "5": "317",
         "6": "5389",
         "7": "01/01/2022"
        },
        {
         "0": "554",
         "1": "CLIENT_1",
         "2": "PDV_3",
         "3": "PROD_1",
         "4": "20",
         "5": "164",
         "6": "3280",
         "7": "01/01/2022"
        },
        {
         "0": "555",
         "1": "CLIENT_1",
         "2": "PDV_3",
         "3": "PROD_3",
         "4": "20",
         "5": "265",
         "6": "5300",
         "7": "01/01/2022"
        },
        {
         "0": "556",
         "1": "CLIENT_1",
         "2": "PDV_7",
         "3": "PROD_1",
         "4": "45",
         "5": "59",
         "6": "2655",
         "7": "01/01/2022"
        },
        {
         "0": "557",
         "1": "CLIENT_1",
         "2": "PDV_7",
         "3": "PROD_4",
         "4": "13",
         "5": "267",
         "6": "3471",
         "7": "01/01/2022"
        },
        {
         "0": "558",
         "1": "CLIENT_1",
         "2": "PDV_6",
         "3": "PROD_1",
         "4": "14",
         "5": "1",
         "6": "14",
         "7": "01/01/2022"
        },
        {
         "0": "559",
         "1": "CLIENT_8",
         "2": "PDV_6",
         "3": "PROD_6",
         "4": "8",
         "5": "192",
         "6": "1536",
         "7": "01/01/2022"
        },
        {
         "0": "560",
         "1": "CLIENT_8",
         "2": "PDV_1",
         "3": "PROD_6",
         "4": "28",
         "5": "333",
         "6": "9324",
         "7": "01/01/2022"
        },
        {
         "0": "561",
         "1": "CLIENT_2",
         "2": "PDV_3",
         "3": "PROD_5",
         "4": "3",
         "5": "314",
         "6": "942",
         "7": "01/01/2022"
        },
        {
         "0": "562",
         "1": "CLIENT_2",
         "2": "PDV_2",
         "3": "PROD_5",
         "4": "40",
         "5": "2",
         "6": "80",
         "7": "01/01/2022"
        },
        {
         "0": "563",
         "1": "CLIENT_2",
         "2": "PDV_3",
         "3": "PROD_6",
         "4": "49",
         "5": "301",
         "6": "14749",
         "7": "01/01/2022"
        },
        {
         "0": "564",
         "1": "CLIENT_2",
         "2": "PDV_2",
         "3": "PROD_1",
         "4": "18",
         "5": "43",
         "6": "774",
         "7": "01/01/2022"
        },
        {
         "0": "565",
         "1": "CLIENT_2",
         "2": "PDV_4",
         "3": "PROD_1",
         "4": "33",
         "5": "220",
         "6": "7260",
         "7": "01/01/2022"
        },
        {
         "0": "566",
         "1": "CLIENT_2",
         "2": "PDV_6",
         "3": "PROD_1",
         "4": "2",
         "5": "52",
         "6": "104",
         "7": "01/01/2022"
        },
        {
         "0": "567",
         "1": "CLIENT_2",
         "2": "PDV_5",
         "3": "PROD_4",
         "4": "19",
         "5": "136",
         "6": "2584",
         "7": "01/01/2022"
        },
        {
         "0": "568",
         "1": "CLIENT_2",
         "2": "PDV_3",
         "3": "PROD_3",
         "4": "29",
         "5": "202",
         "6": "5858",
         "7": "01/01/2022"
        },
        {
         "0": "569",
         "1": "CLIENT_3",
         "2": "PDV_6",
         "3": "PROD_3",
         "4": "22",
         "5": "335",
         "6": "7370",
         "7": "01/01/2022"
        },
        {
         "0": "570",
         "1": "CLIENT_3",
         "2": "PDV_2",
         "3": "PROD_1",
         "4": "3",
         "5": "209",
         "6": "627",
         "7": "01/01/2022"
        },
        {
         "0": "571",
         "1": "CLIENT_3",
         "2": "PDV_1",
         "3": "PROD_6",
         "4": "7",
         "5": "331",
         "6": "2317",
         "7": "01/01/2022"
        },
        {
         "0": "572",
         "1": "CLIENT_3",
         "2": "PDV_5",
         "3": "PROD_5",
         "4": "20",
         "5": "99",
         "6": "1980",
         "7": "01/01/2022"
        },
        {
         "0": "573",
         "1": "CLIENT_3",
         "2": "PDV_3",
         "3": "PROD_3",
         "4": "26",
         "5": "12",
         "6": "312",
         "7": "01/01/2022"
        },
        {
         "0": "574",
         "1": "CLIENT_3",
         "2": "PDV_1",
         "3": "PROD_6",
         "4": "5",
         "5": "84",
         "6": "420",
         "7": "01/01/2022"
        },
        {
         "0": "575",
         "1": "CLIENT_3",
         "2": "PDV_4",
         "3": "PROD_1",
         "4": "32",
         "5": "99",
         "6": "3168",
         "7": "01/01/2022"
        },
        {
         "0": "576",
         "1": "CLIENT_7",
         "2": "PDV_7",
         "3": "PROD_4",
         "4": "40",
         "5": "130",
         "6": "5200",
         "7": "01/01/2022"
        },
        {
         "0": "577",
         "1": "CLIENT_1",
         "2": "PDV_5",
         "3": "PROD_4",
         "4": "40",
         "5": "40",
         "6": "1600",
         "7": "01/02/2022"
        },
        {
         "0": "578",
         "1": "CLIENT_1",
         "2": "PDV_4",
         "3": "PROD_3",
         "4": "43",
         "5": "114",
         "6": "4902",
         "7": "01/02/2022"
        },
        {
         "0": "579",
         "1": "CLIENT_1",
         "2": "PDV_7",
         "3": "PROD_5",
         "4": "38",
         "5": "31",
         "6": "1178",
         "7": "01/02/2022"
        },
        {
         "0": "580",
         "1": "CLIENT_1",
         "2": "PDV_7",
         "3": "PROD_3",
         "4": "40",
         "5": "130",
         "6": "5200",
         "7": "01/02/2022"
        },
        {
         "0": "581",
         "1": "CLIENT_1",
         "2": "PDV_7",
         "3": "PROD_5",
         "4": "12",
         "5": "176",
         "6": "2112",
         "7": "01/02/2022"
        },
        {
         "0": "582",
         "1": "CLIENT_1",
         "2": "PDV_2",
         "3": "PROD_5",
         "4": "3",
         "5": "29",
         "6": "87",
         "7": "01/02/2022"
        },
        {
         "0": "583",
         "1": "CLIENT_1",
         "2": "PDV_3",
         "3": "PROD_5",
         "4": "8",
         "5": "38",
         "6": "304",
         "7": "01/02/2022"
        },
        {
         "0": "584",
         "1": "CLIENT_3",
         "2": "PDV_5",
         "3": "PROD_6",
         "4": "17",
         "5": "14",
         "6": "238",
         "7": "01/02/2022"
        },
        {
         "0": "585",
         "1": "CLIENT_7",
         "2": "PDV_1",
         "3": "PROD_1",
         "4": "11",
         "5": "306",
         "6": "3366",
         "7": "01/02/2022"
        },
        {
         "0": "586",
         "1": "CLIENT_7",
         "2": "PDV_1",
         "3": "PROD_1",
         "4": "48",
         "5": "305",
         "6": "14640",
         "7": "01/02/2022"
        },
        {
         "0": "587",
         "1": "CLIENT_3",
         "2": "PDV_2",
         "3": "PROD_1",
         "4": "12",
         "5": "178",
         "6": "2136",
         "7": "01/02/2022"
        },
        {
         "0": "588",
         "1": "CLIENT_1",
         "2": "PDV_6",
         "3": "PROD_2",
         "4": "30",
         "5": "303",
         "6": "9090",
         "7": "01/02/2022"
        },
        {
         "0": "589",
         "1": "CLIENT_3",
         "2": "PDV_3",
         "3": "PROD_2",
         "4": "10",
         "5": "290",
         "6": "2900",
         "7": "01/02/2022"
        },
        {
         "0": "590",
         "1": "CLIENT_3",
         "2": "PDV_7",
         "3": "PROD_2",
         "4": "19",
         "5": "337",
         "6": "6403",
         "7": "01/02/2022"
        },
        {
         "0": "591",
         "1": "CLIENT_3",
         "2": "PDV_7",
         "3": "PROD_2",
         "4": "37",
         "5": "4",
         "6": "148",
         "7": "01/02/2022"
        },
        {
         "0": "592",
         "1": "CLIENT_3",
         "2": "PDV_7",
         "3": "PROD_2",
         "4": "14",
         "5": "191",
         "6": "2674",
         "7": "01/02/2022"
        },
        {
         "0": "593",
         "1": "CLIENT_6",
         "2": "PDV_5",
         "3": "PROD_2",
         "4": "17",
         "5": "327",
         "6": "5559",
         "7": "01/02/2022"
        },
        {
         "0": "594",
         "1": "CLIENT_3",
         "2": "PDV_7",
         "3": "PROD_2",
         "4": "7",
         "5": "272",
         "6": "1904",
         "7": "01/02/2022"
        },
        {
         "0": "595",
         "1": "CLIENT_3",
         "2": "PDV_6",
         "3": "PROD_2",
         "4": "14",
         "5": "280",
         "6": "3920",
         "7": "01/02/2022"
        },
        {
         "0": "596",
         "1": "CLIENT_1",
         "2": "PDV_5",
         "3": "PROD_2",
         "4": "25",
         "5": "128",
         "6": "3200",
         "7": "01/02/2022"
        },
        {
         "0": "597",
         "1": "CLIENT_1",
         "2": "PDV_1",
         "3": "PROD_2",
         "4": "13",
         "5": "65",
         "6": "845",
         "7": "01/02/2022"
        },
        {
         "0": "598",
         "1": "CLIENT_1",
         "2": "PDV_7",
         "3": "PROD_2",
         "4": "45",
         "5": "137",
         "6": "6165",
         "7": "01/02/2022"
        },
        {
         "0": "599",
         "1": "CLIENT_1",
         "2": "PDV_5",
         "3": "PROD_2",
         "4": "32",
         "5": "213",
         "6": "6816",
         "7": "01/02/2022"
        },
        {
         "0": "600",
         "1": "CLIENT_1",
         "2": "PDV_5",
         "3": "PROD_2",
         "4": "37",
         "5": "198",
         "6": "7326",
         "7": "01/02/2022"
        },
        {
         "0": "601",
         "1": "CLIENT_1",
         "2": "PDV_4",
         "3": "PROD_5",
         "4": "6",
         "5": "91",
         "6": "546",
         "7": "01/02/2022"
        },
        {
         "0": "602",
         "1": "CLIENT_1",
         "2": "PDV_3",
         "3": "PROD_5",
         "4": "43",
         "5": "231",
         "6": "9933",
         "7": "01/02/2022"
        },
        {
         "0": "603",
         "1": "CLIENT_1",
         "2": "PDV_6",
         "3": "PROD_5",
         "4": "25",
         "5": "332",
         "6": "8300",
         "7": "01/02/2022"
        },
        {
         "0": "604",
         "1": "CLIENT_1",
         "2": "PDV_7",
         "3": "PROD_5",
         "4": "37",
         "5": "237",
         "6": "8769",
         "7": "01/02/2022"
        },
        {
         "0": "605",
         "1": "CLIENT_1",
         "2": "PDV_3",
         "3": "PROD_2",
         "4": "33",
         "5": "289",
         "6": "9537",
         "7": "01/02/2022"
        },
        {
         "0": "606",
         "1": "CLIENT_1",
         "2": "PDV_6",
         "3": "PROD_5",
         "4": "20",
         "5": "184",
         "6": "3680",
         "7": "01/02/2022"
        },
        {
         "0": "607",
         "1": "CLIENT_1",
         "2": "PDV_6",
         "3": "PROD_3",
         "4": "4",
         "5": "16",
         "6": "64",
         "7": "01/02/2022"
        },
        {
         "0": "608",
         "1": "CLIENT_1",
         "2": "PDV_5",
         "3": "PROD_3",
         "4": "9",
         "5": "300",
         "6": "2700",
         "7": "01/02/2022"
        },
        {
         "0": "609",
         "1": "CLIENT_1",
         "2": "PDV_5",
         "3": "PROD_3",
         "4": "43",
         "5": "182",
         "6": "7826",
         "7": "01/02/2022"
        },
        {
         "0": "610",
         "1": "CLIENT_1",
         "2": "PDV_6",
         "3": "PROD_6",
         "4": "31",
         "5": "76",
         "6": "2356",
         "7": "01/02/2022"
        },
        {
         "0": "611",
         "1": "CLIENT_8",
         "2": "PDV_2",
         "3": "PROD_4",
         "4": "43",
         "5": "161",
         "6": "6923",
         "7": "01/02/2022"
        },
        {
         "0": "612",
         "1": "CLIENT_8",
         "2": "PDV_7",
         "3": "PROD_5",
         "4": "27",
         "5": "69",
         "6": "1863",
         "7": "01/02/2022"
        },
        {
         "0": "613",
         "1": "CLIENT_8",
         "2": "PDV_2",
         "3": "PROD_1",
         "4": "32",
         "5": "50",
         "6": "1600",
         "7": "01/03/2022"
        },
        {
         "0": "614",
         "1": "CLIENT_8",
         "2": "PDV_7",
         "3": "PROD_1",
         "4": "16",
         "5": "3",
         "6": "48",
         "7": "01/03/2022"
        },
        {
         "0": "615",
         "1": "CLIENT_2",
         "2": "PDV_1",
         "3": "PROD_1",
         "4": "35",
         "5": "318",
         "6": "11130",
         "7": "01/03/2022"
        },
        {
         "0": "616",
         "1": "CLIENT_2",
         "2": "PDV_6",
         "3": "PROD_4",
         "4": "40",
         "5": "151",
         "6": "6040",
         "7": "01/03/2022"
        },
        {
         "0": "617",
         "1": "CLIENT_2",
         "2": "PDV_1",
         "3": "PROD_6",
         "4": "20",
         "5": "288",
         "6": "5760",
         "7": "01/03/2022"
        },
        {
         "0": "618",
         "1": "CLIENT_2",
         "2": "PDV_1",
         "3": "PROD_3",
         "4": "30",
         "5": "289",
         "6": "8670",
         "7": "01/03/2022"
        },
        {
         "0": "619",
         "1": "CLIENT_2",
         "2": "PDV_6",
         "3": "PROD_4",
         "4": "33",
         "5": "5",
         "6": "165",
         "7": "01/03/2022"
        },
        {
         "0": "620",
         "1": "CLIENT_2",
         "2": "PDV_6",
         "3": "PROD_6",
         "4": "34",
         "5": "258",
         "6": "8772",
         "7": "01/03/2022"
        },
        {
         "0": "621",
         "1": "CLIENT_2",
         "2": "PDV_7",
         "3": "PROD_5",
         "4": "32",
         "5": "90",
         "6": "2880",
         "7": "01/03/2022"
        },
        {
         "0": "622",
         "1": "CLIENT_2",
         "2": "PDV_7",
         "3": "PROD_1",
         "4": "24",
         "5": "69",
         "6": "1656",
         "7": "01/03/2022"
        },
        {
         "0": "623",
         "1": "CLIENT_1",
         "2": "PDV_1",
         "3": "PROD_6",
         "4": "10",
         "5": "21",
         "6": "210",
         "7": "01/03/2022"
        },
        {
         "0": "624",
         "1": "CLIENT_1",
         "2": "PDV_4",
         "3": "PROD_6",
         "4": "13",
         "5": "101",
         "6": "1313",
         "7": "01/03/2022"
        },
        {
         "0": "625",
         "1": "CLIENT_7",
         "2": "PDV_3",
         "3": "PROD_4",
         "4": "35",
         "5": "337",
         "6": "11795",
         "7": "01/03/2022"
        },
        {
         "0": "626",
         "1": "CLIENT_7",
         "2": "PDV_6",
         "3": "PROD_4",
         "4": "23",
         "5": "274",
         "6": "6302",
         "7": "01/03/2022"
        },
        {
         "0": "627",
         "1": "CLIENT_7",
         "2": "PDV_2",
         "3": "PROD_4",
         "4": "20",
         "5": "277",
         "6": "5540",
         "7": "01/03/2022"
        },
        {
         "0": "628",
         "1": "CLIENT_3",
         "2": "PDV_6",
         "3": "PROD_4",
         "4": "1",
         "5": "77",
         "6": "77",
         "7": "01/03/2022"
        },
        {
         "0": "629",
         "1": "CLIENT_8",
         "2": "PDV_7",
         "3": "PROD_2",
         "4": "34",
         "5": "204",
         "6": "6936",
         "7": "01/03/2022"
        },
        {
         "0": "630",
         "1": "CLIENT_6",
         "2": "PDV_2",
         "3": "PROD_2",
         "4": "40",
         "5": "262",
         "6": "10480",
         "7": "01/03/2022"
        },
        {
         "0": "631",
         "1": "CLIENT_2",
         "2": "PDV_1",
         "3": "PROD_2",
         "4": "47",
         "5": "258",
         "6": "12126",
         "7": "01/03/2022"
        },
        {
         "0": "632",
         "1": "CLIENT_2",
         "2": "PDV_2",
         "3": "PROD_2",
         "4": "6",
         "5": "30",
         "6": "180",
         "7": "01/03/2022"
        },
        {
         "0": "633",
         "1": "CLIENT_2",
         "2": "PDV_6",
         "3": "PROD_2",
         "4": "3",
         "5": "114",
         "6": "342",
         "7": "01/03/2022"
        },
        {
         "0": "634",
         "1": "CLIENT_1",
         "2": "PDV_2",
         "3": "PROD_4",
         "4": "6",
         "5": "203",
         "6": "1218",
         "7": "01/03/2022"
        },
        {
         "0": "635",
         "1": "CLIENT_1",
         "2": "PDV_1",
         "3": "PROD_2",
         "4": "22",
         "5": "75",
         "6": "1650",
         "7": "01/03/2022"
        },
        {
         "0": "636",
         "1": "CLIENT_1",
         "2": "PDV_1",
         "3": "PROD_4",
         "4": "21",
         "5": "207",
         "6": "4347",
         "7": "01/03/2022"
        },
        {
         "0": "637",
         "1": "CLIENT_1",
         "2": "PDV_2",
         "3": "PROD_2",
         "4": "10",
         "5": "13",
         "6": "130",
         "7": "01/03/2022"
        },
        {
         "0": "638",
         "1": "CLIENT_1",
         "2": "PDV_6",
         "3": "PROD_4",
         "4": "37",
         "5": "241",
         "6": "8917",
         "7": "01/03/2022"
        },
        {
         "0": "639",
         "1": "CLIENT_1",
         "2": "PDV_3",
         "3": "PROD_2",
         "4": "20",
         "5": "44",
         "6": "880",
         "7": "01/03/2022"
        },
        {
         "0": "640",
         "1": "CLIENT_1",
         "2": "PDV_5",
         "3": "PROD_4",
         "4": "26",
         "5": "79",
         "6": "2054",
         "7": "01/03/2022"
        },
        {
         "0": "641",
         "1": "CLIENT_1",
         "2": "PDV_6",
         "3": "PROD_2",
         "4": "6",
         "5": "259",
         "6": "1554",
         "7": "01/03/2022"
        },
        {
         "0": "642",
         "1": "CLIENT_1",
         "2": "PDV_1",
         "3": "PROD_4",
         "4": "22",
         "5": "156",
         "6": "3432",
         "7": "01/03/2022"
        },
        {
         "0": "643",
         "1": "CLIENT_1",
         "2": "PDV_4",
         "3": "PROD_2",
         "4": "8",
         "5": "345",
         "6": "2760",
         "7": "01/03/2022"
        },
        {
         "0": "644",
         "1": "CLIENT_1",
         "2": "PDV_7",
         "3": "PROD_2",
         "4": "9",
         "5": "299",
         "6": "2691",
         "7": "01/03/2022"
        },
        {
         "0": "645",
         "1": "CLIENT_1",
         "2": "PDV_5",
         "3": "PROD_1",
         "4": "10",
         "5": "131",
         "6": "1310",
         "7": "01/03/2022"
        },
        {
         "0": "646",
         "1": "CLIENT_1",
         "2": "PDV_7",
         "3": "PROD_2",
         "4": "26",
         "5": "231",
         "6": "6006",
         "7": "01/03/2022"
        },
        {
         "0": "647",
         "1": "CLIENT_1",
         "2": "PDV_5",
         "3": "PROD_1",
         "4": "13",
         "5": "241",
         "6": "3133",
         "7": "01/03/2022"
        },
        {
         "0": "648",
         "1": "CLIENT_1",
         "2": "PDV_2",
         "3": "PROD_1",
         "4": "4",
         "5": "181",
         "6": "724",
         "7": "01/03/2022"
        },
        {
         "0": "649",
         "1": "CLIENT_1",
         "2": "PDV_1",
         "3": "PROD_2",
         "4": "19",
         "5": "92",
         "6": "1748",
         "7": "01/03/2022"
        },
        {
         "0": "650",
         "1": "CLIENT_1",
         "2": "PDV_6",
         "3": "PROD_1",
         "4": "4",
         "5": "289",
         "6": "1156",
         "7": "01/03/2022"
        },
        {
         "0": "651",
         "1": "CLIENT_1",
         "2": "PDV_3",
         "3": "PROD_2",
         "4": "19",
         "5": "6",
         "6": "114",
         "7": "01/03/2022"
        },
        {
         "0": "652",
         "1": "CLIENT_1",
         "2": "PDV_2",
         "3": "PROD_1",
         "4": "38",
         "5": "195",
         "6": "7410",
         "7": "01/03/2022"
        },
        {
         "0": "653",
         "1": "CLIENT_1",
         "2": "PDV_5",
         "3": "PROD_4",
         "4": "19",
         "5": "142",
         "6": "2698",
         "7": "01/04/2022"
        },
        {
         "0": "654",
         "1": "CLIENT_1",
         "2": "PDV_6",
         "3": "PROD_4",
         "4": "18",
         "5": "156",
         "6": "2808",
         "7": "01/04/2022"
        },
        {
         "0": "655",
         "1": "CLIENT_1",
         "2": "PDV_7",
         "3": "PROD_1",
         "4": "15",
         "5": "318",
         "6": "4770",
         "7": "01/04/2022"
        },
        {
         "0": "656",
         "1": "CLIENT_1",
         "2": "PDV_6",
         "3": "PROD_1",
         "4": "46",
         "5": "12",
         "6": "552",
         "7": "01/04/2022"
        },
        {
         "0": "657",
         "1": "CLIENT_2",
         "2": "PDV_7",
         "3": "PROD_6",
         "4": "5",
         "5": "20",
         "6": "100",
         "7": "01/04/2022"
        },
        {
         "0": "658",
         "1": "CLIENT_2",
         "2": "PDV_4",
         "3": "PROD_6",
         "4": "50",
         "5": "284",
         "6": "14200",
         "7": "01/04/2022"
        },
        {
         "0": "659",
         "1": "CLIENT_2",
         "2": "PDV_2",
         "3": "PROD_1",
         "4": "24",
         "5": "98",
         "6": "2352",
         "7": "01/04/2022"
        },
        {
         "0": "660",
         "1": "CLIENT_2",
         "2": "PDV_7",
         "3": "PROD_3",
         "4": "43",
         "5": "19",
         "6": "817",
         "7": "01/04/2022"
        },
        {
         "0": "661",
         "1": "CLIENT_2",
         "2": "PDV_6",
         "3": "PROD_3",
         "4": "23",
         "5": "6",
         "6": "138",
         "7": "01/04/2022"
        },
        {
         "0": "662",
         "1": "CLIENT_3",
         "2": "PDV_6",
         "3": "PROD_4",
         "4": "18",
         "5": "97",
         "6": "1746",
         "7": "01/04/2022"
        },
        {
         "0": "663",
         "1": "CLIENT_3",
         "2": "PDV_1",
         "3": "PROD_6",
         "4": "12",
         "5": "117",
         "6": "1404",
         "7": "01/04/2022"
        },
        {
         "0": "664",
         "1": "CLIENT_3",
         "2": "PDV_2",
         "3": "PROD_3",
         "4": "26",
         "5": "265",
         "6": "6890",
         "7": "01/04/2022"
        },
        {
         "0": "665",
         "1": "CLIENT_3",
         "2": "PDV_1",
         "3": "PROD_3",
         "4": "42",
         "5": "33",
         "6": "1386",
         "7": "01/04/2022"
        },
        {
         "0": "666",
         "1": "CLIENT_3",
         "2": "PDV_2",
         "3": "PROD_6",
         "4": "24",
         "5": "79",
         "6": "1896",
         "7": "01/04/2022"
        },
        {
         "0": "667",
         "1": "CLIENT_3",
         "2": "PDV_4",
         "3": "PROD_3",
         "4": "38",
         "5": "46",
         "6": "1748",
         "7": "01/04/2022"
        },
        {
         "0": "668",
         "1": "CLIENT_3",
         "2": "PDV_4",
         "3": "PROD_4",
         "4": "7",
         "5": "2",
         "6": "14",
         "7": "01/04/2022"
        },
        {
         "0": "669",
         "1": "CLIENT_3",
         "2": "PDV_2",
         "3": "PROD_4",
         "4": "31",
         "5": "239",
         "6": "7409",
         "7": "01/04/2022"
        },
        {
         "0": "670",
         "1": "CLIENT_1",
         "2": "PDV_2",
         "3": "PROD_5",
         "4": "21",
         "5": "317",
         "6": "6657",
         "7": "01/04/2022"
        },
        {
         "0": "671",
         "1": "CLIENT_1",
         "2": "PDV_2",
         "3": "PROD_3",
         "4": "38",
         "5": "335",
         "6": "12730",
         "7": "01/04/2022"
        },
        {
         "0": "672",
         "1": "CLIENT_1",
         "2": "PDV_6",
         "3": "PROD_3",
         "4": "22",
         "5": "79",
         "6": "1738",
         "7": "01/04/2022"
        },
        {
         "0": "673",
         "1": "CLIENT_1",
         "2": "PDV_2",
         "3": "PROD_3",
         "4": "24",
         "5": "212",
         "6": "5088",
         "7": "01/04/2022"
        },
        {
         "0": "674",
         "1": "CLIENT_1",
         "2": "PDV_3",
         "3": "PROD_4",
         "4": "42",
         "5": "90",
         "6": "3780",
         "7": "01/04/2022"
        },
        {
         "0": "675",
         "1": "CLIENT_1",
         "2": "PDV_3",
         "3": "PROD_3",
         "4": "11",
         "5": "324",
         "6": "3564",
         "7": "01/04/2022"
        },
        {
         "0": "676",
         "1": "CLIENT_1",
         "2": "PDV_7",
         "3": "PROD_3",
         "4": "35",
         "5": "239",
         "6": "8365",
         "7": "01/04/2022"
        },
        {
         "0": "677",
         "1": "CLIENT_3",
         "2": "PDV_2",
         "3": "PROD_6",
         "4": "39",
         "5": "10",
         "6": "390",
         "7": "01/04/2022"
        },
        {
         "0": "678",
         "1": "CLIENT_3",
         "2": "PDV_1",
         "3": "PROD_5",
         "4": "50",
         "5": "25",
         "6": "1250",
         "7": "01/04/2022"
        },
        {
         "0": "679",
         "1": "CLIENT_7",
         "2": "PDV_5",
         "3": "PROD_6",
         "4": "2",
         "5": "192",
         "6": "384",
         "7": "01/04/2022"
        },
        {
         "0": "680",
         "1": "CLIENT_7",
         "2": "PDV_3",
         "3": "PROD_5",
         "4": "47",
         "5": "140",
         "6": "6580",
         "7": "01/04/2022"
        },
        {
         "0": "681",
         "1": "CLIENT_7",
         "2": "PDV_7",
         "3": "PROD_6",
         "4": "42",
         "5": "165",
         "6": "6930",
         "7": "01/04/2022"
        },
        {
         "0": "682",
         "1": "CLIENT_3",
         "2": "PDV_3",
         "3": "PROD_5",
         "4": "6",
         "5": "184",
         "6": "1104",
         "7": "01/05/2022"
        },
        {
         "0": "683",
         "1": "CLIENT_3",
         "2": "PDV_1",
         "3": "PROD_6",
         "4": "33",
         "5": "10",
         "6": "330",
         "7": "01/05/2022"
        },
        {
         "0": "684",
         "1": "CLIENT_3",
         "2": "PDV_6",
         "3": "PROD_1",
         "4": "26",
         "5": "337",
         "6": "8762",
         "7": "01/05/2022"
        },
        {
         "0": "685",
         "1": "CLIENT_3",
         "2": "PDV_6",
         "3": "PROD_4",
         "4": "5",
         "5": "262",
         "6": "1310",
         "7": "01/05/2022"
        },
        {
         "0": "686",
         "1": "CLIENT_3",
         "2": "PDV_7",
         "3": "PROD_6",
         "4": "27",
         "5": "15",
         "6": "405",
         "7": "01/05/2022"
        },
        {
         "0": "687",
         "1": "CLIENT_2",
         "2": "PDV_6",
         "3": "PROD_2",
         "4": "3",
         "5": "179",
         "6": "537",
         "7": "01/05/2022"
        },
        {
         "0": "688",
         "1": "CLIENT_3",
         "2": "PDV_7",
         "3": "PROD_2",
         "4": "23",
         "5": "309",
         "6": "7107",
         "7": "01/05/2022"
        },
        {
         "0": "689",
         "1": "CLIENT_1",
         "2": "PDV_1",
         "3": "PROD_2",
         "4": "44",
         "5": "317",
         "6": "13948",
         "7": "01/05/2022"
        },
        {
         "0": "690",
         "1": "CLIENT_1",
         "2": "PDV_5",
         "3": "PROD_2",
         "4": "38",
         "5": "186",
         "6": "7068",
         "7": "01/05/2022"
        },
        {
         "0": "691",
         "1": "CLIENT_3",
         "2": "PDV_5",
         "3": "PROD_2",
         "4": "28",
         "5": "178",
         "6": "4984",
         "7": "01/05/2022"
        },
        {
         "0": "692",
         "1": "CLIENT_3",
         "2": "PDV_7",
         "3": "PROD_2",
         "4": "17",
         "5": "47",
         "6": "799",
         "7": "01/05/2022"
        },
        {
         "0": "693",
         "1": "CLIENT_3",
         "2": "PDV_3",
         "3": "PROD_2",
         "4": "5",
         "5": "335",
         "6": "1675",
         "7": "01/05/2022"
        },
        {
         "0": "694",
         "1": "CLIENT_1",
         "2": "PDV_6",
         "3": "PROD_2",
         "4": "48",
         "5": "295",
         "6": "14160",
         "7": "01/05/2022"
        },
        {
         "0": "695",
         "1": "CLIENT_6",
         "2": "PDV_1",
         "3": "PROD_2",
         "4": "10",
         "5": "203",
         "6": "2030",
         "7": "01/05/2022"
        },
        {
         "0": "696",
         "1": "CLIENT_3",
         "2": "PDV_7",
         "3": "PROD_2",
         "4": "34",
         "5": "16",
         "6": "544",
         "7": "01/05/2022"
        },
        {
         "0": "697",
         "1": "CLIENT_3",
         "2": "PDV_1",
         "3": "PROD_2",
         "4": "42",
         "5": "285",
         "6": "11970",
         "7": "01/05/2022"
        },
        {
         "0": "698",
         "1": "CLIENT_5",
         "2": "PDV_3",
         "3": "PROD_6",
         "4": "29",
         "5": "323",
         "6": "9367",
         "7": "01/05/2022"
        },
        {
         "0": "699",
         "1": "CLIENT_2",
         "2": "PDV_2",
         "3": "PROD_1",
         "4": "18",
         "5": "10",
         "6": "180",
         "7": "01/05/2022"
        },
        {
         "0": "700",
         "1": "CLIENT_7",
         "2": "PDV_3",
         "3": "PROD_3",
         "4": "45",
         "5": "90",
         "6": "4050",
         "7": "01/05/2022"
        },
        {
         "0": "701",
         "1": "CLIENT_3",
         "2": "PDV_4",
         "3": "PROD_6",
         "4": "12",
         "5": "301",
         "6": "3612",
         "7": "01/05/2022"
        },
        {
         "0": "702",
         "1": "CLIENT_3",
         "2": "PDV_4",
         "3": "PROD_4",
         "4": "46",
         "5": "177",
         "6": "8142",
         "7": "01/05/2022"
        },
        {
         "0": "703",
         "1": "CLIENT_7",
         "2": "PDV_2",
         "3": "PROD_5",
         "4": "6",
         "5": "300",
         "6": "1800",
         "7": "01/05/2022"
        },
        {
         "0": "704",
         "1": "CLIENT_7",
         "2": "PDV_3",
         "3": "PROD_5",
         "4": "28",
         "5": "84",
         "6": "2352",
         "7": "01/05/2022"
        },
        {
         "0": "705",
         "1": "CLIENT_2",
         "2": "PDV_7",
         "3": "PROD_3",
         "4": "20",
         "5": "306",
         "6": "6120",
         "7": "01/05/2022"
        },
        {
         "0": "706",
         "1": "CLIENT_4",
         "2": "PDV_2",
         "3": "PROD_5",
         "4": "2",
         "5": "323",
         "6": "646",
         "7": "01/05/2022"
        },
        {
         "0": "707",
         "1": "CLIENT_8",
         "2": "PDV_7",
         "3": "PROD_1",
         "4": "28",
         "5": "225",
         "6": "6300",
         "7": "01/05/2022"
        },
        {
         "0": "708",
         "1": "CLIENT_1",
         "2": "PDV_2",
         "3": "PROD_6",
         "4": "7",
         "5": "85",
         "6": "595",
         "7": "01/05/2022"
        },
        {
         "0": "709",
         "1": "CLIENT_8",
         "2": "PDV_1",
         "3": "PROD_5",
         "4": "23",
         "5": "42",
         "6": "966",
         "7": "01/05/2022"
        },
        {
         "0": "710",
         "1": "CLIENT_7",
         "2": "PDV_5",
         "3": "PROD_5",
         "4": "20",
         "5": "51",
         "6": "1020",
         "7": "01/05/2022"
        },
        {
         "0": "711",
         "1": "CLIENT_7",
         "2": "PDV_6",
         "3": "PROD_3",
         "4": "24",
         "5": "96",
         "6": "2304",
         "7": "01/05/2022"
        },
        {
         "0": "712",
         "1": "CLIENT_4",
         "2": "PDV_1",
         "3": "PROD_1",
         "4": "15",
         "5": "331",
         "6": "4965",
         "7": "01/05/2022"
        },
        {
         "0": "713",
         "1": "CLIENT_7",
         "2": "PDV_3",
         "3": "PROD_2",
         "4": "3",
         "5": "44",
         "6": "132",
         "7": "01/05/2022"
        },
        {
         "0": "714",
         "1": "CLIENT_8",
         "2": "PDV_7",
         "3": "PROD_2",
         "4": "38",
         "5": "237",
         "6": "9006",
         "7": "01/05/2022"
        },
        {
         "0": "715",
         "1": "CLIENT_8",
         "2": "PDV_4",
         "3": "PROD_3",
         "4": "36",
         "5": "309",
         "6": "11124",
         "7": "01/05/2022"
        },
        {
         "0": "716",
         "1": "CLIENT_7",
         "2": "PDV_7",
         "3": "PROD_1",
         "4": "26",
         "5": "248",
         "6": "6448",
         "7": "01/05/2022"
        },
        {
         "0": "717",
         "1": "CLIENT_2",
         "2": "PDV_1",
         "3": "PROD_5",
         "4": "25",
         "5": "283",
         "6": "7075",
         "7": "01/05/2022"
        },
        {
         "0": "718",
         "1": "CLIENT_3",
         "2": "PDV_6",
         "3": "PROD_6",
         "4": "40",
         "5": "142",
         "6": "5680",
         "7": "01/06/2022"
        },
        {
         "0": "719",
         "1": "CLIENT_3",
         "2": "PDV_4",
         "3": "PROD_2",
         "4": "14",
         "5": "104",
         "6": "1456",
         "7": "01/06/2022"
        },
        {
         "0": "720",
         "1": "CLIENT_5",
         "2": "PDV_3",
         "3": "PROD_2",
         "4": "23",
         "5": "23",
         "6": "529",
         "7": "01/06/2022"
        },
        {
         "0": "721",
         "1": "CLIENT_2",
         "2": "PDV_2",
         "3": "PROD_2",
         "4": "29",
         "5": "192",
         "6": "5568",
         "7": "01/06/2022"
        },
        {
         "0": "722",
         "1": "CLIENT_6",
         "2": "PDV_5",
         "3": "PROD_4",
         "4": "10",
         "5": "183",
         "6": "1830",
         "7": "01/06/2022"
        },
        {
         "0": "723",
         "1": "CLIENT_8",
         "2": "PDV_3",
         "3": "PROD_1",
         "4": "20",
         "5": "228",
         "6": "4560",
         "7": "01/06/2022"
        },
        {
         "0": "724",
         "1": "CLIENT_8",
         "2": "PDV_6",
         "3": "PROD_4",
         "4": "25",
         "5": "298",
         "6": "7450",
         "7": "01/06/2022"
        },
        {
         "0": "725",
         "1": "CLIENT_1",
         "2": "PDV_3",
         "3": "PROD_2",
         "4": "13",
         "5": "119",
         "6": "1547",
         "7": "01/06/2022"
        },
        {
         "0": "726",
         "1": "CLIENT_3",
         "2": "PDV_3",
         "3": "PROD_6",
         "4": "14",
         "5": "239",
         "6": "3346",
         "7": "01/06/2022"
        },
        {
         "0": "727",
         "1": "CLIENT_4",
         "2": "PDV_4",
         "3": "PROD_6",
         "4": "34",
         "5": "257",
         "6": "8738",
         "7": "01/06/2022"
        },
        {
         "0": "728",
         "1": "CLIENT_5",
         "2": "PDV_5",
         "3": "PROD_6",
         "4": "16",
         "5": "249",
         "6": "3984",
         "7": "01/06/2022"
        },
        {
         "0": "729",
         "1": "CLIENT_2",
         "2": "PDV_3",
         "3": "PROD_5",
         "4": "19",
         "5": "2",
         "6": "38",
         "7": "01/06/2022"
        },
        {
         "0": "730",
         "1": "CLIENT_2",
         "2": "PDV_1",
         "3": "PROD_3",
         "4": "26",
         "5": "206",
         "6": "5356",
         "7": "01/06/2022"
        },
        {
         "0": "731",
         "1": "CLIENT_1",
         "2": "PDV_4",
         "3": "PROD_4",
         "4": "32",
         "5": "296",
         "6": "9472",
         "7": "01/06/2022"
        },
        {
         "0": "732",
         "1": "CLIENT_8",
         "2": "PDV_1",
         "3": "PROD_6",
         "4": "24",
         "5": "188",
         "6": "4512",
         "7": "01/06/2022"
        },
        {
         "0": "733",
         "1": "CLIENT_3",
         "2": "PDV_5",
         "3": "PROD_1",
         "4": "1",
         "5": "275",
         "6": "275",
         "7": "01/06/2022"
        },
        {
         "0": "734",
         "1": "CLIENT_3",
         "2": "PDV_2",
         "3": "PROD_2",
         "4": "42",
         "5": "90",
         "6": "3780",
         "7": "01/06/2022"
        },
        {
         "0": "735",
         "1": "CLIENT_8",
         "2": "PDV_5",
         "3": "PROD_3",
         "4": "14",
         "5": "319",
         "6": "4466",
         "7": "01/06/2022"
        },
        {
         "0": "736",
         "1": "CLIENT_2",
         "2": "PDV_2",
         "3": "PROD_4",
         "4": "5",
         "5": "179",
         "6": "895",
         "7": "01/06/2022"
        },
        {
         "0": "737",
         "1": "CLIENT_8",
         "2": "PDV_1",
         "3": "PROD_5",
         "4": "8",
         "5": "283",
         "6": "2264",
         "7": "01/06/2022"
        },
        {
         "0": "738",
         "1": "CLIENT_5",
         "2": "PDV_4",
         "3": "PROD_3",
         "4": "40",
         "5": "310",
         "6": "12400",
         "7": "01/06/2022"
        },
        {
         "0": "739",
         "1": "CLIENT_3",
         "2": "PDV_4",
         "3": "PROD_2",
         "4": "11",
         "5": "249",
         "6": "2739",
         "7": "01/06/2022"
        },
        {
         "0": "740",
         "1": "CLIENT_1",
         "2": "PDV_5",
         "3": "PROD_1",
         "4": "39",
         "5": "201",
         "6": "7839",
         "7": "01/06/2022"
        },
        {
         "0": "741",
         "1": "CLIENT_3",
         "2": "PDV_6",
         "3": "PROD_2",
         "4": "16",
         "5": "127",
         "6": "2032",
         "7": "01/06/2022"
        },
        {
         "0": "742",
         "1": "CLIENT_3",
         "2": "PDV_2",
         "3": "PROD_4",
         "4": "45",
         "5": "244",
         "6": "10980",
         "7": "01/06/2022"
        },
        {
         "0": "743",
         "1": "CLIENT_2",
         "2": "PDV_2",
         "3": "PROD_6",
         "4": "48",
         "5": "172",
         "6": "8256",
         "7": "01/06/2022"
        },
        {
         "0": "744",
         "1": "CLIENT_2",
         "2": "PDV_4",
         "3": "PROD_6",
         "4": "6",
         "5": "307",
         "6": "1842",
         "7": "01/06/2022"
        },
        {
         "0": "745",
         "1": "CLIENT_7",
         "2": "PDV_7",
         "3": "PROD_3",
         "4": "31",
         "5": "17",
         "6": "527",
         "7": "01/06/2022"
        },
        {
         "0": "746",
         "1": "CLIENT_3",
         "2": "PDV_4",
         "3": "PROD_4",
         "4": "30",
         "5": "15",
         "6": "450",
         "7": "01/06/2022"
        },
        {
         "0": "747",
         "1": "CLIENT_4",
         "2": "PDV_6",
         "3": "PROD_3",
         "4": "1",
         "5": "132",
         "6": "132",
         "7": "01/06/2022"
        },
        {
         "0": "748",
         "1": "CLIENT_7",
         "2": "PDV_4",
         "3": "PROD_4",
         "4": "36",
         "5": "125",
         "6": "4500",
         "7": "01/06/2022"
        },
        {
         "0": "749",
         "1": "CLIENT_1",
         "2": "PDV_3",
         "3": "PROD_6",
         "4": "30",
         "5": "277",
         "6": "8310",
         "7": "01/06/2022"
        },
        {
         "0": "750",
         "1": "CLIENT_2",
         "2": "PDV_2",
         "3": "PROD_1",
         "4": "50",
         "5": "123",
         "6": "6150",
         "7": "01/06/2022"
        },
        {
         "0": "751",
         "1": "CLIENT_1",
         "2": "PDV_7",
         "3": "PROD_3",
         "4": "31",
         "5": "261",
         "6": "8091",
         "7": "01/06/2022"
        },
        {
         "0": "752",
         "1": "CLIENT_6",
         "2": "PDV_6",
         "3": "PROD_5",
         "4": "5",
         "5": "295",
         "6": "1475",
         "7": "01/06/2022"
        },
        {
         "0": "753",
         "1": "CLIENT_3",
         "2": "PDV_6",
         "3": "PROD_4",
         "4": "9",
         "5": "74",
         "6": "666",
         "7": "01/06/2022"
        },
        {
         "0": "754",
         "1": "CLIENT_1",
         "2": "PDV_2",
         "3": "PROD_6",
         "4": "34",
         "5": "285",
         "6": "9690",
         "7": "01/06/2022"
        },
        {
         "0": "755",
         "1": "CLIENT_6",
         "2": "PDV_3",
         "3": "PROD_1",
         "4": "15",
         "5": "200",
         "6": "3000",
         "7": "01/06/2022"
        },
        {
         "0": "756",
         "1": "CLIENT_3",
         "2": "PDV_1",
         "3": "PROD_4",
         "4": "50",
         "5": "248",
         "6": "12400",
         "7": "01/06/2022"
        },
        {
         "0": "757",
         "1": "CLIENT_5",
         "2": "PDV_2",
         "3": "PROD_4",
         "4": "31",
         "5": "182",
         "6": "5642",
         "7": "01/06/2022"
        },
        {
         "0": "758",
         "1": "CLIENT_2",
         "2": "PDV_6",
         "3": "PROD_5",
         "4": "42",
         "5": "154",
         "6": "6468",
         "7": "01/06/2022"
        },
        {
         "0": "759",
         "1": "CLIENT_4",
         "2": "PDV_1",
         "3": "PROD_4",
         "4": "45",
         "5": "68",
         "6": "3060",
         "7": "01/06/2022"
        },
        {
         "0": "760",
         "1": "CLIENT_8",
         "2": "PDV_3",
         "3": "PROD_3",
         "4": "5",
         "5": "335",
         "6": "1675",
         "7": "01/06/2022"
        },
        {
         "0": "761",
         "1": "CLIENT_5",
         "2": "PDV_6",
         "3": "PROD_6",
         "4": "10",
         "5": "210",
         "6": "2100",
         "7": "01/06/2022"
        },
        {
         "0": "762",
         "1": "CLIENT_7",
         "2": "PDV_1",
         "3": "PROD_1",
         "4": "7",
         "5": "268",
         "6": "1876",
         "7": "01/06/2022"
        },
        {
         "0": "763",
         "1": "CLIENT_8",
         "2": "PDV_5",
         "3": "PROD_2",
         "4": "6",
         "5": "255",
         "6": "1530",
         "7": "01/06/2022"
        },
        {
         "0": "764",
         "1": "CLIENT_4",
         "2": "PDV_7",
         "3": "PROD_1",
         "4": "44",
         "5": "325",
         "6": "14300",
         "7": "01/06/2022"
        },
        {
         "0": "765",
         "1": "CLIENT_3",
         "2": "PDV_5",
         "3": "PROD_5",
         "4": "24",
         "5": "110",
         "6": "2640",
         "7": "01/06/2022"
        },
        {
         "0": "766",
         "1": "CLIENT_7",
         "2": "PDV_2",
         "3": "PROD_5",
         "4": "40",
         "5": "173",
         "6": "6920",
         "7": "01/06/2022"
        },
        {
         "0": "767",
         "1": "CLIENT_2",
         "2": "PDV_6",
         "3": "PROD_5",
         "4": "44",
         "5": "106",
         "6": "4664",
         "7": "01/06/2022"
        },
        {
         "0": "768",
         "1": "CLIENT_5",
         "2": "PDV_4",
         "3": "PROD_4",
         "4": "30",
         "5": "336",
         "6": "10080",
         "7": "01/06/2022"
        },
        {
         "0": "769",
         "1": "CLIENT_1",
         "2": "PDV_7",
         "3": "PROD_1",
         "4": "32",
         "5": "265",
         "6": "8480",
         "7": "01/06/2022"
        },
        {
         "0": "770",
         "1": "CLIENT_2",
         "2": "PDV_2",
         "3": "PROD_3",
         "4": "1",
         "5": "298",
         "6": "298",
         "7": "01/06/2022"
        },
        {
         "0": "771",
         "1": "CLIENT_8",
         "2": "PDV_1",
         "3": "PROD_1",
         "4": "36",
         "5": "204",
         "6": "7344",
         "7": "01/06/2022"
        },
        {
         "0": "772",
         "1": "CLIENT_4",
         "2": "PDV_3",
         "3": "PROD_3",
         "4": "40",
         "5": "98",
         "6": "3920",
         "7": "01/06/2022"
        },
        {
         "0": "773",
         "1": "CLIENT_7",
         "2": "PDV_7",
         "3": "PROD_3",
         "4": "19",
         "5": "322",
         "6": "6118",
         "7": "01/06/2022"
        },
        {
         "0": "774",
         "1": "CLIENT_1",
         "2": "PDV_1",
         "3": "PROD_5",
         "4": "34",
         "5": "160",
         "6": "5440",
         "7": "01/06/2022"
        },
        {
         "0": "775",
         "1": "CLIENT_3",
         "2": "PDV_4",
         "3": "PROD_3",
         "4": "8",
         "5": "32",
         "6": "256",
         "7": "01/06/2022"
        },
        {
         "0": "776",
         "1": "CLIENT_6",
         "2": "PDV_4",
         "3": "PROD_6",
         "4": "47",
         "5": "59",
         "6": "2773",
         "7": "01/06/2022"
        },
        {
         "0": "777",
         "1": "CLIENT_2",
         "2": "PDV_7",
         "3": "PROD_5",
         "4": "38",
         "5": "22",
         "6": "836",
         "7": "01/06/2022"
        },
        {
         "0": "778",
         "1": "CLIENT_7",
         "2": "PDV_6",
         "3": "PROD_1",
         "4": "22",
         "5": "177",
         "6": "3894",
         "7": "01/06/2022"
        },
        {
         "0": "779",
         "1": "CLIENT_4",
         "2": "PDV_7",
         "3": "PROD_4",
         "4": "27",
         "5": "67",
         "6": "1809",
         "7": "01/06/2022"
        },
        {
         "0": "780",
         "1": "CLIENT_8",
         "2": "PDV_1",
         "3": "PROD_3",
         "4": "35",
         "5": "197",
         "6": "6895",
         "7": "01/06/2022"
        },
        {
         "0": "781",
         "1": "CLIENT_4",
         "2": "PDV_1",
         "3": "PROD_2",
         "4": "31",
         "5": "235",
         "6": "7285",
         "7": "01/06/2022"
        },
        {
         "0": "782",
         "1": "CLIENT_8",
         "2": "PDV_2",
         "3": "PROD_6",
         "4": "21",
         "5": "117",
         "6": "2457",
         "7": "01/06/2022"
        },
        {
         "0": "783",
         "1": "CLIENT_7",
         "2": "PDV_4",
         "3": "PROD_3",
         "4": "40",
         "5": "261",
         "6": "10440",
         "7": "01/06/2022"
        },
        {
         "0": "784",
         "1": "CLIENT_2",
         "2": "PDV_4",
         "3": "PROD_2",
         "4": "25",
         "5": "171",
         "6": "4275",
         "7": "01/06/2022"
        },
        {
         "0": "785",
         "1": "CLIENT_8",
         "2": "PDV_1",
         "3": "PROD_5",
         "4": "5",
         "5": "299",
         "6": "1495",
         "7": "01/06/2022"
        },
        {
         "0": "786",
         "1": "CLIENT_3",
         "2": "PDV_4",
         "3": "PROD_6",
         "4": "49",
         "5": "340",
         "6": "16660",
         "7": "01/07/2022"
        },
        {
         "0": "787",
         "1": "CLIENT_1",
         "2": "PDV_1",
         "3": "PROD_2",
         "4": "16",
         "5": "48",
         "6": "768",
         "7": "01/07/2022"
        },
        {
         "0": "788",
         "1": "CLIENT_5",
         "2": "PDV_1",
         "3": "PROD_3",
         "4": "25",
         "5": "350",
         "6": "8750",
         "7": "01/07/2022"
        },
        {
         "0": "789",
         "1": "CLIENT_4",
         "2": "PDV_5",
         "3": "PROD_6",
         "4": "12",
         "5": "219",
         "6": "2628",
         "7": "01/07/2022"
        },
        {
         "0": "790",
         "1": "CLIENT_8",
         "2": "PDV_4",
         "3": "PROD_6",
         "4": "15",
         "5": "286",
         "6": "4290",
         "7": "01/07/2022"
        },
        {
         "0": "791",
         "1": "CLIENT_2",
         "2": "PDV_3",
         "3": "PROD_3",
         "4": "21",
         "5": "11",
         "6": "231",
         "7": "01/07/2022"
        },
        {
         "0": "792",
         "1": "CLIENT_1",
         "2": "PDV_7",
         "3": "PROD_5",
         "4": "5",
         "5": "197",
         "6": "985",
         "7": "01/07/2022"
        },
        {
         "0": "793",
         "1": "CLIENT_8",
         "2": "PDV_6",
         "3": "PROD_5",
         "4": "31",
         "5": "324",
         "6": "10044",
         "7": "01/07/2022"
        },
        {
         "0": "794",
         "1": "CLIENT_3",
         "2": "PDV_5",
         "3": "PROD_5",
         "4": "28",
         "5": "252",
         "6": "7056",
         "7": "01/07/2022"
        },
        {
         "0": "795",
         "1": "CLIENT_5",
         "2": "PDV_1",
         "3": "PROD_6",
         "4": "19",
         "5": "232",
         "6": "4408",
         "7": "01/07/2022"
        },
        {
         "0": "796",
         "1": "CLIENT_3",
         "2": "PDV_2",
         "3": "PROD_6",
         "4": "38",
         "5": "164",
         "6": "6232",
         "7": "01/07/2022"
        },
        {
         "0": "797",
         "1": "CLIENT_8",
         "2": "PDV_3",
         "3": "PROD_2",
         "4": "43",
         "5": "1",
         "6": "43",
         "7": "01/07/2022"
        },
        {
         "0": "798",
         "1": "CLIENT_3",
         "2": "PDV_1",
         "3": "PROD_3",
         "4": "16",
         "5": "5",
         "6": "80",
         "7": "01/07/2022"
        },
        {
         "0": "799",
         "1": "CLIENT_1",
         "2": "PDV_7",
         "3": "PROD_5",
         "4": "41",
         "5": "168",
         "6": "6888",
         "7": "01/07/2022"
        },
        {
         "0": "800",
         "1": "CLIENT_7",
         "2": "PDV_5",
         "3": "PROD_2",
         "4": "23",
         "5": "93",
         "6": "2139",
         "7": "01/07/2022"
        },
        {
         "0": "801",
         "1": "CLIENT_3",
         "2": "PDV_3",
         "3": "PROD_3",
         "4": "23",
         "5": "147",
         "6": "3381",
         "7": "01/07/2022"
        },
        {
         "0": "802",
         "1": "CLIENT_4",
         "2": "PDV_7",
         "3": "PROD_5",
         "4": "12",
         "5": "70",
         "6": "840",
         "7": "01/07/2022"
        },
        {
         "0": "803",
         "1": "CLIENT_4",
         "2": "PDV_1",
         "3": "PROD_3",
         "4": "29",
         "5": "126",
         "6": "3654",
         "7": "01/07/2022"
        },
        {
         "0": "804",
         "1": "CLIENT_1",
         "2": "PDV_2",
         "3": "PROD_6",
         "4": "21",
         "5": "266",
         "6": "5586",
         "7": "01/07/2022"
        },
        {
         "0": "805",
         "1": "CLIENT_3",
         "2": "PDV_2",
         "3": "PROD_5",
         "4": "6",
         "5": "349",
         "6": "2094",
         "7": "01/07/2022"
        },
        {
         "0": "806",
         "1": "CLIENT_5",
         "2": "PDV_5",
         "3": "PROD_3",
         "4": "15",
         "5": "293",
         "6": "4395",
         "7": "01/07/2022"
        },
        {
         "0": "807",
         "1": "CLIENT_8",
         "2": "PDV_2",
         "3": "PROD_6",
         "4": "44",
         "5": "85",
         "6": "3740",
         "7": "01/07/2022"
        },
        {
         "0": "808",
         "1": "CLIENT_1",
         "2": "PDV_6",
         "3": "PROD_3",
         "4": "38",
         "5": "189",
         "6": "7182",
         "7": "01/07/2022"
        },
        {
         "0": "809",
         "1": "CLIENT_7",
         "2": "PDV_4",
         "3": "PROD_3",
         "4": "31",
         "5": "330",
         "6": "10230",
         "7": "01/07/2022"
        },
        {
         "0": "810",
         "1": "CLIENT_1",
         "2": "PDV_5",
         "3": "PROD_3",
         "4": "26",
         "5": "57",
         "6": "1482",
         "7": "01/07/2022"
        },
        {
         "0": "811",
         "1": "CLIENT_6",
         "2": "PDV_5",
         "3": "PROD_1",
         "4": "45",
         "5": "132",
         "6": "5940",
         "7": "01/07/2022"
        },
        {
         "0": "812",
         "1": "CLIENT_6",
         "2": "PDV_1",
         "3": "PROD_3",
         "4": "22",
         "5": "56",
         "6": "1232",
         "7": "01/07/2022"
        },
        {
         "0": "813",
         "1": "CLIENT_8",
         "2": "PDV_7",
         "3": "PROD_4",
         "4": "20",
         "5": "115",
         "6": "2300",
         "7": "01/07/2022"
        },
        {
         "0": "814",
         "1": "CLIENT_5",
         "2": "PDV_1",
         "3": "PROD_2",
         "4": "17",
         "5": "51",
         "6": "867",
         "7": "01/07/2022"
        },
        {
         "0": "815",
         "1": "CLIENT_6",
         "2": "PDV_3",
         "3": "PROD_3",
         "4": "26",
         "5": "210",
         "6": "5460",
         "7": "01/07/2022"
        },
        {
         "0": "816",
         "1": "CLIENT_5",
         "2": "PDV_6",
         "3": "PROD_6",
         "4": "6",
         "5": "43",
         "6": "258",
         "7": "01/07/2022"
        },
        {
         "0": "817",
         "1": "CLIENT_6",
         "2": "PDV_7",
         "3": "PROD_5",
         "4": "4",
         "5": "133",
         "6": "532",
         "7": "01/07/2022"
        },
        {
         "0": "818",
         "1": "CLIENT_4",
         "2": "PDV_5",
         "3": "PROD_6",
         "4": "10",
         "5": "195",
         "6": "1950",
         "7": "01/07/2022"
        },
        {
         "0": "819",
         "1": "CLIENT_6",
         "2": "PDV_1",
         "3": "PROD_5",
         "4": "41",
         "5": "64",
         "6": "2624",
         "7": "01/07/2022"
        },
        {
         "0": "820",
         "1": "CLIENT_3",
         "2": "PDV_3",
         "3": "PROD_1",
         "4": "36",
         "5": "104",
         "6": "3744",
         "7": "01/07/2022"
        },
        {
         "0": "821",
         "1": "CLIENT_3",
         "2": "PDV_7",
         "3": "PROD_2",
         "4": "6",
         "5": "125",
         "6": "750",
         "7": "01/07/2022"
        },
        {
         "0": "822",
         "1": "CLIENT_7",
         "2": "PDV_1",
         "3": "PROD_2",
         "4": "7",
         "5": "263",
         "6": "1841",
         "7": "01/07/2022"
        },
        {
         "0": "823",
         "1": "CLIENT_7",
         "2": "PDV_6",
         "3": "PROD_6",
         "4": "32",
         "5": "98",
         "6": "3136",
         "7": "01/07/2022"
        },
        {
         "0": "824",
         "1": "CLIENT_7",
         "2": "PDV_5",
         "3": "PROD_2",
         "4": "31",
         "5": "119",
         "6": "3689",
         "7": "01/07/2022"
        },
        {
         "0": "825",
         "1": "CLIENT_8",
         "2": "PDV_4",
         "3": "PROD_5",
         "4": "50",
         "5": "272",
         "6": "13600",
         "7": "01/07/2022"
        },
        {
         "0": "826",
         "1": "CLIENT_5",
         "2": "PDV_6",
         "3": "PROD_4",
         "4": "41",
         "5": "88",
         "6": "3608",
         "7": "01/07/2022"
        },
        {
         "0": "827",
         "1": "CLIENT_5",
         "2": "PDV_1",
         "3": "PROD_4",
         "4": "33",
         "5": "197",
         "6": "6501",
         "7": "01/07/2022"
        },
        {
         "0": "828",
         "1": "CLIENT_1",
         "2": "PDV_3",
         "3": "PROD_1",
         "4": "26",
         "5": "34",
         "6": "884",
         "7": "01/08/2022"
        },
        {
         "0": "829",
         "1": "CLIENT_1",
         "2": "PDV_2",
         "3": "PROD_3",
         "4": "20",
         "5": "27",
         "6": "540",
         "7": "01/08/2022"
        },
        {
         "0": "830",
         "1": "CLIENT_6",
         "2": "PDV_7",
         "3": "PROD_2",
         "4": "47",
         "5": "281",
         "6": "13207",
         "7": "01/08/2022"
        },
        {
         "0": "831",
         "1": "CLIENT_4",
         "2": "PDV_4",
         "3": "PROD_3",
         "4": "13",
         "5": "334",
         "6": "4342",
         "7": "01/08/2022"
        },
        {
         "0": "832",
         "1": "CLIENT_1",
         "2": "PDV_2",
         "3": "PROD_3",
         "4": "46",
         "5": "338",
         "6": "15548",
         "7": "01/08/2022"
        },
        {
         "0": "833",
         "1": "CLIENT_3",
         "2": "PDV_7",
         "3": "PROD_2",
         "4": "4",
         "5": "308",
         "6": "1232",
         "7": "01/08/2022"
        },
        {
         "0": "834",
         "1": "CLIENT_5",
         "2": "PDV_5",
         "3": "PROD_6",
         "4": "4",
         "5": "12",
         "6": "48",
         "7": "01/08/2022"
        },
        {
         "0": "835",
         "1": "CLIENT_3",
         "2": "PDV_2",
         "3": "PROD_1",
         "4": "43",
         "5": "304",
         "6": "13072",
         "7": "01/08/2022"
        },
        {
         "0": "836",
         "1": "CLIENT_3",
         "2": "PDV_1",
         "3": "PROD_4",
         "4": "16",
         "5": "297",
         "6": "4752",
         "7": "01/08/2022"
        },
        {
         "0": "837",
         "1": "CLIENT_4",
         "2": "PDV_7",
         "3": "PROD_1",
         "4": "49",
         "5": "301",
         "6": "14749",
         "7": "01/08/2022"
        },
        {
         "0": "838",
         "1": "CLIENT_1",
         "2": "PDV_5",
         "3": "PROD_6",
         "4": "5",
         "5": "206",
         "6": "1030",
         "7": "01/08/2022"
        },
        {
         "0": "839",
         "1": "CLIENT_8",
         "2": "PDV_1",
         "3": "PROD_1",
         "4": "27",
         "5": "182",
         "6": "4914",
         "7": "01/08/2022"
        },
        {
         "0": "840",
         "1": "CLIENT_8",
         "2": "PDV_7",
         "3": "PROD_1",
         "4": "15",
         "5": "251",
         "6": "3765",
         "7": "01/08/2022"
        },
        {
         "0": "841",
         "1": "CLIENT_1",
         "2": "PDV_1",
         "3": "PROD_3",
         "4": "3",
         "5": "222",
         "6": "666",
         "7": "01/08/2022"
        },
        {
         "0": "842",
         "1": "CLIENT_5",
         "2": "PDV_1",
         "3": "PROD_3",
         "4": "35",
         "5": "310",
         "6": "10850",
         "7": "01/08/2022"
        },
        {
         "0": "843",
         "1": "CLIENT_2",
         "2": "PDV_7",
         "3": "PROD_1",
         "4": "20",
         "5": "283",
         "6": "5660",
         "7": "01/08/2022"
        },
        {
         "0": "844",
         "1": "CLIENT_6",
         "2": "PDV_7",
         "3": "PROD_3",
         "4": "19",
         "5": "254",
         "6": "4826",
         "7": "01/08/2022"
        },
        {
         "0": "845",
         "1": "CLIENT_4",
         "2": "PDV_2",
         "3": "PROD_3",
         "4": "47",
         "5": "20",
         "6": "940",
         "7": "01/08/2022"
        },
        {
         "0": "846",
         "1": "CLIENT_5",
         "2": "PDV_6",
         "3": "PROD_1",
         "4": "19",
         "5": "154",
         "6": "2926",
         "7": "01/08/2022"
        },
        {
         "0": "847",
         "1": "CLIENT_2",
         "2": "PDV_3",
         "3": "PROD_1",
         "4": "43",
         "5": "79",
         "6": "3397",
         "7": "01/08/2022"
        },
        {
         "0": "848",
         "1": "CLIENT_5",
         "2": "PDV_5",
         "3": "PROD_1",
         "4": "11",
         "5": "282",
         "6": "3102",
         "7": "01/08/2022"
        },
        {
         "0": "849",
         "1": "CLIENT_1",
         "2": "PDV_2",
         "3": "PROD_1",
         "4": "2",
         "5": "34",
         "6": "68",
         "7": "01/08/2022"
        },
        {
         "0": "850",
         "1": "CLIENT_1",
         "2": "PDV_6",
         "3": "PROD_2",
         "4": "2",
         "5": "338",
         "6": "676",
         "7": "01/08/2022"
        },
        {
         "0": "851",
         "1": "CLIENT_8",
         "2": "PDV_7",
         "3": "PROD_1",
         "4": "25",
         "5": "16",
         "6": "400",
         "7": "01/08/2022"
        },
        {
         "0": "852",
         "1": "CLIENT_4",
         "2": "PDV_5",
         "3": "PROD_3",
         "4": "29",
         "5": "295",
         "6": "8555",
         "7": "01/08/2022"
        },
        {
         "0": "853",
         "1": "CLIENT_8",
         "2": "PDV_4",
         "3": "PROD_5",
         "4": "33",
         "5": "185",
         "6": "6105",
         "7": "01/08/2022"
        },
        {
         "0": "854",
         "1": "CLIENT_8",
         "2": "PDV_5",
         "3": "PROD_1",
         "4": "25",
         "5": "306",
         "6": "7650",
         "7": "01/08/2022"
        },
        {
         "0": "855",
         "1": "CLIENT_4",
         "2": "PDV_4",
         "3": "PROD_1",
         "4": "23",
         "5": "78",
         "6": "1794",
         "7": "01/08/2022"
        },
        {
         "0": "856",
         "1": "CLIENT_6",
         "2": "PDV_5",
         "3": "PROD_2",
         "4": "15",
         "5": "141",
         "6": "2115",
         "7": "01/08/2022"
        },
        {
         "0": "857",
         "1": "CLIENT_2",
         "2": "PDV_3",
         "3": "PROD_5",
         "4": "13",
         "5": "8",
         "6": "104",
         "7": "01/08/2022"
        },
        {
         "0": "858",
         "1": "CLIENT_4",
         "2": "PDV_7",
         "3": "PROD_3",
         "4": "44",
         "5": "68",
         "6": "2992",
         "7": "01/08/2022"
        },
        {
         "0": "859",
         "1": "CLIENT_3",
         "2": "PDV_3",
         "3": "PROD_6",
         "4": "25",
         "5": "38",
         "6": "950",
         "7": "01/08/2022"
        },
        {
         "0": "860",
         "1": "CLIENT_3",
         "2": "PDV_4",
         "3": "PROD_1",
         "4": "27",
         "5": "339",
         "6": "9153",
         "7": "01/08/2022"
        },
        {
         "0": "861",
         "1": "CLIENT_2",
         "2": "PDV_1",
         "3": "PROD_4",
         "4": "3",
         "5": "323",
         "6": "969",
         "7": "01/08/2022"
        },
        {
         "0": "862",
         "1": "CLIENT_8",
         "2": "PDV_4",
         "3": "PROD_3",
         "4": "20",
         "5": "118",
         "6": "2360",
         "7": "01/08/2022"
        },
        {
         "0": "863",
         "1": "CLIENT_7",
         "2": "PDV_5",
         "3": "PROD_6",
         "4": "12",
         "5": "282",
         "6": "3384",
         "7": "01/08/2022"
        },
        {
         "0": "864",
         "1": "CLIENT_2",
         "2": "PDV_2",
         "3": "PROD_3",
         "4": "47",
         "5": "273",
         "6": "12831",
         "7": "01/08/2022"
        },
        {
         "0": "865",
         "1": "CLIENT_7",
         "2": "PDV_6",
         "3": "PROD_5",
         "4": "23",
         "5": "141",
         "6": "3243",
         "7": "01/08/2022"
        },
        {
         "0": "866",
         "1": "CLIENT_1",
         "2": "PDV_1",
         "3": "PROD_2",
         "4": "37",
         "5": "202",
         "6": "7474",
         "7": "01/08/2022"
        },
        {
         "0": "867",
         "1": "CLIENT_7",
         "2": "PDV_1",
         "3": "PROD_4",
         "4": "42",
         "5": "55",
         "6": "2310",
         "7": "01/09/2022"
        },
        {
         "0": "868",
         "1": "CLIENT_1",
         "2": "PDV_6",
         "3": "PROD_1",
         "4": "22",
         "5": "107",
         "6": "2354",
         "7": "01/09/2022"
        },
        {
         "0": "869",
         "1": "CLIENT_8",
         "2": "PDV_5",
         "3": "PROD_5",
         "4": "12",
         "5": "50",
         "6": "600",
         "7": "01/09/2022"
        },
        {
         "0": "870",
         "1": "CLIENT_6",
         "2": "PDV_1",
         "3": "PROD_5",
         "4": "35",
         "5": "209",
         "6": "7315",
         "7": "01/09/2022"
        },
        {
         "0": "871",
         "1": "CLIENT_4",
         "2": "PDV_3",
         "3": "PROD_6",
         "4": "31",
         "5": "124",
         "6": "3844",
         "7": "01/09/2022"
        },
        {
         "0": "872",
         "1": "CLIENT_2",
         "2": "PDV_3",
         "3": "PROD_3",
         "4": "38",
         "5": "229",
         "6": "8702",
         "7": "01/09/2022"
        },
        {
         "0": "873",
         "1": "CLIENT_8",
         "2": "PDV_3",
         "3": "PROD_1",
         "4": "36",
         "5": "51",
         "6": "1836",
         "7": "01/09/2022"
        },
        {
         "0": "874",
         "1": "CLIENT_8",
         "2": "PDV_3",
         "3": "PROD_2",
         "4": "28",
         "5": "44",
         "6": "1232",
         "7": "01/09/2022"
        },
        {
         "0": "875",
         "1": "CLIENT_6",
         "2": "PDV_2",
         "3": "PROD_3",
         "4": "48",
         "5": "11",
         "6": "528",
         "7": "01/09/2022"
        },
        {
         "0": "876",
         "1": "CLIENT_7",
         "2": "PDV_6",
         "3": "PROD_5",
         "4": "37",
         "5": "184",
         "6": "6808",
         "7": "01/09/2022"
        },
        {
         "0": "877",
         "1": "CLIENT_1",
         "2": "PDV_4",
         "3": "PROD_1",
         "4": "11",
         "5": "81",
         "6": "891",
         "7": "01/09/2022"
        },
        {
         "0": "878",
         "1": "CLIENT_8",
         "2": "PDV_5",
         "3": "PROD_6",
         "4": "39",
         "5": "229",
         "6": "8931",
         "7": "01/09/2022"
        },
        {
         "0": "879",
         "1": "CLIENT_8",
         "2": "PDV_4",
         "3": "PROD_4",
         "4": "24",
         "5": "329",
         "6": "7896",
         "7": "01/09/2022"
        },
        {
         "0": "880",
         "1": "CLIENT_2",
         "2": "PDV_6",
         "3": "PROD_5",
         "4": "3",
         "5": "167",
         "6": "501",
         "7": "01/09/2022"
        },
        {
         "0": "881",
         "1": "CLIENT_7",
         "2": "PDV_3",
         "3": "PROD_2",
         "4": "33",
         "5": "77",
         "6": "2541",
         "7": "01/09/2022"
        },
        {
         "0": "882",
         "1": "CLIENT_8",
         "2": "PDV_3",
         "3": "PROD_4",
         "4": "6",
         "5": "63",
         "6": "378",
         "7": "01/09/2022"
        },
        {
         "0": "883",
         "1": "CLIENT_8",
         "2": "PDV_7",
         "3": "PROD_4",
         "4": "15",
         "5": "12",
         "6": "180",
         "7": "01/09/2022"
        },
        {
         "0": "884",
         "1": "CLIENT_6",
         "2": "PDV_3",
         "3": "PROD_3",
         "4": "15",
         "5": "25",
         "6": "375",
         "7": "01/09/2022"
        },
        {
         "0": "885",
         "1": "CLIENT_7",
         "2": "PDV_6",
         "3": "PROD_2",
         "4": "37",
         "5": "223",
         "6": "8251",
         "7": "01/09/2022"
        },
        {
         "0": "886",
         "1": "CLIENT_3",
         "2": "PDV_4",
         "3": "PROD_4",
         "4": "28",
         "5": "68",
         "6": "1904",
         "7": "01/09/2022"
        },
        {
         "0": "887",
         "1": "CLIENT_8",
         "2": "PDV_2",
         "3": "PROD_6",
         "4": "2",
         "5": "61",
         "6": "122",
         "7": "01/09/2022"
        },
        {
         "0": "888",
         "1": "CLIENT_1",
         "2": "PDV_1",
         "3": "PROD_4",
         "4": "37",
         "5": "42",
         "6": "1554",
         "7": "01/09/2022"
        },
        {
         "0": "889",
         "1": "CLIENT_8",
         "2": "PDV_3",
         "3": "PROD_6",
         "4": "14",
         "5": "130",
         "6": "1820",
         "7": "01/09/2022"
        },
        {
         "0": "890",
         "1": "CLIENT_6",
         "2": "PDV_7",
         "3": "PROD_5",
         "4": "48",
         "5": "72",
         "6": "3456",
         "7": "01/09/2022"
        },
        {
         "0": "891",
         "1": "CLIENT_8",
         "2": "PDV_7",
         "3": "PROD_3",
         "4": "42",
         "5": "149",
         "6": "6258",
         "7": "01/09/2022"
        },
        {
         "0": "892",
         "1": "CLIENT_5",
         "2": "PDV_3",
         "3": "PROD_1",
         "4": "29",
         "5": "89",
         "6": "2581",
         "7": "01/09/2022"
        },
        {
         "0": "893",
         "1": "CLIENT_5",
         "2": "PDV_1",
         "3": "PROD_1",
         "4": "37",
         "5": "138",
         "6": "5106",
         "7": "01/09/2022"
        },
        {
         "0": "894",
         "1": "CLIENT_4",
         "2": "PDV_3",
         "3": "PROD_1",
         "4": "35",
         "5": "315",
         "6": "11025",
         "7": "01/09/2022"
        },
        {
         "0": "895",
         "1": "CLIENT_6",
         "2": "PDV_2",
         "3": "PROD_3",
         "4": "40",
         "5": "110",
         "6": "4400",
         "7": "01/09/2022"
        },
        {
         "0": "896",
         "1": "CLIENT_5",
         "2": "PDV_5",
         "3": "PROD_5",
         "4": "44",
         "5": "151",
         "6": "6644",
         "7": "01/10/2022"
        },
        {
         "0": "897",
         "1": "CLIENT_3",
         "2": "PDV_1",
         "3": "PROD_4",
         "4": "13",
         "5": "19",
         "6": "247",
         "7": "01/10/2022"
        },
        {
         "0": "898",
         "1": "CLIENT_6",
         "2": "PDV_3",
         "3": "PROD_5",
         "4": "13",
         "5": "132",
         "6": "1716",
         "7": "01/10/2022"
        },
        {
         "0": "899",
         "1": "CLIENT_8",
         "2": "PDV_2",
         "3": "PROD_2",
         "4": "32",
         "5": "314",
         "6": "10048",
         "7": "01/10/2022"
        },
        {
         "0": "900",
         "1": "CLIENT_5",
         "2": "PDV_4",
         "3": "PROD_5",
         "4": "33",
         "5": "9",
         "6": "297",
         "7": "01/10/2022"
        },
        {
         "0": "901",
         "1": "CLIENT_4",
         "2": "PDV_7",
         "3": "PROD_6",
         "4": "3",
         "5": "284",
         "6": "852",
         "7": "01/10/2022"
        },
        {
         "0": "902",
         "1": "CLIENT_2",
         "2": "PDV_1",
         "3": "PROD_4",
         "4": "22",
         "5": "299",
         "6": "6578",
         "7": "01/10/2022"
        },
        {
         "0": "903",
         "1": "CLIENT_6",
         "2": "PDV_5",
         "3": "PROD_5",
         "4": "5",
         "5": "180",
         "6": "900",
         "7": "01/10/2022"
        },
        {
         "0": "904",
         "1": "CLIENT_8",
         "2": "PDV_5",
         "3": "PROD_2",
         "4": "10",
         "5": "343",
         "6": "3430",
         "7": "01/10/2022"
        },
        {
         "0": "905",
         "1": "CLIENT_6",
         "2": "PDV_5",
         "3": "PROD_3",
         "4": "31",
         "5": "95",
         "6": "2945",
         "7": "01/10/2022"
        },
        {
         "0": "906",
         "1": "CLIENT_1",
         "2": "PDV_2",
         "3": "PROD_3",
         "4": "23",
         "5": "338",
         "6": "7774",
         "7": "01/10/2022"
        },
        {
         "0": "907",
         "1": "CLIENT_5",
         "2": "PDV_6",
         "3": "PROD_6",
         "4": "11",
         "5": "287",
         "6": "3157",
         "7": "01/10/2022"
        },
        {
         "0": "908",
         "1": "CLIENT_3",
         "2": "PDV_2",
         "3": "PROD_4",
         "4": "50",
         "5": "317",
         "6": "15850",
         "7": "01/10/2022"
        },
        {
         "0": "909",
         "1": "CLIENT_4",
         "2": "PDV_7",
         "3": "PROD_5",
         "4": "35",
         "5": "175",
         "6": "6125",
         "7": "01/10/2022"
        },
        {
         "0": "910",
         "1": "CLIENT_8",
         "2": "PDV_7",
         "3": "PROD_6",
         "4": "15",
         "5": "55",
         "6": "825",
         "7": "01/10/2022"
        },
        {
         "0": "911",
         "1": "CLIENT_4",
         "2": "PDV_3",
         "3": "PROD_1",
         "4": "33",
         "5": "112",
         "6": "3696",
         "7": "01/10/2022"
        },
        {
         "0": "912",
         "1": "CLIENT_7",
         "2": "PDV_5",
         "3": "PROD_4",
         "4": "34",
         "5": "142",
         "6": "4828",
         "7": "01/10/2022"
        },
        {
         "0": "913",
         "1": "CLIENT_4",
         "2": "PDV_7",
         "3": "PROD_6",
         "4": "15",
         "5": "341",
         "6": "5115",
         "7": "01/10/2022"
        },
        {
         "0": "914",
         "1": "CLIENT_8",
         "2": "PDV_3",
         "3": "PROD_5",
         "4": "25",
         "5": "340",
         "6": "8500",
         "7": "01/10/2022"
        },
        {
         "0": "915",
         "1": "CLIENT_2",
         "2": "PDV_1",
         "3": "PROD_3",
         "4": "30",
         "5": "133",
         "6": "3990",
         "7": "01/10/2022"
        },
        {
         "0": "916",
         "1": "CLIENT_6",
         "2": "PDV_1",
         "3": "PROD_6",
         "4": "47",
         "5": "82",
         "6": "3854",
         "7": "01/10/2022"
        },
        {
         "0": "917",
         "1": "CLIENT_6",
         "2": "PDV_2",
         "3": "PROD_4",
         "4": "17",
         "5": "30",
         "6": "510",
         "7": "01/10/2022"
        },
        {
         "0": "918",
         "1": "CLIENT_4",
         "2": "PDV_7",
         "3": "PROD_1",
         "4": "22",
         "5": "33",
         "6": "726",
         "7": "01/10/2022"
        },
        {
         "0": "919",
         "1": "CLIENT_2",
         "2": "PDV_3",
         "3": "PROD_3",
         "4": "39",
         "5": "256",
         "6": "9984",
         "7": "01/10/2022"
        },
        {
         "0": "920",
         "1": "CLIENT_1",
         "2": "PDV_5",
         "3": "PROD_2",
         "4": "20",
         "5": "231",
         "6": "4620",
         "7": "01/10/2022"
        },
        {
         "0": "921",
         "1": "CLIENT_6",
         "2": "PDV_3",
         "3": "PROD_1",
         "4": "42",
         "5": "119",
         "6": "4998",
         "7": "01/10/2022"
        },
        {
         "0": "922",
         "1": "CLIENT_7",
         "2": "PDV_7",
         "3": "PROD_1",
         "4": "21",
         "5": "309",
         "6": "6489",
         "7": "01/10/2022"
        },
        {
         "0": "923",
         "1": "CLIENT_7",
         "2": "PDV_4",
         "3": "PROD_2",
         "4": "28",
         "5": "150",
         "6": "4200",
         "7": "01/10/2022"
        },
        {
         "0": "924",
         "1": "CLIENT_3",
         "2": "PDV_5",
         "3": "PROD_2",
         "4": "25",
         "5": "107",
         "6": "2675",
         "7": "01/10/2022"
        },
        {
         "0": "925",
         "1": "CLIENT_5",
         "2": "PDV_2",
         "3": "PROD_5",
         "4": "28",
         "5": "41",
         "6": "1148",
         "7": "01/10/2022"
        },
        {
         "0": "926",
         "1": "CLIENT_2",
         "2": "PDV_3",
         "3": "PROD_3",
         "4": "10",
         "5": "328",
         "6": "3280",
         "7": "01/10/2022"
        },
        {
         "0": "927",
         "1": "CLIENT_7",
         "2": "PDV_7",
         "3": "PROD_6",
         "4": "12",
         "5": "209",
         "6": "2508",
         "7": "01/10/2022"
        },
        {
         "0": "928",
         "1": "CLIENT_1",
         "2": "PDV_7",
         "3": "PROD_3",
         "4": "16",
         "5": "141",
         "6": "2256",
         "7": "01/10/2022"
        },
        {
         "0": "929",
         "1": "CLIENT_3",
         "2": "PDV_4",
         "3": "PROD_4",
         "4": "31",
         "5": "175",
         "6": "5425",
         "7": "01/10/2022"
        },
        {
         "0": "930",
         "1": "CLIENT_2",
         "2": "PDV_3",
         "3": "PROD_2",
         "4": "5",
         "5": "264",
         "6": "1320",
         "7": "01/10/2022"
        },
        {
         "0": "931",
         "1": "CLIENT_5",
         "2": "PDV_6",
         "3": "PROD_5",
         "4": "50",
         "5": "266",
         "6": "13300",
         "7": "01/10/2022"
        },
        {
         "0": "932",
         "1": "CLIENT_6",
         "2": "PDV_3",
         "3": "PROD_3",
         "4": "29",
         "5": "90",
         "6": "2610",
         "7": "01/10/2022"
        },
        {
         "0": "933",
         "1": "CLIENT_7",
         "2": "PDV_1",
         "3": "PROD_3",
         "4": "34",
         "5": "110",
         "6": "3740",
         "7": "01/10/2022"
        },
        {
         "0": "934",
         "1": "CLIENT_1",
         "2": "PDV_2",
         "3": "PROD_2",
         "4": "14",
         "5": "99",
         "6": "1386",
         "7": "01/10/2022"
        },
        {
         "0": "935",
         "1": "CLIENT_3",
         "2": "PDV_7",
         "3": "PROD_2",
         "4": "44",
         "5": "59",
         "6": "2596",
         "7": "01/10/2022"
        },
        {
         "0": "936",
         "1": "CLIENT_4",
         "2": "PDV_2",
         "3": "PROD_4",
         "4": "23",
         "5": "91",
         "6": "2093",
         "7": "01/10/2022"
        },
        {
         "0": "937",
         "1": "CLIENT_8",
         "2": "PDV_4",
         "3": "PROD_3",
         "4": "12",
         "5": "13",
         "6": "156",
         "7": "01/10/2022"
        },
        {
         "0": "938",
         "1": "CLIENT_2",
         "2": "PDV_7",
         "3": "PROD_2",
         "4": "2",
         "5": "298",
         "6": "596",
         "7": "01/10/2022"
        },
        {
         "0": "939",
         "1": "CLIENT_2",
         "2": "PDV_5",
         "3": "PROD_4",
         "4": "38",
         "5": "274",
         "6": "10412",
         "7": "01/10/2022"
        },
        {
         "0": "940",
         "1": "CLIENT_4",
         "2": "PDV_3",
         "3": "PROD_6",
         "4": "12",
         "5": "27",
         "6": "324",
         "7": "01/10/2022"
        },
        {
         "0": "941",
         "1": "CLIENT_7",
         "2": "PDV_5",
         "3": "PROD_3",
         "4": "8",
         "5": "174",
         "6": "1392",
         "7": "01/10/2022"
        },
        {
         "0": "942",
         "1": "CLIENT_7",
         "2": "PDV_7",
         "3": "PROD_4",
         "4": "4",
         "5": "348",
         "6": "1392",
         "7": "01/10/2022"
        },
        {
         "0": "943",
         "1": "CLIENT_2",
         "2": "PDV_1",
         "3": "PROD_1",
         "4": "7",
         "5": "130",
         "6": "910",
         "7": "01/10/2022"
        },
        {
         "0": "944",
         "1": "CLIENT_6",
         "2": "PDV_1",
         "3": "PROD_6",
         "4": "11",
         "5": "155",
         "6": "1705",
         "7": "01/10/2022"
        },
        {
         "0": "945",
         "1": "CLIENT_3",
         "2": "PDV_1",
         "3": "PROD_6",
         "4": "21",
         "5": "308",
         "6": "6468",
         "7": "01/10/2022"
        },
        {
         "0": "946",
         "1": "CLIENT_4",
         "2": "PDV_2",
         "3": "PROD_6",
         "4": "5",
         "5": "270",
         "6": "1350",
         "7": "01/10/2022"
        },
        {
         "0": "947",
         "1": "CLIENT_6",
         "2": "PDV_6",
         "3": "PROD_2",
         "4": "32",
         "5": "185",
         "6": "5920",
         "7": "01/10/2022"
        },
        {
         "0": "948",
         "1": "CLIENT_2",
         "2": "PDV_1",
         "3": "PROD_1",
         "4": "45",
         "5": "238",
         "6": "10710",
         "7": "01/10/2022"
        },
        {
         "0": "949",
         "1": "CLIENT_1",
         "2": "PDV_4",
         "3": "PROD_1",
         "4": "30",
         "5": "220",
         "6": "6600",
         "7": "01/10/2022"
        },
        {
         "0": "950",
         "1": "CLIENT_7",
         "2": "PDV_4",
         "3": "PROD_3",
         "4": "33",
         "5": "34",
         "6": "1122",
         "7": "01/10/2022"
        },
        {
         "0": "951",
         "1": "CLIENT_3",
         "2": "PDV_7",
         "3": "PROD_2",
         "4": "6",
         "5": "218",
         "6": "1308",
         "7": "01/10/2022"
        },
        {
         "0": "952",
         "1": "CLIENT_2",
         "2": "PDV_1",
         "3": "PROD_6",
         "4": "9",
         "5": "225",
         "6": "2025",
         "7": "01/10/2022"
        },
        {
         "0": "953",
         "1": "CLIENT_5",
         "2": "PDV_6",
         "3": "PROD_1",
         "4": "21",
         "5": "85",
         "6": "1785",
         "7": "01/10/2022"
        },
        {
         "0": "954",
         "1": "CLIENT_8",
         "2": "PDV_3",
         "3": "PROD_3",
         "4": "49",
         "5": "151",
         "6": "7399",
         "7": "01/10/2022"
        },
        {
         "0": "955",
         "1": "CLIENT_2",
         "2": "PDV_3",
         "3": "PROD_6",
         "4": "21",
         "5": "227",
         "6": "4767",
         "7": "01/10/2022"
        },
        {
         "0": "956",
         "1": "CLIENT_7",
         "2": "PDV_5",
         "3": "PROD_4",
         "4": "32",
         "5": "215",
         "6": "6880",
         "7": "01/10/2022"
        },
        {
         "0": "957",
         "1": "CLIENT_6",
         "2": "PDV_4",
         "3": "PROD_4",
         "4": "32",
         "5": "323",
         "6": "10336",
         "7": "01/10/2022"
        },
        {
         "0": "958",
         "1": "CLIENT_3",
         "2": "PDV_3",
         "3": "PROD_5",
         "4": "11",
         "5": "285",
         "6": "3135",
         "7": "01/10/2022"
        },
        {
         "0": "959",
         "1": "CLIENT_3",
         "2": "PDV_1",
         "3": "PROD_4",
         "4": "24",
         "5": "244",
         "6": "5856",
         "7": "01/11/2022"
        },
        {
         "0": "960",
         "1": "CLIENT_2",
         "2": "PDV_5",
         "3": "PROD_3",
         "4": "6",
         "5": "130",
         "6": "780",
         "7": "01/11/2022"
        },
        {
         "0": "961",
         "1": "CLIENT_8",
         "2": "PDV_2",
         "3": "PROD_1",
         "4": "5",
         "5": "7",
         "6": "35",
         "7": "01/11/2022"
        },
        {
         "0": "962",
         "1": "CLIENT_3",
         "2": "PDV_4",
         "3": "PROD_2",
         "4": "25",
         "5": "340",
         "6": "8500",
         "7": "01/11/2022"
        },
        {
         "0": "963",
         "1": "CLIENT_2",
         "2": "PDV_1",
         "3": "PROD_1",
         "4": "16",
         "5": "84",
         "6": "1344",
         "7": "01/11/2022"
        },
        {
         "0": "964",
         "1": "CLIENT_7",
         "2": "PDV_1",
         "3": "PROD_3",
         "4": "24",
         "5": "187",
         "6": "4488",
         "7": "01/11/2022"
        },
        {
         "0": "965",
         "1": "CLIENT_8",
         "2": "PDV_7",
         "3": "PROD_1",
         "4": "18",
         "5": "18",
         "6": "324",
         "7": "01/11/2022"
        },
        {
         "0": "966",
         "1": "CLIENT_6",
         "2": "PDV_4",
         "3": "PROD_1",
         "4": "43",
         "5": "179",
         "6": "7697",
         "7": "01/11/2022"
        },
        {
         "0": "967",
         "1": "CLIENT_4",
         "2": "PDV_3",
         "3": "PROD_3",
         "4": "20",
         "5": "207",
         "6": "4140",
         "7": "01/11/2022"
        },
        {
         "0": "968",
         "1": "CLIENT_3",
         "2": "PDV_6",
         "3": "PROD_1",
         "4": "15",
         "5": "70",
         "6": "1050",
         "7": "01/11/2022"
        },
        {
         "0": "969",
         "1": "CLIENT_5",
         "2": "PDV_4",
         "3": "PROD_2",
         "4": "13",
         "5": "120",
         "6": "1560",
         "7": "01/11/2022"
        },
        {
         "0": "970",
         "1": "CLIENT_7",
         "2": "PDV_5",
         "3": "PROD_6",
         "4": "22",
         "5": "240",
         "6": "5280",
         "7": "01/11/2022"
        },
        {
         "0": "971",
         "1": "CLIENT_4",
         "2": "PDV_4",
         "3": "PROD_1",
         "4": "18",
         "5": "232",
         "6": "4176",
         "7": "01/11/2022"
        },
        {
         "0": "972",
         "1": "CLIENT_3",
         "2": "PDV_1",
         "3": "PROD_6",
         "4": "28",
         "5": "312",
         "6": "8736",
         "7": "01/11/2022"
        },
        {
         "0": "973",
         "1": "CLIENT_8",
         "2": "PDV_1",
         "3": "PROD_6",
         "4": "16",
         "5": "234",
         "6": "3744",
         "7": "01/11/2022"
        },
        {
         "0": "974",
         "1": "CLIENT_2",
         "2": "PDV_3",
         "3": "PROD_3",
         "4": "19",
         "5": "156",
         "6": "2964",
         "7": "01/11/2022"
        },
        {
         "0": "975",
         "1": "CLIENT_2",
         "2": "PDV_1",
         "3": "PROD_2",
         "4": "38",
         "5": "301",
         "6": "11438",
         "7": "01/11/2022"
        },
        {
         "0": "976",
         "1": "CLIENT_5",
         "2": "PDV_6",
         "3": "PROD_4",
         "4": "12",
         "5": "26",
         "6": "312",
         "7": "01/11/2022"
        },
        {
         "0": "977",
         "1": "CLIENT_5",
         "2": "PDV_6",
         "3": "PROD_4",
         "4": "22",
         "5": "133",
         "6": "2926",
         "7": "01/11/2022"
        },
        {
         "0": "978",
         "1": "CLIENT_8",
         "2": "PDV_1",
         "3": "PROD_6",
         "4": "7",
         "5": "204",
         "6": "1428",
         "7": "01/11/2022"
        },
        {
         "0": "979",
         "1": "CLIENT_1",
         "2": "PDV_1",
         "3": "PROD_2",
         "4": "12",
         "5": "197",
         "6": "2364",
         "7": "01/11/2022"
        },
        {
         "0": "980",
         "1": "CLIENT_4",
         "2": "PDV_3",
         "3": "PROD_4",
         "4": "20",
         "5": "102",
         "6": "2040",
         "7": "01/11/2022"
        },
        {
         "0": "981",
         "1": "CLIENT_5",
         "2": "PDV_4",
         "3": "PROD_5",
         "4": "30",
         "5": "159",
         "6": "4770",
         "7": "01/11/2022"
        },
        {
         "0": "982",
         "1": "CLIENT_5",
         "2": "PDV_3",
         "3": "PROD_3",
         "4": "49",
         "5": "344",
         "6": "16856",
         "7": "01/11/2022"
        },
        {
         "0": "983",
         "1": "CLIENT_5",
         "2": "PDV_2",
         "3": "PROD_3",
         "4": "43",
         "5": "144",
         "6": "6192",
         "7": "01/11/2022"
        },
        {
         "0": "984",
         "1": "CLIENT_4",
         "2": "PDV_6",
         "3": "PROD_4",
         "4": "13",
         "5": "159",
         "6": "2067",
         "7": "01/11/2022"
        },
        {
         "0": "985",
         "1": "CLIENT_8",
         "2": "PDV_3",
         "3": "PROD_6",
         "4": "19",
         "5": "133",
         "6": "2527",
         "7": "01/11/2022"
        },
        {
         "0": "986",
         "1": "CLIENT_7",
         "2": "PDV_1",
         "3": "PROD_5",
         "4": "14",
         "5": "327",
         "6": "4578",
         "7": "01/11/2022"
        },
        {
         "0": "987",
         "1": "CLIENT_1",
         "2": "PDV_3",
         "3": "PROD_3",
         "4": "18",
         "5": "74",
         "6": "1332",
         "7": "01/11/2022"
        },
        {
         "0": "988",
         "1": "CLIENT_7",
         "2": "PDV_6",
         "3": "PROD_6",
         "4": "48",
         "5": "306",
         "6": "14688",
         "7": "01/11/2022"
        },
        {
         "0": "989",
         "1": "CLIENT_3",
         "2": "PDV_1",
         "3": "PROD_3",
         "4": "15",
         "5": "21",
         "6": "315",
         "7": "01/11/2022"
        },
        {
         "0": "990",
         "1": "CLIENT_2",
         "2": "PDV_6",
         "3": "PROD_3",
         "4": "21",
         "5": "289",
         "6": "6069",
         "7": "01/11/2022"
        },
        {
         "0": "991",
         "1": "CLIENT_8",
         "2": "PDV_7",
         "3": "PROD_5",
         "4": "10",
         "5": "110",
         "6": "1100",
         "7": "01/11/2022"
        },
        {
         "0": "992",
         "1": "CLIENT_6",
         "2": "PDV_1",
         "3": "PROD_2",
         "4": "16",
         "5": "124",
         "6": "1984",
         "7": "01/11/2022"
        },
        {
         "0": "993",
         "1": "CLIENT_7",
         "2": "PDV_6",
         "3": "PROD_2",
         "4": "38",
         "5": "148",
         "6": "5624",
         "7": "01/11/2022"
        },
        {
         "0": "994",
         "1": "CLIENT_6",
         "2": "PDV_5",
         "3": "PROD_4",
         "4": "47",
         "5": "160",
         "6": "7520",
         "7": "01/11/2022"
        },
        {
         "0": "995",
         "1": "CLIENT_7",
         "2": "PDV_3",
         "3": "PROD_2",
         "4": "8",
         "5": "97",
         "6": "776",
         "7": "01/11/2022"
        },
        {
         "0": "996",
         "1": "CLIENT_3",
         "2": "PDV_6",
         "3": "PROD_4",
         "4": "7",
         "5": "206",
         "6": "1442",
         "7": "01/11/2022"
        },
        {
         "0": "997",
         "1": "CLIENT_4",
         "2": "PDV_4",
         "3": "PROD_1",
         "4": "29",
         "5": "6",
         "6": "174",
         "7": "01/12/2022"
        },
        {
         "0": "998",
         "1": "CLIENT_8",
         "2": "PDV_4",
         "3": "PROD_3",
         "4": "30",
         "5": "304",
         "6": "9120",
         "7": "01/12/2022"
        },
        {
         "0": "999",
         "1": "CLIENT_5",
         "2": "PDV_2",
         "3": "PROD_6",
         "4": "50",
         "5": "53",
         "6": "2650",
         "7": "01/12/2022"
        },
        {
         "0": "1000",
         "1": "CLIENT_5",
         "2": "PDV_1",
         "3": "PROD_3",
         "4": "27",
         "5": "103",
         "6": "2781",
         "7": "01/12/2022"
        }
       ],
       "schema": [
        {
         "key": "0",
         "name": "vente_id",
         "type": "int"
        },
        {
         "key": "1",
         "name": "client_id",
         "type": "string"
        },
        {
         "key": "2",
         "name": "point_de_vente_id",
         "type": "string"
        },
        {
         "key": "3",
         "name": "produit_id",
         "type": "string"
        },
        {
         "key": "4",
         "name": "quantities_vendures",
         "type": "int"
        },
        {
         "key": "5",
         "name": "prix_vente_unitaire",
         "type": "int"
        },
        {
         "key": "6",
         "name": "ventes_euro",
         "type": "int"
        },
        {
         "key": "7",
         "name": "date_facturation",
         "type": "string"
        }
       ],
       "truncated": false
      },
      "wranglerEntryContext": {
       "candidateVariableNames": [
        "df_read_csv_ventes"
       ],
       "dataframeType": "pyspark"
      }
     },
     "type": "Synapse.DataFrame"
    }
   },
   "version": "0.1"
  }
 },
 "nbformat": 4,
 "nbformat_minor": 5
}
